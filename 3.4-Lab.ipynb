{
 "cells": [
  {
   "cell_type": "markdown",
   "metadata": {},
   "source": [
    "# Gradients\n",
    "\n",
    "The [gradient of a function](https://en.wikipedia.org/wiki/Gradient) is a multivariate derivate with a crucial property -- the gradient points in the direction of the greatest rate of increase of the function. Many physical processes can be modeled by gradient and gradient flows, such as the flow of water down a mountain and the movement of charged particles in electromagnetic potentials.\n",
    "\n",
    "As data scientists we use gradient descent to maximize or minimize various functions. For example, to find a good model fit we could attempt to minimize a loss function by following the gradient through many iterations in parameter-space. In particular, gradient descent can be used for [linear regression](https://en.wikipedia.org/wiki/Gradient_descent#Solution_of_a_linear_system). Let's take a close look.\n",
    "\n",
    "If we want to minimize a multivariate function $f(\\mathbf{a})$ -- typically a function of our parameters $\\mathbf{a} = (a_1, \\ldots, a_n)$ computed on our dataset -- we start with a guess $\\mathbf{a}_1$ and compute the next step using the gradient, denoted by $\\nabla f$:\n",
    "\n",
    "$$ \\mathbf{a}_2 = \\mathbf{a}_1 - \\lambda \\nabla f(\\mathbf{a}_1)$$\n",
    "\n",
    "Note the differences in notation carefully -- bold face indicates a vector of parameters. The variable $\\lambda$ is a parameter that controls the step size and is sometimes called the _learning rate_. Essentially we are taking a local linear approximation to our function, stepping a small bit in the direction of greatest change, and computing a new linear approximation to the function. We repeat the process until we converge to a minimum:\n",
    "\n",
    "$$ \\mathbf{a}_{n+1} = \\mathbf{a}_n - \\lambda \\nabla f(\\mathbf{a}_n)$$\n",
    "\n",
    "This is the _gradient descent_ algorithm. It is used for a variety of machine learning models including some that you will learn about soon, such as logistic regression, support vector machines, and neural networks.\n",
    "\n",
    "![](https://upload.wikimedia.org/wikipedia/commons/7/79/Gradient_descent.png)\n"
   ]
  },
  {
   "cell_type": "code",
   "execution_count": null,
   "metadata": {
    "collapsed": true
   },
   "outputs": [],
   "source": [
    "% matplotlib inline\n",
    "import random\n",
    "\n",
    "from matplotlib import pyplot as plt\n",
    "import numpy as np\n",
    "import pandas as pd\n",
    "from scipy import stats\n",
    "from sklearn import datasets, linear_model"
   ]
  },
  {
   "cell_type": "markdown",
   "metadata": {},
   "source": [
    "## Some helper functions\n",
    "The following functions will generate data and polynomial values."
   ]
  },
  {
   "cell_type": "code",
   "execution_count": null,
   "metadata": {
    "collapsed": false
   },
   "outputs": [],
   "source": [
    "def function_to_optimize(x, y):\n",
    "    return 0.5*(x ** 2 + y ** 2)\n",
    "\n",
    "def gradient(x, y):\n",
    "    f = function_to_optimize(x, y)\n",
    "    return (x, y)\n",
    "\n",
    "def gradient_descent(gradient_func, x0, y0, l=0.1):\n",
    "    vector = np.array([x0, y0])\n",
    "    g = gradient_func(x0, y0)\n",
    "    return vector - l * np.array(gradient(x0, y0))"
   ]
  },
  {
   "cell_type": "code",
   "execution_count": null,
   "metadata": {
    "collapsed": false
   },
   "outputs": [],
   "source": [
    "import numpy as np\n",
    "import matplotlib.pyplot as plt\n",
    "\n",
    "delta = 0.025\n",
    "\n",
    "x = y = np.arange(-3.0, 3.01, delta)\n",
    "X, Y = np.meshgrid(x, y)\n",
    "\n",
    "Z = function_to_optimize(X, Y)\n",
    "\n",
    "CS = plt.contourf(X, Y, Z)\n",
    "plt.colorbar()\n",
    "plt.show()"
   ]
  },
  {
   "cell_type": "code",
   "execution_count": null,
   "metadata": {
    "collapsed": false
   },
   "outputs": [],
   "source": [
    "delta = 0.025\n",
    "x = y = np.arange(-3.0, 3.01, delta)\n",
    "X, Y = np.meshgrid(x, y)\n",
    "Z = function_to_optimize(X, Y)\n",
    "CS = plt.contourf(X, Y, Z)\n",
    "\n",
    "xs = [2]\n",
    "ys = [2.1]\n",
    "for i in range(15):\n",
    "    x, y = gradient_descent(gradient, xs[-1], ys[-1])\n",
    "    xs.append(x)\n",
    "    ys.append(y)\n",
    "\n",
    "plt.scatter(xs, ys, color=\"black\")\n",
    "plt.plot(xs, ys, color=\"black\")\n",
    "ax = plt.gca()\n",
    "ax.arrow(xs[-2], ys[-2], xs[-1] - xs[-2], ys[-1] - ys[-2], head_width=0.5, head_length=0.3, fc='k', ec='k')\n",
    "plt.show()"
   ]
  },
  {
   "cell_type": "code",
   "execution_count": null,
   "metadata": {
    "collapsed": false
   },
   "outputs": [],
   "source": [
    "delta = 0.025\n",
    "x = y = np.arange(-3.0, 3.01, delta)\n",
    "X, Y = np.meshgrid(x, y)\n",
    "Z = function_to_optimize(X, Y)\n",
    "CS = plt.contourf(X, Y, Z)\n",
    "\n",
    "for (i, j) in [(-1, 2.1), (1, 2.1), (2, 0.4), (-2, -0.4), (-1, -2.1), (1, -2.1)]:\n",
    "    xs = [i]\n",
    "    ys = [j]\n",
    "    for i in range(15):\n",
    "        x, y = gradient_descent(gradient, xs[-1], ys[-1])\n",
    "        xs.append(x)\n",
    "        ys.append(y)\n",
    "    \n",
    "    ax = plt.scatter(xs, ys, color=\"black\")\n",
    "    ax = plt.gca()\n",
    "    ax.arrow(xs[1], ys[1], xs[3] - xs[1], ys[3] - ys[1], head_width=0.5, head_length=0.3, fc='k', ec='k')\n",
    "    plt.plot(xs, ys, color=\"black\")\n",
    "\n",
    "plt.show()"
   ]
  },
  {
   "cell_type": "markdown",
   "metadata": {
    "collapsed": true
   },
   "source": [
    "## Independent Practice\n",
    "\n",
    "Here is a [nice example](http://math.stackexchange.com/questions/770622/gradient-descent-algorithm-always-converges-to-the-closest-local-optima) of when gradient descent fails. Let's implement these functions and see that gradient descent gets stuck.\n",
    "\n",
    "The function is:\n",
    "$$f(x, y) = \\begin{cases}\n",
    "2 x^2 & \\quad \\text{if $x \\leq 1$}\\\\\n",
    "2  & \\quad \\text{else}\n",
    "\\end{cases}$$\n",
    "\n",
    "Walk throught the following code samples."
   ]
  },
  {
   "cell_type": "code",
   "execution_count": null,
   "metadata": {
    "collapsed": false
   },
   "outputs": [],
   "source": [
    "def func(x):\n",
    "    if x <= 1:\n",
    "        return 2 * x * x\n",
    "    return 2\n",
    "\n",
    "def gradient(x):\n",
    "    if x <= 1:\n",
    "        return 4 * x\n",
    "    return 0\n",
    "\n",
    "def gradient_descent(gradient_func, x, l=0.1):\n",
    "    vector = np.array(x)\n",
    "    g = gradient_func(x)\n",
    "    return vector - l * np.array(gradient(x))\n",
    "\n",
    "\n",
    "def iterate(gradient, x0, n=10):\n",
    "    xs = [x0]\n",
    "    ys = [func(x0)]\n",
    "    for i in range(n):\n",
    "        x = gradient_descent(gradient, xs[-1], l=0.1)\n",
    "        xs.append(x)\n",
    "        ys.append(func(x))\n",
    "    return xs, ys"
   ]
  },
  {
   "cell_type": "code",
   "execution_count": null,
   "metadata": {
    "collapsed": false
   },
   "outputs": [],
   "source": [
    "xs = np.arange(-2, 3, 0.1)\n",
    "ys = map(func, xs)\n",
    "\n",
    "plt.plot(xs, ys)\n",
    "\n",
    "# Start gradient descent at x = -1.5\n",
    "xs2, ys2 = iterate(gradient, -1.5, n=10)\n",
    "plt.scatter(xs2, ys2, c='r', s=50)\n",
    "\n",
    "# Start gradient descent at x = 2\n",
    "xs2, ys2 = iterate(gradient, 2, n=10)\n",
    "plt.scatter(xs2, ys2, c='y', s=100)\n"
   ]
  },
  {
   "cell_type": "markdown",
   "metadata": {},
   "source": [
    "Gradient descent works on the left half of the function but not on the right portion because the derivative is flat. Our starting point of $x=2$ never moves and doesn't converge to the center."
   ]
  },
  {
   "cell_type": "markdown",
   "metadata": {},
   "source": [
    "### Exercise\n",
    "\n",
    "Similarly, use the function $f(x) = x^4 - 2* x^2 + x +1$ and apply gradient descent. If you need help with the derivative, you can use [Wolfram Alpha](http://www.wolframalpha.com/calculators/derivative-calculator/).\n",
    "\n",
    "Steps:\n",
    "* Plot the function and identify the two minima\n",
    "* Compute the derivative\n",
    "* Using gradient descent, find two starting points that converge to different minima\n",
    "\n",
    "Questions:\n",
    "* What does this tell you about the end result of gradient descent?\n",
    "* What are the implications for putting gradient descent into practice?"
   ]
  },
  {
   "cell_type": "markdown",
   "metadata": {
    "collapsed": true
   },
   "source": [
    "### Bonus Exercise\n",
    "\n",
    "Use gradient descent to find the minimum of the function\n",
    "$$f(x, y) = - e^{-x^2 - 4y^2}$$"
   ]
  },
  {
   "cell_type": "code",
   "execution_count": null,
   "metadata": {
    "collapsed": true
   },
   "outputs": [],
   "source": []
  }
 ],
 "metadata": {
  "anaconda-cloud": {},
  "kernelspec": {
   "display_name": "Python [default]",
   "language": "python",
   "name": "python2"
  },
  "language_info": {
   "codemirror_mode": {
    "name": "ipython",
    "version": 2
   },
   "file_extension": ".py",
   "mimetype": "text/x-python",
   "name": "python",
   "nbconvert_exporter": "python",
   "pygments_lexer": "ipython2",
   "version": "2.7.12"
  }
 },
 "nbformat": 4,
 "nbformat_minor": 0
}
