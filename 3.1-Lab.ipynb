{
 "cells": [
  {
   "cell_type": "markdown",
   "metadata": {},
   "source": [
    "# Regularization Mathematically\n",
    "\n",
    "Recall that when we form a linear model, we select the model that minimizes the squared error. For a model of the form\n",
    "$$y_i = f(x_i) + e_i$$\n",
    "we minimize the sum\n",
    "$$\\sum_{i}{\\left(\\hat{y}_i - y_i \\right)^2}$$\n",
    "This is an example of a _loss function_, a function that measures the cost of inaccurate model predictions. To apply the technique of regularization, we modify the loss function with a term that penalizes more complex models. For example, we could use a loss function of the form:\n",
    "$$\\sum_{i}{\\left(\\hat{y}_i - y_i \\right)^2 + \\alpha \\theta_i}$$\n",
    "where the vector $\\theta$ corresponds to the parameters in our model and $\\alpha$ is a parameter that controls penalty strength. Larger $\\alpha$ means more of a penalty since it makes the sum larger and we're trying to minimize it.\n",
    "\n",
    "The classic example is fitting a polynomial to small amounts of data. Let's see how that works with some sample data."
   ]
  },
  {
   "cell_type": "markdown",
   "metadata": {},
   "source": [
    "## Scikit-Learn\n",
    "\n",
    "If you haven't tried out scikit-learn yet, here's how you fit a linear model. Compare to the code for statsmodels.\n",
    "\n",
    "### Statsmodels\n",
    "\n",
    "```python\n",
    "import statsmodels.api as sm\n",
    "model = sm.OLS(y, X).fit()\n",
    "predictions = model.predict(X)\n",
    "\n",
    "# r-squared\n",
    "print model.rsquared\n",
    "\n",
    "# Print out the statistics\n",
    "print model.summary()\n",
    "```\n",
    "\n",
    "### Linear Regression with Scikit-learn\n",
    "```python\n",
    "from sklearn import linear_model\n",
    "lm = linear_model.LinearRegression()\n",
    "\n",
    "model = lm.fit(X, y)\n",
    "predictions = lm.predict(X)\n",
    "print \"r^2:\", model.score(X, y)\n",
    "```\n",
    "\n",
    "**Imporant Note**\n",
    "By default, scikit-learn will include a constant term in its linear regressions. You can disable this by using the `fit_intercept` parameter:\n",
    "```python\n",
    "linear_model.LinearRegression(fit_intercept=False) # Default True\n",
    "```\n",
    "\n",
    "On the other hand, `statsmodels` does *not* include a constant by default. You can add a constant term to your data like so:\n",
    "```python\n",
    "# Prepare some data X\n",
    "X = sm.add_constant(X) # Adds a constant column to the X matrix\n",
    "sm.OLS(y, X) # fit as usual\n",
    "```"
   ]
  },
  {
   "cell_type": "code",
   "execution_count": null,
   "metadata": {
    "collapsed": false
   },
   "outputs": [],
   "source": [
    "%matplotlib inline\n",
    "import random\n",
    "import numpy as np\n",
    "from matplotlib import pyplot as plt\n",
    "from sklearn import datasets, linear_model\n",
    "plt.rcParams['figure.figsize'] = 8, 8\n",
    "\n",
    "# Generate some data\n",
    "def generate_data():\n",
    "    xs = np.arange(-5, 5, 1)\n",
    "    \n",
    "    data = [(x - random.random(), (x + random.random())**2) for x in xs]\n",
    "    data.sort()\n",
    "    xs = [x for (x, y) in data]\n",
    "    ys = [y for (x, y) in data]\n",
    "    return xs, ys\n",
    "\n",
    "xs, ys = generate_data()\n",
    "plt.scatter(xs, ys)\n",
    "plt.title(\"Randomly Generated Data\")\n",
    "plt.show()"
   ]
  },
  {
   "cell_type": "markdown",
   "metadata": {},
   "source": [
    "Now we fit a model to the data. If we try to fit a size degree polynomial to the data we should obtain a very overfitted model."
   ]
  },
  {
   "cell_type": "code",
   "execution_count": null,
   "metadata": {
    "collapsed": false
   },
   "outputs": [],
   "source": [
    "lm = linear_model.LinearRegression()\n",
    "\n",
    "# This function from numpy builds a matrix of powers for us\n",
    "X = np.vander(xs, 4)\n",
    "y = ys\n",
    "\n",
    "model = lm.fit(X, y)\n",
    "predictions = lm.predict(X)\n",
    "\n",
    "plt.scatter(xs, ys)\n",
    "plt.title(\"Randomly Generated Data\")\n",
    "plt.plot(xs, predictions)\n",
    "plt.show()\n",
    "print \"r^2:\", model.score(X, y)"
   ]
  },
  {
   "cell_type": "markdown",
   "metadata": {},
   "source": [
    "If we apply our model to a another sample of data we should find that the model is a poor fit."
   ]
  },
  {
   "cell_type": "code",
   "execution_count": null,
   "metadata": {
    "collapsed": false
   },
   "outputs": [],
   "source": [
    "xs2, ys2 = generate_data()\n",
    "X = np.vander(xs2, 4)\n",
    "predictions = lm.predict(X)\n",
    "\n",
    "plt.scatter(xs2, ys2)\n",
    "plt.title(\"Randomly Generated Dataset #2\")\n",
    "plt.plot(xs2, predictions)\n",
    "plt.show()\n",
    "print \"r^2:\", model.score(X, ys2)"
   ]
  },
  {
   "cell_type": "markdown",
   "metadata": {},
   "source": [
    "# Ridge Regularization\n",
    "Let's use scikit-learn to run a regression with regularization as we described at the beginning of the notebook. This is called _ridge regression_ and also _Tikhonov regularization_."
   ]
  },
  {
   "cell_type": "code",
   "execution_count": null,
   "metadata": {
    "collapsed": false
   },
   "outputs": [],
   "source": [
    "# Note: alpha plays the role of lambda in sklearn (lambda is the notation on e.g. Wikipedia)\n",
    "rlm = linear_model.Ridge(alpha=4, normalize=True)\n",
    "\n",
    "# Fit the polynomial again with ridge regularization\n",
    "X = np.vander(xs, 3)\n",
    "y = ys\n",
    "ridge_model = rlm.fit(X, y)\n",
    "predictions = ridge_model.predict(X)\n",
    "\n",
    "plt.scatter(xs, ys)\n",
    "plt.title(\"Randomly Generated Data\")\n",
    "plt.plot(xs, predictions)\n",
    "plt.show()\n",
    "print \"r^2:\", ridge_model.score(X, ys)"
   ]
  },
  {
   "cell_type": "code",
   "execution_count": null,
   "metadata": {
    "collapsed": false
   },
   "outputs": [],
   "source": [
    "X = np.vander(xs2, 3)\n",
    "predictions = ridge_model.predict(X)\n",
    "\n",
    "plt.scatter(xs2, ys2)\n",
    "plt.title(\"Randomly Generated Dataset #2\")\n",
    "plt.plot(xs2, predictions)\n",
    "plt.show()\n",
    "print \"r^2:\", ridge_model.score(X, ys2)"
   ]
  },
  {
   "cell_type": "markdown",
   "metadata": {},
   "source": [
    "You should have seen that the ridge fit was not quite as good on the original data but much better on the second set of data. This is because we prevented overfitting by using regularization. If that didn't happen, rerun the notebook to generate new datasets.\n",
    "\n",
    "If you'd like to see another example of ridge regularization with linear regression, read through [this example](http://scikit-learn.org/stable/auto_examples/linear_model/plot_ols_ridge_variance.html) on the scikit-learn website."
   ]
  },
  {
   "cell_type": "markdown",
   "metadata": {},
   "source": [
    "# Guided Practice\n",
    "\n",
    "You may have noticed that in the previous examples the _hyperparameter_ $\\alpha$ was set to be four. This was by design since we suspected overfitting and wanted to a larger regularization effect.\n",
    "\n",
    "In general we have to decide how to choose the parameter $\\alpha$ and there are \"automated\" methods. One such method is _cross-validation_ and scikit-learn provides methods to help. For our guided practice, let's explore the ridge model that has built-in [cross-validation](https://en.wikipedia.org/wiki/Cross-validation_%28statistics%29). Typically cross-validation works by splitting up the dataset and training the model on different subsets, testing on the remaining points.\n",
    "\n",
    "In this case the model created by the cross-validating ridge regression `RidgeCV` from scikit-learn automatically tries different values of $\\alpha$ as well. Run the following code multiple times. You should see that different values of $\\alpha$ are chosen by the cross-validator (with mixed results depending on how different the datasets are)."
   ]
  },
  {
   "cell_type": "code",
   "execution_count": null,
   "metadata": {
    "collapsed": false
   },
   "outputs": [],
   "source": [
    "rlmcv = linear_model.RidgeCV(normalize=True)\n",
    "xs, ys = generate_data()\n",
    "\n",
    "# Fit the polynomial again with ridge regularization\n",
    "X = np.vander(xs, 4)\n",
    "y = ys\n",
    "ridge_model = rlmcv.fit(X, y)\n",
    "predictions = ridge_model.predict(X)\n",
    "\n",
    "plt.scatter(xs, ys)\n",
    "plt.title(\"Randomly Generated Data\")\n",
    "plt.plot(xs, predictions)\n",
    "plt.show()\n",
    "print \"r^2:\", ridge_model.score(X, ys)\n",
    "print \"alpha:\", rlmcv.alpha_\n",
    "\n",
    "X = np.vander(xs2, 4)\n",
    "predictions = ridge_model.predict(X)\n",
    "\n",
    "plt.scatter(xs2, ys2)\n",
    "plt.title(\"Randomly Generated Dataset #2\")\n",
    "plt.plot(xs2, predictions)\n",
    "plt.show()\n",
    "print \"r^2:\", ridge_model.score(X, ys2)"
   ]
  },
  {
   "cell_type": "markdown",
   "metadata": {},
   "source": [
    "# Independent Practice\n",
    "\n",
    "Now let's explore the Boston housing data and apply cross-validation. There is an excellent [example](http://scikit-learn.org/stable/auto_examples/plot_cv_predict.html) on the scikit-learn website. Take the code available there and modify it to compare the non-cross-validated fit and the cross-validated fit. You'll need to use [this function](http://scikit-learn.org/stable/modules/generated/sklearn.cross_validation.cross_val_score.html) for the cross-validated score."
   ]
  },
  {
   "cell_type": "code",
   "execution_count": null,
   "metadata": {
    "collapsed": true
   },
   "outputs": [],
   "source": [
    "# Work through the cross-validation example, adding in r^2 calculations.\n",
    "# Does cross-validation produce a better fit in this case? Why or why not?\n",
    "\n",
    "# Once you feel comfortable with it, modify the model to use just the variables RM and LSTAT and repeat\n"
   ]
  },
  {
   "cell_type": "markdown",
   "metadata": {},
   "source": [
    "# Lasso\n",
    "\n",
    "Lasso (least absolute shrinkage and selection operator) is another method of applying regularization. By this point you should be able to modify the examples above to apply the [Lasso model](http://scikit-learn.org/stable/modules/linear_model.html#lasso) from scikit-learn and the cross-validated version `LassoCV`. The main difference between Lasso and Ridge regularization is how the penalty works. Read through the example and explain how the loss functions are different.\n",
    "\n",
    "**Note**: Since Lasso tries to constrain the size of parameters, it's necessary to scale your data. You can normalize the data by passing `normalize=True` into `Lasso`, or by using the preprocessing methods we covered earlier.\n"
   ]
  },
  {
   "cell_type": "code",
   "execution_count": null,
   "metadata": {
    "collapsed": true
   },
   "outputs": [],
   "source": []
  }
 ],
 "metadata": {
  "anaconda-cloud": {},
  "kernelspec": {
   "display_name": "Python [conda root]",
   "language": "python",
   "name": "conda-root-py"
  },
  "language_info": {
   "codemirror_mode": {
    "name": "ipython",
    "version": 2
   },
   "file_extension": ".py",
   "mimetype": "text/x-python",
   "name": "python",
   "nbconvert_exporter": "python",
   "pygments_lexer": "ipython2",
   "version": "2.7.12"
  }
 },
 "nbformat": 4,
 "nbformat_minor": 0
}
