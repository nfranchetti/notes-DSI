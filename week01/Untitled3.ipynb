{
 "cells": [
  {
   "cell_type": "code",
   "execution_count": 3,
   "metadata": {
    "collapsed": false
   },
   "outputs": [
    {
     "name": "stdout",
     "output_type": "stream",
     "text": [
      "At the top i is 0\n",
      "Numbers now:  [0]\n",
      "At the bottom i is 2\n",
      "At the top i is 2\n",
      "Numbers now:  [0, 2]\n",
      "At the bottom i is 4\n",
      "At the top i is 4\n",
      "Numbers now:  [0, 2, 4]\n",
      "At the bottom i is 6\n",
      "At the top i is 6\n",
      "Numbers now:  [0, 2, 4, 6]\n",
      "At the bottom i is 8\n",
      "At the top i is 8\n",
      "Numbers now:  [0, 2, 4, 6, 8]\n",
      "At the bottom i is 10\n",
      "The numbers: \n",
      "0\n",
      "2\n",
      "4\n",
      "6\n",
      "8\n"
     ]
    }
   ],
   "source": [
    "def while_example(maximum, increment):\n",
    "    i = 0\n",
    "    numbers = []\n",
    "\n",
    "    while i < maximum:\n",
    "        print \"At the top i is %d\" % i\n",
    "        numbers.append(i)\n",
    "\n",
    "        i = i + increment\n",
    "        print \"Numbers now: \", numbers\n",
    "        print \"At the bottom i is %d\" % i\n",
    "\n",
    "\n",
    "    print \"The numbers: \"\n",
    "\n",
    "    for num in numbers:\n",
    "        print num\n",
    "\n",
    "while_example(10, 2)"
   ]
  },
  {
   "cell_type": "code",
   "execution_count": 4,
   "metadata": {
    "collapsed": false
   },
   "outputs": [
    {
     "name": "stdout",
     "output_type": "stream",
     "text": [
      "Numbers now:  [1]\n",
      "Numbers now:  [1, 2]\n",
      "Numbers now:  [1, 2, 3]\n",
      "Numbers now:  [1, 2, 3, 4]\n",
      "Numbers now:  [1, 2, 3, 4, 5]\n",
      "The numbers: \n",
      "1\n",
      "2\n",
      "3\n",
      "4\n",
      "5\n"
     ]
    }
   ],
   "source": [
    "def for_example(num_list):\n",
    "    numbers = []\n",
    "    for i in range(len(num_list)):\n",
    "        numbers.append(num_list[i])\n",
    "        print \"Numbers now: \", numbers\n",
    "    print \"The numbers: \"\n",
    "    for num in numbers:\n",
    "        print num\n",
    "\n",
    "test = [1, 2, 3, 4, 5]\n",
    "for_example(test)"
   ]
  },
  {
   "cell_type": "code",
   "execution_count": null,
   "metadata": {
    "collapsed": true
   },
   "outputs": [],
   "source": []
  }
 ],
 "metadata": {
  "anaconda-cloud": {},
  "kernelspec": {
   "display_name": "Python [conda env:basic_environment]",
   "language": "python",
   "name": "conda-env-basic_environment-py"
  },
  "language_info": {
   "codemirror_mode": {
    "name": "ipython",
    "version": 2
   },
   "file_extension": ".py",
   "mimetype": "text/x-python",
   "name": "python",
   "nbconvert_exporter": "python",
   "pygments_lexer": "ipython2",
   "version": "2.7.12"
  }
 },
 "nbformat": 4,
 "nbformat_minor": 1
}
