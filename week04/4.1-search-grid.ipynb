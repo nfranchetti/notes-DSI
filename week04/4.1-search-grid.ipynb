{
 "cells": [
  {
   "cell_type": "code",
   "execution_count": 3,
   "metadata": {
    "collapsed": false
   },
   "outputs": [
    {
     "name": "stdout",
     "output_type": "stream",
     "text": [
      "GridSearchCV(cv=None, error_score='raise',\n",
      "       estimator=Ridge(alpha=1.0, copy_X=True, fit_intercept=True, max_iter=None,\n",
      "   normalize=False, random_state=None, solver='auto', tol=0.001),\n",
      "       fit_params={}, iid=True, n_jobs=1,\n",
      "       param_grid={'alpha': array([  1.00000e+00,   1.00000e-01,   1.00000e-02,   1.00000e-03,\n",
      "         1.00000e-04,   0.00000e+00]), 'fit_intercept': [True, False]},\n",
      "       pre_dispatch='2*n_jobs', refit=True, scoring=None, verbose=0)\n",
      "0.488790204461\n",
      "0.001\n"
     ]
    }
   ],
   "source": [
    "#Grid Search for Algorithm Tuning\n",
    "import numpy as np\n",
    "from sklearn import datasets\n",
    "from sklearn.linear_model import Ridge\n",
    "from sklearn.grid_search import GridSearchCV\n",
    "\n",
    "#Load the Diabetes Dataset\n",
    "dataset = datasets.load_diabetes( )\n",
    "\n",
    "#Prepare a Range of Alpha Values to Test\n",
    "alphas = np.array([1,0.1,0.01,0.001,0.0001,0])\n",
    "\n",
    "#Create and Fit a Ridge Regression Model, Testing Each Alpha\n",
    "model = Ridge()\n",
    "# Can check multiple hyperparamters at once with param_grid\n",
    "grid = GridSearchCV(estimator=model, param_grid={'alpha': alphas, 'fit_intercept': [True, False]})\n",
    "grid.fit(dataset.data, dataset.target)\n",
    "print(grid)\n",
    "\n",
    "#Summarize the Results of the Grid Search\n",
    "print(grid.best_score_)\n",
    "print(grid.best_estimator_.alpha)"
   ]
  },
  {
   "cell_type": "code",
   "execution_count": 4,
   "metadata": {
    "collapsed": false
   },
   "outputs": [
    {
     "name": "stdout",
     "output_type": "stream",
     "text": [
      "Fitting 3 folds for each of 12 candidates, totalling 36 fits\n",
      "[CV] alpha=1.0, fit_intercept=True ...................................\n",
      "[CV] .......... alpha=1.0, fit_intercept=True, score=0.370016 -   0.0s\n",
      "[CV] alpha=1.0, fit_intercept=True ...................................\n",
      "[CV] .......... alpha=1.0, fit_intercept=True, score=0.418447 -   0.0s\n",
      "[CV] alpha=1.0, fit_intercept=True ...................................\n",
      "[CV] .......... alpha=1.0, fit_intercept=True, score=0.439819 -   0.0s\n",
      "[CV] alpha=1.0, fit_intercept=False ..................................\n",
      "[CV] ........ alpha=1.0, fit_intercept=False, score=-3.931707 -   0.0s\n",
      "[CV] alpha=1.0, fit_intercept=False ..................................\n",
      "[CV] ........ alpha=1.0, fit_intercept=False, score=-3.254552 -   0.0s\n",
      "[CV] alpha=1.0, fit_intercept=False ..................................\n",
      "[CV] ........ alpha=1.0, fit_intercept=False, score=-3.712782 -   0.0s\n",
      "[CV] alpha=0.1, fit_intercept=True ...................................\n",
      "[CV] .......... alpha=0.1, fit_intercept=True, score=0.458568 -   0.0s\n",
      "[CV] alpha=0.1, fit_intercept=True ...................................\n",
      "[CV] .......... alpha=0.1, fit_intercept=True, score=0.495162 -   0.0s\n",
      "[CV] alpha=0.1, fit_intercept=True ...................................\n",
      "[CV] .......... alpha=0.1, fit_intercept=True, score=0.512092 -   0.0s\n",
      "[CV] alpha=0.1, fit_intercept=False ..................................\n",
      "[CV] ........ alpha=0.1, fit_intercept=False, score=-4.066552 -   0.0s\n",
      "[CV] alpha=0.1, fit_intercept=False ..................................\n",
      "[CV] ........ alpha=0.1, fit_intercept=False, score=-3.256657 -   0.0s\n",
      "[CV] alpha=0.1, fit_intercept=False ..................................\n",
      "[CV] ........ alpha=0.1, fit_intercept=False, score=-3.560341 -   0.0s\n",
      "[CV] alpha=0.01, fit_intercept=True ..................................\n",
      "[CV] ......... alpha=0.01, fit_intercept=True, score=0.468916 -   0.0s\n",
      "[CV] alpha=0.01, fit_intercept=True ..................................\n",
      "[CV] ......... alpha=0.01, fit_intercept=True, score=0.490880 -   0.0s\n",
      "[CV] alpha=0.01, fit_intercept=True ..................................\n",
      "[CV] ......... alpha=0.01, fit_intercept=True, score=0.506295 -   0.0s\n",
      "[CV] alpha=0.01, fit_intercept=False .................................\n",
      "[CV] ....... alpha=0.01, fit_intercept=False, score=-4.091184 -   0.0s\n",
      "[CV] alpha=0.01, fit_intercept=False .................................\n",
      "[CV] ....... alpha=0.01, fit_intercept=False, score=-3.283853 -   0.0s\n",
      "[CV] alpha=0.01, fit_intercept=False .................................\n",
      "[CV] ....... alpha=0.01, fit_intercept=False, score=-3.570489 -   0.0s\n",
      "[CV] alpha=0.001, fit_intercept=True .................................\n",
      "[CV] ........ alpha=0.001, fit_intercept=True, score=0.469702 -   0.0s\n",
      "[CV] alpha=0.001, fit_intercept=True .................................\n",
      "[CV] ........ alpha=0.001, fit_intercept=True, score=0.488248 -   0.0s\n",
      "[CV] alpha=0.001, fit_intercept=True .................................\n",
      "[CV] ........ alpha=0.001, fit_intercept=True, score=0.508551 -   0.0s\n",
      "[CV] alpha=0.001, fit_intercept=False ................................\n",
      "[CV] ...... alpha=0.001, fit_intercept=False, score=-4.092060 -   0.0s\n",
      "[CV] alpha=0.001, fit_intercept=False ................................\n",
      "[CV] ...... alpha=0.001, fit_intercept=False, score=-3.285892 -   0.0s\n",
      "[CV] alpha=0.001, fit_intercept=False ................................\n",
      "[CV] ...... alpha=0.001, fit_intercept=False, score=-3.620773 -   0.0s\n",
      "[CV] alpha=0.0001, fit_intercept=True ................................\n",
      "[CV] ....... alpha=0.0001, fit_intercept=True, score=0.469364 -   0.0s\n",
      "[CV] alpha=0.0001, fit_intercept=True ................................\n",
      "[CV] ....... alpha=0.0001, fit_intercept=True, score=0.487372 -   0.0s\n",
      "[CV] alpha=0.0001, fit_intercept=True ................................\n",
      "[CV] ....... alpha=0.0001, fit_intercept=True, score=0.509434 -   0.0s\n",
      "[CV] alpha=0.0001, fit_intercept=False ...............................\n",
      "[CV] ..... alpha=0.0001, fit_intercept=False, score=-4.091865 -   0.0s\n",
      "[CV] alpha=0.0001, fit_intercept=False ...............................\n",
      "[CV] ..... alpha=0.0001, fit_intercept=False, score=-3.285887 -   0.0s\n",
      "[CV] alpha=0.0001, fit_intercept=False ...............................\n",
      "[CV] ..... alpha=0.0001, fit_intercept=False, score=-3.640531 -   0.0s\n",
      "[CV] alpha=0.0, fit_intercept=True ...................................\n",
      "[CV] .......... alpha=0.0, fit_intercept=True, score=0.469306 -   0.0s\n",
      "[CV] alpha=0.0, fit_intercept=True ...................................\n",
      "[CV] .......... alpha=0.0, fit_intercept=True, score=0.487250 -   0.0s\n",
      "[CV] alpha=0.0, fit_intercept=True ...................................\n",
      "[CV] .......... alpha=0.0, fit_intercept=True, score=0.509553 -   0.0s\n",
      "[CV] alpha=0.0, fit_intercept=False ..................................\n",
      "[CV] ........ alpha=0.0, fit_intercept=False, score=-4.091835 -   0.0s\n",
      "[CV] alpha=0.0, fit_intercept=False ..................................\n",
      "[CV] ........ alpha=0.0, fit_intercept=False, score=-3.285882 -   0.0s\n",
      "[CV] alpha=0.0, fit_intercept=False ..................................\n",
      "[CV] ........ alpha=0.0, fit_intercept=False, score=-3.643345 -   0.0s\n",
      "GridSearchCV(cv=None, error_score='raise',\n",
      "       estimator=Ridge(alpha=1.0, copy_X=True, fit_intercept=True, max_iter=None,\n",
      "   normalize=False, random_state=None, solver='auto', tol=0.001),\n",
      "       fit_params={}, iid=True, n_jobs=1,\n",
      "       param_grid={'alpha': array([  1.00000e+00,   1.00000e-01,   1.00000e-02,   1.00000e-03,\n",
      "         1.00000e-04,   0.00000e+00]), 'fit_intercept': [True, False]},\n",
      "       pre_dispatch='2*n_jobs', refit=True, scoring=None, verbose=10)\n"
     ]
    },
    {
     "name": "stderr",
     "output_type": "stream",
     "text": [
      "[Parallel(n_jobs=1)]: Done   1 tasks       | elapsed:    0.0s\n",
      "[Parallel(n_jobs=1)]: Done   4 tasks       | elapsed:    0.0s\n",
      "[Parallel(n_jobs=1)]: Done   7 tasks       | elapsed:    0.0s\n",
      "[Parallel(n_jobs=1)]: Done  12 tasks       | elapsed:    0.0s\n",
      "[Parallel(n_jobs=1)]: Done  17 tasks       | elapsed:    0.1s\n",
      "[Parallel(n_jobs=1)]: Done  24 tasks       | elapsed:    0.1s\n",
      "[Parallel(n_jobs=1)]: Done  31 tasks       | elapsed:    0.1s\n",
      "[Parallel(n_jobs=1)]: Done  36 out of  36 | elapsed:    0.1s finished\n"
     ]
    }
   ],
   "source": [
    "#Create and Fit a Ridge Regression Model, Testing Each Alpha\n",
    "model = Ridge()\n",
    "grid = GridSearchCV(estimator=model, param_grid={'alpha': alphas, 'fit_intercept': [True, False]}, verbose=10) # Verbose will print details of every attempt\n",
    "grid.fit(dataset.data, dataset.target)\n",
    "print(grid)"
   ]
  },
  {
   "cell_type": "code",
   "execution_count": 6,
   "metadata": {
    "collapsed": false
   },
   "outputs": [
    {
     "name": "stdout",
     "output_type": "stream",
     "text": [
      "0.001\n"
     ]
    }
   ],
   "source": [
    "print grid.best_estimator_.alpha"
   ]
  },
  {
   "cell_type": "code",
   "execution_count": 7,
   "metadata": {
    "collapsed": false
   },
   "outputs": [
    {
     "name": "stdout",
     "output_type": "stream",
     "text": [
      "{'alpha': 0.001, 'fit_intercept': True}\n"
     ]
    }
   ],
   "source": [
    "print grid.best_params_"
   ]
  },
  {
   "cell_type": "code",
   "execution_count": 5,
   "metadata": {
    "collapsed": true
   },
   "outputs": [],
   "source": [
    "best_model = grid.best_estimator_"
   ]
  },
  {
   "cell_type": "code",
   "execution_count": 8,
   "metadata": {
    "collapsed": false
   },
   "outputs": [
    {
     "data": {
      "text/plain": [
       "0.51770786925458612"
      ]
     },
     "execution_count": 8,
     "metadata": {},
     "output_type": "execute_result"
    }
   ],
   "source": [
    "best_model.score(dataset.data, dataset.target)"
   ]
  },
  {
   "cell_type": "code",
   "execution_count": 9,
   "metadata": {
    "collapsed": false
   },
   "outputs": [
    {
     "data": {
      "text/plain": [
       "array([ 205.80757936,   68.34874929,  176.57699985,  166.49798892,\n",
       "        128.40964698,  106.25462462,   74.50309843,  119.33026934,\n",
       "        158.9085443 ,  213.58399963,   97.54754149,   96.22454284,\n",
       "        115.01053514,  164.31651367,  102.90296779,  176.68742712,\n",
       "        211.37648874,  182.72995776,  147.79266309,  123.76461899,\n",
       "        120.08956875,   86.48753745,  113.73716038,  255.06633073,\n",
       "        165.23635806,  147.34683255,   97.04138567,  178.90987852,\n",
       "        128.86078344,  184.57407373,  158.77444088,   69.48060683,\n",
       "        260.69924608,  112.04487131,   78.67580976,   87.11642963,\n",
       "        207.71318951,  157.39968146,  241.01705926,  136.76582605,\n",
       "        153.46414027,   74.10155505,  145.34461129,   77.9830855 ,\n",
       "        220.5638027 ,  125.06029696,  142.24244785,  109.17211779,\n",
       "         73.72726192,  189.3090673 ,  157.87301908,  169.24945771,\n",
       "        134.09305973,  157.71893916,  139.35332196,   72.92995428,\n",
       "        207.41134515,   80.0683223 ,  103.00604013,  134.50634769,\n",
       "        114.31598141,  179.97082775,   61.91243923,   98.97973872,\n",
       "        113.66453007,  189.36793301,  148.47931557,  124.27748084,\n",
       "        114.55979224,  122.2280068 ,   74.22779034,  236.52938579,\n",
       "        142.99848236,  124.29542319,  150.79664619,  127.55545326,\n",
       "        191.12762708,   77.74088678,  166.30383024,   91.52874955,\n",
       "        174.45040753,  122.55164554,   63.7002028 ,  151.80047906,\n",
       "         54.22796374,  166.34982094,   43.84559209,  152.68793754,\n",
       "         80.51116468,  106.6140422 ,   80.52496293,  187.05929404,\n",
       "        192.01390135,   60.98058783,  107.26450254,  124.69512532,\n",
       "        207.56818103,  214.04500024,  123.41130977,  138.67439453,\n",
       "        168.04256332,  106.89488496,  150.52098088,  158.06040529,\n",
       "        153.24648961,  115.96314024,   73.35616149,  156.04330309,\n",
       "        229.71814152,  143.54675983,   39.86447234,  121.7651418 ,\n",
       "        152.77321372,  207.88248971,  292.08664414,  189.30453064,\n",
       "        213.62671359,  235.37221125,  165.16992047,  150.73599766,\n",
       "        156.55213082,  200.05757673,  219.15729956,  174.40707559,\n",
       "        168.95648479,  188.13602036,   58.54727038,  108.24177681,\n",
       "         92.68631098,  210.49390878,  245.14482508,   70.10796882,\n",
       "        113.17387188,   68.92374082,  141.57267134,  239.02960969,\n",
       "         58.77585229,  234.95868741,  254.5541036 ,  253.00058012,\n",
       "        155.76857173,  229.95023321,  170.53100807,  118.02707336,\n",
       "        178.24542388,  239.88715023,  190.12181297,  228.36791998,\n",
       "        114.45046252,  177.9140978 ,  208.99032937,  144.46052246,\n",
       "        200.0689707 ,  121.53565327,  150.4274824 ,  199.02623655,\n",
       "        146.11068976,  123.85564598,   85.33077792,  234.95774165,\n",
       "         82.3823313 ,  231.72792259,  144.26149537,  197.06330721,\n",
       "        146.30435505,   77.24469908,   60.00046946,  262.9354474 ,\n",
       "        225.10707709,  222.7909015 ,   47.68762211,   88.36291682,\n",
       "        222.02760483,   96.96065357,  164.11538375,  119.93691235,\n",
       "        157.68365675,  223.02729404,   99.85741463,  165.5861733 ,\n",
       "        179.04590681,   89.85720939,  171.59439925,  158.06777611,\n",
       "        201.18773064,  186.32722517,  196.98150896,   67.23658769,\n",
       "        154.45809989,  115.89849312,  195.36662029,  127.72379704,\n",
       "         91.47112834,  140.4485462 ,  154.86538108,  169.60274415,\n",
       "         98.74437861,  189.84794446,  143.32869414,  177.79951502,\n",
       "         95.44275478,   69.45369005,  164.96347384,  197.63340523,\n",
       "        177.89371017,  228.26291463,  160.39349305,  212.17683341,\n",
       "        222.24440906,  172.55723463,  125.49955527,  174.82534995,\n",
       "        152.23632934,   98.59521353,   99.35622069,  262.10102071,\n",
       "        223.03590979,  221.16658314,  133.1692512 ,  144.79890714,\n",
       "         54.32926133,  141.59049447,  153.49467326,  124.83287306,\n",
       "         77.31764629,  230.06295513,   78.95887277,  105.24119361,\n",
       "        117.84547716,   99.09990867,  166.85110508,  158.96617353,\n",
       "        158.01945747,  142.83743323,  231.51796783,  176.34962405,\n",
       "        186.97426527,   65.67113366,  189.95466624,  179.78881596,\n",
       "        234.51983545,  119.36533143,   86.30958206,  100.93539073,\n",
       "        140.49730226,  101.74581586,  120.51891641,   82.52457268,\n",
       "        234.54891001,  245.26182439,  263.50939907,  275.08957873,\n",
       "        180.47865553,  202.91572116,  255.96552825,  118.07433505,\n",
       "        267.92335921,  104.40914893,  115.96017828,  140.68854191,\n",
       "         58.92396827,  129.08951199,  263.38876051,   45.71631517,\n",
       "        123.95743606,  130.80892489,   35.5714526 ,  138.21083723,\n",
       "        243.88873763,   89.44157943,  191.6735278 ,  164.25100801,\n",
       "        147.52205533,  193.14848856,  176.0742166 ,  158.04769418,\n",
       "        189.35193253,  116.17048667,  111.30361801,  117.36243916,\n",
       "        165.41106861,   97.24551477,  139.57813879,   84.65859863,\n",
       "        159.62705147,  201.83779993,   79.62747943,  146.70086308,\n",
       "         79.85535299,  191.26666543,  220.49747223,  203.89004455,\n",
       "         93.04174285,  179.69338234,   82.77018814,  152.712654  ,\n",
       "         77.09084461,   98.41151899,  106.85048286,  123.71450434,\n",
       "        217.90538084,  125.92208015,  206.50016769,  230.82986931,\n",
       "        122.22518223,  135.06391791,  126.68695711,  148.26371309,\n",
       "         88.25218688,  138.9675933 ,  203.82078724,  172.42036356,\n",
       "        123.097536  ,  213.72145294,  174.62104194,  110.00337063,\n",
       "        198.4246994 ,  173.04658358,  162.37168332,  192.58899185,\n",
       "        191.2014839 ,  284.57618359,  281.32609345,  218.14614425,\n",
       "        209.87706848,  216.65476485,  156.62425206,  223.85472944,\n",
       "        188.6685193 ,  103.44810326,  178.51724457,  111.88872679,\n",
       "        290.82225531,  182.29622347,   79.7495048 ,   86.47411693,\n",
       "        249.21495466,  174.07753729,  122.17532374,  146.23564682,\n",
       "        170.7642238 ,  183.60993953,  163.59442448,  157.52468437,\n",
       "        144.15303227,  125.16941712,  177.84301342,  104.19220224,\n",
       "        131.62886496,   95.33405948,  250.04927496,   86.48720312,\n",
       "         61.2538616 ,  159.4458759 ,  192.92900974,  133.76340829,\n",
       "         93.61653322,  202.20117782,   53.27754068,  174.42891388,\n",
       "        196.48356127,  118.75702455,  234.99368002,  164.5920547 ,\n",
       "        160.0368615 ,  162.12819132,  254.13369668,  257.03077815,\n",
       "        197.90833986,  183.8681642 ,   58.84485897,  196.22251988,\n",
       "        110.47882866,  142.23582659,  128.2330276 ,  179.78995197,\n",
       "        211.2158399 ,  169.17782707,  163.99855442,  136.15794522,\n",
       "        174.77839257,   74.41422614,  247.46675411,  114.10096323,\n",
       "        111.60348488,  139.83692794,  109.86922196,   92.65662983,\n",
       "        162.73332252,   75.27662433,  255.22083286,   54.26476415,\n",
       "         98.79863971,  100.77313389,  260.79479281,  170.05600633,\n",
       "         62.88901188,  181.91064921,  171.23673873,  189.12133504,\n",
       "        186.84321947,   87.17754751,  147.8782517 ,  251.35267021,\n",
       "        199.67192762,  283.07618285,   50.98324173,  172.62089309,\n",
       "        203.9120768 ,  173.80295807,  158.07488612,  150.87534211,\n",
       "        232.68369977,  121.7092275 ,  164.5935416 ,  172.15632012,\n",
       "        226.84245131,  149.82221164,   99.22645069,   80.94749676,\n",
       "        140.25111665,  191.62147858,  199.30650542,  153.07751194,\n",
       "        171.37715429,  111.69352353,  162.41058805,  130.00820256,\n",
       "        258.17671611,  100.76901295,  115.68213239,  122.21242217,\n",
       "        218.19134193,   60.96422929,  131.50555852,  119.62180178,\n",
       "         52.81832945,  192.8509828 ,  101.29421432,  121.57412393,\n",
       "        211.55292417,   52.70999021])"
      ]
     },
     "execution_count": 9,
     "metadata": {},
     "output_type": "execute_result"
    }
   ],
   "source": [
    "best_model.predict(dataset.data)"
   ]
  },
  {
   "cell_type": "code",
   "execution_count": null,
   "metadata": {
    "collapsed": true
   },
   "outputs": [],
   "source": [
    "# "
   ]
  }
 ],
 "metadata": {
  "anaconda-cloud": {},
  "kernelspec": {
   "display_name": "Python [conda root]",
   "language": "python",
   "name": "conda-root-py"
  },
  "language_info": {
   "codemirror_mode": {
    "name": "ipython",
    "version": 2
   },
   "file_extension": ".py",
   "mimetype": "text/x-python",
   "name": "python",
   "nbconvert_exporter": "python",
   "pygments_lexer": "ipython2",
   "version": "2.7.12"
  }
 },
 "nbformat": 4,
 "nbformat_minor": 0
}
