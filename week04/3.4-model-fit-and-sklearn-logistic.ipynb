{
 "cells": [
  {
   "cell_type": "code",
   "execution_count": 1,
   "metadata": {
    "collapsed": true
   },
   "outputs": [],
   "source": [
    "import pandas as pd\n",
    "import seaborn as sns\n",
    "import matplotlib.pyplot as plt\n",
    "import json\n",
    "%matplotlib inline\n",
    "\n",
    "pd.options.display.max_columns = 50\n",
    "pd.options.display.max_colwidth = 300"
   ]
  },
  {
   "cell_type": "markdown",
   "metadata": {},
   "source": [
    "## Predicting \"Greenness\" Of Content\n",
    "\n",
    "This dataset comes from [stumbleupon](https://www.stumbleupon.com/), a web page recommender and was made available [here](https://www.kaggle.com/c/stumbleupon/download/train.tsv)\n",
    "\n",
    "A description of the columns is below\n",
    "\n",
    "FieldName|Type|Description\n",
    "---------|----|-----------\n",
    "url|string|Url of the webpage to be classified\n",
    "urlid|integer| StumbleUpon's unique identifier for each url\n",
    "boilerplate|json|Boilerplate text\n",
    "alchemy_category|string|Alchemy category (per the publicly available Alchemy API found at www.alchemyapi.com)\n",
    "alchemy_category_score|double|Alchemy category score (per the publicly available Alchemy API found at www.alchemyapi.com)\n",
    "avglinksize| double|Average number of words in each link\n",
    "commonLinkRatio_1|double|# of links sharing at least 1 word with 1 other links / # of links\n",
    "commonLinkRatio_2|double|# of links sharing at least 1 word with 2 other links / # of links\n",
    "commonLinkRatio_3|double|# of links sharing at least 1 word with 3 other links / # of links\n",
    "commonLinkRatio_4|double|# of links sharing at least 1 word with 4 other links / # of links\n",
    "compression_ratio|double|Compression achieved on this page via gzip (measure of redundancy)\n",
    "embed_ratio|double|Count of number of <embed> usage\n",
    "frameBased|integer (0 or 1)|A page is frame-based (1) if it has no body markup but have a frameset markup\n",
    "frameTagRatio|double|Ratio of iframe markups over total number of markups\n",
    "hasDomainLink|integer (0 or 1)|True (1) if it contains an <a> with an url with domain\n",
    "html_ratio|double|Ratio of tags vs text in the page\n",
    "image_ratio|double|Ratio of <img> tags vs text in the page\n",
    "is_news|integer (0 or 1) | True (1) if StumbleUpon's news classifier determines that this webpage is news\n",
    "lengthyLinkDomain| integer (0 or 1)|True (1) if at least 3 <a> 's text contains more than 30 alphanumeric characters\n",
    "linkwordscore|double|Percentage of words on the page that are in hyperlink's text\n",
    "news_front_page| integer (0 or 1)|True (1) if StumbleUpon's news classifier determines that this webpage is front-page news\n",
    "non_markup_alphanum_characters|integer| Page's text's number of alphanumeric characters\n",
    "numberOfLinks|integer Number of <a>|markups\n",
    "numwords_in_url| double|Number of words in url\n",
    "parametrizedLinkRatio|double|A link is parametrized if it's url contains parameters or has an attached onClick event\n",
    "spelling_errors_ratio|double|Ratio of words not found in wiki (considered to be a spelling mistake)\n",
    "label|integer (0 or 1)|User-determined label. Either evergreen (1) or non-evergreen (0); available for train.tsv only"
   ]
  },
  {
   "cell_type": "markdown",
   "metadata": {},
   "source": [
    "### What are 'evergreen' sites?\n",
    "- These are websites that always relevant like recipies or reviews (as opposed to current events)\n",
    "- Look at some examples"
   ]
  },
  {
   "cell_type": "code",
   "execution_count": 2,
   "metadata": {
    "collapsed": false
   },
   "outputs": [],
   "source": [
    "data = pd.read_csv('../../DSI-CHI-1/lessons/week-04/3.4-model-fit-and-sklearn-logistic/assets/datasets/train.tsv', sep='\\t', na_values='?')\n",
    "\n",
    "# Extract the title and body from the boilerplate JSON text\n",
    "data['title'] = data.boilerplate.map(lambda x: json.loads(x).get('title', ''))\n",
    "data['body'] = data.boilerplate.map(lambda x: json.loads(x).get('body', ''))"
   ]
  },
  {
   "cell_type": "code",
   "execution_count": 3,
   "metadata": {
    "collapsed": false
   },
   "outputs": [
    {
     "data": {
      "text/html": [
       "<div>\n",
       "<table border=\"1\" class=\"dataframe\">\n",
       "  <thead>\n",
       "    <tr style=\"text-align: right;\">\n",
       "      <th></th>\n",
       "      <th>title</th>\n",
       "      <th>label</th>\n",
       "    </tr>\n",
       "  </thead>\n",
       "  <tbody>\n",
       "    <tr>\n",
       "      <th>0</th>\n",
       "      <td>IBM Sees Holographic Calls Air Breathing Batteries ibm sees holographic calls, air-breathing batteries</td>\n",
       "      <td>0</td>\n",
       "    </tr>\n",
       "    <tr>\n",
       "      <th>1</th>\n",
       "      <td>The Fully Electronic Futuristic Starting Gun That Eliminates Advantages in Races the fully electronic, futuristic starting gun that eliminates advantages in races the fully electronic, futuristic starting gun that eliminates advantages in races</td>\n",
       "      <td>1</td>\n",
       "    </tr>\n",
       "    <tr>\n",
       "      <th>2</th>\n",
       "      <td>Fruits that Fight the Flu fruits that fight the flu | cold &amp; flu | men's health</td>\n",
       "      <td>1</td>\n",
       "    </tr>\n",
       "    <tr>\n",
       "      <th>3</th>\n",
       "      <td>10 Foolproof Tips for Better Sleep</td>\n",
       "      <td>1</td>\n",
       "    </tr>\n",
       "    <tr>\n",
       "      <th>4</th>\n",
       "      <td>The 50 Coolest Jerseys You Didn t Know Existed coolest jerseys you haven't seen</td>\n",
       "      <td>0</td>\n",
       "    </tr>\n",
       "  </tbody>\n",
       "</table>\n",
       "</div>"
      ],
      "text/plain": [
       "                                                                                                                                                                                                                                                  title  \\\n",
       "0                                                                                                                                                IBM Sees Holographic Calls Air Breathing Batteries ibm sees holographic calls, air-breathing batteries   \n",
       "1  The Fully Electronic Futuristic Starting Gun That Eliminates Advantages in Races the fully electronic, futuristic starting gun that eliminates advantages in races the fully electronic, futuristic starting gun that eliminates advantages in races   \n",
       "2                                                                                                                                                                       Fruits that Fight the Flu fruits that fight the flu | cold & flu | men's health   \n",
       "3                                                                                                                                                                                                                   10 Foolproof Tips for Better Sleep    \n",
       "4                                                                                                                                                                       The 50 Coolest Jerseys You Didn t Know Existed coolest jerseys you haven't seen   \n",
       "\n",
       "   label  \n",
       "0      0  \n",
       "1      1  \n",
       "2      1  \n",
       "3      1  \n",
       "4      0  "
      ]
     },
     "execution_count": 3,
     "metadata": {},
     "output_type": "execute_result"
    }
   ],
   "source": [
    "data[['title', 'label']].head()"
   ]
  },
  {
   "cell_type": "markdown",
   "metadata": {},
   "source": [
    "#### Build a feature matrix where X contains useful features and y contains the target variable `label`"
   ]
  },
  {
   "cell_type": "code",
   "execution_count": 4,
   "metadata": {
    "collapsed": false,
    "scrolled": false
   },
   "outputs": [
    {
     "data": {
      "text/plain": [
       "<matplotlib.axes._subplots.AxesSubplot at 0x7ff067a6a910>"
      ]
     },
     "execution_count": 4,
     "metadata": {},
     "output_type": "execute_result"
    },
    {
     "data": {
      "image/png": "[encoded data removed]",
      "text/plain": [
       "<matplotlib.figure.Figure at 0x7ff068243850>"
      ]
     },
     "metadata": {},
     "output_type": "display_data"
    }
   ],
   "source": [
    "sns.heatmap(data.corr())"
   ]
  },
  {
   "cell_type": "code",
   "execution_count": 5,
   "metadata": {
    "collapsed": false,
    "scrolled": true
   },
   "outputs": [],
   "source": [
    "num_columns = data.corr()[-1:].columns"
   ]
  },
  {
   "cell_type": "code",
   "execution_count": 6,
   "metadata": {
    "collapsed": false
   },
   "outputs": [
    {
     "data": {
      "text/plain": [
       "<matplotlib.axes._subplots.AxesSubplot at 0x7ff064e88e10>"
      ]
     },
     "execution_count": 6,
     "metadata": {},
     "output_type": "execute_result"
    },
    {
     "data": {
      "image/png": "[encoded data removed]",
      "text/plain": [
       "<matplotlib.figure.Figure at 0x7ff064e92110>"
      ]
     },
     "metadata": {},
     "output_type": "display_data"
    }
   ],
   "source": [
    "sns.heatmap(data.corr()[-1:])"
   ]
  },
  {
   "cell_type": "code",
   "execution_count": 35,
   "metadata": {
    "collapsed": false
   },
   "outputs": [],
   "source": [
    "from sklearn.cross_validation import train_test_split\n",
    "\n",
    "data_no_na = data.dropna()\n",
    "\n",
    "# y = data_no_na['label']\n",
    "# x = data_no_na[['commonlinkratio_1', 'commonlinkratio_2', 'commonlinkratio_3', 'commonlinkratio_4', \n",
    "#          'non_markup_alphanum_characters', 'numberOfLinks']]\n",
    "# x = data_no_na[num_columns]\n",
    "# x = x.drop('label', axis=1)\n",
    "\n",
    "\n",
    "X_train, X_test, Y_train, Y_test = train_test_split(data_no_na[num_columns].drop('label', axis=1), data_no_na['label'], \n",
    "                                                    test_size=0.33)\n"
   ]
  },
  {
   "cell_type": "code",
   "execution_count": 36,
   "metadata": {
    "collapsed": false,
    "scrolled": true
   },
   "outputs": [
    {
     "data": {
      "text/plain": [
       "urlid                             False\n",
       "alchemy_category_score            False\n",
       "avglinksize                       False\n",
       "commonlinkratio_1                 False\n",
       "commonlinkratio_2                 False\n",
       "commonlinkratio_3                 False\n",
       "commonlinkratio_4                 False\n",
       "compression_ratio                 False\n",
       "embed_ratio                       False\n",
       "framebased                        False\n",
       "frameTagRatio                     False\n",
       "hasDomainLink                     False\n",
       "html_ratio                        False\n",
       "image_ratio                       False\n",
       "is_news                           False\n",
       "lengthyLinkDomain                 False\n",
       "linkwordscore                     False\n",
       "news_front_page                   False\n",
       "non_markup_alphanum_characters    False\n",
       "numberOfLinks                     False\n",
       "numwords_in_url                   False\n",
       "parametrizedLinkRatio             False\n",
       "spelling_errors_ratio             False\n",
       "dtype: bool"
      ]
     },
     "execution_count": 36,
     "metadata": {},
     "output_type": "execute_result"
    }
   ],
   "source": [
    "X_test.isnull().any()"
   ]
  },
  {
   "cell_type": "code",
   "execution_count": 37,
   "metadata": {
    "collapsed": false
   },
   "outputs": [
    {
     "data": {
      "text/html": [
       "<div>\n",
       "<table border=\"1\" class=\"dataframe\">\n",
       "  <thead>\n",
       "    <tr style=\"text-align: right;\">\n",
       "      <th></th>\n",
       "      <th>urlid</th>\n",
       "      <th>alchemy_category_score</th>\n",
       "      <th>avglinksize</th>\n",
       "      <th>commonlinkratio_1</th>\n",
       "      <th>commonlinkratio_2</th>\n",
       "      <th>commonlinkratio_3</th>\n",
       "      <th>commonlinkratio_4</th>\n",
       "      <th>compression_ratio</th>\n",
       "      <th>embed_ratio</th>\n",
       "      <th>framebased</th>\n",
       "      <th>frameTagRatio</th>\n",
       "      <th>hasDomainLink</th>\n",
       "      <th>html_ratio</th>\n",
       "      <th>image_ratio</th>\n",
       "      <th>is_news</th>\n",
       "      <th>lengthyLinkDomain</th>\n",
       "      <th>linkwordscore</th>\n",
       "      <th>news_front_page</th>\n",
       "      <th>non_markup_alphanum_characters</th>\n",
       "      <th>numberOfLinks</th>\n",
       "      <th>numwords_in_url</th>\n",
       "      <th>parametrizedLinkRatio</th>\n",
       "      <th>spelling_errors_ratio</th>\n",
       "    </tr>\n",
       "  </thead>\n",
       "  <tbody>\n",
       "    <tr>\n",
       "      <th>5435</th>\n",
       "      <td>3222</td>\n",
       "      <td>0.561609</td>\n",
       "      <td>3.115702</td>\n",
       "      <td>0.675182</td>\n",
       "      <td>0.354015</td>\n",
       "      <td>0.197080</td>\n",
       "      <td>0.131387</td>\n",
       "      <td>0.479335</td>\n",
       "      <td>0.0</td>\n",
       "      <td>0</td>\n",
       "      <td>0.098196</td>\n",
       "      <td>0</td>\n",
       "      <td>0.194767</td>\n",
       "      <td>0.049100</td>\n",
       "      <td>1.0</td>\n",
       "      <td>1</td>\n",
       "      <td>40</td>\n",
       "      <td>0.0</td>\n",
       "      <td>5988</td>\n",
       "      <td>274</td>\n",
       "      <td>9</td>\n",
       "      <td>0.375912</td>\n",
       "      <td>0.075783</td>\n",
       "    </tr>\n",
       "    <tr>\n",
       "      <th>1607</th>\n",
       "      <td>7965</td>\n",
       "      <td>0.647761</td>\n",
       "      <td>1.980392</td>\n",
       "      <td>0.398058</td>\n",
       "      <td>0.174757</td>\n",
       "      <td>0.009709</td>\n",
       "      <td>0.009709</td>\n",
       "      <td>0.469097</td>\n",
       "      <td>0.0</td>\n",
       "      <td>0</td>\n",
       "      <td>0.051919</td>\n",
       "      <td>0</td>\n",
       "      <td>0.225264</td>\n",
       "      <td>0.018041</td>\n",
       "      <td>1.0</td>\n",
       "      <td>1</td>\n",
       "      <td>19</td>\n",
       "      <td>1.0</td>\n",
       "      <td>4198</td>\n",
       "      <td>103</td>\n",
       "      <td>0</td>\n",
       "      <td>0.019417</td>\n",
       "      <td>0.117318</td>\n",
       "    </tr>\n",
       "    <tr>\n",
       "      <th>5424</th>\n",
       "      <td>3798</td>\n",
       "      <td>0.600820</td>\n",
       "      <td>2.385965</td>\n",
       "      <td>0.573427</td>\n",
       "      <td>0.279720</td>\n",
       "      <td>0.237762</td>\n",
       "      <td>0.216783</td>\n",
       "      <td>0.492196</td>\n",
       "      <td>0.0</td>\n",
       "      <td>0</td>\n",
       "      <td>0.040639</td>\n",
       "      <td>0</td>\n",
       "      <td>0.236980</td>\n",
       "      <td>0.086316</td>\n",
       "      <td>1.0</td>\n",
       "      <td>1</td>\n",
       "      <td>19</td>\n",
       "      <td>0.0</td>\n",
       "      <td>4922</td>\n",
       "      <td>143</td>\n",
       "      <td>5</td>\n",
       "      <td>0.209790</td>\n",
       "      <td>0.082803</td>\n",
       "    </tr>\n",
       "    <tr>\n",
       "      <th>2234</th>\n",
       "      <td>8315</td>\n",
       "      <td>0.563208</td>\n",
       "      <td>1.754098</td>\n",
       "      <td>0.457447</td>\n",
       "      <td>0.164894</td>\n",
       "      <td>0.058511</td>\n",
       "      <td>0.000000</td>\n",
       "      <td>0.447552</td>\n",
       "      <td>0.0</td>\n",
       "      <td>0</td>\n",
       "      <td>0.027673</td>\n",
       "      <td>0</td>\n",
       "      <td>0.200469</td>\n",
       "      <td>0.150000</td>\n",
       "      <td>1.0</td>\n",
       "      <td>1</td>\n",
       "      <td>19</td>\n",
       "      <td>0.0</td>\n",
       "      <td>6554</td>\n",
       "      <td>188</td>\n",
       "      <td>6</td>\n",
       "      <td>0.095745</td>\n",
       "      <td>0.070501</td>\n",
       "    </tr>\n",
       "    <tr>\n",
       "      <th>6501</th>\n",
       "      <td>7991</td>\n",
       "      <td>0.777347</td>\n",
       "      <td>2.185294</td>\n",
       "      <td>0.763006</td>\n",
       "      <td>0.387283</td>\n",
       "      <td>0.086705</td>\n",
       "      <td>0.026012</td>\n",
       "      <td>0.462130</td>\n",
       "      <td>0.0</td>\n",
       "      <td>0</td>\n",
       "      <td>0.036216</td>\n",
       "      <td>0</td>\n",
       "      <td>0.204866</td>\n",
       "      <td>0.055556</td>\n",
       "      <td>1.0</td>\n",
       "      <td>1</td>\n",
       "      <td>71</td>\n",
       "      <td>0.0</td>\n",
       "      <td>1580</td>\n",
       "      <td>346</td>\n",
       "      <td>13</td>\n",
       "      <td>0.132948</td>\n",
       "      <td>0.076503</td>\n",
       "    </tr>\n",
       "  </tbody>\n",
       "</table>\n",
       "</div>"
      ],
      "text/plain": [
       "      urlid  alchemy_category_score  avglinksize  commonlinkratio_1  \\\n",
       "5435   3222                0.561609     3.115702           0.675182   \n",
       "1607   7965                0.647761     1.980392           0.398058   \n",
       "5424   3798                0.600820     2.385965           0.573427   \n",
       "2234   8315                0.563208     1.754098           0.457447   \n",
       "6501   7991                0.777347     2.185294           0.763006   \n",
       "\n",
       "      commonlinkratio_2  commonlinkratio_3  commonlinkratio_4  \\\n",
       "5435           0.354015           0.197080           0.131387   \n",
       "1607           0.174757           0.009709           0.009709   \n",
       "5424           0.279720           0.237762           0.216783   \n",
       "2234           0.164894           0.058511           0.000000   \n",
       "6501           0.387283           0.086705           0.026012   \n",
       "\n",
       "      compression_ratio  embed_ratio  framebased  frameTagRatio  \\\n",
       "5435           0.479335          0.0           0       0.098196   \n",
       "1607           0.469097          0.0           0       0.051919   \n",
       "5424           0.492196          0.0           0       0.040639   \n",
       "2234           0.447552          0.0           0       0.027673   \n",
       "6501           0.462130          0.0           0       0.036216   \n",
       "\n",
       "      hasDomainLink  html_ratio  image_ratio  is_news  lengthyLinkDomain  \\\n",
       "5435              0    0.194767     0.049100      1.0                  1   \n",
       "1607              0    0.225264     0.018041      1.0                  1   \n",
       "5424              0    0.236980     0.086316      1.0                  1   \n",
       "2234              0    0.200469     0.150000      1.0                  1   \n",
       "6501              0    0.204866     0.055556      1.0                  1   \n",
       "\n",
       "      linkwordscore  news_front_page  non_markup_alphanum_characters  \\\n",
       "5435             40              0.0                            5988   \n",
       "1607             19              1.0                            4198   \n",
       "5424             19              0.0                            4922   \n",
       "2234             19              0.0                            6554   \n",
       "6501             71              0.0                            1580   \n",
       "\n",
       "      numberOfLinks  numwords_in_url  parametrizedLinkRatio  \\\n",
       "5435            274                9               0.375912   \n",
       "1607            103                0               0.019417   \n",
       "5424            143                5               0.209790   \n",
       "2234            188                6               0.095745   \n",
       "6501            346               13               0.132948   \n",
       "\n",
       "      spelling_errors_ratio  \n",
       "5435               0.075783  \n",
       "1607               0.117318  \n",
       "5424               0.082803  \n",
       "2234               0.070501  \n",
       "6501               0.076503  "
      ]
     },
     "execution_count": 37,
     "metadata": {},
     "output_type": "execute_result"
    }
   ],
   "source": [
    "X_train.head()"
   ]
  },
  {
   "cell_type": "code",
   "execution_count": 40,
   "metadata": {
    "collapsed": false
   },
   "outputs": [
    {
     "name": "stdout",
     "output_type": "stream",
     "text": [
      "Score:  0.623469818489\n"
     ]
    }
   ],
   "source": [
    "from sklearn.linear_model import LogisticRegression\n",
    "\n",
    "logit = LogisticRegression()\n",
    "\n",
    "model = logit.fit(X_train, Y_train)\n",
    "Y_predictions = model.predict(X_test)\n",
    "\n",
    "print 'Score: ', model.score(X_train, Y_train)"
   ]
  },
  {
   "cell_type": "code",
   "execution_count": 41,
   "metadata": {
    "collapsed": false
   },
   "outputs": [
    {
     "name": "stdout",
     "output_type": "stream",
     "text": [
      "0.625856164384\n"
     ]
    }
   ],
   "source": [
    "from sklearn.metrics import accuracy_score\n",
    "\n",
    "acc = accuracy_score(Y_test, Y_predictions)\n",
    "print(acc)"
   ]
  },
  {
   "cell_type": "code",
   "execution_count": 52,
   "metadata": {
    "collapsed": false
   },
   "outputs": [
    {
     "data": {
      "text/html": [
       "<div>\n",
       "<table border=\"1\" class=\"dataframe\">\n",
       "  <thead>\n",
       "    <tr style=\"text-align: right;\">\n",
       "      <th></th>\n",
       "      <th>predicted_evergreen</th>\n",
       "      <th>predicted_not_evergreen</th>\n",
       "    </tr>\n",
       "  </thead>\n",
       "  <tbody>\n",
       "    <tr>\n",
       "      <th>is_evergreen</th>\n",
       "      <td>267</td>\n",
       "      <td>304</td>\n",
       "    </tr>\n",
       "    <tr>\n",
       "      <th>not_evergreen</th>\n",
       "      <td>133</td>\n",
       "      <td>464</td>\n",
       "    </tr>\n",
       "  </tbody>\n",
       "</table>\n",
       "</div>"
      ],
      "text/plain": [
       "               predicted_evergreen  predicted_not_evergreen\n",
       "is_evergreen                   267                      304\n",
       "not_evergreen                  133                      464"
      ]
     },
     "execution_count": 52,
     "metadata": {},
     "output_type": "execute_result"
    }
   ],
   "source": [
    "from sklearn.metrics import confusion_matrix\n",
    "import numpy as np\n",
    "\n",
    "conmat = np.array(confusion_matrix(Y_test, Y_predictions))\n",
    "\n",
    "confusion = pd.DataFrame(conmat, index=['is_evergreen', 'not_evergreen'],\n",
    "                         columns=['predicted_evergreen','predicted_not_evergreen'])\n",
    "\n",
    "confusion"
   ]
  },
  {
   "cell_type": "code",
   "execution_count": 53,
   "metadata": {
    "collapsed": false
   },
   "outputs": [
    {
     "data": {
      "text/plain": [
       "[('True Positives', 267),\n",
       " ('False Positives', 133),\n",
       " ('True Negatives', 464),\n",
       " ('False Negatives', 304)]"
      ]
     },
     "execution_count": 53,
     "metadata": {},
     "output_type": "execute_result"
    }
   ],
   "source": [
    "TP = confusion.ix['is_evergreen', 'predicted_evergreen']\n",
    "FP = confusion.ix['not_evergreen', 'predicted_evergreen']\n",
    "TN = confusion.ix['not_evergreen', 'predicted_not_evergreen']\n",
    "FN = confusion.ix['is_evergreen', 'predicted_not_evergreen']\n",
    "\n",
    "zip(['True Positives','False Positives','True Negatives','False Negatives'],\n",
    "          [TP, FP, TN, FN])"
   ]
  },
  {
   "cell_type": "code",
   "execution_count": 49,
   "metadata": {
    "collapsed": false
   },
   "outputs": [
    {
     "name": "stdout",
     "output_type": "stream",
     "text": [
      "0.625856164384\n"
     ]
    }
   ],
   "source": [
    "print((TP + TN) / float(len(Y_test)))"
   ]
  },
  {
   "cell_type": "code",
   "execution_count": 51,
   "metadata": {
    "collapsed": false
   },
   "outputs": [
    {
     "name": "stdout",
     "output_type": "stream",
     "text": [
      "             precision    recall  f1-score   support\n",
      "\n",
      "          0       0.67      0.47      0.55       571\n",
      "          1       0.60      0.78      0.68       597\n",
      "\n",
      "avg / total       0.64      0.63      0.62      1168\n",
      "\n"
     ]
    }
   ],
   "source": [
    "from sklearn.metrics import classification_report\n",
    "\n",
    "cls_rep = classification_report(Y_test, Y_predictions)\n",
    "print(cls_rep)"
   ]
  },
  {
   "cell_type": "code",
   "execution_count": null,
   "metadata": {
    "collapsed": true
   },
   "outputs": [],
   "source": []
  },
  {
   "cell_type": "markdown",
   "metadata": {},
   "source": [
    "#### Build a Logistic Regression model using scikit-learn and then!\n",
    "- Examine the coefficients using the `examine_coefficients` function provided\n",
    "- Evaluate the AUC, precision and recall of the model using cross-validation\n",
    "- Plot the ROC curve\n",
    "- Iterate on the model by adding in additional features in `X` above"
   ]
  },
  {
   "cell_type": "code",
   "execution_count": null,
   "metadata": {
    "collapsed": true
   },
   "outputs": [],
   "source": [
    "def examine_coefficients(model, df):\n",
    "    return pd.DataFrame(\n",
    "        { 'Coefficient' : model.coef_[0] , 'Feature' : df.columns}\n",
    "    ).sort_values(by='Coefficient')"
   ]
  },
  {
   "cell_type": "code",
   "execution_count": null,
   "metadata": {
    "collapsed": false
   },
   "outputs": [],
   "source": [
    "# TODO"
   ]
  },
  {
   "cell_type": "code",
   "execution_count": null,
   "metadata": {
    "collapsed": true
   },
   "outputs": [],
   "source": []
  }
 ],
 "metadata": {
  "anaconda-cloud": {},
  "kernelspec": {
   "display_name": "Python [conda root]",
   "language": "python",
   "name": "conda-root-py"
  },
  "language_info": {
   "codemirror_mode": {
    "name": "ipython",
    "version": 2
   },
   "file_extension": ".py",
   "mimetype": "text/x-python",
   "name": "python",
   "nbconvert_exporter": "python",
   "pygments_lexer": "ipython2",
   "version": "2.7.12"
  }
 },
 "nbformat": 4,
 "nbformat_minor": 0
}
