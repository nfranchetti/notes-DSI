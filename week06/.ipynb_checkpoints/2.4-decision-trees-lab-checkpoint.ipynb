{
 "cells": [
  {
   "cell_type": "markdown",
   "metadata": {},
   "source": [
    "# Decision Trees and Ensembles Lab\n",
    "\n",
    "In this lab we will compare the performance of a simple Decision Tree classifier with a Bagging classifier. We will do that on few datasets, starting from the ones offered by Scikit Learn."
   ]
  },
  {
   "cell_type": "markdown",
   "metadata": {},
   "source": [
    "## 1. Breast Cancer Dataset\n",
    "We will start our comparison on the breast cancer dataset.\n",
    "You can load it directly from scikit-learn using the `load_breast_cancer` function.\n",
    "\n",
    "### 1.a Simple comparison\n",
    "1. Load the data and create X and y\n",
    "- Initialize a Decision Tree Classifier and use `cross_val_score` to evaluate its performance. Set crossvalidation to 5-folds\n",
    "- Wrap a Bagging Classifier around the Decision Tree Classifier and use `cross_val_score` to evaluate its performance. Set crossvalidation to 5-folds. \n",
    "- Which score is better? "
   ]
  },
  {
   "cell_type": "code",
   "execution_count": 1,
   "metadata": {
    "collapsed": true
   },
   "outputs": [],
   "source": [
    "import pandas as pd\n",
    "import numpy as np\n",
    "import matplotlib.pyplot as plt\n",
    "%matplotlib inline"
   ]
  },
  {
   "cell_type": "code",
   "execution_count": 2,
   "metadata": {
    "collapsed": true
   },
   "outputs": [],
   "source": [
    "from sklearn.datasets import load_breast_cancer\n",
    "data = load_breast_cancer()"
   ]
  },
  {
   "cell_type": "code",
   "execution_count": 3,
   "metadata": {
    "collapsed": false
   },
   "outputs": [
    {
     "data": {
      "text/plain": [
       "['target_names', 'data', 'target', 'DESCR', 'feature_names']"
      ]
     },
     "execution_count": 3,
     "metadata": {},
     "output_type": "execute_result"
    }
   ],
   "source": [
    "data.keys()"
   ]
  },
  {
   "cell_type": "code",
   "execution_count": 4,
   "metadata": {
    "collapsed": false
   },
   "outputs": [
    {
     "name": "stdout",
     "output_type": "stream",
     "text": [
      "Breast Cancer Wisconsin (Diagnostic) Database\n",
      "\n",
      "Notes\n",
      "-----\n",
      "Data Set Characteristics:\n",
      "    :Number of Instances: 569\n",
      "\n",
      "    :Number of Attributes: 30 numeric, predictive attributes and the class\n",
      "\n",
      "    :Attribute Information:\n",
      "        - radius (mean of distances from center to points on the perimeter)\n",
      "        - texture (standard deviation of gray-scale values)\n",
      "        - perimeter\n",
      "        - area\n",
      "        - smoothness (local variation in radius lengths)\n",
      "        - compactness (perimeter^2 / area - 1.0)\n",
      "        - concavity (severity of concave portions of the contour)\n",
      "        - concave points (number of concave portions of the contour)\n",
      "        - symmetry \n",
      "        - fractal dimension (\"coastline approximation\" - 1)\n",
      "        \n",
      "        The mean, standard error, and \"worst\" or largest (mean of the three\n",
      "        largest values) of these features were computed for each image,\n",
      "        resulting in 30 features.  For instance, field 3 is Mean Radius, field\n",
      "        13 is Radius SE, field 23 is Worst Radius.\n",
      "        \n",
      "        - class:\n",
      "                - WDBC-Malignant\n",
      "                - WDBC-Benign\n",
      "\n",
      "    :Summary Statistics:\n",
      "\n",
      "    ===================================== ======= ========\n",
      "                                           Min     Max\n",
      "    ===================================== ======= ========\n",
      "    radius (mean):                         6.981   28.11\n",
      "    texture (mean):                        9.71    39.28\n",
      "    perimeter (mean):                      43.79   188.5\n",
      "    area (mean):                           143.5   2501.0\n",
      "    smoothness (mean):                     0.053   0.163\n",
      "    compactness (mean):                    0.019   0.345\n",
      "    concavity (mean):                      0.0     0.427\n",
      "    concave points (mean):                 0.0     0.201\n",
      "    symmetry (mean):                       0.106   0.304\n",
      "    fractal dimension (mean):              0.05    0.097\n",
      "    radius (standard error):               0.112   2.873\n",
      "    texture (standard error):              0.36    4.885\n",
      "    perimeter (standard error):            0.757   21.98\n",
      "    area (standard error):                 6.802   542.2\n",
      "    smoothness (standard error):           0.002   0.031\n",
      "    compactness (standard error):          0.002   0.135\n",
      "    concavity (standard error):            0.0     0.396\n",
      "    concave points (standard error):       0.0     0.053\n",
      "    symmetry (standard error):             0.008   0.079\n",
      "    fractal dimension (standard error):    0.001   0.03\n",
      "    radius (worst):                        7.93    36.04\n",
      "    texture (worst):                       12.02   49.54\n",
      "    perimeter (worst):                     50.41   251.2\n",
      "    area (worst):                          185.2   4254.0\n",
      "    smoothness (worst):                    0.071   0.223\n",
      "    compactness (worst):                   0.027   1.058\n",
      "    concavity (worst):                     0.0     1.252\n",
      "    concave points (worst):                0.0     0.291\n",
      "    symmetry (worst):                      0.156   0.664\n",
      "    fractal dimension (worst):             0.055   0.208\n",
      "    ===================================== ======= ========\n",
      "\n",
      "    :Missing Attribute Values: None\n",
      "\n",
      "    :Class Distribution: 212 - Malignant, 357 - Benign\n",
      "\n",
      "    :Creator:  Dr. William H. Wolberg, W. Nick Street, Olvi L. Mangasarian\n",
      "\n",
      "    :Donor: Nick Street\n",
      "\n",
      "    :Date: November, 1995\n",
      "\n",
      "This is a copy of UCI ML Breast Cancer Wisconsin (Diagnostic) datasets.\n",
      "https://goo.gl/U2Uwz2\n",
      "\n",
      "Features are computed from a digitized image of a fine needle\n",
      "aspirate (FNA) of a breast mass.  They describe\n",
      "characteristics of the cell nuclei present in the image.\n",
      "A few of the images can be found at\n",
      "http://www.cs.wisc.edu/~street/images/\n",
      "\n",
      "Separating plane described above was obtained using\n",
      "Multisurface Method-Tree (MSM-T) [K. P. Bennett, \"Decision Tree\n",
      "Construction Via Linear Programming.\" Proceedings of the 4th\n",
      "Midwest Artificial Intelligence and Cognitive Science Society,\n",
      "pp. 97-101, 1992], a classification method which uses linear\n",
      "programming to construct a decision tree.  Relevant features\n",
      "were selected using an exhaustive search in the space of 1-4\n",
      "features and 1-3 separating planes.\n",
      "\n",
      "The actual linear program used to obtain the separating plane\n",
      "in the 3-dimensional space is that described in:\n",
      "[K. P. Bennett and O. L. Mangasarian: \"Robust Linear\n",
      "Programming Discrimination of Two Linearly Inseparable Sets\",\n",
      "Optimization Methods and Software 1, 1992, 23-34].\n",
      "\n",
      "This database is also available through the UW CS ftp server:\n",
      "\n",
      "ftp ftp.cs.wisc.edu\n",
      "cd math-prog/cpo-dataset/machine-learn/WDBC/\n",
      "\n",
      "References\n",
      "----------\n",
      "   - W.N. Street, W.H. Wolberg and O.L. Mangasarian. Nuclear feature extraction \n",
      "     for breast tumor diagnosis. IS&T/SPIE 1993 International Symposium on \n",
      "     Electronic Imaging: Science and Technology, volume 1905, pages 861-870, \n",
      "     San Jose, CA, 1993. \n",
      "   - O.L. Mangasarian, W.N. Street and W.H. Wolberg. Breast cancer diagnosis and \n",
      "     prognosis via linear programming. Operations Research, 43(4), pages 570-577, \n",
      "     July-August 1995.\n",
      "   - W.H. Wolberg, W.N. Street, and O.L. Mangasarian. Machine learning techniques\n",
      "     to diagnose breast cancer from fine-needle aspirates. Cancer Letters 77 (1994) \n",
      "     163-171.\n",
      "\n"
     ]
    }
   ],
   "source": [
    "print data['DESCR']"
   ]
  },
  {
   "cell_type": "code",
   "execution_count": 5,
   "metadata": {
    "collapsed": false
   },
   "outputs": [
    {
     "data": {
      "text/html": [
       "<div>\n",
       "<table border=\"1\" class=\"dataframe\">\n",
       "  <thead>\n",
       "    <tr style=\"text-align: right;\">\n",
       "      <th></th>\n",
       "      <th>mean radius</th>\n",
       "      <th>mean texture</th>\n",
       "      <th>mean perimeter</th>\n",
       "      <th>mean area</th>\n",
       "      <th>mean smoothness</th>\n",
       "      <th>mean compactness</th>\n",
       "      <th>mean concavity</th>\n",
       "      <th>mean concave points</th>\n",
       "      <th>mean symmetry</th>\n",
       "      <th>mean fractal dimension</th>\n",
       "      <th>...</th>\n",
       "      <th>worst radius</th>\n",
       "      <th>worst texture</th>\n",
       "      <th>worst perimeter</th>\n",
       "      <th>worst area</th>\n",
       "      <th>worst smoothness</th>\n",
       "      <th>worst compactness</th>\n",
       "      <th>worst concavity</th>\n",
       "      <th>worst concave points</th>\n",
       "      <th>worst symmetry</th>\n",
       "      <th>worst fractal dimension</th>\n",
       "    </tr>\n",
       "  </thead>\n",
       "  <tbody>\n",
       "    <tr>\n",
       "      <th>0</th>\n",
       "      <td>17.99</td>\n",
       "      <td>10.38</td>\n",
       "      <td>122.80</td>\n",
       "      <td>1001.0</td>\n",
       "      <td>0.11840</td>\n",
       "      <td>0.27760</td>\n",
       "      <td>0.3001</td>\n",
       "      <td>0.14710</td>\n",
       "      <td>0.2419</td>\n",
       "      <td>0.07871</td>\n",
       "      <td>...</td>\n",
       "      <td>25.38</td>\n",
       "      <td>17.33</td>\n",
       "      <td>184.60</td>\n",
       "      <td>2019.0</td>\n",
       "      <td>0.1622</td>\n",
       "      <td>0.6656</td>\n",
       "      <td>0.7119</td>\n",
       "      <td>0.2654</td>\n",
       "      <td>0.4601</td>\n",
       "      <td>0.11890</td>\n",
       "    </tr>\n",
       "    <tr>\n",
       "      <th>1</th>\n",
       "      <td>20.57</td>\n",
       "      <td>17.77</td>\n",
       "      <td>132.90</td>\n",
       "      <td>1326.0</td>\n",
       "      <td>0.08474</td>\n",
       "      <td>0.07864</td>\n",
       "      <td>0.0869</td>\n",
       "      <td>0.07017</td>\n",
       "      <td>0.1812</td>\n",
       "      <td>0.05667</td>\n",
       "      <td>...</td>\n",
       "      <td>24.99</td>\n",
       "      <td>23.41</td>\n",
       "      <td>158.80</td>\n",
       "      <td>1956.0</td>\n",
       "      <td>0.1238</td>\n",
       "      <td>0.1866</td>\n",
       "      <td>0.2416</td>\n",
       "      <td>0.1860</td>\n",
       "      <td>0.2750</td>\n",
       "      <td>0.08902</td>\n",
       "    </tr>\n",
       "    <tr>\n",
       "      <th>2</th>\n",
       "      <td>19.69</td>\n",
       "      <td>21.25</td>\n",
       "      <td>130.00</td>\n",
       "      <td>1203.0</td>\n",
       "      <td>0.10960</td>\n",
       "      <td>0.15990</td>\n",
       "      <td>0.1974</td>\n",
       "      <td>0.12790</td>\n",
       "      <td>0.2069</td>\n",
       "      <td>0.05999</td>\n",
       "      <td>...</td>\n",
       "      <td>23.57</td>\n",
       "      <td>25.53</td>\n",
       "      <td>152.50</td>\n",
       "      <td>1709.0</td>\n",
       "      <td>0.1444</td>\n",
       "      <td>0.4245</td>\n",
       "      <td>0.4504</td>\n",
       "      <td>0.2430</td>\n",
       "      <td>0.3613</td>\n",
       "      <td>0.08758</td>\n",
       "    </tr>\n",
       "    <tr>\n",
       "      <th>3</th>\n",
       "      <td>11.42</td>\n",
       "      <td>20.38</td>\n",
       "      <td>77.58</td>\n",
       "      <td>386.1</td>\n",
       "      <td>0.14250</td>\n",
       "      <td>0.28390</td>\n",
       "      <td>0.2414</td>\n",
       "      <td>0.10520</td>\n",
       "      <td>0.2597</td>\n",
       "      <td>0.09744</td>\n",
       "      <td>...</td>\n",
       "      <td>14.91</td>\n",
       "      <td>26.50</td>\n",
       "      <td>98.87</td>\n",
       "      <td>567.7</td>\n",
       "      <td>0.2098</td>\n",
       "      <td>0.8663</td>\n",
       "      <td>0.6869</td>\n",
       "      <td>0.2575</td>\n",
       "      <td>0.6638</td>\n",
       "      <td>0.17300</td>\n",
       "    </tr>\n",
       "    <tr>\n",
       "      <th>4</th>\n",
       "      <td>20.29</td>\n",
       "      <td>14.34</td>\n",
       "      <td>135.10</td>\n",
       "      <td>1297.0</td>\n",
       "      <td>0.10030</td>\n",
       "      <td>0.13280</td>\n",
       "      <td>0.1980</td>\n",
       "      <td>0.10430</td>\n",
       "      <td>0.1809</td>\n",
       "      <td>0.05883</td>\n",
       "      <td>...</td>\n",
       "      <td>22.54</td>\n",
       "      <td>16.67</td>\n",
       "      <td>152.20</td>\n",
       "      <td>1575.0</td>\n",
       "      <td>0.1374</td>\n",
       "      <td>0.2050</td>\n",
       "      <td>0.4000</td>\n",
       "      <td>0.1625</td>\n",
       "      <td>0.2364</td>\n",
       "      <td>0.07678</td>\n",
       "    </tr>\n",
       "  </tbody>\n",
       "</table>\n",
       "<p>5 rows × 30 columns</p>\n",
       "</div>"
      ],
      "text/plain": [
       "   mean radius  mean texture  mean perimeter  mean area  mean smoothness  \\\n",
       "0        17.99         10.38          122.80     1001.0          0.11840   \n",
       "1        20.57         17.77          132.90     1326.0          0.08474   \n",
       "2        19.69         21.25          130.00     1203.0          0.10960   \n",
       "3        11.42         20.38           77.58      386.1          0.14250   \n",
       "4        20.29         14.34          135.10     1297.0          0.10030   \n",
       "\n",
       "   mean compactness  mean concavity  mean concave points  mean symmetry  \\\n",
       "0           0.27760          0.3001              0.14710         0.2419   \n",
       "1           0.07864          0.0869              0.07017         0.1812   \n",
       "2           0.15990          0.1974              0.12790         0.2069   \n",
       "3           0.28390          0.2414              0.10520         0.2597   \n",
       "4           0.13280          0.1980              0.10430         0.1809   \n",
       "\n",
       "   mean fractal dimension           ...             worst radius  \\\n",
       "0                 0.07871           ...                    25.38   \n",
       "1                 0.05667           ...                    24.99   \n",
       "2                 0.05999           ...                    23.57   \n",
       "3                 0.09744           ...                    14.91   \n",
       "4                 0.05883           ...                    22.54   \n",
       "\n",
       "   worst texture  worst perimeter  worst area  worst smoothness  \\\n",
       "0          17.33           184.60      2019.0            0.1622   \n",
       "1          23.41           158.80      1956.0            0.1238   \n",
       "2          25.53           152.50      1709.0            0.1444   \n",
       "3          26.50            98.87       567.7            0.2098   \n",
       "4          16.67           152.20      1575.0            0.1374   \n",
       "\n",
       "   worst compactness  worst concavity  worst concave points  worst symmetry  \\\n",
       "0             0.6656           0.7119                0.2654          0.4601   \n",
       "1             0.1866           0.2416                0.1860          0.2750   \n",
       "2             0.4245           0.4504                0.2430          0.3613   \n",
       "3             0.8663           0.6869                0.2575          0.6638   \n",
       "4             0.2050           0.4000                0.1625          0.2364   \n",
       "\n",
       "   worst fractal dimension  \n",
       "0                  0.11890  \n",
       "1                  0.08902  \n",
       "2                  0.08758  \n",
       "3                  0.17300  \n",
       "4                  0.07678  \n",
       "\n",
       "[5 rows x 30 columns]"
      ]
     },
     "execution_count": 5,
     "metadata": {},
     "output_type": "execute_result"
    }
   ],
   "source": [
    "df = pd.DataFrame(data['data'], columns=data['feature_names'])\n",
    "df.head()"
   ]
  },
  {
   "cell_type": "code",
   "execution_count": 6,
   "metadata": {
    "collapsed": true
   },
   "outputs": [],
   "source": [
    "df['malignant'] = data.target"
   ]
  },
  {
   "cell_type": "code",
   "execution_count": 7,
   "metadata": {
    "collapsed": false,
    "scrolled": true
   },
   "outputs": [
    {
     "data": {
      "text/plain": [
       "Index([u'mean radius', u'mean texture', u'mean perimeter', u'mean area',\n",
       "       u'mean smoothness', u'mean compactness', u'mean concavity',\n",
       "       u'mean concave points', u'mean symmetry', u'mean fractal dimension',\n",
       "       u'radius error', u'texture error', u'perimeter error', u'area error',\n",
       "       u'smoothness error', u'compactness error', u'concavity error',\n",
       "       u'concave points error', u'symmetry error', u'fractal dimension error',\n",
       "       u'worst radius', u'worst texture', u'worst perimeter', u'worst area',\n",
       "       u'worst smoothness', u'worst compactness', u'worst concavity',\n",
       "       u'worst concave points', u'worst symmetry', u'worst fractal dimension',\n",
       "       u'malignant'],\n",
       "      dtype='object')"
      ]
     },
     "execution_count": 7,
     "metadata": {},
     "output_type": "execute_result"
    }
   ],
   "source": [
    "df.columns"
   ]
  },
  {
   "cell_type": "code",
   "execution_count": 8,
   "metadata": {
    "collapsed": false
   },
   "outputs": [
    {
     "data": {
      "text/plain": [
       "count    569.000000\n",
       "mean       0.627417\n",
       "std        0.483918\n",
       "min        0.000000\n",
       "25%        0.000000\n",
       "50%        1.000000\n",
       "75%        1.000000\n",
       "max        1.000000\n",
       "Name: malignant, dtype: float64"
      ]
     },
     "execution_count": 8,
     "metadata": {},
     "output_type": "execute_result"
    }
   ],
   "source": [
    "y = df['malignant']\n",
    "y.describe()"
   ]
  },
  {
   "cell_type": "code",
   "execution_count": 9,
   "metadata": {
    "collapsed": false
   },
   "outputs": [
    {
     "data": {
      "text/html": [
       "<div>\n",
       "<table border=\"1\" class=\"dataframe\">\n",
       "  <thead>\n",
       "    <tr style=\"text-align: right;\">\n",
       "      <th></th>\n",
       "      <th>mean radius</th>\n",
       "      <th>mean texture</th>\n",
       "      <th>mean perimeter</th>\n",
       "      <th>mean area</th>\n",
       "      <th>mean smoothness</th>\n",
       "      <th>mean compactness</th>\n",
       "      <th>mean concavity</th>\n",
       "      <th>mean concave points</th>\n",
       "      <th>mean symmetry</th>\n",
       "      <th>mean fractal dimension</th>\n",
       "      <th>...</th>\n",
       "      <th>worst radius</th>\n",
       "      <th>worst texture</th>\n",
       "      <th>worst perimeter</th>\n",
       "      <th>worst area</th>\n",
       "      <th>worst smoothness</th>\n",
       "      <th>worst compactness</th>\n",
       "      <th>worst concavity</th>\n",
       "      <th>worst concave points</th>\n",
       "      <th>worst symmetry</th>\n",
       "      <th>worst fractal dimension</th>\n",
       "    </tr>\n",
       "  </thead>\n",
       "  <tbody>\n",
       "    <tr>\n",
       "      <th>0</th>\n",
       "      <td>17.99</td>\n",
       "      <td>10.38</td>\n",
       "      <td>122.80</td>\n",
       "      <td>1001.0</td>\n",
       "      <td>0.11840</td>\n",
       "      <td>0.27760</td>\n",
       "      <td>0.3001</td>\n",
       "      <td>0.14710</td>\n",
       "      <td>0.2419</td>\n",
       "      <td>0.07871</td>\n",
       "      <td>...</td>\n",
       "      <td>25.38</td>\n",
       "      <td>17.33</td>\n",
       "      <td>184.60</td>\n",
       "      <td>2019.0</td>\n",
       "      <td>0.1622</td>\n",
       "      <td>0.6656</td>\n",
       "      <td>0.7119</td>\n",
       "      <td>0.2654</td>\n",
       "      <td>0.4601</td>\n",
       "      <td>0.11890</td>\n",
       "    </tr>\n",
       "    <tr>\n",
       "      <th>1</th>\n",
       "      <td>20.57</td>\n",
       "      <td>17.77</td>\n",
       "      <td>132.90</td>\n",
       "      <td>1326.0</td>\n",
       "      <td>0.08474</td>\n",
       "      <td>0.07864</td>\n",
       "      <td>0.0869</td>\n",
       "      <td>0.07017</td>\n",
       "      <td>0.1812</td>\n",
       "      <td>0.05667</td>\n",
       "      <td>...</td>\n",
       "      <td>24.99</td>\n",
       "      <td>23.41</td>\n",
       "      <td>158.80</td>\n",
       "      <td>1956.0</td>\n",
       "      <td>0.1238</td>\n",
       "      <td>0.1866</td>\n",
       "      <td>0.2416</td>\n",
       "      <td>0.1860</td>\n",
       "      <td>0.2750</td>\n",
       "      <td>0.08902</td>\n",
       "    </tr>\n",
       "    <tr>\n",
       "      <th>2</th>\n",
       "      <td>19.69</td>\n",
       "      <td>21.25</td>\n",
       "      <td>130.00</td>\n",
       "      <td>1203.0</td>\n",
       "      <td>0.10960</td>\n",
       "      <td>0.15990</td>\n",
       "      <td>0.1974</td>\n",
       "      <td>0.12790</td>\n",
       "      <td>0.2069</td>\n",
       "      <td>0.05999</td>\n",
       "      <td>...</td>\n",
       "      <td>23.57</td>\n",
       "      <td>25.53</td>\n",
       "      <td>152.50</td>\n",
       "      <td>1709.0</td>\n",
       "      <td>0.1444</td>\n",
       "      <td>0.4245</td>\n",
       "      <td>0.4504</td>\n",
       "      <td>0.2430</td>\n",
       "      <td>0.3613</td>\n",
       "      <td>0.08758</td>\n",
       "    </tr>\n",
       "    <tr>\n",
       "      <th>3</th>\n",
       "      <td>11.42</td>\n",
       "      <td>20.38</td>\n",
       "      <td>77.58</td>\n",
       "      <td>386.1</td>\n",
       "      <td>0.14250</td>\n",
       "      <td>0.28390</td>\n",
       "      <td>0.2414</td>\n",
       "      <td>0.10520</td>\n",
       "      <td>0.2597</td>\n",
       "      <td>0.09744</td>\n",
       "      <td>...</td>\n",
       "      <td>14.91</td>\n",
       "      <td>26.50</td>\n",
       "      <td>98.87</td>\n",
       "      <td>567.7</td>\n",
       "      <td>0.2098</td>\n",
       "      <td>0.8663</td>\n",
       "      <td>0.6869</td>\n",
       "      <td>0.2575</td>\n",
       "      <td>0.6638</td>\n",
       "      <td>0.17300</td>\n",
       "    </tr>\n",
       "    <tr>\n",
       "      <th>4</th>\n",
       "      <td>20.29</td>\n",
       "      <td>14.34</td>\n",
       "      <td>135.10</td>\n",
       "      <td>1297.0</td>\n",
       "      <td>0.10030</td>\n",
       "      <td>0.13280</td>\n",
       "      <td>0.1980</td>\n",
       "      <td>0.10430</td>\n",
       "      <td>0.1809</td>\n",
       "      <td>0.05883</td>\n",
       "      <td>...</td>\n",
       "      <td>22.54</td>\n",
       "      <td>16.67</td>\n",
       "      <td>152.20</td>\n",
       "      <td>1575.0</td>\n",
       "      <td>0.1374</td>\n",
       "      <td>0.2050</td>\n",
       "      <td>0.4000</td>\n",
       "      <td>0.1625</td>\n",
       "      <td>0.2364</td>\n",
       "      <td>0.07678</td>\n",
       "    </tr>\n",
       "  </tbody>\n",
       "</table>\n",
       "<p>5 rows × 30 columns</p>\n",
       "</div>"
      ],
      "text/plain": [
       "   mean radius  mean texture  mean perimeter  mean area  mean smoothness  \\\n",
       "0        17.99         10.38          122.80     1001.0          0.11840   \n",
       "1        20.57         17.77          132.90     1326.0          0.08474   \n",
       "2        19.69         21.25          130.00     1203.0          0.10960   \n",
       "3        11.42         20.38           77.58      386.1          0.14250   \n",
       "4        20.29         14.34          135.10     1297.0          0.10030   \n",
       "\n",
       "   mean compactness  mean concavity  mean concave points  mean symmetry  \\\n",
       "0           0.27760          0.3001              0.14710         0.2419   \n",
       "1           0.07864          0.0869              0.07017         0.1812   \n",
       "2           0.15990          0.1974              0.12790         0.2069   \n",
       "3           0.28390          0.2414              0.10520         0.2597   \n",
       "4           0.13280          0.1980              0.10430         0.1809   \n",
       "\n",
       "   mean fractal dimension           ...             worst radius  \\\n",
       "0                 0.07871           ...                    25.38   \n",
       "1                 0.05667           ...                    24.99   \n",
       "2                 0.05999           ...                    23.57   \n",
       "3                 0.09744           ...                    14.91   \n",
       "4                 0.05883           ...                    22.54   \n",
       "\n",
       "   worst texture  worst perimeter  worst area  worst smoothness  \\\n",
       "0          17.33           184.60      2019.0            0.1622   \n",
       "1          23.41           158.80      1956.0            0.1238   \n",
       "2          25.53           152.50      1709.0            0.1444   \n",
       "3          26.50            98.87       567.7            0.2098   \n",
       "4          16.67           152.20      1575.0            0.1374   \n",
       "\n",
       "   worst compactness  worst concavity  worst concave points  worst symmetry  \\\n",
       "0             0.6656           0.7119                0.2654          0.4601   \n",
       "1             0.1866           0.2416                0.1860          0.2750   \n",
       "2             0.4245           0.4504                0.2430          0.3613   \n",
       "3             0.8663           0.6869                0.2575          0.6638   \n",
       "4             0.2050           0.4000                0.1625          0.2364   \n",
       "\n",
       "   worst fractal dimension  \n",
       "0                  0.11890  \n",
       "1                  0.08902  \n",
       "2                  0.08758  \n",
       "3                  0.17300  \n",
       "4                  0.07678  \n",
       "\n",
       "[5 rows x 30 columns]"
      ]
     },
     "execution_count": 9,
     "metadata": {},
     "output_type": "execute_result"
    }
   ],
   "source": [
    "X = df.drop('malignant', axis=1)\n",
    "X.head()"
   ]
  },
  {
   "cell_type": "code",
   "execution_count": 10,
   "metadata": {
    "collapsed": true
   },
   "outputs": [],
   "source": [
    "from sklearn.cross_validation import cross_val_score\n",
    "from sklearn.tree import DecisionTreeClassifier\n",
    "from sklearn.ensemble import BaggingClassifier"
   ]
  },
  {
   "cell_type": "code",
   "execution_count": 25,
   "metadata": {
    "collapsed": false
   },
   "outputs": [
    {
     "data": {
      "text/plain": [
       "array([ 0.91304348,  0.91304348,  0.92035398,  0.94690265,  0.89380531])"
      ]
     },
     "execution_count": 25,
     "metadata": {},
     "output_type": "execute_result"
    }
   ],
   "source": [
    "decision_tree = DecisionTreeClassifier()\n",
    "cv_decision_tree = cross_val_score(decision_tree, X, y, cv=5)\n",
    "cv_decision_tree"
   ]
  },
  {
   "cell_type": "code",
   "execution_count": 26,
   "metadata": {
    "collapsed": false
   },
   "outputs": [
    {
     "name": "stdout",
     "output_type": "stream",
     "text": [
      "Decision Tree mean accuracy: 0.917429780685\n"
     ]
    }
   ],
   "source": [
    "print 'Decision Tree mean accuracy:', np.mean(cv_decision_tree)"
   ]
  },
  {
   "cell_type": "code",
   "execution_count": 13,
   "metadata": {
    "collapsed": true
   },
   "outputs": [],
   "source": [
    "bagging_classifier = BaggingClassifier(decision_tree)"
   ]
  },
  {
   "cell_type": "code",
   "execution_count": 14,
   "metadata": {
    "collapsed": false
   },
   "outputs": [
    {
     "data": {
      "text/plain": [
       "array([ 0.93043478,  0.92173913,  0.95575221,  0.94690265,  1.        ])"
      ]
     },
     "execution_count": 14,
     "metadata": {},
     "output_type": "execute_result"
    }
   ],
   "source": [
    "cv_bagging_classifier = cross_val_score(bagging_classifier, X, y, cv=5)\n",
    "cv_bagging_classifier"
   ]
  },
  {
   "cell_type": "code",
   "execution_count": 15,
   "metadata": {
    "collapsed": false
   },
   "outputs": [
    {
     "name": "stdout",
     "output_type": "stream",
     "text": [
      "Bagging a Decision Tree mean accuracy: 0.95096575606\n"
     ]
    }
   ],
   "source": [
    "print 'Bagging a Decision Tree mean accuracy:', np.mean(cv_bagging_classifier)"
   ]
  },
  {
   "cell_type": "code",
   "execution_count": 16,
   "metadata": {
    "collapsed": false
   },
   "outputs": [
    {
     "data": {
      "text/plain": [
       "BaggingClassifier(base_estimator=DecisionTreeClassifier(class_weight=None, criterion='gini', max_depth=None,\n",
       "            max_features=None, max_leaf_nodes=None, min_samples_leaf=1,\n",
       "            min_samples_split=2, min_weight_fraction_leaf=0.0,\n",
       "            presort=False, random_state=None, splitter='best'),\n",
       "         bootstrap=True, bootstrap_features=False, max_features=1.0,\n",
       "         max_samples=1.0, n_estimators=10, n_jobs=1, oob_score=False,\n",
       "         random_state=None, verbose=0, warm_start=False)"
      ]
     },
     "execution_count": 16,
     "metadata": {},
     "output_type": "execute_result"
    }
   ],
   "source": [
    "bagging_classifier.fit(X, y)"
   ]
  },
  {
   "cell_type": "code",
   "execution_count": 17,
   "metadata": {
    "collapsed": false
   },
   "outputs": [
    {
     "data": {
      "text/plain": [
       "0.99824253075571179"
      ]
     },
     "execution_count": 17,
     "metadata": {},
     "output_type": "execute_result"
    }
   ],
   "source": [
    "bagging_classifier.score(X, y)"
   ]
  },
  {
   "cell_type": "code",
   "execution_count": 18,
   "metadata": {
    "collapsed": false
   },
   "outputs": [
    {
     "data": {
      "text/plain": [
       "array([0, 0, 0, 0, 0, 0, 0, 0, 0, 0, 0, 0, 0, 0, 0, 0, 0, 0, 0, 1, 1, 1, 0,\n",
       "       0, 0, 0, 0, 0, 0, 0, 0, 0, 0, 0, 0, 0, 0, 1, 0, 0, 0, 0, 0, 0, 0, 0,\n",
       "       1, 0, 1, 1, 1, 1, 1, 0, 0, 1, 0, 0, 1, 1, 1, 1, 0, 1, 0, 0, 1, 1, 1,\n",
       "       1, 0, 1, 0, 0, 1, 0, 1, 0, 0, 1, 1, 1, 0, 0, 1, 0, 0, 0, 1, 1, 1, 0,\n",
       "       1, 1, 0, 0, 1, 1, 1, 0, 0, 1, 1, 1, 1, 0, 1, 1, 0, 1, 1, 1, 1, 1, 1,\n",
       "       1, 1, 0, 0, 0, 1, 0, 0, 1, 1, 1, 0, 0, 1, 0, 1, 0, 0, 1, 0, 0, 1, 1,\n",
       "       0, 1, 1, 0, 1, 1, 1, 1, 0, 1, 1, 1, 1, 1, 1, 1, 1, 1, 0, 1, 1, 1, 1,\n",
       "       0, 0, 1, 0, 1, 1, 0, 0, 1, 1, 0, 0, 1, 1, 1, 1, 0, 1, 1, 0, 0, 0, 1,\n",
       "       0, 1, 0, 1, 1, 1, 0, 1, 1, 0, 0, 1, 0, 0, 0, 0, 1, 0, 0, 0, 1, 0, 1,\n",
       "       0, 1, 1, 0, 1, 0, 0, 0, 0, 1, 1, 0, 0, 1, 1, 1, 0, 1, 1, 1, 1, 1, 0,\n",
       "       0, 1, 1, 0, 1, 1, 0, 0, 1, 0, 1, 1, 1, 1, 0, 1, 1, 1, 1, 1, 0, 1, 0,\n",
       "       0, 0, 0, 0, 0, 0, 0, 0, 0, 0, 0, 0, 0, 1, 1, 1, 1, 1, 1, 0, 1, 0, 1,\n",
       "       1, 0, 1, 1, 0, 1, 0, 0, 1, 1, 1, 1, 1, 1, 1, 1, 1, 1, 1, 1, 1, 0, 1,\n",
       "       1, 0, 1, 0, 1, 1, 1, 1, 1, 1, 1, 1, 1, 1, 1, 1, 1, 1, 0, 1, 1, 1, 0,\n",
       "       1, 0, 1, 1, 1, 1, 0, 0, 0, 1, 1, 1, 1, 0, 1, 0, 1, 0, 1, 1, 1, 0, 1,\n",
       "       1, 1, 1, 1, 1, 1, 0, 0, 0, 1, 1, 1, 1, 1, 1, 1, 1, 1, 1, 1, 0, 0, 1,\n",
       "       0, 0, 0, 1, 0, 0, 1, 1, 1, 1, 1, 0, 1, 1, 1, 1, 1, 0, 1, 1, 1, 0, 1,\n",
       "       1, 0, 0, 1, 1, 1, 1, 1, 1, 0, 1, 1, 1, 1, 1, 1, 1, 0, 1, 1, 1, 1, 1,\n",
       "       0, 1, 1, 0, 1, 1, 1, 1, 1, 1, 1, 1, 1, 1, 1, 1, 0, 1, 0, 0, 1, 0, 1,\n",
       "       1, 1, 1, 1, 0, 1, 1, 0, 1, 0, 1, 1, 0, 1, 0, 1, 1, 1, 1, 1, 1, 1, 1,\n",
       "       0, 0, 1, 1, 1, 0, 1, 1, 0, 1, 1, 1, 1, 1, 1, 1, 1, 1, 1, 0, 1, 1, 1,\n",
       "       1, 1, 1, 1, 0, 1, 0, 1, 1, 0, 1, 1, 1, 1, 1, 0, 0, 1, 0, 1, 0, 1, 1,\n",
       "       1, 1, 1, 0, 1, 1, 0, 1, 0, 1, 0, 0, 1, 1, 1, 0, 1, 1, 1, 1, 1, 1, 1,\n",
       "       1, 1, 1, 1, 0, 1, 0, 0, 1, 1, 1, 1, 1, 1, 1, 1, 1, 1, 1, 1, 1, 1, 1,\n",
       "       1, 1, 1, 1, 1, 1, 1, 1, 1, 1, 0, 0, 0, 0, 0, 0, 1])"
      ]
     },
     "execution_count": 18,
     "metadata": {},
     "output_type": "execute_result"
    }
   ],
   "source": [
    "bagging_classifier.predict(X)"
   ]
  },
  {
   "cell_type": "markdown",
   "metadata": {},
   "source": [
    "### 1.b Scaled pipelines\n",
    "As you may have noticed the features are not normalized. Does the score improve with normalization?\n",
    "\n",
    "Use a scaling preprocessing library from sklearn (such as `StandardScaler`) and compare your results to the previous outcomes"
   ]
  },
  {
   "cell_type": "code",
   "execution_count": 19,
   "metadata": {
    "collapsed": true
   },
   "outputs": [],
   "source": [
    "from sklearn.preprocessing import StandardScaler"
   ]
  },
  {
   "cell_type": "code",
   "execution_count": 20,
   "metadata": {
    "collapsed": true
   },
   "outputs": [],
   "source": [
    "standard_scaler = StandardScaler()"
   ]
  },
  {
   "cell_type": "code",
   "execution_count": 22,
   "metadata": {
    "collapsed": false
   },
   "outputs": [
    {
     "data": {
      "text/plain": [
       "array([[ 1.09706398, -2.07333501,  1.26993369, ...,  2.29607613,\n",
       "         2.75062224,  1.93701461],\n",
       "       [ 1.82982061, -0.35363241,  1.68595471, ...,  1.0870843 ,\n",
       "        -0.24388967,  0.28118999],\n",
       "       [ 1.57988811,  0.45618695,  1.56650313, ...,  1.95500035,\n",
       "         1.152255  ,  0.20139121],\n",
       "       ..., \n",
       "       [ 0.70228425,  2.0455738 ,  0.67267578, ...,  0.41406869,\n",
       "        -1.10454895, -0.31840916],\n",
       "       [ 1.83834103,  2.33645719,  1.98252415, ...,  2.28998549,\n",
       "         1.91908301,  2.21963528],\n",
       "       [-1.80840125,  1.22179204, -1.81438851, ..., -1.74506282,\n",
       "        -0.04813821, -0.75120669]])"
      ]
     },
     "execution_count": 22,
     "metadata": {},
     "output_type": "execute_result"
    }
   ],
   "source": [
    "scaled_xs = standard_scaler.fit_transform(X)\n",
    "scaled_xs"
   ]
  },
  {
   "cell_type": "code",
   "execution_count": 37,
   "metadata": {
    "collapsed": false
   },
   "outputs": [
    {
     "data": {
      "text/plain": [
       "array([ 0.91304348,  0.91304348,  0.90265487,  0.9380531 ,  0.90265487])"
      ]
     },
     "execution_count": 37,
     "metadata": {},
     "output_type": "execute_result"
    }
   ],
   "source": [
    "cv_decision_tree_scaled = cross_val_score(decision_tree, scaled_xs, y, cv=5)\n",
    "cv_decision_tree_scaled"
   ]
  },
  {
   "cell_type": "code",
   "execution_count": 38,
   "metadata": {
    "collapsed": false
   },
   "outputs": [
    {
     "name": "stdout",
     "output_type": "stream",
     "text": [
      "Decision Tree mean accuracy: 0.913889957676\n"
     ]
    }
   ],
   "source": [
    "print 'Decision Tree mean accuracy:', np.mean(cv_decision_tree_scaled)"
   ]
  },
  {
   "cell_type": "code",
   "execution_count": 39,
   "metadata": {
    "collapsed": false
   },
   "outputs": [
    {
     "data": {
      "text/plain": [
       "array([ 0.89565217,  0.92173913,  0.98230088,  0.94690265,  0.94690265])"
      ]
     },
     "execution_count": 39,
     "metadata": {},
     "output_type": "execute_result"
    }
   ],
   "source": [
    "cv_bagging_classifier_scaled = cross_val_score(bagging_classifier, scaled_xs, y, cv=5)\n",
    "cv_bagging_classifier_scaled"
   ]
  },
  {
   "cell_type": "code",
   "execution_count": 40,
   "metadata": {
    "collapsed": false
   },
   "outputs": [
    {
     "name": "stdout",
     "output_type": "stream",
     "text": [
      "Bagging a Decision Tree mean accuracy: 0.938699499808\n"
     ]
    }
   ],
   "source": [
    "print 'Bagging a Decision Tree mean accuracy:', np.mean(cv_bagging_classifier_scaled)"
   ]
  },
  {
   "cell_type": "code",
   "execution_count": null,
   "metadata": {
    "collapsed": true
   },
   "outputs": [],
   "source": []
  },
  {
   "cell_type": "code",
   "execution_count": null,
   "metadata": {
    "collapsed": true
   },
   "outputs": [],
   "source": []
  },
  {
   "cell_type": "markdown",
   "metadata": {},
   "source": [
    "### 1.c Grid Search\n",
    "\n",
    "Grid search is a great way to improve the performance of a classifier. Let's explore the parameter space of both models and see if we can improve their performance.\n",
    "\n",
    "1. Initialize a GridSearchCV with 5-fold cross validation for the Decision Tree Classifier\n",
    "- search for few values of the parameters in order to improve the score of the classifier\n",
    "- Use the whole X, y dataset for your test\n",
    "- Check the best\\_score\\_ once you've trained it. Is it better than before?\n",
    "- How does the score of the Grid-searched DT compare with the score of the Bagging DT?\n",
    "- Initialize a GridSearchCV with 5-fold cross validation for the Bagging Decision Tree Classifier\n",
    "- Repeat the search\n",
    "    - Note that you'll have to change parameter names for the base_estimator\n",
    "    - Note that there are also additional parameters to change\n",
    "    - Note that you may end up with a grid space too large to search in a short time\n",
    "    - Make use of the `n_jobs` parameter to speed up your grid search\n",
    "- Does the score improve for the Grid-searched Bagging Classifier?\n",
    "- Which score is better? Are the score significantly different? How can you judge that?"
   ]
  },
  {
   "cell_type": "code",
   "execution_count": 43,
   "metadata": {
    "collapsed": false
   },
   "outputs": [
    {
     "name": "stdout",
     "output_type": "stream",
     "text": [
      "Fitting 5 folds for each of 30 candidates, totalling 150 fits\n",
      "[CV] min_samples_split=2, max_depth=None .............................\n",
      "[CV] .... min_samples_split=2, max_depth=None, score=0.913043 -   0.0s\n",
      "[CV] min_samples_split=2, max_depth=None .............................\n",
      "[CV] .... min_samples_split=2, max_depth=None, score=0.913043 -   0.0s\n",
      "[CV] min_samples_split=2, max_depth=None .............................\n",
      "[CV] .... min_samples_split=2, max_depth=None, score=0.902655 -   0.0s\n",
      "[CV] min_samples_split=2, max_depth=None .............................\n",
      "[CV] .... min_samples_split=2, max_depth=None, score=0.955752 -   0.0s\n",
      "[CV] min_samples_split=2, max_depth=None .............................\n",
      "[CV] .... min_samples_split=2, max_depth=None, score=0.893805 -   0.0s\n",
      "[CV] min_samples_split=10, max_depth=None ............................\n",
      "[CV] ... min_samples_split=10, max_depth=None, score=0.913043 -   0.0s\n",
      "[CV] min_samples_split=10, max_depth=None ............................\n",
      "[CV] ... min_samples_split=10, max_depth=None, score=0.939130 -   0.0s\n",
      "[CV] min_samples_split=10, max_depth=None ............................\n",
      "[CV] ... min_samples_split=10, max_depth=None, score=0.902655 -   0.0s\n",
      "[CV] min_samples_split=10, max_depth=None ............................\n",
      "[CV] ... min_samples_split=10, max_depth=None, score=0.929204 -   0.0s\n",
      "[CV] min_samples_split=10, max_depth=None ............................\n",
      "[CV] ... min_samples_split=10, max_depth=None, score=0.893805 -   0.0s\n",
      "[CV] min_samples_split=25, max_depth=None ............................\n",
      "[CV] ... min_samples_split=25, max_depth=None, score=0.913043 -   0.0s\n",
      "[CV] min_samples_split=25, max_depth=None ............................\n",
      "[CV] ... min_samples_split=25, max_depth=None, score=0.921739 -   0.0s\n",
      "[CV] min_samples_split=25, max_depth=None ............................\n",
      "[CV] ... min_samples_split=25, max_depth=None, score=0.938053 -   0.0s\n",
      "[CV] min_samples_split=25, max_depth=None ............................\n",
      "[CV] ... min_samples_split=25, max_depth=None, score=0.938053 -   0.0s\n",
      "[CV] min_samples_split=25, max_depth=None ............................\n",
      "[CV] ... min_samples_split=25, max_depth=None, score=0.911504 -   0.0s\n",
      "[CV] min_samples_split=50, max_depth=None ............................\n",
      "[CV] ... min_samples_split=50, max_depth=None, score=0.913043 -   0.0s\n",
      "[CV] min_samples_split=50, max_depth=None ............................\n",
      "[CV] ... min_samples_split=50, max_depth=None, score=0.921739 -   0.0s\n",
      "[CV] min_samples_split=50, max_depth=None ............................\n",
      "[CV] ... min_samples_split=50, max_depth=None, score=0.929204 -   0.0s\n",
      "[CV] min_samples_split=50, max_depth=None ............................\n",
      "[CV] ... min_samples_split=50, max_depth=None, score=0.929204 -   0.0s\n",
      "[CV] min_samples_split=50, max_depth=None ............................\n"
     ]
    },
    {
     "name": "stderr",
     "output_type": "stream",
     "text": [
      "[Parallel(n_jobs=1)]: Done   1 tasks       | elapsed:    0.0s\n",
      "[Parallel(n_jobs=1)]: Done   4 tasks       | elapsed:    0.1s\n",
      "[Parallel(n_jobs=1)]: Done   7 tasks       | elapsed:    0.1s\n",
      "[Parallel(n_jobs=1)]: Done  12 tasks       | elapsed:    0.1s\n",
      "[Parallel(n_jobs=1)]: Done  17 tasks       | elapsed:    0.2s\n"
     ]
    },
    {
     "name": "stdout",
     "output_type": "stream",
     "text": [
      "[CV] ... min_samples_split=50, max_depth=None, score=0.911504 -   0.0s\n",
      "[CV] min_samples_split=100, max_depth=None ...........................\n",
      "[CV] .. min_samples_split=100, max_depth=None, score=0.913043 -   0.0s\n",
      "[CV] min_samples_split=100, max_depth=None ...........................\n",
      "[CV] .. min_samples_split=100, max_depth=None, score=0.895652 -   0.1s\n",
      "[CV] min_samples_split=100, max_depth=None ...........................\n",
      "[CV] .. min_samples_split=100, max_depth=None, score=0.929204 -   0.0s\n",
      "[CV] min_samples_split=100, max_depth=None ...........................\n",
      "[CV] .. min_samples_split=100, max_depth=None, score=0.929204 -   0.0s\n",
      "[CV] min_samples_split=100, max_depth=None ...........................\n",
      "[CV] .. min_samples_split=100, max_depth=None, score=0.920354 -   0.0s\n",
      "[CV] min_samples_split=2, max_depth=1 ................................\n",
      "[CV] ....... min_samples_split=2, max_depth=1, score=0.878261 -   0.0s\n",
      "[CV] min_samples_split=2, max_depth=1 ................................\n",
      "[CV] ....... min_samples_split=2, max_depth=1, score=0.904348 -   0.0s\n",
      "[CV] min_samples_split=2, max_depth=1 ................................\n",
      "[CV] ....... min_samples_split=2, max_depth=1, score=0.920354 -   0.0s\n",
      "[CV] min_samples_split=2, max_depth=1 ................................\n",
      "[CV] ....... min_samples_split=2, max_depth=1, score=0.902655 -   0.0s\n",
      "[CV] min_samples_split=2, max_depth=1 ................................\n",
      "[CV] ....... min_samples_split=2, max_depth=1, score=0.911504 -   0.0s\n",
      "[CV] min_samples_split=10, max_depth=1 ...............................\n",
      "[CV] ...... min_samples_split=10, max_depth=1, score=0.878261 -   0.0s\n",
      "[CV] min_samples_split=10, max_depth=1 ...............................\n",
      "[CV] ...... min_samples_split=10, max_depth=1, score=0.886957 -   0.0s\n",
      "[CV] min_samples_split=10, max_depth=1 ...............................\n",
      "[CV] ...... min_samples_split=10, max_depth=1, score=0.920354 -   0.0s\n",
      "[CV] min_samples_split=10, max_depth=1 ...............................\n",
      "[CV] ...... min_samples_split=10, max_depth=1, score=0.902655 -   0.0s\n",
      "[CV] min_samples_split=10, max_depth=1 ...............................\n",
      "[CV] ...... min_samples_split=10, max_depth=1, score=0.911504 -   0.0s\n",
      "[CV] min_samples_split=25, max_depth=1 ...............................\n",
      "[CV] ...... min_samples_split=25, max_depth=1, score=0.878261 -   0.0s\n",
      "[CV] min_samples_split=25, max_depth=1 ...............................\n",
      "[CV] ...... min_samples_split=25, max_depth=1, score=0.904348 -   0.0s\n",
      "[CV] min_samples_split=25, max_depth=1 ...............................\n",
      "[CV] ...... min_samples_split=25, max_depth=1, score=0.920354 -   0.0s\n",
      "[CV] min_samples_split=25, max_depth=1 ...............................\n",
      "[CV] ...... min_samples_split=25, max_depth=1, score=0.902655 -   0.0s\n",
      "[CV] min_samples_split=25, max_depth=1 ...............................\n",
      "[CV] ...... min_samples_split=25, max_depth=1, score=0.911504 -   0.0s\n",
      "[CV] min_samples_split=50, max_depth=1 ...............................\n",
      "[CV] ...... min_samples_split=50, max_depth=1, score=0.878261 -   0.0s\n",
      "[CV] min_samples_split=50, max_depth=1 ...............................\n",
      "[CV] ...... min_samples_split=50, max_depth=1, score=0.886957 -   0.0s\n",
      "[CV] min_samples_split=50, max_depth=1 ...............................\n",
      "[CV] ...... min_samples_split=50, max_depth=1, score=0.920354 -   0.0s\n",
      "[CV] min_samples_split=50, max_depth=1 ...............................\n",
      "[CV] ...... min_samples_split=50, max_depth=1, score=0.902655 -   0.0s\n",
      "[CV] min_samples_split=50, max_depth=1 ...............................\n",
      "[CV] ...... min_samples_split=50, max_depth=1, score=0.911504 -   0.0s\n",
      "[CV] min_samples_split=100, max_depth=1 ..............................\n",
      "[CV] ..... min_samples_split=100, max_depth=1, score=0.878261 -   0.0s\n",
      "[CV] min_samples_split=100, max_depth=1 ..............................\n",
      "[CV] ..... min_samples_split=100, max_depth=1, score=0.886957 -   0.0s\n",
      "[CV] min_samples_split=100, max_depth=1 ..............................\n",
      "[CV] ..... min_samples_split=100, max_depth=1, score=0.920354 -   0.0s\n",
      "[CV] min_samples_split=100, max_depth=1 ..............................\n",
      "[CV] ..... min_samples_split=100, max_depth=1, score=0.902655 -   0.0s\n",
      "[CV] min_samples_split=100, max_depth=1 ..............................\n"
     ]
    },
    {
     "name": "stderr",
     "output_type": "stream",
     "text": [
      "[Parallel(n_jobs=1)]: Done  24 tasks       | elapsed:    0.3s\n",
      "[Parallel(n_jobs=1)]: Done  31 tasks       | elapsed:    0.3s\n",
      "[Parallel(n_jobs=1)]: Done  40 tasks       | elapsed:    0.4s\n",
      "[Parallel(n_jobs=1)]: Done  49 tasks       | elapsed:    0.4s\n",
      "[Parallel(n_jobs=1)]: Done  60 tasks       | elapsed:    0.5s\n"
     ]
    },
    {
     "name": "stdout",
     "output_type": "stream",
     "text": [
      "[CV] ..... min_samples_split=100, max_depth=1, score=0.911504 -   0.0s\n",
      "[CV] min_samples_split=2, max_depth=2 ................................\n",
      "[CV] ....... min_samples_split=2, max_depth=2, score=0.913043 -   0.0s\n",
      "[CV] min_samples_split=2, max_depth=2 ................................\n",
      "[CV] ....... min_samples_split=2, max_depth=2, score=0.921739 -   0.0s\n",
      "[CV] min_samples_split=2, max_depth=2 ................................\n",
      "[CV] ....... min_samples_split=2, max_depth=2, score=0.938053 -   0.0s\n",
      "[CV] min_samples_split=2, max_depth=2 ................................\n",
      "[CV] ....... min_samples_split=2, max_depth=2, score=0.929204 -   0.0s\n",
      "[CV] min_samples_split=2, max_depth=2 ................................\n",
      "[CV] ....... min_samples_split=2, max_depth=2, score=0.938053 -   0.0s\n",
      "[CV] min_samples_split=10, max_depth=2 ...............................\n",
      "[CV] ...... min_samples_split=10, max_depth=2, score=0.913043 -   0.0s\n",
      "[CV] min_samples_split=10, max_depth=2 ...............................\n",
      "[CV] ...... min_samples_split=10, max_depth=2, score=0.921739 -   0.0s\n",
      "[CV] min_samples_split=10, max_depth=2 ...............................\n",
      "[CV] ...... min_samples_split=10, max_depth=2, score=0.938053 -   0.0s\n",
      "[CV] min_samples_split=10, max_depth=2 ...............................\n",
      "[CV] ...... min_samples_split=10, max_depth=2, score=0.929204 -   0.0s\n",
      "[CV] min_samples_split=10, max_depth=2 ...............................\n",
      "[CV] ...... min_samples_split=10, max_depth=2, score=0.938053 -   0.0s\n",
      "[CV] min_samples_split=25, max_depth=2 ...............................\n",
      "[CV] ...... min_samples_split=25, max_depth=2, score=0.913043 -   0.0s\n",
      "[CV] min_samples_split=25, max_depth=2 ...............................\n",
      "[CV] ...... min_samples_split=25, max_depth=2, score=0.921739 -   0.0s\n",
      "[CV] min_samples_split=25, max_depth=2 ...............................\n",
      "[CV] ...... min_samples_split=25, max_depth=2, score=0.938053 -   0.0s\n",
      "[CV] min_samples_split=25, max_depth=2 ...............................\n",
      "[CV] ...... min_samples_split=25, max_depth=2, score=0.929204 -   0.0s\n",
      "[CV] min_samples_split=25, max_depth=2 ...............................\n",
      "[CV] ...... min_samples_split=25, max_depth=2, score=0.938053 -   0.0s\n",
      "[CV] min_samples_split=50, max_depth=2 ...............................\n",
      "[CV] ...... min_samples_split=50, max_depth=2, score=0.913043 -   0.0s\n",
      "[CV] min_samples_split=50, max_depth=2 ...............................\n",
      "[CV] ...... min_samples_split=50, max_depth=2, score=0.921739 -   0.0s\n",
      "[CV] min_samples_split=50, max_depth=2 ...............................\n",
      "[CV] ...... min_samples_split=50, max_depth=2, score=0.938053 -   0.0s\n",
      "[CV] min_samples_split=50, max_depth=2 ...............................\n",
      "[CV] ...... min_samples_split=50, max_depth=2, score=0.929204 -   0.0s\n",
      "[CV] min_samples_split=50, max_depth=2 ...............................\n",
      "[CV] ...... min_samples_split=50, max_depth=2, score=0.938053 -   0.0s\n",
      "[CV] min_samples_split=100, max_depth=2 ..............................\n",
      "[CV] ..... min_samples_split=100, max_depth=2, score=0.913043 -   0.0s\n",
      "[CV] min_samples_split=100, max_depth=2 ..............................\n",
      "[CV] ..... min_samples_split=100, max_depth=2, score=0.921739 -   0.0s\n",
      "[CV] min_samples_split=100, max_depth=2 ..............................\n",
      "[CV] ..... min_samples_split=100, max_depth=2, score=0.938053 -   0.0s\n",
      "[CV] min_samples_split=100, max_depth=2 ..............................\n",
      "[CV] ..... min_samples_split=100, max_depth=2, score=0.929204 -   0.0s\n",
      "[CV] min_samples_split=100, max_depth=2 ..............................\n",
      "[CV] ..... min_samples_split=100, max_depth=2, score=0.938053 -   0.0s\n",
      "[CV] min_samples_split=2, max_depth=3 ................................\n",
      "[CV] ....... min_samples_split=2, max_depth=3, score=0.913043 -   0.0s\n",
      "[CV] min_samples_split=2, max_depth=3 ................................\n",
      "[CV] ....... min_samples_split=2, max_depth=3, score=0.930435 -   0.0s\n",
      "[CV] min_samples_split=2, max_depth=3 ................................\n",
      "[CV] ....... min_samples_split=2, max_depth=3, score=0.938053 -   0.0s\n",
      "[CV] min_samples_split=2, max_depth=3 ................................\n",
      "[CV] ....... min_samples_split=2, max_depth=3, score=0.946903 -   0.0s\n",
      "[CV] min_samples_split=2, max_depth=3 ................................\n",
      "[CV] ....... min_samples_split=2, max_depth=3, score=0.893805 -   0.0s\n",
      "[CV] min_samples_split=10, max_depth=3 ...............................\n",
      "[CV] ...... min_samples_split=10, max_depth=3, score=0.913043 -   0.0s\n",
      "[CV] min_samples_split=10, max_depth=3 ...............................\n",
      "[CV] ...... min_samples_split=10, max_depth=3, score=0.895652 -   0.0s\n",
      "[CV] min_samples_split=10, max_depth=3 ...............................\n",
      "[CV] ...... min_samples_split=10, max_depth=3, score=0.929204 -   0.0s\n",
      "[CV] min_samples_split=10, max_depth=3 ...............................\n"
     ]
    },
    {
     "name": "stderr",
     "output_type": "stream",
     "text": [
      "[Parallel(n_jobs=1)]: Done  71 tasks       | elapsed:    0.5s\n",
      "[Parallel(n_jobs=1)]: Done  84 tasks       | elapsed:    0.6s\n",
      "[Parallel(n_jobs=1)]: Done  97 tasks       | elapsed:    0.7s\n"
     ]
    },
    {
     "name": "stdout",
     "output_type": "stream",
     "text": [
      "[CV] ...... min_samples_split=10, max_depth=3, score=0.946903 -   0.0s\n",
      "[CV] min_samples_split=10, max_depth=3 ...............................\n",
      "[CV] ...... min_samples_split=10, max_depth=3, score=0.893805 -   0.0s\n",
      "[CV] min_samples_split=25, max_depth=3 ...............................\n",
      "[CV] ...... min_samples_split=25, max_depth=3, score=0.913043 -   0.0s\n",
      "[CV] min_samples_split=25, max_depth=3 ...............................\n",
      "[CV] ...... min_samples_split=25, max_depth=3, score=0.921739 -   0.0s\n",
      "[CV] min_samples_split=25, max_depth=3 ...............................\n",
      "[CV] ...... min_samples_split=25, max_depth=3, score=0.938053 -   0.0s\n",
      "[CV] min_samples_split=25, max_depth=3 ...............................\n",
      "[CV] ...... min_samples_split=25, max_depth=3, score=0.946903 -   0.0s\n",
      "[CV] min_samples_split=25, max_depth=3 ...............................\n",
      "[CV] ...... min_samples_split=25, max_depth=3, score=0.920354 -   0.0s\n",
      "[CV] min_samples_split=50, max_depth=3 ...............................\n",
      "[CV] ...... min_samples_split=50, max_depth=3, score=0.913043 -   0.0s\n",
      "[CV] min_samples_split=50, max_depth=3 ...............................\n",
      "[CV] ...... min_samples_split=50, max_depth=3, score=0.921739 -   0.0s\n",
      "[CV] min_samples_split=50, max_depth=3 ...............................\n",
      "[CV] ...... min_samples_split=50, max_depth=3, score=0.929204 -   0.0s\n",
      "[CV] min_samples_split=50, max_depth=3 ...............................\n",
      "[CV] ...... min_samples_split=50, max_depth=3, score=0.929204 -   0.0s\n",
      "[CV] min_samples_split=50, max_depth=3 ...............................\n",
      "[CV] ...... min_samples_split=50, max_depth=3, score=0.920354 -   0.0s\n",
      "[CV] min_samples_split=100, max_depth=3 ..............................\n",
      "[CV] ..... min_samples_split=100, max_depth=3, score=0.913043 -   0.0s\n",
      "[CV] min_samples_split=100, max_depth=3 ..............................\n",
      "[CV] ..... min_samples_split=100, max_depth=3, score=0.895652 -   0.0s\n",
      "[CV] min_samples_split=100, max_depth=3 ..............................\n",
      "[CV] ..... min_samples_split=100, max_depth=3, score=0.920354 -   0.0s\n",
      "[CV] min_samples_split=100, max_depth=3 ..............................\n",
      "[CV] ..... min_samples_split=100, max_depth=3, score=0.929204 -   0.0s\n",
      "[CV] min_samples_split=100, max_depth=3 ..............................\n",
      "[CV] ..... min_samples_split=100, max_depth=3, score=0.920354 -   0.0s\n",
      "[CV] min_samples_split=2, max_depth=4 ................................\n",
      "[CV] ....... min_samples_split=2, max_depth=4, score=0.921739 -   0.0s\n",
      "[CV] min_samples_split=2, max_depth=4 ................................\n",
      "[CV] ....... min_samples_split=2, max_depth=4, score=0.895652 -   0.0s\n",
      "[CV] min_samples_split=2, max_depth=4 ................................\n",
      "[CV] ....... min_samples_split=2, max_depth=4, score=0.938053 -   0.0s\n",
      "[CV] min_samples_split=2, max_depth=4 ................................\n",
      "[CV] ....... min_samples_split=2, max_depth=4, score=0.946903 -   0.0s\n",
      "[CV] min_samples_split=2, max_depth=4 ................................\n",
      "[CV] ....... min_samples_split=2, max_depth=4, score=0.902655 -   0.0s\n",
      "[CV] min_samples_split=10, max_depth=4 ...............................\n",
      "[CV] ...... min_samples_split=10, max_depth=4, score=0.921739 -   0.0s\n",
      "[CV] min_samples_split=10, max_depth=4 ...............................\n",
      "[CV] ...... min_samples_split=10, max_depth=4, score=0.895652 -   0.0s\n",
      "[CV] min_samples_split=10, max_depth=4 ...............................\n",
      "[CV] ...... min_samples_split=10, max_depth=4, score=0.929204 -   0.0s\n",
      "[CV] min_samples_split=10, max_depth=4 ...............................\n",
      "[CV] ...... min_samples_split=10, max_depth=4, score=0.929204 -   0.0s\n",
      "[CV] min_samples_split=10, max_depth=4 ...............................\n",
      "[CV] ...... min_samples_split=10, max_depth=4, score=0.902655 -   0.0s\n",
      "[CV] min_samples_split=25, max_depth=4 ...............................\n",
      "[CV] ...... min_samples_split=25, max_depth=4, score=0.913043 -   0.0s\n",
      "[CV] min_samples_split=25, max_depth=4 ...............................\n",
      "[CV] ...... min_samples_split=25, max_depth=4, score=0.921739 -   0.0s\n",
      "[CV] min_samples_split=25, max_depth=4 ...............................\n",
      "[CV] ...... min_samples_split=25, max_depth=4, score=0.938053 -   0.0s\n",
      "[CV] min_samples_split=25, max_depth=4 ...............................\n",
      "[CV] ...... min_samples_split=25, max_depth=4, score=0.946903 -   0.0s\n",
      "[CV] min_samples_split=25, max_depth=4 ...............................\n",
      "[CV] ...... min_samples_split=25, max_depth=4, score=0.920354 -   0.0s\n",
      "[CV] min_samples_split=50, max_depth=4 ...............................\n",
      "[CV] ...... min_samples_split=50, max_depth=4, score=0.913043 -   0.0s\n",
      "[CV] min_samples_split=50, max_depth=4 ...............................\n",
      "[CV] ...... min_samples_split=50, max_depth=4, score=0.895652 -   0.0s\n",
      "[CV] min_samples_split=50, max_depth=4 ...............................\n",
      "[CV] ...... min_samples_split=50, max_depth=4, score=0.929204 -   0.0s\n",
      "[CV] min_samples_split=50, max_depth=4 ...............................\n",
      "[CV] ...... min_samples_split=50, max_depth=4, score=0.929204 -   0.0s\n",
      "[CV] min_samples_split=50, max_depth=4 ...............................\n",
      "[CV] ...... min_samples_split=50, max_depth=4, score=0.920354 -   0.0s\n",
      "[CV] min_samples_split=100, max_depth=4 ..............................\n",
      "[CV] ..... min_samples_split=100, max_depth=4, score=0.913043 -   0.0s\n",
      "[CV] min_samples_split=100, max_depth=4 ..............................\n",
      "[CV] ..... min_samples_split=100, max_depth=4, score=0.921739 -   0.0s\n",
      "[CV] min_samples_split=100, max_depth=4 ..............................\n",
      "[CV] ..... min_samples_split=100, max_depth=4, score=0.929204 -   0.0s\n",
      "[CV] min_samples_split=100, max_depth=4 ..............................\n",
      "[CV] ..... min_samples_split=100, max_depth=4, score=0.929204 -   0.0s\n",
      "[CV] min_samples_split=100, max_depth=4 ..............................\n",
      "[CV] ..... min_samples_split=100, max_depth=4, score=0.911504 -   0.0s\n",
      "[CV] min_samples_split=2, max_depth=5 ................................\n",
      "[CV] ....... min_samples_split=2, max_depth=5, score=0.913043 -   0.0s\n",
      "[CV] min_samples_split=2, max_depth=5 ................................\n",
      "[CV] ....... min_samples_split=2, max_depth=5, score=0.939130 -   0.0s\n",
      "[CV] min_samples_split=2, max_depth=5 ................................\n",
      "[CV] ....... min_samples_split=2, max_depth=5, score=0.920354 -   0.0s\n",
      "[CV] min_samples_split=2, max_depth=5 ................................\n",
      "[CV] ....... min_samples_split=2, max_depth=5, score=0.929204 -   0.0s\n",
      "[CV] min_samples_split=2, max_depth=5 ................................\n",
      "[CV] ....... min_samples_split=2, max_depth=5, score=0.911504 -   0.0s\n",
      "[CV] min_samples_split=10, max_depth=5 ...............................\n",
      "[CV] ...... min_samples_split=10, max_depth=5, score=0.904348 -   0.0s\n",
      "[CV] min_samples_split=10, max_depth=5 ...............................\n",
      "[CV] ...... min_samples_split=10, max_depth=5, score=0.921739 -   0.0s\n",
      "[CV] min_samples_split=10, max_depth=5 ...............................\n",
      "[CV] ...... min_samples_split=10, max_depth=5, score=0.929204 -   0.0s\n",
      "[CV] min_samples_split=10, max_depth=5 ...............................\n",
      "[CV] ...... min_samples_split=10, max_depth=5, score=0.946903 -   0.0s\n",
      "[CV] min_samples_split=10, max_depth=5 ...............................\n",
      "[CV] ...... min_samples_split=10, max_depth=5, score=0.902655 -   0.0s\n",
      "[CV] min_samples_split=25, max_depth=5 ...............................\n",
      "[CV] ...... min_samples_split=25, max_depth=5, score=0.913043 -   0.0s\n",
      "[CV] min_samples_split=25, max_depth=5 ...............................\n",
      "[CV] ...... min_samples_split=25, max_depth=5, score=0.895652 -   0.0s\n",
      "[CV] min_samples_split=25, max_depth=5 ...............................\n"
     ]
    },
    {
     "name": "stderr",
     "output_type": "stream",
     "text": [
      "[Parallel(n_jobs=1)]: Done 112 tasks       | elapsed:    0.8s\n",
      "[Parallel(n_jobs=1)]: Done 127 tasks       | elapsed:    0.9s\n"
     ]
    },
    {
     "name": "stdout",
     "output_type": "stream",
     "text": [
      "[CV] ...... min_samples_split=25, max_depth=5, score=0.938053 -   0.0s\n",
      "[CV] min_samples_split=25, max_depth=5 ...............................\n",
      "[CV] ...... min_samples_split=25, max_depth=5, score=0.946903 -   0.0s\n",
      "[CV] min_samples_split=25, max_depth=5 ...............................\n",
      "[CV] ...... min_samples_split=25, max_depth=5, score=0.920354 -   0.0s\n",
      "[CV] min_samples_split=50, max_depth=5 ...............................\n",
      "[CV] ...... min_samples_split=50, max_depth=5, score=0.913043 -   0.0s\n",
      "[CV] min_samples_split=50, max_depth=5 ...............................\n",
      "[CV] ...... min_samples_split=50, max_depth=5, score=0.895652 -   0.0s\n",
      "[CV] min_samples_split=50, max_depth=5 ...............................\n",
      "[CV] ...... min_samples_split=50, max_depth=5, score=0.920354 -   0.0s\n",
      "[CV] min_samples_split=50, max_depth=5 ...............................\n",
      "[CV] ...... min_samples_split=50, max_depth=5, score=0.929204 -   0.0s\n",
      "[CV] min_samples_split=50, max_depth=5 ...............................\n",
      "[CV] ...... min_samples_split=50, max_depth=5, score=0.920354 -   0.0s\n",
      "[CV] min_samples_split=100, max_depth=5 ..............................\n",
      "[CV] ..... min_samples_split=100, max_depth=5, score=0.913043 -   0.0s\n",
      "[CV] min_samples_split=100, max_depth=5 ..............................\n",
      "[CV] ..... min_samples_split=100, max_depth=5, score=0.921739 -   0.0s\n",
      "[CV] min_samples_split=100, max_depth=5 ..............................\n",
      "[CV] ..... min_samples_split=100, max_depth=5, score=0.929204 -   0.0s\n",
      "[CV] min_samples_split=100, max_depth=5 ..............................\n",
      "[CV] ..... min_samples_split=100, max_depth=5, score=0.929204 -   0.0s\n",
      "[CV] min_samples_split=100, max_depth=5 ..............................\n",
      "[CV] ..... min_samples_split=100, max_depth=5, score=0.920354 -   0.0s\n"
     ]
    },
    {
     "name": "stderr",
     "output_type": "stream",
     "text": [
      "[Parallel(n_jobs=1)]: Done 144 tasks       | elapsed:    1.1s\n",
      "[Parallel(n_jobs=1)]: Done 150 out of 150 | elapsed:    1.1s finished\n"
     ]
    },
    {
     "data": {
      "text/plain": [
       "GridSearchCV(cv=5, error_score='raise',\n",
       "       estimator=DecisionTreeClassifier(class_weight=None, criterion='gini', max_depth=None,\n",
       "            max_features=None, max_leaf_nodes=None, min_samples_leaf=1,\n",
       "            min_samples_split=2, min_weight_fraction_leaf=0.0,\n",
       "            presort=False, random_state=None, splitter='best'),\n",
       "       fit_params={}, iid=True, n_jobs=1,\n",
       "       param_grid={'min_samples_split': [2, 10, 25, 50, 100], 'max_depth': [None, 1, 2, 3, 4, 5]},\n",
       "       pre_dispatch='2*n_jobs', refit=True, scoring=None, verbose=10)"
      ]
     },
     "execution_count": 43,
     "metadata": {},
     "output_type": "execute_result"
    }
   ],
   "source": [
    "from sklearn.grid_search import GridSearchCV\n",
    "\n",
    "decision_tree_classifier = DecisionTreeClassifier()\n",
    "param_grid = {'max_depth': [None, 1, 2, 3, 4, 5],\n",
    "              'min_samples_split': [2, 10, 25, 50, 100],\n",
    "}\n",
    "\n",
    "grid_search_dt = GridSearchCV(decision_tree_classifier, param_grid=param_grid, cv=5, verbose=10)\n",
    "grid_search_dt.fit(X, y)"
   ]
  },
  {
   "cell_type": "code",
   "execution_count": 44,
   "metadata": {
    "collapsed": false
   },
   "outputs": [
    {
     "data": {
      "text/plain": [
       "0.92794376098418274"
      ]
     },
     "execution_count": 44,
     "metadata": {},
     "output_type": "execute_result"
    }
   ],
   "source": [
    "grid_search_dt.best_score_"
   ]
  },
  {
   "cell_type": "code",
   "execution_count": 45,
   "metadata": {
    "collapsed": false
   },
   "outputs": [
    {
     "data": {
      "text/plain": [
       "DecisionTreeClassifier(class_weight=None, criterion='gini', max_depth=2,\n",
       "            max_features=None, max_leaf_nodes=None, min_samples_leaf=1,\n",
       "            min_samples_split=2, min_weight_fraction_leaf=0.0,\n",
       "            presort=False, random_state=None, splitter='best')"
      ]
     },
     "execution_count": 45,
     "metadata": {},
     "output_type": "execute_result"
    }
   ],
   "source": [
    "grid_search_dt.best_estimator_"
   ]
  },
  {
   "cell_type": "code",
   "execution_count": 48,
   "metadata": {
    "collapsed": true
   },
   "outputs": [],
   "source": [
    "bagging = BaggingClassifier(grid_search_dt.best_estimator_)"
   ]
  },
  {
   "cell_type": "code",
   "execution_count": 56,
   "metadata": {
    "collapsed": true
   },
   "outputs": [],
   "source": [
    "param_grid_bagging = { 'n_estimators': [4, 10, 25, 50, 1000],\n",
    "                     'max_samples': [0.25, 0.5, 1.0],\n",
    "                     'max_features': [0.25, 0.5, 0.75, 1.0]\n",
    "                     }\n",
    "\n",
    "grid_search_bagging = GridSearchCV(bagging, param_grid=param_grid_bagging, cv=5, verbose=10, n_jobs=-1)"
   ]
  },
  {
   "cell_type": "code",
   "execution_count": 57,
   "metadata": {
    "collapsed": false
   },
   "outputs": [
    {
     "name": "stdout",
     "output_type": "stream",
     "text": [
      "Fitting 5 folds for each of 60 candidates, totalling 300 fits\n",
      "[CV] max_features=0.25, max_samples=0.25, n_estimators=4 .............\n",
      "[CV] max_features=0.25, max_samples=0.25, n_estimators=4 .............\n",
      "[CV] max_features=0.25, max_samples=0.25, n_estimators=4 .............\n",
      "[CV]  max_features=0.25, max_samples=0.25, n_estimators=4, score=0.939130 -   0.0s\n",
      "[CV] max_features=0.25, max_samples=0.25, n_estimators=4 .............\n",
      "[CV] max_features=0.25, max_samples=0.25, n_estimators=4 .............\n",
      "[CV]  max_features=0.25, max_samples=0.25, n_estimators=4, score=0.973451 -   0.0s\n",
      "[CV]  max_features=0.25, max_samples=0.25, n_estimators=4, score=0.955752 -   0.0s\n",
      "[CV]  max_features=0.25, max_samples=0.25, n_estimators=4, score=0.878261 -   0.0s\n",
      "[CV] max_features=0.25, max_samples=0.25, n_estimators=10 ............\n",
      "[CV] max_features=0.25, max_samples=0.25, n_estimators=10 ............\n",
      "[CV]  max_features=0.25, max_samples=0.25, n_estimators=4, score=0.920354 -   0.0s\n",
      "[CV] max_features=0.25, max_samples=0.25, n_estimators=10 ............\n",
      "[CV]  max_features=0.25, max_samples=0.25, n_estimators=10, score=0.895652 -   0.0s\n",
      "[CV]  max_features=0.25, max_samples=0.25, n_estimators=10, score=0.930435 -   0.0s\n",
      "[CV]  max_features=0.25, max_samples=0.25, n_estimators=10, score=0.955752 -   0.1s\n",
      "[CV] max_features=0.25, max_samples=0.25, n_estimators=10 ............\n",
      "[CV]  max_features=0.25, max_samples=0.25, n_estimators=10, score=0.920354 -   0.0s\n",
      "[CV] max_features=0.25, max_samples=0.25, n_estimators=10 ............\n",
      "[CV] max_features=0.25, max_samples=0.25, n_estimators=50 ............\n",
      "[CV]  max_features=0.25, max_samples=0.25, n_estimators=10, score=0.955752 -   0.0s\n",
      "[CV] max_features=0.25, max_samples=0.25, n_estimators=1000 ..........\n",
      "[CV] max_features=0.25, max_samples=0.25, n_estimators=25 ............\n",
      "[CV] max_features=0.25, max_samples=0.5, n_estimators=10 .............\n"
     ]
    },
    {
     "name": "stderr",
     "output_type": "stream",
     "text": [
      "[Parallel(n_jobs=-1)]: Batch computation too fast (0.0495s.) Setting batch_size=8.\n",
      "[Parallel(n_jobs=-1)]: Done   5 tasks      | elapsed:    0.2s\n"
     ]
    },
    {
     "name": "stdout",
     "output_type": "stream",
     "text": [
      "[CV]  max_features=0.25, max_samples=0.5, n_estimators=10, score=0.982301 -   0.1s\n",
      "[CV]  max_features=0.25, max_samples=0.25, n_estimators=25, score=0.878261 -   0.1s\n",
      "[CV] max_features=0.25, max_samples=0.25, n_estimators=25 ............\n",
      "[CV]  max_features=0.25, max_samples=0.25, n_estimators=50, score=0.930435 -   0.2s\n",
      "[CV] max_features=0.25, max_samples=0.5, n_estimators=10 .............\n",
      "[CV] max_features=0.25, max_samples=0.25, n_estimators=50 ............\n",
      "[CV]  max_features=0.25, max_samples=0.5, n_estimators=10, score=0.955752 -   0.1s\n",
      "[CV] max_features=0.25, max_samples=0.5, n_estimators=10 .............\n",
      "[CV]  max_features=0.25, max_samples=0.25, n_estimators=25, score=0.930435 -   0.1s\n",
      "[CV] max_features=0.25, max_samples=0.25, n_estimators=25 ............\n",
      "[CV]  max_features=0.25, max_samples=0.5, n_estimators=10, score=0.964602 -   0.0s\n",
      "[CV] max_features=0.25, max_samples=0.5, n_estimators=25 .............\n",
      "[CV]  max_features=0.25, max_samples=0.25, n_estimators=50, score=0.982301 -   0.2s\n",
      "[CV] max_features=0.25, max_samples=0.25, n_estimators=50 ............\n",
      "[CV]  max_features=0.25, max_samples=0.25, n_estimators=25, score=0.946903 -   0.1s\n",
      "[CV] max_features=0.25, max_samples=0.25, n_estimators=25 ............\n",
      "[CV]  max_features=0.25, max_samples=0.5, n_estimators=25, score=0.904348 -   0.1s\n",
      "[CV] max_features=0.25, max_samples=0.5, n_estimators=25 .............\n",
      "[CV]  max_features=0.25, max_samples=0.25, n_estimators=25, score=0.955752 -   0.1s\n",
      "[CV]  max_features=0.25, max_samples=0.25, n_estimators=50, score=0.964602 -   0.2s\n",
      "[CV] max_features=0.25, max_samples=0.25, n_estimators=25 ............\n",
      "[CV] max_features=0.25, max_samples=0.25, n_estimators=50 ............\n",
      "[CV]  max_features=0.25, max_samples=0.25, n_estimators=25, score=0.964602 -   0.1s\n",
      "[CV] max_features=0.25, max_samples=0.25, n_estimators=50 ............\n",
      "[CV]  max_features=0.25, max_samples=0.5, n_estimators=25, score=0.930435 -   0.1s\n",
      "[CV] max_features=0.25, max_samples=0.5, n_estimators=25 .............\n",
      "[CV]  max_features=0.25, max_samples=0.25, n_estimators=50, score=0.964602 -   0.1s\n",
      "[CV] max_features=0.25, max_samples=0.25, n_estimators=1000 ..........\n",
      "[CV]  max_features=0.25, max_samples=0.5, n_estimators=25, score=0.964602 -   0.1s\n",
      "[CV] max_features=0.25, max_samples=0.5, n_estimators=25 .............\n",
      "[CV]  max_features=0.25, max_samples=0.5, n_estimators=25, score=0.973451 -   0.1s\n",
      "[CV]  max_features=0.25, max_samples=0.25, n_estimators=50, score=0.921739 -   0.2s\n",
      "[CV] max_features=0.25, max_samples=0.5, n_estimators=25 .............\n",
      "[CV] max_features=0.25, max_samples=0.5, n_estimators=50 .............\n",
      "[CV]  max_features=0.25, max_samples=0.5, n_estimators=25, score=0.955752 -   0.1s\n",
      "[CV] max_features=0.25, max_samples=0.5, n_estimators=1000 ...........\n",
      "[CV]  max_features=0.25, max_samples=0.5, n_estimators=50, score=0.913043 -   0.2s\n",
      "[CV] max_features=0.25, max_samples=0.5, n_estimators=50 .............\n"
     ]
    },
    {
     "name": "stderr",
     "output_type": "stream",
     "text": [
      "[Parallel(n_jobs=-1)]: Done  24 tasks      | elapsed:    1.2s\n"
     ]
    },
    {
     "name": "stdout",
     "output_type": "stream",
     "text": [
      "[CV]  max_features=0.25, max_samples=0.5, n_estimators=50, score=0.939130 -   0.2s\n",
      "[CV] max_features=0.25, max_samples=0.5, n_estimators=50 .............\n",
      "[CV]  max_features=0.25, max_samples=0.5, n_estimators=50, score=0.964602 -   0.2s\n",
      "[CV] max_features=0.25, max_samples=0.5, n_estimators=50 .............\n",
      "[CV]  max_features=0.25, max_samples=0.5, n_estimators=50, score=0.955752 -   0.2s\n",
      "[CV] max_features=0.25, max_samples=0.5, n_estimators=50 .............\n",
      "[CV]  max_features=0.25, max_samples=0.5, n_estimators=50, score=0.964602 -   0.2s\n",
      "[CV] max_features=0.25, max_samples=0.5, n_estimators=1000 ...........\n",
      "[CV]  max_features=0.25, max_samples=0.25, n_estimators=1000, score=0.964602 -   3.2s\n",
      "[CV] max_features=0.25, max_samples=0.5, n_estimators=4 ..............\n",
      "[CV]  max_features=0.25, max_samples=0.5, n_estimators=4, score=0.904348 -   0.0s\n",
      "[CV] max_features=0.25, max_samples=0.5, n_estimators=4 ..............\n",
      "[CV]  max_features=0.25, max_samples=0.5, n_estimators=4, score=0.913043 -   0.0s\n",
      "[CV] max_features=0.25, max_samples=0.5, n_estimators=4 ..............\n",
      "[CV]  max_features=0.25, max_samples=0.5, n_estimators=4, score=0.911504 -   0.0s\n",
      "[CV] max_features=0.25, max_samples=0.5, n_estimators=4 ..............\n",
      "[CV]  max_features=0.25, max_samples=0.5, n_estimators=4, score=0.946903 -   0.0s\n",
      "[CV] max_features=0.25, max_samples=0.5, n_estimators=4 ..............\n",
      "[CV]  max_features=0.25, max_samples=0.5, n_estimators=4, score=0.955752 -   0.0s\n",
      "[CV] max_features=0.25, max_samples=0.5, n_estimators=10 .............\n",
      "[CV]  max_features=0.25, max_samples=0.5, n_estimators=10, score=0.930435 -   0.1s\n",
      "[CV] max_features=0.25, max_samples=0.5, n_estimators=10 .............\n",
      "[CV]  max_features=0.25, max_samples=0.5, n_estimators=10, score=0.930435 -   0.1s\n",
      "[CV] max_features=0.25, max_samples=1.0, n_estimators=10 .............\n",
      "[CV]  max_features=0.25, max_samples=1.0, n_estimators=10, score=0.913043 -   0.1s\n",
      "[CV] max_features=0.25, max_samples=1.0, n_estimators=10 .............\n",
      "[CV]  max_features=0.25, max_samples=1.0, n_estimators=10, score=0.955752 -   0.1s\n",
      "[CV] max_features=0.25, max_samples=1.0, n_estimators=10 .............\n",
      "[CV]  max_features=0.25, max_samples=1.0, n_estimators=10, score=0.964602 -   0.1s\n",
      "[CV] max_features=0.25, max_samples=1.0, n_estimators=10 .............\n",
      "[CV]  max_features=0.25, max_samples=1.0, n_estimators=10, score=0.973451 -   0.0s\n",
      "[CV] max_features=0.25, max_samples=1.0, n_estimators=25 .............\n",
      "[CV]  max_features=0.25, max_samples=0.5, n_estimators=1000, score=0.964602 -   3.0s\n",
      "[CV] max_features=0.25, max_samples=0.5, n_estimators=1000 ...........\n",
      "[CV]  max_features=0.25, max_samples=0.25, n_estimators=1000, score=0.939130 -   3.3s\n",
      "[CV] max_features=0.25, max_samples=0.25, n_estimators=1000 ..........\n",
      "[CV]  max_features=0.25, max_samples=1.0, n_estimators=25, score=0.930435 -   0.1s\n",
      "[CV] max_features=0.25, max_samples=1.0, n_estimators=25 .............\n",
      "[CV]  max_features=0.25, max_samples=1.0, n_estimators=25, score=0.939130 -   0.1s\n",
      "[CV] max_features=0.25, max_samples=1.0, n_estimators=25 .............\n",
      "[CV]  max_features=0.25, max_samples=1.0, n_estimators=25, score=0.955752 -   0.1s\n",
      "[CV] max_features=0.25, max_samples=1.0, n_estimators=25 .............\n",
      "[CV]  max_features=0.25, max_samples=1.0, n_estimators=25, score=0.955752 -   0.1s\n",
      "[CV] max_features=0.25, max_samples=1.0, n_estimators=25 .............\n",
      "[CV]  max_features=0.25, max_samples=1.0, n_estimators=25, score=0.973451 -   0.1s\n",
      "[CV] max_features=0.25, max_samples=1.0, n_estimators=50 .............\n"
     ]
    },
    {
     "name": "stderr",
     "output_type": "stream",
     "text": [
      "[Parallel(n_jobs=-1)]: Batch computation too slow (2.03s.) Setting batch_size=4.\n"
     ]
    },
    {
     "name": "stdout",
     "output_type": "stream",
     "text": [
      "[CV]  max_features=0.25, max_samples=1.0, n_estimators=50, score=0.939130 -   0.2s\n",
      "[CV] max_features=0.25, max_samples=1.0, n_estimators=50 .............\n",
      "[CV]  max_features=0.25, max_samples=0.5, n_estimators=1000, score=0.930435 -   3.2s\n",
      "[CV] max_features=0.25, max_samples=0.5, n_estimators=1000 ...........\n",
      "[CV]  max_features=0.25, max_samples=1.0, n_estimators=50, score=0.939130 -   0.2s\n",
      "[CV] max_features=0.25, max_samples=1.0, n_estimators=50 .............\n",
      "[CV]  max_features=0.25, max_samples=1.0, n_estimators=50, score=0.973451 -   0.2s\n",
      "[CV] max_features=0.25, max_samples=1.0, n_estimators=50 .............\n",
      "[CV]  max_features=0.25, max_samples=1.0, n_estimators=50, score=0.946903 -   0.2s\n",
      "[CV] max_features=0.25, max_samples=1.0, n_estimators=50 .............\n",
      "[CV]  max_features=0.25, max_samples=1.0, n_estimators=50, score=0.955752 -   0.2s\n",
      "[CV] max_features=0.25, max_samples=1.0, n_estimators=1000 ...........\n",
      "[CV]  max_features=0.25, max_samples=0.5, n_estimators=1000, score=0.964602 -   3.0s\n",
      "[CV] max_features=0.25, max_samples=1.0, n_estimators=4 ..............\n",
      "[CV]  max_features=0.25, max_samples=0.25, n_estimators=1000, score=0.939130 -   3.0s\n",
      "[CV]  max_features=0.25, max_samples=1.0, n_estimators=4, score=0.878261 -   0.0s\n",
      "[CV] max_features=0.25, max_samples=1.0, n_estimators=4 ..............\n",
      "[CV] max_features=0.25, max_samples=0.25, n_estimators=1000 ..........\n",
      "[CV]  max_features=0.25, max_samples=1.0, n_estimators=4, score=0.939130 -   0.0s\n",
      "[CV] max_features=0.25, max_samples=1.0, n_estimators=4 ..............\n",
      "[CV]  max_features=0.25, max_samples=1.0, n_estimators=4, score=0.920354 -   0.0s\n",
      "[CV] max_features=0.25, max_samples=1.0, n_estimators=4 ..............\n",
      "[CV]  max_features=0.25, max_samples=1.0, n_estimators=4, score=0.938053 -   0.0s\n",
      "[CV] max_features=0.25, max_samples=1.0, n_estimators=4 ..............\n",
      "[CV]  max_features=0.25, max_samples=1.0, n_estimators=4, score=0.964602 -   0.0s\n",
      "[CV] max_features=0.25, max_samples=1.0, n_estimators=10 .............\n",
      "[CV]  max_features=0.25, max_samples=1.0, n_estimators=10, score=0.921739 -   0.0s\n",
      "[CV] max_features=0.25, max_samples=1.0, n_estimators=1000 ...........\n",
      "[CV]  max_features=0.25, max_samples=0.5, n_estimators=1000, score=0.939130 -   3.0s\n",
      "[CV] max_features=0.25, max_samples=0.5, n_estimators=1000 ...........\n",
      "[CV]  max_features=0.25, max_samples=1.0, n_estimators=1000, score=0.939130 -   3.2s\n",
      "[CV] max_features=0.25, max_samples=1.0, n_estimators=1000 ...........\n",
      "[CV]  max_features=0.25, max_samples=0.25, n_estimators=1000, score=0.973451 -   2.8s\n",
      "[CV] max_features=0.25, max_samples=0.25, n_estimators=1000 ..........\n",
      "[CV]  max_features=0.25, max_samples=1.0, n_estimators=1000, score=0.982301 -   3.1s\n",
      "[CV] max_features=0.25, max_samples=1.0, n_estimators=1000 ...........\n",
      "[CV]  max_features=0.25, max_samples=0.5, n_estimators=1000, score=0.982301 -   2.9s\n",
      "[CV] max_features=0.5, max_samples=0.25, n_estimators=10 .............\n",
      "[CV]  max_features=0.5, max_samples=0.25, n_estimators=10, score=0.904348 -   0.0s\n",
      "[CV] max_features=0.5, max_samples=0.25, n_estimators=10 .............\n",
      "[CV]  max_features=0.5, max_samples=0.25, n_estimators=10, score=0.930435 -   0.1s\n",
      "[CV] max_features=0.5, max_samples=0.25, n_estimators=10 .............\n",
      "[CV]  max_features=0.5, max_samples=0.25, n_estimators=10, score=0.955752 -   0.0s\n",
      "[CV] max_features=0.5, max_samples=0.25, n_estimators=10 .............\n",
      "[CV]  max_features=0.5, max_samples=0.25, n_estimators=10, score=0.964602 -   0.0s\n",
      "[CV] max_features=0.5, max_samples=0.25, n_estimators=10 .............\n",
      "[CV]  max_features=0.5, max_samples=0.25, n_estimators=10, score=0.955752 -   0.0s\n",
      "[CV] max_features=0.5, max_samples=0.25, n_estimators=25 .............\n",
      "[CV]  max_features=0.5, max_samples=0.25, n_estimators=25, score=0.930435 -   0.1s\n",
      "[CV] max_features=0.5, max_samples=0.25, n_estimators=25 .............\n",
      "[CV]  max_features=0.5, max_samples=0.25, n_estimators=25, score=0.939130 -   0.1s\n",
      "[CV] max_features=0.5, max_samples=0.25, n_estimators=25 .............\n",
      "[CV]  max_features=0.5, max_samples=0.25, n_estimators=25, score=0.982301 -   0.1s\n",
      "[CV] max_features=0.5, max_samples=0.25, n_estimators=25 .............\n",
      "[CV]  max_features=0.5, max_samples=0.25, n_estimators=25, score=0.955752 -   0.1s\n",
      "[CV] max_features=0.5, max_samples=0.25, n_estimators=25 .............\n",
      "[CV]  max_features=0.5, max_samples=0.25, n_estimators=25, score=0.955752 -   0.1s\n",
      "[CV] max_features=0.5, max_samples=0.25, n_estimators=50 .............\n",
      "[CV]  max_features=0.5, max_samples=0.25, n_estimators=50, score=0.904348 -   0.2s\n",
      "[CV] max_features=0.5, max_samples=0.25, n_estimators=50 .............\n",
      "[CV]  max_features=0.25, max_samples=1.0, n_estimators=1000, score=0.939130 -   3.3s\n",
      "[CV] max_features=0.5, max_samples=0.25, n_estimators=1000 ...........\n",
      "[CV]  max_features=0.5, max_samples=0.25, n_estimators=50, score=0.939130 -   0.2s\n",
      "[CV] max_features=0.5, max_samples=0.25, n_estimators=50 .............\n",
      "[CV]  max_features=0.5, max_samples=0.25, n_estimators=50, score=0.973451 -   0.2s\n",
      "[CV] max_features=0.5, max_samples=0.25, n_estimators=50 .............\n",
      "[CV]  max_features=0.5, max_samples=0.25, n_estimators=50, score=0.955752 -   0.2s\n",
      "[CV] max_features=0.5, max_samples=0.25, n_estimators=50 .............\n",
      "[CV]  max_features=0.5, max_samples=0.25, n_estimators=50, score=0.964602 -   0.2s\n",
      "[CV] max_features=0.5, max_samples=0.25, n_estimators=1000 ...........\n",
      "[CV]  max_features=0.25, max_samples=0.25, n_estimators=1000, score=0.946903 -   3.0s\n",
      "[CV] max_features=0.5, max_samples=0.5, n_estimators=4 ...............\n",
      "[CV]  max_features=0.5, max_samples=0.5, n_estimators=4, score=0.930435 -   0.0s\n",
      "[CV] max_features=0.5, max_samples=0.5, n_estimators=4 ...............\n",
      "[CV]  max_features=0.5, max_samples=0.5, n_estimators=4, score=0.939130 -   0.0s\n",
      "[CV] max_features=0.5, max_samples=0.5, n_estimators=4 ...............\n",
      "[CV]  max_features=0.5, max_samples=0.5, n_estimators=4, score=0.929204 -   0.0s\n",
      "[CV] max_features=0.5, max_samples=0.5, n_estimators=4 ...............\n",
      "[CV]  max_features=0.5, max_samples=0.5, n_estimators=4, score=0.955752 -   0.0s\n",
      "[CV] max_features=0.5, max_samples=0.5, n_estimators=4 ...............\n",
      "[CV]  max_features=0.5, max_samples=0.5, n_estimators=4, score=0.955752 -   0.0s\n",
      "[CV] max_features=0.5, max_samples=0.5, n_estimators=10 ..............\n",
      "[CV]  max_features=0.5, max_samples=0.5, n_estimators=10, score=0.921739 -   0.0s\n",
      "[CV] max_features=0.5, max_samples=0.5, n_estimators=10 ..............\n"
     ]
    },
    {
     "name": "stderr",
     "output_type": "stream",
     "text": [
      "[Parallel(n_jobs=-1)]: Done  80 tasks      | elapsed:   13.0s\n",
      "[Parallel(n_jobs=-1)]: Batch computation too slow (5.71s.) Setting batch_size=2.\n"
     ]
    },
    {
     "name": "stdout",
     "output_type": "stream",
     "text": [
      "[CV]  max_features=0.5, max_samples=0.5, n_estimators=10, score=0.939130 -   0.0s\n",
      "[CV] max_features=0.5, max_samples=0.5, n_estimators=10 ..............\n",
      "[CV]  max_features=0.5, max_samples=0.5, n_estimators=10, score=0.964602 -   0.0s\n",
      "[CV] max_features=0.5, max_samples=0.5, n_estimators=10 ..............\n",
      "[CV]  max_features=0.5, max_samples=0.5, n_estimators=10, score=0.964602 -   0.0s\n",
      "[CV] max_features=0.5, max_samples=0.5, n_estimators=10 ..............\n",
      "[CV]  max_features=0.5, max_samples=0.5, n_estimators=10, score=0.964602 -   0.0s\n",
      "[CV] max_features=0.5, max_samples=0.5, n_estimators=25 ..............\n",
      "[CV]  max_features=0.5, max_samples=0.5, n_estimators=25, score=0.904348 -   0.1s\n",
      "[CV] max_features=0.5, max_samples=0.5, n_estimators=25 ..............\n",
      "[CV]  max_features=0.5, max_samples=0.5, n_estimators=25, score=0.930435 -   0.1s\n",
      "[CV] max_features=0.5, max_samples=0.5, n_estimators=25 ..............\n",
      "[CV]  max_features=0.5, max_samples=0.5, n_estimators=25, score=0.964602 -   0.1s\n",
      "[CV] max_features=0.5, max_samples=0.5, n_estimators=25 ..............\n",
      "[CV]  max_features=0.5, max_samples=0.5, n_estimators=25, score=0.920354 -   0.1s\n",
      "[CV] max_features=0.5, max_samples=0.5, n_estimators=25 ..............\n",
      "[CV]  max_features=0.5, max_samples=0.5, n_estimators=25, score=0.964602 -   0.1s\n",
      "[CV] max_features=0.5, max_samples=0.5, n_estimators=50 ..............\n",
      "[CV]  max_features=0.5, max_samples=0.5, n_estimators=50, score=0.930435 -   0.2s\n",
      "[CV] max_features=0.5, max_samples=0.5, n_estimators=50 ..............\n",
      "[CV]  max_features=0.25, max_samples=1.0, n_estimators=1000, score=0.964602 -   3.7s\n",
      "[CV] max_features=0.25, max_samples=1.0, n_estimators=1000 ...........\n",
      "[CV]  max_features=0.5, max_samples=0.5, n_estimators=50, score=0.930435 -   0.2s\n",
      "[CV] max_features=0.5, max_samples=0.5, n_estimators=50 ..............\n",
      "[CV]  max_features=0.5, max_samples=0.5, n_estimators=50, score=0.973451 -   0.2s\n",
      "[CV] max_features=0.5, max_samples=0.5, n_estimators=50 ..............\n",
      "[CV]  max_features=0.5, max_samples=0.5, n_estimators=50, score=0.964602 -   0.3s\n",
      "[CV] max_features=0.5, max_samples=0.5, n_estimators=50 ..............\n",
      "[CV]  max_features=0.5, max_samples=0.5, n_estimators=50, score=0.964602 -   0.2s\n",
      "[CV] max_features=0.5, max_samples=0.5, n_estimators=1000 ............\n",
      "[CV]  max_features=0.5, max_samples=0.25, n_estimators=1000, score=0.939130 -   3.7s\n",
      "[CV] max_features=0.5, max_samples=0.25, n_estimators=1000 ...........\n",
      "[CV]  max_features=0.5, max_samples=0.25, n_estimators=1000, score=0.921739 -   3.3s\n",
      "[CV] max_features=0.5, max_samples=0.5, n_estimators=1000 ............\n",
      "[CV]  max_features=0.25, max_samples=1.0, n_estimators=1000, score=0.964602 -   3.3s\n",
      "[CV] max_features=0.5, max_samples=0.25, n_estimators=4 ..............\n",
      "[CV]  max_features=0.5, max_samples=0.25, n_estimators=4, score=0.913043 -   0.0s\n",
      "[CV] max_features=0.5, max_samples=0.25, n_estimators=4 ..............\n",
      "[CV]  max_features=0.5, max_samples=0.25, n_estimators=4, score=0.947826 -   0.0s\n",
      "[CV] max_features=0.5, max_samples=0.25, n_estimators=4 ..............\n",
      "[CV]  max_features=0.5, max_samples=0.25, n_estimators=4, score=0.955752 -   0.0s\n",
      "[CV] max_features=0.5, max_samples=0.25, n_estimators=4 ..............\n",
      "[CV]  max_features=0.5, max_samples=0.25, n_estimators=4, score=0.938053 -   0.0s\n",
      "[CV] max_features=0.5, max_samples=0.25, n_estimators=4 ..............\n",
      "[CV]  max_features=0.5, max_samples=0.25, n_estimators=4, score=0.902655 -   0.0s\n",
      "[CV] max_features=0.5, max_samples=0.5, n_estimators=1000 ............\n"
     ]
    },
    {
     "name": "stderr",
     "output_type": "stream",
     "text": [
      "[Parallel(n_jobs=-1)]: Done 116 tasks      | elapsed:   17.9s\n"
     ]
    },
    {
     "name": "stdout",
     "output_type": "stream",
     "text": [
      "[CV]  max_features=0.5, max_samples=0.5, n_estimators=1000, score=0.921739 -   3.3s\n",
      "[CV] max_features=0.5, max_samples=0.5, n_estimators=1000 ............\n",
      "[CV]  max_features=0.5, max_samples=0.25, n_estimators=1000, score=0.982301 -   3.0s\n",
      "[CV] max_features=0.5, max_samples=0.25, n_estimators=1000 ...........\n",
      "[CV]  max_features=0.5, max_samples=0.5, n_estimators=1000, score=0.982301 -   3.4s\n",
      "[CV] max_features=0.5, max_samples=0.5, n_estimators=1000 ............\n",
      "[CV]  max_features=0.5, max_samples=0.5, n_estimators=1000, score=0.964602 -   3.3s\n",
      "[CV] max_features=0.5, max_samples=1.0, n_estimators=4 ...............\n",
      "[CV]  max_features=0.5, max_samples=1.0, n_estimators=4, score=0.878261 -   0.0s\n",
      "[CV] max_features=0.5, max_samples=1.0, n_estimators=4 ...............\n",
      "[CV]  max_features=0.5, max_samples=1.0, n_estimators=4, score=0.939130 -   0.0s\n",
      "[CV] max_features=0.5, max_samples=1.0, n_estimators=4 ...............\n",
      "[CV]  max_features=0.5, max_samples=1.0, n_estimators=4, score=0.973451 -   0.0s\n",
      "[CV] max_features=0.5, max_samples=1.0, n_estimators=4 ...............\n",
      "[CV]  max_features=0.5, max_samples=1.0, n_estimators=4, score=0.929204 -   0.0s\n",
      "[CV] max_features=0.5, max_samples=1.0, n_estimators=4 ...............\n",
      "[CV]  max_features=0.5, max_samples=1.0, n_estimators=4, score=0.946903 -   0.0s\n",
      "[CV] max_features=0.5, max_samples=1.0, n_estimators=10 ..............\n",
      "[CV]  max_features=0.5, max_samples=1.0, n_estimators=10, score=0.947826 -   0.0s\n",
      "[CV] max_features=0.5, max_samples=1.0, n_estimators=10 ..............\n"
     ]
    },
    {
     "name": "stderr",
     "output_type": "stream",
     "text": [
      "[Parallel(n_jobs=-1)]: Batch computation too slow (7.70s.) Setting batch_size=1.\n"
     ]
    },
    {
     "name": "stdout",
     "output_type": "stream",
     "text": [
      "[CV]  max_features=0.5, max_samples=1.0, n_estimators=10, score=0.921739 -   0.0s\n",
      "[CV] max_features=0.5, max_samples=1.0, n_estimators=10 ..............\n",
      "[CV]  max_features=0.5, max_samples=1.0, n_estimators=10, score=0.973451 -   0.0s\n",
      "[CV] max_features=0.5, max_samples=1.0, n_estimators=10 ..............\n",
      "[CV]  max_features=0.5, max_samples=1.0, n_estimators=10, score=0.955752 -   0.1s\n",
      "[CV] max_features=0.5, max_samples=1.0, n_estimators=10 ..............\n",
      "[CV]  max_features=0.5, max_samples=1.0, n_estimators=10, score=0.964602 -   0.1s\n",
      "[CV] max_features=0.5, max_samples=1.0, n_estimators=25 ..............\n",
      "[CV]  max_features=0.5, max_samples=1.0, n_estimators=25, score=0.904348 -   0.1s\n",
      "[CV] max_features=0.5, max_samples=1.0, n_estimators=25 ..............\n",
      "[CV]  max_features=0.5, max_samples=1.0, n_estimators=25, score=0.921739 -   0.1s\n",
      "[CV] max_features=0.5, max_samples=1.0, n_estimators=25 ..............\n",
      "[CV]  max_features=0.5, max_samples=0.25, n_estimators=1000, score=0.955752 -   3.0s\n",
      "[CV] max_features=0.5, max_samples=0.25, n_estimators=1000 ...........\n",
      "[CV]  max_features=0.5, max_samples=0.5, n_estimators=1000, score=0.930435 -   3.6s\n",
      "[CV] max_features=0.5, max_samples=1.0, n_estimators=25 ..............\n",
      "[CV]  max_features=0.5, max_samples=1.0, n_estimators=25, score=0.973451 -   0.1s\n",
      "[CV] max_features=0.5, max_samples=1.0, n_estimators=25 ..............\n",
      "[CV]  max_features=0.5, max_samples=1.0, n_estimators=25, score=0.964602 -   0.1s\n",
      "[CV] max_features=0.5, max_samples=1.0, n_estimators=50 ..............\n",
      "[CV]  max_features=0.5, max_samples=1.0, n_estimators=25, score=0.955752 -   0.2s\n"
     ]
    },
    {
     "name": "stderr",
     "output_type": "stream",
     "text": [
      "[Parallel(n_jobs=-1)]: Done 131 tasks      | elapsed:   22.1s\n"
     ]
    },
    {
     "name": "stdout",
     "output_type": "stream",
     "text": [
      "[CV] max_features=0.5, max_samples=1.0, n_estimators=50 ..............\n",
      "[CV]  max_features=0.5, max_samples=1.0, n_estimators=50, score=0.930435 -   0.2s\n",
      "[CV] max_features=0.5, max_samples=1.0, n_estimators=50 ..............\n",
      "[CV]  max_features=0.5, max_samples=1.0, n_estimators=50, score=0.939130 -   0.2s\n",
      "[CV] max_features=0.5, max_samples=1.0, n_estimators=50 ..............\n",
      "[CV]  max_features=0.5, max_samples=1.0, n_estimators=50, score=0.964602 -   0.2s\n",
      "[CV] max_features=0.5, max_samples=1.0, n_estimators=50 ..............\n",
      "[CV]  max_features=0.5, max_samples=1.0, n_estimators=50, score=0.964602 -   0.2s\n",
      "[CV] max_features=0.5, max_samples=1.0, n_estimators=1000 ............\n",
      "[CV]  max_features=0.5, max_samples=1.0, n_estimators=50, score=0.964602 -   0.2s\n",
      "[CV] max_features=0.5, max_samples=1.0, n_estimators=1000 ............\n",
      "[CV]  max_features=0.5, max_samples=0.5, n_estimators=1000, score=0.964602 -   3.5s\n",
      "[CV] max_features=0.5, max_samples=1.0, n_estimators=1000 ............\n"
     ]
    },
    {
     "name": "stderr",
     "output_type": "stream",
     "text": [
      "[Parallel(n_jobs=-1)]: Done 141 tasks      | elapsed:   23.2s\n"
     ]
    },
    {
     "name": "stdout",
     "output_type": "stream",
     "text": [
      "[CV]  max_features=0.5, max_samples=0.25, n_estimators=1000, score=0.964602 -   3.1s\n",
      "[CV] max_features=0.5, max_samples=1.0, n_estimators=1000 ............\n",
      "[CV]  max_features=0.5, max_samples=1.0, n_estimators=1000, score=0.921739 -   4.1s\n",
      "[CV] max_features=0.5, max_samples=1.0, n_estimators=1000 ............\n",
      "[CV]  max_features=0.5, max_samples=1.0, n_estimators=1000, score=0.930435 -   3.9s\n",
      "[CV] max_features=0.75, max_samples=0.25, n_estimators=4 .............\n",
      "[CV]  max_features=0.75, max_samples=0.25, n_estimators=4, score=0.886957 -   0.0s\n",
      "[CV] max_features=0.75, max_samples=0.25, n_estimators=4 .............\n",
      "[CV]  max_features=0.75, max_samples=0.25, n_estimators=4, score=0.930435 -   0.0s\n",
      "[CV] max_features=0.75, max_samples=0.25, n_estimators=4 .............\n",
      "[CV]  max_features=0.75, max_samples=0.25, n_estimators=4, score=0.946903 -   0.0s\n",
      "[CV] max_features=0.75, max_samples=0.25, n_estimators=4 .............\n",
      "[CV]  max_features=0.75, max_samples=0.25, n_estimators=4, score=0.946903 -   0.0s\n",
      "[CV] max_features=0.75, max_samples=0.25, n_estimators=4 .............\n",
      "[CV]  max_features=0.75, max_samples=0.25, n_estimators=4, score=0.955752 -   0.0s\n",
      "[CV] max_features=0.75, max_samples=0.25, n_estimators=10 ............\n",
      "[CV]  max_features=0.75, max_samples=0.25, n_estimators=10, score=0.904348 -   0.1s\n",
      "[CV] max_features=0.75, max_samples=0.25, n_estimators=10 ............\n",
      "[CV]  max_features=0.75, max_samples=0.25, n_estimators=10, score=0.930435 -   0.1s\n",
      "[CV] max_features=0.75, max_samples=0.25, n_estimators=10 ............\n",
      "[CV]  max_features=0.75, max_samples=0.25, n_estimators=10, score=0.938053 -   0.1s\n",
      "[CV] max_features=0.75, max_samples=0.25, n_estimators=10 ............\n",
      "[CV]  max_features=0.75, max_samples=0.25, n_estimators=10, score=0.964602 -   0.0s\n",
      "[CV] max_features=0.75, max_samples=0.25, n_estimators=10 ............\n",
      "[CV]  max_features=0.75, max_samples=0.25, n_estimators=10, score=0.929204 -   0.1s\n",
      "[CV] max_features=0.75, max_samples=0.25, n_estimators=25 ............\n"
     ]
    },
    {
     "name": "stderr",
     "output_type": "stream",
     "text": [
      "[Parallel(n_jobs=-1)]: Done 155 tasks      | elapsed:   27.5s\n"
     ]
    },
    {
     "name": "stdout",
     "output_type": "stream",
     "text": [
      "[CV]  max_features=0.75, max_samples=0.25, n_estimators=25, score=0.930435 -   0.1s\n",
      "[CV] max_features=0.75, max_samples=0.25, n_estimators=25 ............\n",
      "[CV]  max_features=0.5, max_samples=1.0, n_estimators=1000, score=0.982301 -   4.6s\n",
      "[CV] max_features=0.75, max_samples=0.25, n_estimators=25 ............\n",
      "[CV]  max_features=0.75, max_samples=0.25, n_estimators=25, score=0.939130 -   0.1s\n",
      "[CV] max_features=0.75, max_samples=0.25, n_estimators=25 ............\n",
      "[CV]  max_features=0.75, max_samples=0.25, n_estimators=25, score=0.955752 -   0.1s\n",
      "[CV] max_features=0.75, max_samples=0.25, n_estimators=25 ............\n",
      "[CV]  max_features=0.75, max_samples=0.25, n_estimators=25, score=0.973451 -   0.1s\n",
      "[CV] max_features=0.75, max_samples=0.25, n_estimators=50 ............\n",
      "[CV]  max_features=0.75, max_samples=0.25, n_estimators=25, score=0.955752 -   0.1s\n",
      "[CV] max_features=0.75, max_samples=0.25, n_estimators=50 ............\n",
      "[CV]  max_features=0.75, max_samples=0.25, n_estimators=50, score=0.939130 -   0.2s\n",
      "[CV] max_features=0.75, max_samples=0.25, n_estimators=50 ............\n",
      "[CV]  max_features=0.75, max_samples=0.25, n_estimators=50, score=0.921739 -   0.2s\n",
      "[CV] max_features=0.75, max_samples=0.25, n_estimators=50 ............\n",
      "[CV]  max_features=0.75, max_samples=0.25, n_estimators=50, score=0.973451 -   0.2s\n",
      "[CV] max_features=0.75, max_samples=0.25, n_estimators=50 ............\n",
      "[CV]  max_features=0.75, max_samples=0.25, n_estimators=50, score=0.964602 -   0.2s\n",
      "[CV] max_features=0.75, max_samples=0.25, n_estimators=1000 ..........\n",
      "[CV]  max_features=0.75, max_samples=0.25, n_estimators=50, score=0.955752 -   0.2s\n",
      "[CV] max_features=0.75, max_samples=0.25, n_estimators=1000 ..........\n"
     ]
    },
    {
     "name": "stderr",
     "output_type": "stream",
     "text": [
      "[Parallel(n_jobs=-1)]: Done 166 tasks      | elapsed:   28.4s\n"
     ]
    },
    {
     "name": "stdout",
     "output_type": "stream",
     "text": [
      "[CV]  max_features=0.5, max_samples=1.0, n_estimators=1000, score=0.964602 -   4.3s\n",
      "[CV] max_features=0.75, max_samples=0.25, n_estimators=1000 ..........\n",
      "[CV]  max_features=0.5, max_samples=1.0, n_estimators=1000, score=0.964602 -   4.5s\n",
      "[CV] max_features=0.75, max_samples=0.25, n_estimators=1000 ..........\n",
      "[CV]  max_features=0.75, max_samples=0.25, n_estimators=1000, score=0.947826 -   3.3s\n",
      "[CV] max_features=0.75, max_samples=0.25, n_estimators=1000 ..........\n",
      "[CV]  max_features=0.75, max_samples=0.25, n_estimators=1000, score=0.913043 -   3.5s\n",
      "[CV] max_features=0.75, max_samples=0.5, n_estimators=4 ..............\n",
      "[CV]  max_features=0.75, max_samples=0.5, n_estimators=4, score=0.930435 -   0.0s\n",
      "[CV] max_features=0.75, max_samples=0.5, n_estimators=4 ..............\n",
      "[CV]  max_features=0.75, max_samples=0.5, n_estimators=4, score=0.939130 -   0.0s\n",
      "[CV] max_features=0.75, max_samples=0.5, n_estimators=4 ..............\n",
      "[CV]  max_features=0.75, max_samples=0.5, n_estimators=4, score=0.946903 -   0.0s\n",
      "[CV] max_features=0.75, max_samples=0.5, n_estimators=4 ..............\n",
      "[CV]  max_features=0.75, max_samples=0.5, n_estimators=4, score=0.955752 -   0.0s\n",
      "[CV] max_features=0.75, max_samples=0.5, n_estimators=4 ..............\n",
      "[CV]  max_features=0.75, max_samples=0.5, n_estimators=4, score=0.938053 -   0.0s\n",
      "[CV] max_features=0.75, max_samples=0.5, n_estimators=10 .............\n",
      "[CV]  max_features=0.75, max_samples=0.5, n_estimators=10, score=0.913043 -   0.1s\n",
      "[CV] max_features=0.75, max_samples=0.5, n_estimators=10 .............\n",
      "[CV]  max_features=0.75, max_samples=0.5, n_estimators=10, score=0.939130 -   0.1s\n",
      "[CV] max_features=0.75, max_samples=0.5, n_estimators=10 .............\n",
      "[CV]  max_features=0.75, max_samples=0.5, n_estimators=10, score=0.973451 -   0.1s\n",
      "[CV] max_features=0.75, max_samples=0.5, n_estimators=10 .............\n",
      "[CV]  max_features=0.75, max_samples=0.5, n_estimators=10, score=0.938053 -   0.1s\n",
      "[CV] max_features=0.75, max_samples=0.5, n_estimators=10 .............\n"
     ]
    },
    {
     "name": "stderr",
     "output_type": "stream",
     "text": [
      "[Parallel(n_jobs=-1)]: Done 179 tasks      | elapsed:   32.4s\n"
     ]
    },
    {
     "name": "stdout",
     "output_type": "stream",
     "text": [
      "[CV]  max_features=0.75, max_samples=0.5, n_estimators=10, score=0.964602 -   0.1s\n",
      "[CV] max_features=0.75, max_samples=0.5, n_estimators=25 .............\n",
      "[CV]  max_features=0.75, max_samples=0.5, n_estimators=25, score=0.913043 -   0.1s\n",
      "[CV] max_features=0.75, max_samples=0.5, n_estimators=25 .............\n",
      "[CV]  max_features=0.75, max_samples=0.5, n_estimators=25, score=0.947826 -   0.1s\n",
      "[CV] max_features=0.75, max_samples=0.5, n_estimators=25 .............\n",
      "[CV]  max_features=0.75, max_samples=0.5, n_estimators=25, score=0.982301 -   0.1s\n",
      "[CV] max_features=0.75, max_samples=0.5, n_estimators=25 .............\n",
      "[CV]  max_features=0.75, max_samples=0.25, n_estimators=1000, score=0.982301 -   3.7s\n",
      "[CV]  max_features=0.75, max_samples=0.5, n_estimators=25, score=0.955752 -   0.1s\n",
      "[CV] max_features=0.75, max_samples=0.5, n_estimators=25 .............\n",
      "[CV] max_features=0.75, max_samples=0.5, n_estimators=50 .............\n",
      "[CV]  max_features=0.75, max_samples=0.5, n_estimators=25, score=0.964602 -   0.1s\n",
      "[CV] max_features=0.75, max_samples=0.5, n_estimators=50 .............\n",
      "[CV]  max_features=0.75, max_samples=0.5, n_estimators=50, score=0.913043 -   0.3s\n",
      "[CV] max_features=0.75, max_samples=0.5, n_estimators=50 .............\n",
      "[CV]  max_features=0.75, max_samples=0.5, n_estimators=50, score=0.930435 -   0.2s\n",
      "[CV] max_features=0.75, max_samples=0.5, n_estimators=50 .............\n",
      "[CV]  max_features=0.75, max_samples=0.5, n_estimators=50, score=0.982301 -   0.2s\n",
      "[CV] max_features=0.75, max_samples=0.5, n_estimators=50 .............\n",
      "[CV]  max_features=0.75, max_samples=0.5, n_estimators=50, score=0.964602 -   0.2s\n",
      "[CV] max_features=0.75, max_samples=0.5, n_estimators=1000 ...........\n",
      "[CV]  max_features=0.75, max_samples=0.5, n_estimators=50, score=0.946903 -   0.2s\n",
      "[CV] max_features=0.75, max_samples=0.5, n_estimators=1000 ...........\n"
     ]
    },
    {
     "name": "stderr",
     "output_type": "stream",
     "text": [
      "[Parallel(n_jobs=-1)]: Done 192 tasks      | elapsed:   33.9s\n"
     ]
    },
    {
     "name": "stdout",
     "output_type": "stream",
     "text": [
      "[CV]  max_features=0.75, max_samples=0.25, n_estimators=1000, score=0.955752 -   3.6s\n",
      "[CV] max_features=0.75, max_samples=0.5, n_estimators=1000 ...........\n",
      "[CV]  max_features=0.75, max_samples=0.25, n_estimators=1000, score=0.964602 -   3.7s\n",
      "[CV] max_features=0.75, max_samples=0.5, n_estimators=1000 ...........\n",
      "[CV]  max_features=0.75, max_samples=0.5, n_estimators=1000, score=0.939130 -   3.6s\n",
      "[CV] max_features=0.75, max_samples=0.5, n_estimators=1000 ...........\n",
      "[CV]  max_features=0.75, max_samples=0.5, n_estimators=1000, score=0.913043 -   3.8s\n",
      "[CV] max_features=0.75, max_samples=1.0, n_estimators=4 ..............\n",
      "[CV]  max_features=0.75, max_samples=1.0, n_estimators=4, score=0.913043 -   0.0s\n",
      "[CV] max_features=0.75, max_samples=1.0, n_estimators=4 ..............\n",
      "[CV]  max_features=0.75, max_samples=1.0, n_estimators=4, score=0.921739 -   0.0s\n",
      "[CV] max_features=0.75, max_samples=1.0, n_estimators=4 ..............\n",
      "[CV]  max_features=0.75, max_samples=1.0, n_estimators=4, score=0.946903 -   0.0s\n",
      "[CV] max_features=0.75, max_samples=1.0, n_estimators=4 ..............\n",
      "[CV]  max_features=0.75, max_samples=1.0, n_estimators=4, score=0.964602 -   0.0s\n",
      "[CV] max_features=0.75, max_samples=1.0, n_estimators=4 ..............\n",
      "[CV]  max_features=0.75, max_samples=1.0, n_estimators=4, score=0.964602 -   0.0s\n",
      "[CV] max_features=0.75, max_samples=1.0, n_estimators=10 .............\n",
      "[CV]  max_features=0.75, max_samples=1.0, n_estimators=10, score=0.904348 -   0.1s\n",
      "[CV] max_features=0.75, max_samples=1.0, n_estimators=10 .............\n",
      "[CV]  max_features=0.75, max_samples=1.0, n_estimators=10, score=0.947826 -   0.1s\n",
      "[CV] max_features=0.75, max_samples=1.0, n_estimators=10 .............\n",
      "[CV]  max_features=0.75, max_samples=1.0, n_estimators=10, score=0.982301 -   0.1s\n",
      "[CV] max_features=0.75, max_samples=1.0, n_estimators=10 .............\n",
      "[CV]  max_features=0.75, max_samples=1.0, n_estimators=10, score=0.938053 -   0.1s\n",
      "[CV] max_features=0.75, max_samples=1.0, n_estimators=10 .............\n",
      "[CV]  max_features=0.75, max_samples=1.0, n_estimators=10, score=0.964602 -   0.1s\n",
      "[CV] max_features=0.75, max_samples=1.0, n_estimators=25 .............\n",
      "[CV]  max_features=0.75, max_samples=1.0, n_estimators=25, score=0.930435 -   0.1s\n",
      "[CV] max_features=0.75, max_samples=1.0, n_estimators=25 .............\n"
     ]
    },
    {
     "name": "stderr",
     "output_type": "stream",
     "text": [
      "[Parallel(n_jobs=-1)]: Done 207 tasks      | elapsed:   38.3s\n"
     ]
    },
    {
     "name": "stdout",
     "output_type": "stream",
     "text": [
      "[CV]  max_features=0.75, max_samples=1.0, n_estimators=25, score=0.930435 -   0.1s\n",
      "[CV] max_features=0.75, max_samples=1.0, n_estimators=25 .............\n",
      "[CV]  max_features=0.75, max_samples=1.0, n_estimators=25, score=0.964602 -   0.1s\n",
      "[CV] max_features=0.75, max_samples=1.0, n_estimators=25 .............\n",
      "[CV]  max_features=0.75, max_samples=0.5, n_estimators=1000, score=0.982301 -   3.7s\n",
      "[CV] max_features=0.75, max_samples=1.0, n_estimators=25 .............\n",
      "[CV]  max_features=0.75, max_samples=1.0, n_estimators=25, score=0.955752 -   0.2s\n",
      "[CV] max_features=0.75, max_samples=1.0, n_estimators=50 .............\n",
      "[CV]  max_features=0.75, max_samples=1.0, n_estimators=25, score=0.964602 -   0.1s\n",
      "[CV] max_features=0.75, max_samples=1.0, n_estimators=50 .............\n",
      "[CV]  max_features=0.75, max_samples=1.0, n_estimators=50, score=0.930435 -   0.3s\n",
      "[CV] max_features=0.75, max_samples=1.0, n_estimators=50 .............\n",
      "[CV]  max_features=0.75, max_samples=1.0, n_estimators=50, score=0.939130 -   0.3s\n",
      "[CV] max_features=0.75, max_samples=1.0, n_estimators=50 .............\n",
      "[CV]  max_features=0.75, max_samples=1.0, n_estimators=50, score=0.982301 -   0.2s\n",
      "[CV] max_features=0.75, max_samples=1.0, n_estimators=50 .............\n",
      "[CV]  max_features=0.75, max_samples=1.0, n_estimators=50, score=0.955752 -   0.2s\n",
      "[CV]  max_features=0.75, max_samples=0.5, n_estimators=1000, score=0.964602 -   4.0s\n",
      "[CV] max_features=0.75, max_samples=1.0, n_estimators=1000 ...........\n",
      "[CV] max_features=0.75, max_samples=1.0, n_estimators=1000 ...........\n",
      "[CV]  max_features=0.75, max_samples=1.0, n_estimators=50, score=0.964602 -   0.3s\n",
      "[CV] max_features=0.75, max_samples=1.0, n_estimators=1000 ...........\n",
      "[CV]  max_features=0.75, max_samples=0.5, n_estimators=1000, score=0.964602 -   4.0s\n",
      "[CV] max_features=0.75, max_samples=1.0, n_estimators=1000 ...........\n",
      "[CV]  max_features=0.75, max_samples=1.0, n_estimators=1000, score=0.939130 -   4.2s\n",
      "[CV] max_features=0.75, max_samples=1.0, n_estimators=1000 ...........\n",
      "[CV]  max_features=0.75, max_samples=1.0, n_estimators=1000, score=0.913043 -   4.3s\n",
      "[CV] max_features=1.0, max_samples=0.25, n_estimators=4 ..............\n",
      "[CV]  max_features=1.0, max_samples=0.25, n_estimators=4, score=0.913043 -   0.0s\n",
      "[CV] max_features=1.0, max_samples=0.25, n_estimators=4 ..............\n",
      "[CV]  max_features=1.0, max_samples=0.25, n_estimators=4, score=0.921739 -   0.0s\n",
      "[CV] max_features=1.0, max_samples=0.25, n_estimators=4 ..............\n",
      "[CV]  max_features=1.0, max_samples=0.25, n_estimators=4, score=0.955752 -   0.0s\n",
      "[CV] max_features=1.0, max_samples=0.25, n_estimators=4 ..............\n",
      "[CV]  max_features=0.75, max_samples=1.0, n_estimators=1000, score=0.982301 -   4.3s\n",
      "[CV]  max_features=1.0, max_samples=0.25, n_estimators=4, score=0.938053 -   0.1s\n",
      "[CV] max_features=1.0, max_samples=0.25, n_estimators=4 ..............\n",
      "[CV] max_features=1.0, max_samples=0.25, n_estimators=10 .............\n",
      "[CV]  max_features=1.0, max_samples=0.25, n_estimators=4, score=0.929204 -   0.0s\n"
     ]
    },
    {
     "name": "stderr",
     "output_type": "stream",
     "text": [
      "[Parallel(n_jobs=-1)]: Done 222 tasks      | elapsed:   43.9s\n"
     ]
    },
    {
     "name": "stdout",
     "output_type": "stream",
     "text": [
      "[CV] max_features=1.0, max_samples=0.25, n_estimators=10 .............\n",
      "[CV]  max_features=1.0, max_samples=0.25, n_estimators=10, score=0.930435 -   0.0s\n",
      "[CV] max_features=1.0, max_samples=0.25, n_estimators=10 .............\n",
      "[CV]  max_features=1.0, max_samples=0.25, n_estimators=10, score=0.938053 -   0.0s\n",
      "[CV]  max_features=1.0, max_samples=0.25, n_estimators=10, score=0.939130 -   0.1s\n",
      "[CV] max_features=1.0, max_samples=0.25, n_estimators=10 .............\n",
      "[CV] max_features=1.0, max_samples=0.25, n_estimators=10 .............\n",
      "[CV]  max_features=1.0, max_samples=0.25, n_estimators=10, score=0.946903 -   0.1s\n",
      "[CV] max_features=1.0, max_samples=0.25, n_estimators=25 .............\n",
      "[CV]  max_features=1.0, max_samples=0.25, n_estimators=10, score=0.946903 -   0.1s\n",
      "[CV] max_features=1.0, max_samples=0.25, n_estimators=25 .............\n",
      "[CV]  max_features=1.0, max_samples=0.25, n_estimators=25, score=0.921739 -   0.1s\n",
      "[CV] max_features=1.0, max_samples=0.25, n_estimators=25 .............\n",
      "[CV]  max_features=1.0, max_samples=0.25, n_estimators=25, score=0.930435 -   0.1s\n",
      "[CV] max_features=1.0, max_samples=0.25, n_estimators=25 .............\n",
      "[CV]  max_features=1.0, max_samples=0.25, n_estimators=25, score=0.964602 -   0.1s\n",
      "[CV] max_features=1.0, max_samples=0.25, n_estimators=25 .............\n",
      "[CV]  max_features=1.0, max_samples=0.25, n_estimators=25, score=0.955752 -   0.1s\n",
      "[CV] max_features=1.0, max_samples=0.25, n_estimators=50 .............\n",
      "[CV]  max_features=1.0, max_samples=0.25, n_estimators=25, score=0.973451 -   0.1s\n",
      "[CV] max_features=1.0, max_samples=0.25, n_estimators=50 .............\n",
      "[CV]  max_features=1.0, max_samples=0.25, n_estimators=50, score=0.895652 -   0.2s\n",
      "[CV] max_features=1.0, max_samples=0.25, n_estimators=50 .............\n",
      "[CV]  max_features=1.0, max_samples=0.25, n_estimators=50, score=0.930435 -   0.2s\n",
      "[CV] max_features=1.0, max_samples=0.25, n_estimators=50 .............\n"
     ]
    },
    {
     "name": "stderr",
     "output_type": "stream",
     "text": [
      "[Parallel(n_jobs=-1)]: Done 239 tasks      | elapsed:   44.8s\n"
     ]
    },
    {
     "name": "stdout",
     "output_type": "stream",
     "text": [
      "[CV]  max_features=1.0, max_samples=0.25, n_estimators=50, score=0.982301 -   0.2s\n",
      "[CV] max_features=1.0, max_samples=0.25, n_estimators=50 .............\n",
      "[CV]  max_features=1.0, max_samples=0.25, n_estimators=50, score=0.955752 -   0.2s\n",
      "[CV] max_features=1.0, max_samples=0.25, n_estimators=1000 ...........\n",
      "[CV]  max_features=1.0, max_samples=0.25, n_estimators=50, score=0.964602 -   0.2s\n",
      "[CV] max_features=1.0, max_samples=0.25, n_estimators=1000 ...........\n",
      "[CV]  max_features=0.75, max_samples=1.0, n_estimators=1000, score=0.964602 -   4.5s\n",
      "[CV] max_features=1.0, max_samples=0.25, n_estimators=1000 ...........\n",
      "[CV]  max_features=1.0, max_samples=0.25, n_estimators=1000, score=0.904348 -   3.2s\n",
      "[CV] max_features=1.0, max_samples=0.25, n_estimators=1000 ...........\n",
      "[CV]  max_features=0.75, max_samples=1.0, n_estimators=1000, score=0.964602 -   4.6s\n",
      "[CV] max_features=1.0, max_samples=0.25, n_estimators=1000 ...........\n",
      "[CV]  max_features=1.0, max_samples=0.25, n_estimators=1000, score=0.947826 -   3.2s\n",
      "[CV] max_features=1.0, max_samples=0.5, n_estimators=4 ...............\n",
      "[CV]  max_features=1.0, max_samples=0.5, n_estimators=4, score=0.904348 -   0.0s\n",
      "[CV] max_features=1.0, max_samples=0.5, n_estimators=4 ...............\n",
      "[CV]  max_features=1.0, max_samples=0.5, n_estimators=4, score=0.947826 -   0.0s\n",
      "[CV] max_features=1.0, max_samples=0.5, n_estimators=4 ...............\n",
      "[CV]  max_features=1.0, max_samples=0.5, n_estimators=4, score=0.955752 -   0.0s\n",
      "[CV] max_features=1.0, max_samples=0.5, n_estimators=4 ...............\n",
      "[CV]  max_features=1.0, max_samples=0.5, n_estimators=4, score=0.938053 -   0.0s\n",
      "[CV] max_features=1.0, max_samples=0.5, n_estimators=4 ...............\n",
      "[CV]  max_features=1.0, max_samples=0.5, n_estimators=4, score=0.902655 -   0.0s\n",
      "[CV] max_features=1.0, max_samples=0.5, n_estimators=10 ..............\n",
      "[CV]  max_features=1.0, max_samples=0.5, n_estimators=10, score=0.904348 -   0.0s\n",
      "[CV] max_features=1.0, max_samples=0.5, n_estimators=10 ..............\n",
      "[CV]  max_features=1.0, max_samples=0.5, n_estimators=10, score=0.939130 -   0.0s\n",
      "[CV] max_features=1.0, max_samples=0.5, n_estimators=10 ..............\n",
      "[CV]  max_features=1.0, max_samples=0.5, n_estimators=10, score=0.946903 -   0.0s\n",
      "[CV] max_features=1.0, max_samples=0.5, n_estimators=10 ..............\n",
      "[CV]  max_features=1.0, max_samples=0.5, n_estimators=10, score=0.946903 -   0.1s\n",
      "[CV] max_features=1.0, max_samples=0.5, n_estimators=10 ..............\n",
      "[CV]  max_features=1.0, max_samples=0.5, n_estimators=10, score=0.955752 -   0.0s\n",
      "[CV] max_features=1.0, max_samples=0.5, n_estimators=25 ..............\n",
      "[CV]  max_features=1.0, max_samples=0.5, n_estimators=25, score=0.913043 -   0.1s\n",
      "[CV] max_features=1.0, max_samples=0.5, n_estimators=25 ..............\n"
     ]
    },
    {
     "name": "stderr",
     "output_type": "stream",
     "text": [
      "[Parallel(n_jobs=-1)]: Done 256 tasks      | elapsed:   49.0s\n"
     ]
    },
    {
     "name": "stdout",
     "output_type": "stream",
     "text": [
      "[CV]  max_features=1.0, max_samples=0.5, n_estimators=25, score=0.947826 -   0.1s\n",
      "[CV] max_features=1.0, max_samples=0.5, n_estimators=25 ..............\n",
      "[CV]  max_features=1.0, max_samples=0.5, n_estimators=25, score=0.964602 -   0.2s\n",
      "[CV] max_features=1.0, max_samples=0.5, n_estimators=25 ..............\n",
      "[CV]  max_features=1.0, max_samples=0.5, n_estimators=25, score=0.955752 -   0.1s\n",
      "[CV] max_features=1.0, max_samples=0.5, n_estimators=25 ..............\n",
      "[CV]  max_features=1.0, max_samples=0.25, n_estimators=1000, score=0.982301 -   3.4s\n",
      "[CV] max_features=1.0, max_samples=0.5, n_estimators=50 ..............\n",
      "[CV]  max_features=1.0, max_samples=0.5, n_estimators=25, score=0.955752 -   0.2s\n",
      "[CV] max_features=1.0, max_samples=0.5, n_estimators=50 ..............\n",
      "[CV]  max_features=1.0, max_samples=0.5, n_estimators=50, score=0.895652 -   0.2s\n",
      "[CV] max_features=1.0, max_samples=0.5, n_estimators=50 ..............\n",
      "[CV]  max_features=1.0, max_samples=0.5, n_estimators=50, score=0.939130 -   0.3s\n",
      "[CV] max_features=1.0, max_samples=0.5, n_estimators=50 ..............\n",
      "[CV]  max_features=1.0, max_samples=0.5, n_estimators=50, score=0.973451 -   0.2s\n",
      "[CV] max_features=1.0, max_samples=0.5, n_estimators=50 ..............\n",
      "[CV]  max_features=1.0, max_samples=0.5, n_estimators=50, score=0.964602 -   0.3s\n",
      "[CV] max_features=1.0, max_samples=0.5, n_estimators=1000 ............\n",
      "[CV]  max_features=1.0, max_samples=0.5, n_estimators=50, score=0.964602 -   0.2s\n",
      "[CV] max_features=1.0, max_samples=0.5, n_estimators=1000 ............\n",
      "[CV]  max_features=1.0, max_samples=0.25, n_estimators=1000, score=0.964602 -   4.4s\n",
      "[CV] max_features=1.0, max_samples=0.5, n_estimators=1000 ............\n",
      "[CV]  max_features=1.0, max_samples=0.25, n_estimators=1000, score=0.964602 -   4.2s\n",
      "[CV] max_features=1.0, max_samples=0.5, n_estimators=1000 ............\n",
      "[CV]  max_features=1.0, max_samples=0.5, n_estimators=1000, score=0.913043 -   4.2s\n",
      "[CV] max_features=1.0, max_samples=0.5, n_estimators=1000 ............\n",
      "[CV]  max_features=1.0, max_samples=0.5, n_estimators=1000, score=0.947826 -   4.1s\n",
      "[CV] max_features=1.0, max_samples=1.0, n_estimators=4 ...............\n",
      "[CV]  max_features=1.0, max_samples=1.0, n_estimators=4, score=0.913043 -   0.0s\n",
      "[CV] max_features=1.0, max_samples=1.0, n_estimators=4 ...............\n",
      "[CV]  max_features=1.0, max_samples=1.0, n_estimators=4, score=0.939130 -   0.0s\n",
      "[CV] max_features=1.0, max_samples=1.0, n_estimators=4 ...............\n",
      "[CV]  max_features=1.0, max_samples=1.0, n_estimators=4, score=0.973451 -   0.0s\n",
      "[CV] max_features=1.0, max_samples=1.0, n_estimators=4 ...............\n",
      "[CV]  max_features=1.0, max_samples=1.0, n_estimators=4, score=0.920354 -   0.0s\n",
      "[CV] max_features=1.0, max_samples=1.0, n_estimators=4 ...............\n",
      "[CV]  max_features=1.0, max_samples=1.0, n_estimators=4, score=0.929204 -   0.0s\n",
      "[CV] max_features=1.0, max_samples=1.0, n_estimators=10 ..............\n",
      "[CV]  max_features=1.0, max_samples=1.0, n_estimators=10, score=0.913043 -   0.1s\n",
      "[CV] max_features=1.0, max_samples=1.0, n_estimators=10 ..............\n"
     ]
    },
    {
     "name": "stderr",
     "output_type": "stream",
     "text": [
      "[Parallel(n_jobs=-1)]: Done 275 tasks      | elapsed:   54.9s\n"
     ]
    },
    {
     "name": "stdout",
     "output_type": "stream",
     "text": [
      "[CV]  max_features=1.0, max_samples=1.0, n_estimators=10, score=0.930435 -   0.1s\n",
      "[CV] max_features=1.0, max_samples=1.0, n_estimators=10 ..............\n",
      "[CV]  max_features=1.0, max_samples=1.0, n_estimators=10, score=0.973451 -   0.1s\n",
      "[CV] max_features=1.0, max_samples=1.0, n_estimators=10 ..............\n",
      "[CV]  max_features=1.0, max_samples=1.0, n_estimators=10, score=0.929204 -   0.1s\n",
      "[CV] max_features=1.0, max_samples=1.0, n_estimators=10 ..............\n",
      "[CV]  max_features=1.0, max_samples=1.0, n_estimators=10, score=0.955752 -   0.1s\n",
      "[CV] max_features=1.0, max_samples=1.0, n_estimators=25 ..............\n",
      "[CV]  max_features=1.0, max_samples=1.0, n_estimators=25, score=0.913043 -   0.1s\n",
      "[CV] max_features=1.0, max_samples=1.0, n_estimators=25 ..............\n",
      "[CV]  max_features=1.0, max_samples=1.0, n_estimators=25, score=0.930435 -   0.1s\n",
      "[CV] max_features=1.0, max_samples=1.0, n_estimators=25 ..............\n",
      "[CV]  max_features=1.0, max_samples=1.0, n_estimators=25, score=0.973451 -   0.1s\n",
      "[CV] max_features=1.0, max_samples=1.0, n_estimators=25 ..............\n",
      "[CV]  max_features=1.0, max_samples=1.0, n_estimators=25, score=0.946903 -   0.1s\n",
      "[CV] max_features=1.0, max_samples=1.0, n_estimators=25 ..............\n",
      "[CV]  max_features=1.0, max_samples=1.0, n_estimators=25, score=0.955752 -   0.2s\n",
      "[CV] max_features=1.0, max_samples=1.0, n_estimators=50 ..............\n",
      "[CV]  max_features=1.0, max_samples=1.0, n_estimators=50, score=0.921739 -   0.3s\n",
      "[CV] max_features=1.0, max_samples=1.0, n_estimators=50 ..............\n",
      "[CV]  max_features=1.0, max_samples=1.0, n_estimators=50, score=0.930435 -   0.2s\n",
      "[CV] max_features=1.0, max_samples=1.0, n_estimators=50 ..............\n",
      "[CV]  max_features=1.0, max_samples=0.5, n_estimators=1000, score=0.982301 -   4.2s\n",
      "[CV] max_features=1.0, max_samples=1.0, n_estimators=50 ..............\n",
      "[CV]  max_features=1.0, max_samples=0.5, n_estimators=1000, score=0.964602 -   4.3s\n",
      "[CV] max_features=1.0, max_samples=1.0, n_estimators=50 ..............\n",
      "[CV]  max_features=1.0, max_samples=1.0, n_estimators=50, score=0.982301 -   0.3s\n",
      "[CV] max_features=1.0, max_samples=1.0, n_estimators=1000 ............\n",
      "[CV]  max_features=1.0, max_samples=1.0, n_estimators=50, score=0.964602 -   0.3s\n",
      "[CV] max_features=1.0, max_samples=1.0, n_estimators=1000 ............\n",
      "[CV]  max_features=1.0, max_samples=1.0, n_estimators=50, score=0.964602 -   0.3s\n",
      "[CV] max_features=1.0, max_samples=1.0, n_estimators=1000 ............\n",
      "[CV]  max_features=1.0, max_samples=0.5, n_estimators=1000, score=0.964602 -   4.2s\n",
      "[CV] max_features=1.0, max_samples=1.0, n_estimators=1000 ............\n",
      "[CV]  max_features=1.0, max_samples=1.0, n_estimators=1000, score=0.913043 -   5.1s\n",
      "[CV] max_features=1.0, max_samples=1.0, n_estimators=1000 ............\n",
      "[CV]  max_features=1.0, max_samples=1.0, n_estimators=1000, score=0.947826 -   5.2s\n",
      "[CV]  max_features=1.0, max_samples=1.0, n_estimators=1000, score=0.982301 -   5.1s\n",
      "[CV]  max_features=1.0, max_samples=1.0, n_estimators=1000, score=0.964602 -   4.7s\n",
      "[CV]  max_features=1.0, max_samples=1.0, n_estimators=1000, score=0.964602 -   3.1s\n"
     ]
    },
    {
     "name": "stderr",
     "output_type": "stream",
     "text": [
      "[Parallel(n_jobs=-1)]: Done 300 out of 300 | elapsed:  1.1min finished\n"
     ]
    },
    {
     "data": {
      "text/plain": [
       "GridSearchCV(cv=5, error_score='raise',\n",
       "       estimator=BaggingClassifier(base_estimator=DecisionTreeClassifier(class_weight=None, criterion='gini', max_depth=2,\n",
       "            max_features=None, max_leaf_nodes=None, min_samples_leaf=1,\n",
       "            min_samples_split=2, min_weight_fraction_leaf=0.0,\n",
       "            presort=False, random_state=None, spl...n_estimators=10, n_jobs=1, oob_score=False,\n",
       "         random_state=None, verbose=0, warm_start=False),\n",
       "       fit_params={}, iid=True, n_jobs=-1,\n",
       "       param_grid={'n_estimators': [4, 10, 25, 50, 1000], 'max_samples': [0.25, 0.5, 1.0], 'max_features': [0.25, 0.5, 0.75, 1.0]},\n",
       "       pre_dispatch='2*n_jobs', refit=True, scoring=None, verbose=10)"
      ]
     },
     "execution_count": 57,
     "metadata": {},
     "output_type": "execute_result"
    }
   ],
   "source": [
    "grid_search_bagging.fit(X, y)"
   ]
  },
  {
   "cell_type": "code",
   "execution_count": 58,
   "metadata": {
    "collapsed": false
   },
   "outputs": [
    {
     "data": {
      "text/plain": [
       "BaggingClassifier(base_estimator=DecisionTreeClassifier(class_weight=None, criterion='gini', max_depth=2,\n",
       "            max_features=None, max_leaf_nodes=None, min_samples_leaf=1,\n",
       "            min_samples_split=2, min_weight_fraction_leaf=0.0,\n",
       "            presort=False, random_state=None, splitter='best'),\n",
       "         bootstrap=True, bootstrap_features=False, max_features=0.25,\n",
       "         max_samples=1.0, n_estimators=1000, n_jobs=1, oob_score=False,\n",
       "         random_state=None, verbose=0, warm_start=False)"
      ]
     },
     "execution_count": 58,
     "metadata": {},
     "output_type": "execute_result"
    }
   ],
   "source": [
    "grid_search_bagging.best_estimator_"
   ]
  },
  {
   "cell_type": "code",
   "execution_count": 59,
   "metadata": {
    "collapsed": false
   },
   "outputs": [
    {
     "data": {
      "text/plain": [
       "{'max_features': 0.25, 'max_samples': 1.0, 'n_estimators': 1000}"
      ]
     },
     "execution_count": 59,
     "metadata": {},
     "output_type": "execute_result"
    }
   ],
   "source": [
    "grid_search_bagging.best_params_"
   ]
  },
  {
   "cell_type": "code",
   "execution_count": 60,
   "metadata": {
    "collapsed": false
   },
   "outputs": [
    {
     "data": {
      "text/plain": [
       "0.95782073813708257"
      ]
     },
     "execution_count": 60,
     "metadata": {},
     "output_type": "execute_result"
    }
   ],
   "source": [
    "grid_search_bagging.best_score_"
   ]
  },
  {
   "cell_type": "code",
   "execution_count": 65,
   "metadata": {
    "collapsed": true
   },
   "outputs": [],
   "source": [
    "from sklearn.cross_validation import train_test_split\n",
    "\n",
    "X_train, X_test, y_train, y_test = train_test_split(X, y)"
   ]
  },
  {
   "cell_type": "code",
   "execution_count": 66,
   "metadata": {
    "collapsed": false
   },
   "outputs": [
    {
     "name": "stdout",
     "output_type": "stream",
     "text": [
      "Fitting 5 folds for each of 60 candidates, totalling 300 fits\n",
      "[CV] max_features=0.25, max_samples=0.25, n_estimators=4 .............\n",
      "[CV] max_features=0.25, max_samples=0.25, n_estimators=4 .............\n",
      "[CV] max_features=0.25, max_samples=0.25, n_estimators=4 .............\n",
      "[CV] max_features=0.25, max_samples=0.25, n_estimators=4 .............\n",
      "[CV]  max_features=0.25, max_samples=0.25, n_estimators=4, score=0.895349 -   0.0s\n",
      "[CV]  max_features=0.25, max_samples=0.25, n_estimators=4, score=0.883721 -   0.0s\n",
      "[CV]  max_features=0.25, max_samples=0.25, n_estimators=4, score=0.929412 -   0.0s\n",
      "[CV] max_features=0.25, max_samples=0.25, n_estimators=4 .............\n",
      "[CV] max_features=0.25, max_samples=0.25, n_estimators=10 ............\n",
      "[CV]  max_features=0.25, max_samples=0.25, n_estimators=4, score=0.917647 -   0.0s\n",
      "[CV] max_features=0.25, max_samples=0.25, n_estimators=10 ............\n",
      "[CV]  max_features=0.25, max_samples=0.25, n_estimators=4, score=0.964286 -   0.0s\n",
      "[CV] max_features=0.25, max_samples=0.25, n_estimators=10 ............\n",
      "[CV] max_features=0.25, max_samples=0.25, n_estimators=10 ............\n",
      "[CV]  max_features=0.25, max_samples=0.25, n_estimators=10, score=0.894118 -   0.0s\n",
      "[CV] max_features=0.25, max_samples=0.25, n_estimators=25 ............\n",
      "[CV]  max_features=0.25, max_samples=0.25, n_estimators=10, score=0.906977 -   0.1s\n",
      "[CV]  max_features=0.25, max_samples=0.25, n_estimators=10, score=0.953488 -   0.0s\n",
      "[CV] max_features=0.25, max_samples=0.25, n_estimators=10 ............\n",
      "[CV] max_features=0.25, max_samples=0.25, n_estimators=1000 ..........\n",
      "[CV]  max_features=0.25, max_samples=0.25, n_estimators=10, score=0.964706 -   0.1s\n",
      "[CV] max_features=0.25, max_samples=0.5, n_estimators=4 ..............\n",
      "[CV]  max_features=0.25, max_samples=0.25, n_estimators=10, score=0.964286 -   0.0s\n",
      "[CV] max_features=0.25, max_samples=0.25, n_estimators=25 ............\n",
      "[CV]  max_features=0.25, max_samples=0.5, n_estimators=4, score=0.918605 -   0.0s\n"
     ]
    },
    {
     "name": "stderr",
     "output_type": "stream",
     "text": [
      "[Parallel(n_jobs=-1)]: Batch computation too fast (0.0564s.) Setting batch_size=6.\n",
      "[Parallel(n_jobs=-1)]: Done   5 tasks      | elapsed:    0.2s\n"
     ]
    },
    {
     "name": "stdout",
     "output_type": "stream",
     "text": [
      "[CV] max_features=0.25, max_samples=0.5, n_estimators=4 ..............\n",
      "[CV]  max_features=0.25, max_samples=0.25, n_estimators=25, score=0.964286 -   0.1s\n",
      "[CV]  max_features=0.25, max_samples=0.5, n_estimators=4, score=0.929412 -   0.0s\n",
      "[CV] max_features=0.25, max_samples=0.5, n_estimators=4 ..............\n",
      "[CV] max_features=0.25, max_samples=0.25, n_estimators=50 ............\n",
      "[CV]  max_features=0.25, max_samples=0.5, n_estimators=4, score=0.964706 -   0.0s\n",
      "[CV] max_features=0.25, max_samples=0.5, n_estimators=4 ..............\n",
      "[CV]  max_features=0.25, max_samples=0.5, n_estimators=4, score=0.916667 -   0.0s\n",
      "[CV] max_features=0.25, max_samples=0.5, n_estimators=10 .............\n",
      "[CV]  max_features=0.25, max_samples=0.25, n_estimators=25, score=0.918605 -   0.1s\n",
      "[CV] max_features=0.25, max_samples=0.25, n_estimators=25 ............\n",
      "[CV]  max_features=0.25, max_samples=0.5, n_estimators=10, score=0.918605 -   0.0s\n",
      "[CV] max_features=0.25, max_samples=0.5, n_estimators=10 .............\n",
      "[CV]  max_features=0.25, max_samples=0.5, n_estimators=10, score=0.918605 -   0.0s\n",
      "[CV] max_features=0.25, max_samples=0.5, n_estimators=10 .............\n",
      "[CV]  max_features=0.25, max_samples=0.25, n_estimators=25, score=0.930233 -   0.1s\n",
      "[CV] max_features=0.25, max_samples=0.25, n_estimators=25 ............\n",
      "[CV]  max_features=0.25, max_samples=0.5, n_estimators=10, score=0.917647 -   0.0s\n",
      "[CV] max_features=0.25, max_samples=0.5, n_estimators=10 .............\n",
      "[CV]  max_features=0.25, max_samples=0.5, n_estimators=10, score=0.952941 -   0.0s\n",
      "[CV] max_features=0.25, max_samples=0.5, n_estimators=10 .............\n",
      "[CV]  max_features=0.25, max_samples=0.25, n_estimators=25, score=0.941176 -   0.1s\n",
      "[CV] max_features=0.25, max_samples=0.25, n_estimators=25 ............\n",
      "[CV]  max_features=0.25, max_samples=0.5, n_estimators=10, score=0.940476 -   0.0s\n",
      "[CV] max_features=0.25, max_samples=0.5, n_estimators=25 .............\n",
      "[CV]  max_features=0.25, max_samples=0.25, n_estimators=50, score=0.895349 -   0.3s\n",
      "[CV] max_features=0.25, max_samples=0.25, n_estimators=50 ............\n",
      "[CV]  max_features=0.25, max_samples=0.5, n_estimators=25, score=0.895349 -   0.1s\n",
      "[CV] max_features=0.25, max_samples=0.5, n_estimators=25 .............\n",
      "[CV]  max_features=0.25, max_samples=0.25, n_estimators=25, score=0.964706 -   0.1s\n",
      "[CV] max_features=0.25, max_samples=0.5, n_estimators=25 .............\n",
      "[CV]  max_features=0.25, max_samples=0.25, n_estimators=50, score=0.941860 -   0.2s\n",
      "[CV]  max_features=0.25, max_samples=0.5, n_estimators=25, score=0.930233 -   0.1s\n",
      "[CV] max_features=0.25, max_samples=0.25, n_estimators=50 ............\n",
      "[CV] max_features=0.25, max_samples=0.5, n_estimators=25 .............\n",
      "[CV]  max_features=0.25, max_samples=0.5, n_estimators=25, score=0.976471 -   0.1s\n",
      "[CV] max_features=0.25, max_samples=0.5, n_estimators=25 .............\n"
     ]
    },
    {
     "name": "stderr",
     "output_type": "stream",
     "text": [
      "[Parallel(n_jobs=-1)]: Done  20 tasks      | elapsed:    0.7s\n"
     ]
    },
    {
     "name": "stdout",
     "output_type": "stream",
     "text": [
      "[CV]  max_features=0.25, max_samples=0.5, n_estimators=25, score=0.929412 -   0.1s\n",
      "[CV] max_features=0.25, max_samples=0.5, n_estimators=50 .............\n",
      "[CV]  max_features=0.25, max_samples=0.5, n_estimators=25, score=0.952381 -   0.1s\n",
      "[CV] max_features=0.25, max_samples=0.5, n_estimators=50 .............\n",
      "[CV]  max_features=0.25, max_samples=0.25, n_estimators=50, score=0.917647 -   0.2s\n",
      "[CV] max_features=0.25, max_samples=0.25, n_estimators=50 ............\n",
      "[CV]  max_features=0.25, max_samples=0.5, n_estimators=50, score=0.952381 -   0.2s\n",
      "[CV] max_features=0.25, max_samples=0.5, n_estimators=1000 ...........\n",
      "[CV]  max_features=0.25, max_samples=0.5, n_estimators=50, score=0.906977 -   0.2s\n",
      "[CV] max_features=0.25, max_samples=0.5, n_estimators=50 .............\n",
      "[CV]  max_features=0.25, max_samples=0.25, n_estimators=50, score=0.964706 -   0.2s\n",
      "[CV] max_features=0.25, max_samples=0.25, n_estimators=50 ............\n",
      "[CV]  max_features=0.25, max_samples=0.5, n_estimators=50, score=0.930233 -   0.2s\n",
      "[CV]  max_features=0.25, max_samples=0.25, n_estimators=50, score=0.952381 -   0.2s\n",
      "[CV] max_features=0.25, max_samples=1.0, n_estimators=4 ..............\n",
      "[CV] max_features=0.25, max_samples=0.5, n_estimators=50 .............\n",
      "[CV]  max_features=0.25, max_samples=1.0, n_estimators=4, score=0.895349 -   0.0s\n",
      "[CV] max_features=0.25, max_samples=1.0, n_estimators=4 ..............\n",
      "[CV]  max_features=0.25, max_samples=1.0, n_estimators=4, score=0.918605 -   0.0s\n",
      "[CV] max_features=0.25, max_samples=1.0, n_estimators=4 ..............\n",
      "[CV]  max_features=0.25, max_samples=1.0, n_estimators=4, score=0.882353 -   0.0s\n",
      "[CV] max_features=0.25, max_samples=1.0, n_estimators=4 ..............\n",
      "[CV]  max_features=0.25, max_samples=1.0, n_estimators=4, score=0.952941 -   0.0s\n",
      "[CV]  max_features=0.25, max_samples=0.5, n_estimators=50, score=0.917647 -   0.2s\n",
      "[CV] max_features=0.25, max_samples=1.0, n_estimators=4 ..............\n",
      "[CV] max_features=0.25, max_samples=0.5, n_estimators=50 .............\n",
      "[CV]  max_features=0.25, max_samples=1.0, n_estimators=4, score=0.964286 -   0.0s\n",
      "[CV] max_features=0.25, max_samples=1.0, n_estimators=10 .............\n",
      "[CV]  max_features=0.25, max_samples=1.0, n_estimators=10, score=0.883721 -   0.0s\n",
      "[CV] max_features=0.25, max_samples=1.0, n_estimators=10 .............\n",
      "[CV]  max_features=0.25, max_samples=1.0, n_estimators=10, score=0.953488 -   0.0s\n",
      "[CV] max_features=0.25, max_samples=1.0, n_estimators=10 .............\n",
      "[CV]  max_features=0.25, max_samples=0.5, n_estimators=50, score=0.964706 -   0.2s\n",
      "[CV] max_features=0.25, max_samples=1.0, n_estimators=25 .............\n",
      "[CV]  max_features=0.25, max_samples=1.0, n_estimators=10, score=0.905882 -   0.0s\n",
      "[CV] max_features=0.25, max_samples=1.0, n_estimators=10 .............\n",
      "[CV]  max_features=0.25, max_samples=1.0, n_estimators=10, score=0.964706 -   0.0s\n",
      "[CV] max_features=0.25, max_samples=1.0, n_estimators=10 .............\n",
      "[CV]  max_features=0.25, max_samples=1.0, n_estimators=25, score=0.929412 -   0.1s\n",
      "[CV] max_features=0.25, max_samples=1.0, n_estimators=25 .............\n",
      "[CV]  max_features=0.25, max_samples=1.0, n_estimators=10, score=0.952381 -   0.0s\n",
      "[CV] max_features=0.25, max_samples=1.0, n_estimators=25 .............\n",
      "[CV]  max_features=0.25, max_samples=1.0, n_estimators=25, score=0.964706 -   0.1s\n",
      "[CV] max_features=0.25, max_samples=1.0, n_estimators=25 .............\n",
      "[CV]  max_features=0.25, max_samples=1.0, n_estimators=25, score=0.906977 -   0.1s\n",
      "[CV] max_features=0.25, max_samples=1.0, n_estimators=25 .............\n",
      "[CV]  max_features=0.25, max_samples=1.0, n_estimators=25, score=0.941860 -   0.1s\n",
      "[CV] max_features=0.25, max_samples=1.0, n_estimators=50 .............\n",
      "[CV]  max_features=0.25, max_samples=1.0, n_estimators=25, score=0.952381 -   0.2s\n",
      "[CV] max_features=0.25, max_samples=1.0, n_estimators=50 .............\n",
      "[CV]  max_features=0.25, max_samples=1.0, n_estimators=50, score=0.964706 -   0.2s\n",
      "[CV] max_features=0.25, max_samples=1.0, n_estimators=50 .............\n",
      "[CV]  max_features=0.25, max_samples=1.0, n_estimators=50, score=0.918605 -   0.2s\n",
      "[CV] max_features=0.25, max_samples=1.0, n_estimators=50 .............\n",
      "[CV]  max_features=0.25, max_samples=1.0, n_estimators=50, score=0.952381 -   0.2s\n",
      "[CV] max_features=0.25, max_samples=1.0, n_estimators=1000 ...........\n",
      "[CV]  max_features=0.25, max_samples=1.0, n_estimators=50, score=0.941860 -   0.2s\n",
      "[CV] max_features=0.25, max_samples=1.0, n_estimators=50 .............\n",
      "[CV]  max_features=0.25, max_samples=1.0, n_estimators=50, score=0.917647 -   0.2s\n",
      "[CV] max_features=0.25, max_samples=1.0, n_estimators=1000 ...........\n",
      "[CV]  max_features=0.25, max_samples=0.25, n_estimators=1000, score=0.918605 -   3.2s\n",
      "[CV] max_features=0.25, max_samples=0.25, n_estimators=1000 ..........\n",
      "[CV]  max_features=0.25, max_samples=0.5, n_estimators=1000, score=0.918605 -   3.1s\n",
      "[CV] max_features=0.25, max_samples=0.5, n_estimators=1000 ...........\n",
      "[CV]  max_features=0.25, max_samples=1.0, n_estimators=1000, score=0.930233 -   2.9s\n",
      "[CV] max_features=0.25, max_samples=1.0, n_estimators=1000 ...........\n",
      "[CV]  max_features=0.25, max_samples=0.25, n_estimators=1000, score=0.941860 -   2.8s\n",
      "[CV] max_features=0.25, max_samples=0.25, n_estimators=1000 ..........\n",
      "[CV]  max_features=0.25, max_samples=1.0, n_estimators=1000, score=0.952381 -   3.4s\n",
      "[CV] max_features=0.5, max_samples=0.25, n_estimators=4 ..............\n",
      "[CV]  max_features=0.5, max_samples=0.25, n_estimators=4, score=0.918605 -   0.0s\n",
      "[CV] max_features=0.5, max_samples=0.25, n_estimators=4 ..............\n",
      "[CV]  max_features=0.5, max_samples=0.25, n_estimators=4, score=0.953488 -   0.0s\n",
      "[CV] max_features=0.5, max_samples=0.25, n_estimators=4 ..............\n",
      "[CV]  max_features=0.5, max_samples=0.25, n_estimators=4, score=0.882353 -   0.0s\n",
      "[CV] max_features=0.5, max_samples=0.25, n_estimators=4 ..............\n",
      "[CV]  max_features=0.5, max_samples=0.25, n_estimators=4, score=0.976471 -   0.0s\n",
      "[CV] max_features=0.5, max_samples=0.25, n_estimators=4 ..............\n",
      "[CV]  max_features=0.5, max_samples=0.25, n_estimators=4, score=0.940476 -   0.0s\n",
      "[CV] max_features=0.5, max_samples=0.25, n_estimators=10 .............\n",
      "[CV]  max_features=0.5, max_samples=0.25, n_estimators=10, score=0.918605 -   0.1s\n",
      "[CV] max_features=0.5, max_samples=0.25, n_estimators=10 .............\n",
      "[CV]  max_features=0.5, max_samples=0.25, n_estimators=10, score=0.953488 -   0.0s\n",
      "[CV] max_features=0.5, max_samples=0.25, n_estimators=10 .............\n",
      "[CV]  max_features=0.5, max_samples=0.25, n_estimators=10, score=0.929412 -   0.0s\n",
      "[CV] max_features=0.5, max_samples=0.25, n_estimators=10 .............\n"
     ]
    },
    {
     "name": "stderr",
     "output_type": "stream",
     "text": [
      "[Parallel(n_jobs=-1)]: Done  62 tasks      | elapsed:    6.5s\n",
      "[Parallel(n_jobs=-1)]: Batch computation too slow (2.02s.) Setting batch_size=3.\n"
     ]
    },
    {
     "name": "stdout",
     "output_type": "stream",
     "text": [
      "[CV]  max_features=0.5, max_samples=0.25, n_estimators=10, score=0.988235 -   0.0s\n",
      "[CV] max_features=0.5, max_samples=0.25, n_estimators=10 .............\n",
      "[CV]  max_features=0.5, max_samples=0.25, n_estimators=10, score=0.952381 -   0.1s\n",
      "[CV] max_features=0.5, max_samples=0.25, n_estimators=25 .............\n",
      "[CV]  max_features=0.5, max_samples=0.25, n_estimators=25, score=0.895349 -   0.2s\n",
      "[CV] max_features=0.5, max_samples=0.25, n_estimators=25 .............\n",
      "[CV]  max_features=0.5, max_samples=0.25, n_estimators=25, score=0.930233 -   0.1s\n",
      "[CV] max_features=0.5, max_samples=0.25, n_estimators=25 .............\n",
      "[CV]  max_features=0.25, max_samples=0.5, n_estimators=1000, score=0.941860 -   2.9s\n",
      "[CV] max_features=0.25, max_samples=0.5, n_estimators=1000 ...........\n",
      "[CV]  max_features=0.5, max_samples=0.25, n_estimators=25, score=0.941176 -   0.1s\n",
      "[CV] max_features=0.5, max_samples=0.25, n_estimators=25 .............\n",
      "[CV]  max_features=0.5, max_samples=0.25, n_estimators=25, score=0.964706 -   0.2s\n",
      "[CV] max_features=0.5, max_samples=0.25, n_estimators=25 .............\n",
      "[CV]  max_features=0.5, max_samples=0.25, n_estimators=25, score=0.940476 -   0.1s\n",
      "[CV] max_features=0.5, max_samples=0.25, n_estimators=50 .............\n",
      "[CV]  max_features=0.5, max_samples=0.25, n_estimators=50, score=0.895349 -   0.2s\n",
      "[CV] max_features=0.5, max_samples=0.25, n_estimators=50 .............\n",
      "[CV]  max_features=0.5, max_samples=0.25, n_estimators=50, score=0.930233 -   0.2s\n",
      "[CV] max_features=0.5, max_samples=0.25, n_estimators=50 .............\n",
      "[CV]  max_features=0.5, max_samples=0.25, n_estimators=50, score=0.917647 -   0.2s\n",
      "[CV] max_features=0.5, max_samples=0.25, n_estimators=50 .............\n",
      "[CV]  max_features=0.5, max_samples=0.25, n_estimators=50, score=0.976471 -   0.2s\n",
      "[CV] max_features=0.5, max_samples=0.25, n_estimators=50 .............\n",
      "[CV]  max_features=0.5, max_samples=0.25, n_estimators=50, score=0.952381 -   0.2s\n",
      "[CV] max_features=0.5, max_samples=0.25, n_estimators=1000 ...........\n",
      "[CV]  max_features=0.25, max_samples=1.0, n_estimators=1000, score=0.941860 -   3.7s\n",
      "[CV] max_features=0.25, max_samples=1.0, n_estimators=1000 ...........\n",
      "[CV]  max_features=0.25, max_samples=0.25, n_estimators=1000, score=0.905882 -   3.4s\n",
      "[CV] max_features=0.25, max_samples=0.25, n_estimators=1000 ..........\n",
      "[CV]  max_features=0.25, max_samples=0.5, n_estimators=1000, score=0.917647 -   3.4s\n",
      "[CV] max_features=0.25, max_samples=0.5, n_estimators=1000 ...........\n",
      "[CV]  max_features=0.5, max_samples=0.25, n_estimators=1000, score=0.895349 -   2.9s\n",
      "[CV] max_features=0.5, max_samples=0.25, n_estimators=1000 ...........\n",
      "[CV]  max_features=0.25, max_samples=0.25, n_estimators=1000, score=0.964706 -   2.9s\n",
      "[CV] max_features=0.25, max_samples=0.25, n_estimators=1000 ..........\n",
      "[CV]  max_features=0.25, max_samples=1.0, n_estimators=1000, score=0.917647 -   3.4s\n",
      "[CV] max_features=0.25, max_samples=1.0, n_estimators=1000 ...........\n",
      "[CV]  max_features=0.25, max_samples=0.5, n_estimators=1000, score=0.964706 -   2.9s\n",
      "[CV] max_features=0.25, max_samples=0.5, n_estimators=1000 ...........\n",
      "[CV]  max_features=0.5, max_samples=0.25, n_estimators=1000, score=0.953488 -   3.1s\n",
      "[CV] max_features=0.5, max_samples=0.25, n_estimators=1000 ...........\n",
      "[CV]  max_features=0.25, max_samples=0.25, n_estimators=1000, score=0.952381 -   2.9s\n",
      "[CV] max_features=0.25, max_samples=0.5, n_estimators=4 ..............\n",
      "[CV]  max_features=0.25, max_samples=0.5, n_estimators=4, score=0.906977 -   0.0s\n",
      "[CV] max_features=0.5, max_samples=0.25, n_estimators=1000 ...........\n",
      "[CV]  max_features=0.25, max_samples=1.0, n_estimators=1000, score=0.964706 -   3.2s\n",
      "[CV] max_features=0.5, max_samples=0.5, n_estimators=4 ...............\n",
      "[CV]  max_features=0.5, max_samples=0.5, n_estimators=4, score=0.952381 -   0.0s\n",
      "[CV] max_features=0.5, max_samples=0.5, n_estimators=10 ..............\n",
      "[CV]  max_features=0.5, max_samples=0.5, n_estimators=10, score=0.941860 -   0.1s\n",
      "[CV] max_features=0.5, max_samples=0.5, n_estimators=10 ..............\n",
      "[CV]  max_features=0.5, max_samples=0.5, n_estimators=10, score=0.965116 -   0.0s\n",
      "[CV] max_features=0.5, max_samples=0.5, n_estimators=10 ..............\n",
      "[CV]  max_features=0.5, max_samples=0.5, n_estimators=10, score=0.905882 -   0.0s\n",
      "[CV] max_features=0.5, max_samples=0.5, n_estimators=10 ..............\n",
      "[CV]  max_features=0.5, max_samples=0.5, n_estimators=10, score=0.952941 -   0.0s\n",
      "[CV] max_features=0.5, max_samples=0.5, n_estimators=10 ..............\n",
      "[CV]  max_features=0.5, max_samples=0.5, n_estimators=10, score=0.952381 -   0.1s\n"
     ]
    },
    {
     "name": "stderr",
     "output_type": "stream",
     "text": [
      "[Parallel(n_jobs=-1)]: Batch computation too slow (9.47s.) Setting batch_size=1.\n"
     ]
    },
    {
     "name": "stdout",
     "output_type": "stream",
     "text": [
      "[CV] max_features=0.5, max_samples=0.5, n_estimators=25 ..............\n",
      "[CV]  max_features=0.5, max_samples=0.5, n_estimators=25, score=0.918605 -   0.1s\n",
      "[CV] max_features=0.5, max_samples=0.5, n_estimators=25 ..............\n",
      "[CV]  max_features=0.5, max_samples=0.5, n_estimators=25, score=0.953488 -   0.1s\n",
      "[CV] max_features=0.5, max_samples=0.5, n_estimators=25 ..............\n",
      "[CV]  max_features=0.5, max_samples=0.5, n_estimators=25, score=0.917647 -   0.1s\n",
      "[CV] max_features=0.5, max_samples=0.5, n_estimators=25 ..............\n",
      "[CV]  max_features=0.25, max_samples=0.5, n_estimators=1000, score=0.952381 -   3.1s\n",
      "[CV] max_features=0.5, max_samples=0.5, n_estimators=50 ..............\n",
      "[CV]  max_features=0.5, max_samples=0.5, n_estimators=25, score=0.976471 -   0.1s\n",
      "[CV] max_features=0.5, max_samples=0.5, n_estimators=25 ..............\n"
     ]
    },
    {
     "name": "stderr",
     "output_type": "stream",
     "text": [
      "[Parallel(n_jobs=-1)]: Done  95 tasks      | elapsed:   16.6s\n"
     ]
    },
    {
     "name": "stdout",
     "output_type": "stream",
     "text": [
      "[CV]  max_features=0.5, max_samples=0.5, n_estimators=25, score=0.952381 -   0.1s\n",
      "[CV]  max_features=0.5, max_samples=0.5, n_estimators=50, score=0.941860 -   0.2s\n",
      "[CV] max_features=0.5, max_samples=0.5, n_estimators=50 ..............\n",
      "[CV] max_features=0.5, max_samples=0.5, n_estimators=50 ..............\n",
      "[CV]  max_features=0.5, max_samples=0.5, n_estimators=50, score=0.917647 -   0.2s\n",
      "[CV] max_features=0.5, max_samples=0.5, n_estimators=50 ..............\n",
      "[CV]  max_features=0.5, max_samples=0.5, n_estimators=50, score=0.918605 -   0.3s\n",
      "[CV] max_features=0.5, max_samples=0.5, n_estimators=50 ..............\n",
      "[CV]  max_features=0.5, max_samples=0.5, n_estimators=50, score=0.964706 -   0.2s\n",
      "[CV] max_features=0.5, max_samples=0.5, n_estimators=1000 ............\n",
      "[CV]  max_features=0.5, max_samples=0.5, n_estimators=50, score=0.928571 -   0.2s\n",
      "[CV] max_features=0.5, max_samples=0.5, n_estimators=1000 ............\n",
      "[CV]  max_features=0.5, max_samples=0.25, n_estimators=1000, score=0.929412 -   3.2s\n",
      "[CV] max_features=0.5, max_samples=0.5, n_estimators=1000 ............\n",
      "[CV]  max_features=0.5, max_samples=0.25, n_estimators=1000, score=0.976471 -   3.2s\n",
      "[CV] max_features=0.5, max_samples=0.25, n_estimators=1000 ...........\n",
      "[CV]  max_features=0.5, max_samples=0.5, n_estimators=1000, score=0.906977 -   3.1s\n",
      "[CV]  max_features=0.5, max_samples=0.5, n_estimators=1000, score=0.953488 -   3.0s\n",
      "[CV] max_features=0.5, max_samples=0.5, n_estimators=1000 ............\n",
      "[CV] max_features=0.5, max_samples=0.5, n_estimators=1000 ............\n",
      "[CV]  max_features=0.5, max_samples=0.5, n_estimators=1000, score=0.929412 -   3.2s\n",
      "[CV] max_features=0.5, max_samples=1.0, n_estimators=4 ...............\n",
      "[CV]  max_features=0.5, max_samples=1.0, n_estimators=4, score=0.930233 -   0.0s\n",
      "[CV] max_features=0.5, max_samples=1.0, n_estimators=4 ...............\n",
      "[CV]  max_features=0.5, max_samples=1.0, n_estimators=4, score=0.976744 -   0.0s\n",
      "[CV] max_features=0.5, max_samples=1.0, n_estimators=4 ...............\n",
      "[CV]  max_features=0.5, max_samples=1.0, n_estimators=4, score=0.941176 -   0.0s\n",
      "[CV] max_features=0.5, max_samples=1.0, n_estimators=4 ...............\n",
      "[CV]  max_features=0.5, max_samples=1.0, n_estimators=4, score=0.964706 -   0.0s\n",
      "[CV] max_features=0.5, max_samples=1.0, n_estimators=4 ...............\n",
      "[CV]  max_features=0.5, max_samples=1.0, n_estimators=4, score=0.916667 -   0.0s\n",
      "[CV] max_features=0.5, max_samples=1.0, n_estimators=10 ..............\n",
      "[CV]  max_features=0.5, max_samples=1.0, n_estimators=10, score=0.895349 -   0.0s\n",
      "[CV] max_features=0.5, max_samples=1.0, n_estimators=10 ..............\n"
     ]
    },
    {
     "name": "stderr",
     "output_type": "stream",
     "text": [
      "[Parallel(n_jobs=-1)]: Done 118 tasks      | elapsed:   21.0s\n"
     ]
    },
    {
     "name": "stdout",
     "output_type": "stream",
     "text": [
      "[CV]  max_features=0.5, max_samples=1.0, n_estimators=10, score=0.953488 -   0.0s\n",
      "[CV] max_features=0.5, max_samples=1.0, n_estimators=10 ..............\n",
      "[CV]  max_features=0.5, max_samples=1.0, n_estimators=10, score=0.929412 -   0.0s\n",
      "[CV] max_features=0.5, max_samples=1.0, n_estimators=10 ..............\n",
      "[CV]  max_features=0.5, max_samples=1.0, n_estimators=10, score=0.941176 -   0.0s\n",
      "[CV] max_features=0.5, max_samples=1.0, n_estimators=10 ..............\n",
      "[CV]  max_features=0.5, max_samples=1.0, n_estimators=10, score=0.940476 -   0.0s\n",
      "[CV] max_features=0.5, max_samples=1.0, n_estimators=25 ..............\n",
      "[CV]  max_features=0.5, max_samples=1.0, n_estimators=25, score=0.906977 -   0.1s\n",
      "[CV] max_features=0.5, max_samples=1.0, n_estimators=25 ..............\n",
      "[CV]  max_features=0.5, max_samples=1.0, n_estimators=25, score=0.941860 -   0.1s\n"
     ]
    },
    {
     "name": "stderr",
     "output_type": "stream",
     "text": [
      "[Parallel(n_jobs=-1)]: Done 127 tasks      | elapsed:   21.4s\n"
     ]
    },
    {
     "name": "stdout",
     "output_type": "stream",
     "text": [
      "[CV] max_features=0.5, max_samples=1.0, n_estimators=25 ..............\n",
      "[CV]  max_features=0.5, max_samples=1.0, n_estimators=25, score=0.917647 -   0.1s\n",
      "[CV] max_features=0.5, max_samples=1.0, n_estimators=25 ..............\n",
      "[CV]  max_features=0.5, max_samples=0.25, n_estimators=1000, score=0.940476 -   3.2s\n",
      "[CV] max_features=0.5, max_samples=0.5, n_estimators=4 ...............\n",
      "[CV]  max_features=0.5, max_samples=0.5, n_estimators=4, score=0.860465 -   0.0s\n",
      "[CV] max_features=0.5, max_samples=0.5, n_estimators=4 ...............\n",
      "[CV]  max_features=0.5, max_samples=1.0, n_estimators=25, score=0.976471 -   0.1s\n",
      "[CV] max_features=0.5, max_samples=1.0, n_estimators=25 ..............\n",
      "[CV]  max_features=0.5, max_samples=0.5, n_estimators=4, score=0.906977 -   0.1s\n",
      "[CV] max_features=0.5, max_samples=0.5, n_estimators=4 ...............\n",
      "[CV]  max_features=0.5, max_samples=0.5, n_estimators=4, score=0.941176 -   0.0s\n",
      "[CV] max_features=0.5, max_samples=0.5, n_estimators=4 ...............\n",
      "[CV]  max_features=0.5, max_samples=0.5, n_estimators=4, score=0.964706 -   0.0s\n",
      "[CV] max_features=0.5, max_samples=1.0, n_estimators=50 ..............\n",
      "[CV]  max_features=0.5, max_samples=1.0, n_estimators=25, score=0.940476 -   0.2s\n",
      "[CV] max_features=0.5, max_samples=1.0, n_estimators=50 ..............\n",
      "[CV]  max_features=0.5, max_samples=1.0, n_estimators=50, score=0.930233 -   0.2s\n",
      "[CV] max_features=0.5, max_samples=1.0, n_estimators=50 ..............\n",
      "[CV]  max_features=0.5, max_samples=1.0, n_estimators=50, score=0.953488 -   0.2s\n",
      "[CV] max_features=0.5, max_samples=1.0, n_estimators=50 ..............\n",
      "[CV]  max_features=0.5, max_samples=1.0, n_estimators=50, score=0.988235 -   0.2s\n",
      "[CV]  max_features=0.5, max_samples=1.0, n_estimators=50, score=0.917647 -   0.2s\n",
      "[CV] max_features=0.5, max_samples=1.0, n_estimators=1000 ............\n",
      "[CV] max_features=0.5, max_samples=1.0, n_estimators=50 ..............\n",
      "[CV]  max_features=0.5, max_samples=1.0, n_estimators=50, score=0.940476 -   0.2s\n",
      "[CV] max_features=0.5, max_samples=1.0, n_estimators=1000 ............\n"
     ]
    },
    {
     "name": "stderr",
     "output_type": "stream",
     "text": [
      "[Parallel(n_jobs=-1)]: Done 143 tasks      | elapsed:   22.8s\n"
     ]
    },
    {
     "name": "stdout",
     "output_type": "stream",
     "text": [
      "[CV]  max_features=0.5, max_samples=0.5, n_estimators=1000, score=0.976471 -   3.4s\n",
      "[CV] max_features=0.5, max_samples=1.0, n_estimators=1000 ............\n",
      "[CV]  max_features=0.5, max_samples=0.5, n_estimators=1000, score=0.940476 -   3.4s\n",
      "[CV] max_features=0.5, max_samples=1.0, n_estimators=1000 ............\n",
      "[CV]  max_features=0.5, max_samples=1.0, n_estimators=1000, score=0.918605 -   3.3s\n",
      "[CV] max_features=0.5, max_samples=1.0, n_estimators=1000 ............\n",
      "[CV]  max_features=0.5, max_samples=1.0, n_estimators=1000, score=0.953488 -   3.4s\n",
      "[CV] max_features=0.75, max_samples=0.25, n_estimators=4 .............\n",
      "[CV]  max_features=0.75, max_samples=0.25, n_estimators=4, score=0.953488 -   0.0s\n",
      "[CV] max_features=0.75, max_samples=0.25, n_estimators=4 .............\n",
      "[CV]  max_features=0.75, max_samples=0.25, n_estimators=4, score=0.941860 -   0.0s\n",
      "[CV] max_features=0.75, max_samples=0.25, n_estimators=4 .............\n",
      "[CV]  max_features=0.75, max_samples=0.25, n_estimators=4, score=0.941176 -   0.0s\n",
      "[CV] max_features=0.75, max_samples=0.25, n_estimators=4 .............\n",
      "[CV]  max_features=0.75, max_samples=0.25, n_estimators=4, score=0.941176 -   0.0s\n",
      "[CV] max_features=0.75, max_samples=0.25, n_estimators=4 .............\n",
      "[CV]  max_features=0.75, max_samples=0.25, n_estimators=4, score=0.952381 -   0.0s\n",
      "[CV] max_features=0.75, max_samples=0.25, n_estimators=10 ............\n",
      "[CV]  max_features=0.75, max_samples=0.25, n_estimators=10, score=0.918605 -   0.0s\n",
      "[CV] max_features=0.75, max_samples=0.25, n_estimators=10 ............\n",
      "[CV]  max_features=0.75, max_samples=0.25, n_estimators=10, score=0.965116 -   0.1s\n",
      "[CV] max_features=0.75, max_samples=0.25, n_estimators=10 ............\n",
      "[CV]  max_features=0.75, max_samples=0.25, n_estimators=10, score=0.905882 -   0.1s\n",
      "[CV] max_features=0.75, max_samples=0.25, n_estimators=10 ............\n",
      "[CV]  max_features=0.75, max_samples=0.25, n_estimators=10, score=0.976471 -   0.0s\n",
      "[CV] max_features=0.75, max_samples=0.25, n_estimators=10 ............\n",
      "[CV]  max_features=0.75, max_samples=0.25, n_estimators=10, score=0.928571 -   0.0s\n"
     ]
    },
    {
     "name": "stderr",
     "output_type": "stream",
     "text": [
      "[Parallel(n_jobs=-1)]: Done 154 tasks      | elapsed:   26.6s\n"
     ]
    },
    {
     "name": "stdout",
     "output_type": "stream",
     "text": [
      "[CV] max_features=0.75, max_samples=0.25, n_estimators=25 ............\n",
      "[CV]  max_features=0.75, max_samples=0.25, n_estimators=25, score=0.918605 -   0.1s\n",
      "[CV] max_features=0.75, max_samples=0.25, n_estimators=25 ............\n",
      "[CV]  max_features=0.75, max_samples=0.25, n_estimators=25, score=0.953488 -   0.1s\n",
      "[CV] max_features=0.75, max_samples=0.25, n_estimators=25 ............\n",
      "[CV]  max_features=0.75, max_samples=0.25, n_estimators=25, score=0.941176 -   0.1s\n",
      "[CV] max_features=0.75, max_samples=0.25, n_estimators=25 ............\n",
      "[CV]  max_features=0.75, max_samples=0.25, n_estimators=25, score=0.976471 -   0.1s\n",
      "[CV] max_features=0.75, max_samples=0.25, n_estimators=25 ............\n",
      "[CV]  max_features=0.5, max_samples=1.0, n_estimators=1000, score=0.929412 -   3.7s\n",
      "[CV] max_features=0.75, max_samples=0.25, n_estimators=50 ............\n",
      "[CV]  max_features=0.75, max_samples=0.25, n_estimators=25, score=0.964286 -   0.1s\n",
      "[CV] max_features=0.75, max_samples=0.25, n_estimators=50 ............\n",
      "[CV]  max_features=0.5, max_samples=1.0, n_estimators=1000, score=0.976471 -   3.8s\n",
      "[CV] max_features=0.75, max_samples=0.25, n_estimators=50 ............\n",
      "[CV]  max_features=0.75, max_samples=0.25, n_estimators=50, score=0.895349 -   0.2s\n",
      "[CV] max_features=0.75, max_samples=0.25, n_estimators=50 ............\n",
      "[CV]  max_features=0.75, max_samples=0.25, n_estimators=50, score=0.917647 -   0.2s\n",
      "[CV] max_features=0.75, max_samples=0.25, n_estimators=50 ............\n",
      "[CV]  max_features=0.75, max_samples=0.25, n_estimators=50, score=0.953488 -   0.3s\n",
      "[CV] max_features=0.75, max_samples=0.25, n_estimators=1000 ..........\n",
      "[CV]  max_features=0.75, max_samples=0.25, n_estimators=50, score=0.964706 -   0.2s\n",
      "[CV] max_features=0.75, max_samples=0.25, n_estimators=1000 ..........\n",
      "[CV]  max_features=0.75, max_samples=0.25, n_estimators=50, score=0.952381 -   0.2s\n",
      "[CV] max_features=0.75, max_samples=0.25, n_estimators=1000 ..........\n"
     ]
    },
    {
     "name": "stderr",
     "output_type": "stream",
     "text": [
      "[Parallel(n_jobs=-1)]: Done 167 tasks      | elapsed:   27.7s\n"
     ]
    },
    {
     "name": "stdout",
     "output_type": "stream",
     "text": [
      "[CV]  max_features=0.5, max_samples=1.0, n_estimators=1000, score=0.940476 -   3.7s\n",
      "[CV] max_features=0.75, max_samples=0.25, n_estimators=1000 ..........\n",
      "[CV]  max_features=0.75, max_samples=0.25, n_estimators=1000, score=0.906977 -   3.0s\n",
      "[CV] max_features=0.75, max_samples=0.25, n_estimators=1000 ..........\n",
      "[CV]  max_features=0.75, max_samples=0.25, n_estimators=1000, score=0.917647 -   2.9s\n",
      "[CV] max_features=0.75, max_samples=0.5, n_estimators=4 ..............\n",
      "[CV]  max_features=0.75, max_samples=0.5, n_estimators=4, score=0.872093 -   0.0s\n",
      "[CV] max_features=0.75, max_samples=0.5, n_estimators=4 ..............\n",
      "[CV]  max_features=0.75, max_samples=0.5, n_estimators=4, score=0.965116 -   0.0s\n",
      "[CV] max_features=0.75, max_samples=0.5, n_estimators=4 ..............\n",
      "[CV]  max_features=0.75, max_samples=0.5, n_estimators=4, score=0.929412 -   0.0s\n",
      "[CV] max_features=0.75, max_samples=0.5, n_estimators=4 ..............\n",
      "[CV]  max_features=0.75, max_samples=0.25, n_estimators=1000, score=0.953488 -   3.1s\n",
      "[CV]  max_features=0.75, max_samples=0.5, n_estimators=4, score=0.952941 -   0.0s\n",
      "[CV] max_features=0.75, max_samples=0.5, n_estimators=10 .............\n",
      "[CV] max_features=0.75, max_samples=0.5, n_estimators=4 ..............\n",
      "[CV]  max_features=0.75, max_samples=0.5, n_estimators=4, score=0.952381 -   0.0s\n",
      "[CV] max_features=0.75, max_samples=0.5, n_estimators=10 .............\n",
      "[CV]  max_features=0.75, max_samples=0.5, n_estimators=10, score=0.906977 -   0.1s\n",
      "[CV] max_features=0.75, max_samples=0.5, n_estimators=10 .............\n",
      "[CV]  max_features=0.75, max_samples=0.5, n_estimators=10, score=0.930233 -   0.0s\n",
      "[CV] max_features=0.75, max_samples=0.5, n_estimators=10 .............\n",
      "[CV]  max_features=0.75, max_samples=0.5, n_estimators=10, score=0.941176 -   0.0s\n",
      "[CV] max_features=0.75, max_samples=0.5, n_estimators=10 .............\n",
      "[CV]  max_features=0.75, max_samples=0.5, n_estimators=10, score=0.917647 -   0.1s\n",
      "[CV] max_features=0.75, max_samples=0.5, n_estimators=25 .............\n",
      "[CV]  max_features=0.75, max_samples=0.5, n_estimators=10, score=0.928571 -   0.1s\n",
      "[CV] max_features=0.75, max_samples=0.5, n_estimators=25 .............\n",
      "[CV]  max_features=0.75, max_samples=0.5, n_estimators=25, score=0.930233 -   0.1s\n",
      "[CV] max_features=0.75, max_samples=0.5, n_estimators=25 .............\n"
     ]
    },
    {
     "name": "stderr",
     "output_type": "stream",
     "text": [
      "[Parallel(n_jobs=-1)]: Done 180 tasks      | elapsed:   31.1s\n"
     ]
    },
    {
     "name": "stdout",
     "output_type": "stream",
     "text": [
      "[CV]  max_features=0.75, max_samples=0.5, n_estimators=25, score=0.941860 -   0.1s\n",
      "[CV] max_features=0.75, max_samples=0.5, n_estimators=25 .............\n",
      "[CV]  max_features=0.75, max_samples=0.5, n_estimators=25, score=0.917647 -   0.1s\n",
      "[CV] max_features=0.75, max_samples=0.5, n_estimators=25 .............\n",
      "[CV]  max_features=0.75, max_samples=0.5, n_estimators=25, score=0.952941 -   0.1s\n",
      "[CV] max_features=0.75, max_samples=0.5, n_estimators=50 .............\n",
      "[CV]  max_features=0.75, max_samples=0.5, n_estimators=25, score=0.940476 -   0.1s\n",
      "[CV] max_features=0.75, max_samples=0.5, n_estimators=50 .............\n",
      "[CV]  max_features=0.75, max_samples=0.5, n_estimators=50, score=0.906977 -   0.2s\n",
      "[CV] max_features=0.75, max_samples=0.5, n_estimators=50 .............\n",
      "[CV]  max_features=0.75, max_samples=0.5, n_estimators=50, score=0.953488 -   0.2s\n",
      "[CV] max_features=0.75, max_samples=0.5, n_estimators=50 .............\n",
      "[CV]  max_features=0.75, max_samples=0.5, n_estimators=50, score=0.929412 -   0.2s\n",
      "[CV] max_features=0.75, max_samples=0.5, n_estimators=50 .............\n",
      "[CV]  max_features=0.75, max_samples=0.5, n_estimators=50, score=0.952941 -   0.4s\n",
      "[CV]  max_features=0.75, max_samples=0.5, n_estimators=50, score=0.952381 -   0.2s\n",
      "[CV] max_features=0.75, max_samples=0.5, n_estimators=1000 ...........\n",
      "[CV] max_features=0.75, max_samples=0.5, n_estimators=1000 ...........\n",
      "[CV]  max_features=0.75, max_samples=0.25, n_estimators=1000, score=0.964706 -   3.7s\n",
      "[CV] max_features=0.75, max_samples=0.5, n_estimators=1000 ...........\n",
      "[CV]  max_features=0.75, max_samples=0.25, n_estimators=1000, score=0.940476 -   3.6s\n",
      "[CV] max_features=0.75, max_samples=0.5, n_estimators=1000 ...........\n"
     ]
    },
    {
     "name": "stderr",
     "output_type": "stream",
     "text": [
      "[Parallel(n_jobs=-1)]: Done 195 tasks      | elapsed:   34.4s\n"
     ]
    },
    {
     "name": "stdout",
     "output_type": "stream",
     "text": [
      "[CV]  max_features=0.75, max_samples=0.5, n_estimators=1000, score=0.906977 -   3.9s\n",
      "[CV] max_features=0.75, max_samples=0.5, n_estimators=1000 ...........\n",
      "[CV]  max_features=0.75, max_samples=0.5, n_estimators=1000, score=0.953488 -   4.0s\n",
      "[CV] max_features=0.75, max_samples=1.0, n_estimators=4 ..............\n",
      "[CV]  max_features=0.75, max_samples=1.0, n_estimators=4, score=0.918605 -   0.0s\n",
      "[CV] max_features=0.75, max_samples=1.0, n_estimators=4 ..............\n",
      "[CV]  max_features=0.75, max_samples=1.0, n_estimators=4, score=0.895349 -   0.0s\n",
      "[CV] max_features=0.75, max_samples=1.0, n_estimators=4 ..............\n",
      "[CV]  max_features=0.75, max_samples=1.0, n_estimators=4, score=0.929412 -   0.0s\n",
      "[CV] max_features=0.75, max_samples=1.0, n_estimators=4 ..............\n",
      "[CV]  max_features=0.75, max_samples=1.0, n_estimators=4, score=0.976471 -   0.0s\n",
      "[CV] max_features=0.75, max_samples=1.0, n_estimators=4 ..............\n",
      "[CV]  max_features=0.75, max_samples=1.0, n_estimators=4, score=0.940476 -   0.0s\n",
      "[CV] max_features=0.75, max_samples=1.0, n_estimators=10 .............\n",
      "[CV]  max_features=0.75, max_samples=1.0, n_estimators=10, score=0.906977 -   0.0s\n",
      "[CV] max_features=0.75, max_samples=1.0, n_estimators=10 .............\n",
      "[CV]  max_features=0.75, max_samples=1.0, n_estimators=10, score=0.941860 -   0.1s\n",
      "[CV] max_features=0.75, max_samples=1.0, n_estimators=10 .............\n",
      "[CV]  max_features=0.75, max_samples=1.0, n_estimators=10, score=0.917647 -   0.1s\n",
      "[CV] max_features=0.75, max_samples=1.0, n_estimators=10 .............\n",
      "[CV]  max_features=0.75, max_samples=1.0, n_estimators=10, score=0.952941 -   0.1s\n",
      "[CV] max_features=0.75, max_samples=1.0, n_estimators=10 .............\n",
      "[CV]  max_features=0.75, max_samples=1.0, n_estimators=10, score=0.952381 -   0.0s\n",
      "[CV] max_features=0.75, max_samples=1.0, n_estimators=25 .............\n",
      "[CV]  max_features=0.75, max_samples=1.0, n_estimators=25, score=0.906977 -   0.1s\n",
      "[CV] max_features=0.75, max_samples=1.0, n_estimators=25 .............\n",
      "[CV]  max_features=0.75, max_samples=1.0, n_estimators=25, score=0.918605 -   0.1s\n",
      "[CV] max_features=0.75, max_samples=1.0, n_estimators=25 .............\n",
      "[CV]  max_features=0.75, max_samples=1.0, n_estimators=25, score=0.905882 -   0.1s\n",
      "[CV] max_features=0.75, max_samples=1.0, n_estimators=25 .............\n",
      "[CV]  max_features=0.75, max_samples=0.5, n_estimators=1000, score=0.929412 -   3.8s\n",
      "[CV] max_features=0.75, max_samples=1.0, n_estimators=25 .............\n",
      "[CV]  max_features=0.75, max_samples=1.0, n_estimators=25, score=0.964706 -   0.1s\n",
      "[CV] max_features=0.75, max_samples=1.0, n_estimators=50 .............\n"
     ]
    },
    {
     "name": "stderr",
     "output_type": "stream",
     "text": [
      "[Parallel(n_jobs=-1)]: Done 210 tasks      | elapsed:   37.2s\n"
     ]
    },
    {
     "name": "stdout",
     "output_type": "stream",
     "text": [
      "[CV]  max_features=0.75, max_samples=1.0, n_estimators=25, score=0.940476 -   0.2s\n",
      "[CV] max_features=0.75, max_samples=1.0, n_estimators=50 .............\n",
      "[CV]  max_features=0.75, max_samples=1.0, n_estimators=50, score=0.918605 -   0.2s\n",
      "[CV] max_features=0.75, max_samples=1.0, n_estimators=50 .............\n",
      "[CV]  max_features=0.75, max_samples=1.0, n_estimators=50, score=0.965116 -   0.2s\n",
      "[CV] max_features=0.75, max_samples=1.0, n_estimators=50 .............\n",
      "[CV]  max_features=0.75, max_samples=1.0, n_estimators=50, score=0.917647 -   0.2s\n",
      "[CV] max_features=0.75, max_samples=1.0, n_estimators=50 .............\n",
      "[CV]  max_features=0.75, max_samples=1.0, n_estimators=50, score=0.952941 -   0.2s\n",
      "[CV] max_features=0.75, max_samples=1.0, n_estimators=1000 ...........\n",
      "[CV]  max_features=0.75, max_samples=1.0, n_estimators=50, score=0.940476 -   0.2s\n",
      "[CV] max_features=0.75, max_samples=1.0, n_estimators=1000 ...........\n",
      "[CV]  max_features=0.75, max_samples=0.5, n_estimators=1000, score=0.964706 -   3.8s\n",
      "[CV] max_features=0.75, max_samples=1.0, n_estimators=1000 ...........\n",
      "[CV]  max_features=0.75, max_samples=0.5, n_estimators=1000, score=0.940476 -   3.8s\n",
      "[CV] max_features=0.75, max_samples=1.0, n_estimators=1000 ...........\n",
      "[CV]  max_features=0.75, max_samples=1.0, n_estimators=1000, score=0.918605 -   3.8s\n",
      "[CV] max_features=0.75, max_samples=1.0, n_estimators=1000 ...........\n",
      "[CV]  max_features=0.75, max_samples=1.0, n_estimators=1000, score=0.953488 -   3.9s\n",
      "[CV] max_features=1.0, max_samples=0.25, n_estimators=4 ..............\n",
      "[CV]  max_features=0.75, max_samples=1.0, n_estimators=1000, score=0.929412 -   3.8s\n",
      "[CV] max_features=1.0, max_samples=0.25, n_estimators=4 ..............\n",
      "[CV]  max_features=1.0, max_samples=0.25, n_estimators=4, score=0.906977 -   0.1s\n",
      "[CV] max_features=1.0, max_samples=0.25, n_estimators=4 ..............\n",
      "[CV]  max_features=1.0, max_samples=0.25, n_estimators=4, score=0.918605 -   0.0s\n",
      "[CV] max_features=1.0, max_samples=0.25, n_estimators=4 ..............\n",
      "[CV]  max_features=1.0, max_samples=0.25, n_estimators=4, score=0.905882 -   0.0s\n",
      "[CV] max_features=1.0, max_samples=0.25, n_estimators=4 ..............\n",
      "[CV]  max_features=1.0, max_samples=0.25, n_estimators=4, score=0.941176 -   0.0s\n",
      "[CV] max_features=1.0, max_samples=0.25, n_estimators=10 .............\n",
      "[CV]  max_features=1.0, max_samples=0.25, n_estimators=4, score=0.940476 -   0.0s\n",
      "[CV] max_features=1.0, max_samples=0.25, n_estimators=10 .............\n",
      "[CV]  max_features=1.0, max_samples=0.25, n_estimators=10, score=0.918605 -   0.0s\n",
      "[CV] max_features=1.0, max_samples=0.25, n_estimators=10 .............\n",
      "[CV]  max_features=1.0, max_samples=0.25, n_estimators=10, score=0.965116 -   0.0s\n",
      "[CV] max_features=1.0, max_samples=0.25, n_estimators=10 .............\n",
      "[CV]  max_features=1.0, max_samples=0.25, n_estimators=10, score=0.917647 -   0.1s\n",
      "[CV]  max_features=1.0, max_samples=0.25, n_estimators=10, score=0.964706 -   0.0s\n",
      "[CV] max_features=1.0, max_samples=0.25, n_estimators=10 .............\n",
      "[CV] max_features=1.0, max_samples=0.25, n_estimators=25 .............\n"
     ]
    },
    {
     "name": "stderr",
     "output_type": "stream",
     "text": [
      "[Parallel(n_jobs=-1)]: Done 227 tasks      | elapsed:   42.1s\n"
     ]
    },
    {
     "name": "stdout",
     "output_type": "stream",
     "text": [
      "[CV]  max_features=1.0, max_samples=0.25, n_estimators=10, score=0.940476 -   0.1s\n",
      "[CV]  max_features=1.0, max_samples=0.25, n_estimators=25, score=0.930233 -   0.1s\n",
      "[CV] max_features=1.0, max_samples=0.25, n_estimators=25 .............\n",
      "[CV] max_features=1.0, max_samples=0.25, n_estimators=25 .............\n",
      "[CV]  max_features=1.0, max_samples=0.25, n_estimators=25, score=0.941860 -   0.1s\n",
      "[CV] max_features=1.0, max_samples=0.25, n_estimators=25 .............\n",
      "[CV]  max_features=1.0, max_samples=0.25, n_estimators=25, score=0.905882 -   0.1s\n",
      "[CV] max_features=1.0, max_samples=0.25, n_estimators=25 .............\n",
      "[CV]  max_features=1.0, max_samples=0.25, n_estimators=25, score=0.976471 -   0.1s\n",
      "[CV] max_features=1.0, max_samples=0.25, n_estimators=50 .............\n",
      "[CV]  max_features=1.0, max_samples=0.25, n_estimators=25, score=0.940476 -   0.1s\n",
      "[CV] max_features=1.0, max_samples=0.25, n_estimators=50 .............\n",
      "[CV]  max_features=1.0, max_samples=0.25, n_estimators=50, score=0.930233 -   0.2s\n",
      "[CV]  max_features=1.0, max_samples=0.25, n_estimators=50, score=0.941860 -   0.2s\n",
      "[CV] max_features=1.0, max_samples=0.25, n_estimators=50 .............\n",
      "[CV] max_features=1.0, max_samples=0.25, n_estimators=50 .............\n",
      "[CV]  max_features=1.0, max_samples=0.25, n_estimators=50, score=0.964706 -   0.2s\n",
      "[CV] max_features=1.0, max_samples=0.25, n_estimators=50 .............\n",
      "[CV]  max_features=1.0, max_samples=0.25, n_estimators=50, score=0.929412 -   0.3s\n",
      "[CV] max_features=1.0, max_samples=0.25, n_estimators=1000 ...........\n",
      "[CV]  max_features=1.0, max_samples=0.25, n_estimators=50, score=0.952381 -   0.2s\n",
      "[CV] max_features=1.0, max_samples=0.25, n_estimators=1000 ...........\n",
      "[CV]  max_features=0.75, max_samples=1.0, n_estimators=1000, score=0.976471 -   4.6s\n",
      "[CV] max_features=1.0, max_samples=0.25, n_estimators=1000 ...........\n"
     ]
    },
    {
     "name": "stderr",
     "output_type": "stream",
     "text": [
      "[Parallel(n_jobs=-1)]: Done 244 tasks      | elapsed:   44.5s\n"
     ]
    },
    {
     "name": "stdout",
     "output_type": "stream",
     "text": [
      "[CV]  max_features=1.0, max_samples=0.25, n_estimators=1000, score=0.953488 -   3.2s\n",
      "[CV] max_features=1.0, max_samples=0.25, n_estimators=1000 ...........\n",
      "[CV]  max_features=0.75, max_samples=1.0, n_estimators=1000, score=0.940476 -   4.7s\n",
      "[CV] max_features=1.0, max_samples=0.25, n_estimators=1000 ...........\n",
      "[CV]  max_features=1.0, max_samples=0.25, n_estimators=1000, score=0.906977 -   3.5s\n",
      "[CV] max_features=1.0, max_samples=0.5, n_estimators=4 ...............\n",
      "[CV]  max_features=1.0, max_samples=0.5, n_estimators=4, score=0.918605 -   0.0s\n",
      "[CV] max_features=1.0, max_samples=0.5, n_estimators=4 ...............\n",
      "[CV]  max_features=1.0, max_samples=0.5, n_estimators=4, score=0.953488 -   0.1s\n",
      "[CV] max_features=1.0, max_samples=0.5, n_estimators=4 ...............\n",
      "[CV]  max_features=1.0, max_samples=0.5, n_estimators=4, score=0.929412 -   0.0s\n",
      "[CV] max_features=1.0, max_samples=0.5, n_estimators=4 ...............\n",
      "[CV]  max_features=1.0, max_samples=0.5, n_estimators=4, score=0.941176 -   0.0s\n",
      "[CV] max_features=1.0, max_samples=0.5, n_estimators=4 ...............\n",
      "[CV]  max_features=1.0, max_samples=0.5, n_estimators=4, score=0.928571 -   0.0s\n",
      "[CV] max_features=1.0, max_samples=0.5, n_estimators=10 ..............\n",
      "[CV]  max_features=1.0, max_samples=0.5, n_estimators=10, score=0.918605 -   0.1s\n",
      "[CV] max_features=1.0, max_samples=0.5, n_estimators=10 ..............\n",
      "[CV]  max_features=1.0, max_samples=0.5, n_estimators=10, score=0.953488 -   0.1s\n",
      "[CV] max_features=1.0, max_samples=0.5, n_estimators=10 ..............\n",
      "[CV]  max_features=1.0, max_samples=0.5, n_estimators=10, score=0.905882 -   0.1s\n",
      "[CV] max_features=1.0, max_samples=0.5, n_estimators=10 ..............\n",
      "[CV]  max_features=1.0, max_samples=0.5, n_estimators=10, score=0.941176 -   0.0s\n",
      "[CV] max_features=1.0, max_samples=0.5, n_estimators=10 ..............\n",
      "[CV]  max_features=1.0, max_samples=0.5, n_estimators=10, score=0.940476 -   0.0s\n",
      "[CV] max_features=1.0, max_samples=0.5, n_estimators=25 ..............\n",
      "[CV]  max_features=1.0, max_samples=0.5, n_estimators=25, score=0.930233 -   0.1s\n",
      "[CV] max_features=1.0, max_samples=0.5, n_estimators=25 ..............\n",
      "[CV]  max_features=1.0, max_samples=0.5, n_estimators=25, score=0.953488 -   0.1s\n",
      "[CV] max_features=1.0, max_samples=0.5, n_estimators=25 ..............\n",
      "[CV]  max_features=1.0, max_samples=0.5, n_estimators=25, score=0.929412 -   0.1s\n",
      "[CV] max_features=1.0, max_samples=0.5, n_estimators=25 ..............\n",
      "[CV]  max_features=1.0, max_samples=0.25, n_estimators=1000, score=0.917647 -   3.5s\n",
      "[CV]  max_features=1.0, max_samples=0.5, n_estimators=25, score=0.941176 -   0.1s\n",
      "[CV] max_features=1.0, max_samples=0.5, n_estimators=25 ..............\n",
      "[CV] max_features=1.0, max_samples=0.5, n_estimators=50 ..............\n",
      "[CV]  max_features=1.0, max_samples=0.5, n_estimators=25, score=0.940476 -   0.1s\n",
      "[CV] max_features=1.0, max_samples=0.5, n_estimators=50 ..............\n",
      "[CV]  max_features=1.0, max_samples=0.5, n_estimators=50, score=0.906977 -   0.3s\n",
      "[CV] max_features=1.0, max_samples=0.5, n_estimators=50 ..............\n"
     ]
    },
    {
     "name": "stderr",
     "output_type": "stream",
     "text": [
      "[Parallel(n_jobs=-1)]: Done 263 tasks      | elapsed:   48.2s\n"
     ]
    },
    {
     "name": "stdout",
     "output_type": "stream",
     "text": [
      "[CV]  max_features=1.0, max_samples=0.5, n_estimators=50, score=0.965116 -   0.2s\n",
      "[CV] max_features=1.0, max_samples=0.5, n_estimators=50 ..............\n",
      "[CV]  max_features=1.0, max_samples=0.5, n_estimators=50, score=0.917647 -   0.2s\n",
      "[CV] max_features=1.0, max_samples=0.5, n_estimators=50 ..............\n",
      "[CV]  max_features=1.0, max_samples=0.5, n_estimators=50, score=0.976471 -   0.3s\n",
      "[CV] max_features=1.0, max_samples=0.5, n_estimators=1000 ............\n",
      "[CV]  max_features=1.0, max_samples=0.5, n_estimators=50, score=0.952381 -   0.2s\n",
      "[CV] max_features=1.0, max_samples=0.5, n_estimators=1000 ............\n",
      "[CV]  max_features=1.0, max_samples=0.25, n_estimators=1000, score=0.964706 -   3.5s\n",
      "[CV] max_features=1.0, max_samples=0.5, n_estimators=1000 ............\n",
      "[CV]  max_features=1.0, max_samples=0.25, n_estimators=1000, score=0.940476 -   3.6s\n",
      "[CV] max_features=1.0, max_samples=0.5, n_estimators=1000 ............\n",
      "[CV]  max_features=1.0, max_samples=0.5, n_estimators=1000, score=0.953488 -   3.7s\n",
      "[CV] max_features=1.0, max_samples=0.5, n_estimators=1000 ............\n",
      "[CV]  max_features=1.0, max_samples=0.5, n_estimators=1000, score=0.906977 -   3.9s\n",
      "[CV] max_features=1.0, max_samples=1.0, n_estimators=4 ...............\n",
      "[CV]  max_features=1.0, max_samples=1.0, n_estimators=4, score=0.906977 -   0.1s\n",
      "[CV] max_features=1.0, max_samples=1.0, n_estimators=4 ...............\n",
      "[CV]  max_features=1.0, max_samples=1.0, n_estimators=4, score=0.930233 -   0.0s\n",
      "[CV] max_features=1.0, max_samples=1.0, n_estimators=4 ...............\n",
      "[CV]  max_features=1.0, max_samples=1.0, n_estimators=4, score=0.894118 -   0.0s\n",
      "[CV] max_features=1.0, max_samples=1.0, n_estimators=4 ...............\n",
      "[CV]  max_features=1.0, max_samples=1.0, n_estimators=4, score=0.941176 -   0.0s\n",
      "[CV] max_features=1.0, max_samples=1.0, n_estimators=4 ...............\n",
      "[CV]  max_features=1.0, max_samples=1.0, n_estimators=4, score=0.952381 -   0.0s\n",
      "[CV] max_features=1.0, max_samples=1.0, n_estimators=10 ..............\n",
      "[CV]  max_features=1.0, max_samples=1.0, n_estimators=10, score=0.906977 -   0.1s\n",
      "[CV] max_features=1.0, max_samples=1.0, n_estimators=10 ..............\n",
      "[CV]  max_features=1.0, max_samples=1.0, n_estimators=10, score=0.953488 -   0.0s\n",
      "[CV] max_features=1.0, max_samples=1.0, n_estimators=10 ..............\n",
      "[CV]  max_features=1.0, max_samples=1.0, n_estimators=10, score=0.917647 -   0.1s\n",
      "[CV] max_features=1.0, max_samples=1.0, n_estimators=10 ..............\n",
      "[CV]  max_features=1.0, max_samples=1.0, n_estimators=10, score=0.976471 -   0.0s\n",
      "[CV] max_features=1.0, max_samples=1.0, n_estimators=10 ..............\n",
      "[CV]  max_features=1.0, max_samples=1.0, n_estimators=10, score=0.952381 -   0.1s\n",
      "[CV] max_features=1.0, max_samples=1.0, n_estimators=25 ..............\n",
      "[CV]  max_features=1.0, max_samples=1.0, n_estimators=25, score=0.930233 -   0.1s\n",
      "[CV] max_features=1.0, max_samples=1.0, n_estimators=25 ..............\n"
     ]
    },
    {
     "name": "stderr",
     "output_type": "stream",
     "text": [
      "[Parallel(n_jobs=-1)]: Done 282 tasks      | elapsed:   53.2s\n"
     ]
    },
    {
     "name": "stdout",
     "output_type": "stream",
     "text": [
      "[CV]  max_features=1.0, max_samples=1.0, n_estimators=25, score=0.941860 -   0.2s\n",
      "[CV] max_features=1.0, max_samples=1.0, n_estimators=25 ..............\n",
      "[CV]  max_features=1.0, max_samples=1.0, n_estimators=25, score=0.917647 -   0.1s\n",
      "[CV] max_features=1.0, max_samples=1.0, n_estimators=25 ..............\n",
      "[CV]  max_features=1.0, max_samples=1.0, n_estimators=25, score=0.964706 -   0.2s\n",
      "[CV] max_features=1.0, max_samples=1.0, n_estimators=25 ..............\n",
      "[CV]  max_features=1.0, max_samples=1.0, n_estimators=25, score=0.940476 -   0.1s\n",
      "[CV] max_features=1.0, max_samples=1.0, n_estimators=50 ..............\n",
      "[CV]  max_features=1.0, max_samples=0.5, n_estimators=1000, score=0.952941 -   4.0s\n",
      "[CV] max_features=1.0, max_samples=1.0, n_estimators=50 ..............\n",
      "[CV]  max_features=1.0, max_samples=0.5, n_estimators=1000, score=0.929412 -   4.1s\n",
      "[CV] max_features=1.0, max_samples=1.0, n_estimators=50 ..............\n",
      "[CV]  max_features=1.0, max_samples=1.0, n_estimators=50, score=0.918605 -   0.3s\n",
      "[CV] max_features=1.0, max_samples=1.0, n_estimators=50 ..............\n",
      "[CV]  max_features=1.0, max_samples=1.0, n_estimators=50, score=0.941860 -   0.3s\n",
      "[CV] max_features=1.0, max_samples=1.0, n_estimators=50 ..............\n",
      "[CV]  max_features=1.0, max_samples=1.0, n_estimators=50, score=0.929412 -   0.3s\n",
      "[CV] max_features=1.0, max_samples=1.0, n_estimators=1000 ............\n",
      "[CV]  max_features=1.0, max_samples=1.0, n_estimators=50, score=0.941176 -   0.2s\n",
      "[CV] max_features=1.0, max_samples=1.0, n_estimators=1000 ............\n",
      "[CV]  max_features=1.0, max_samples=1.0, n_estimators=50, score=0.952381 -   0.2s\n",
      "[CV] max_features=1.0, max_samples=1.0, n_estimators=1000 ............\n",
      "[CV]  max_features=1.0, max_samples=0.5, n_estimators=1000, score=0.940476 -   4.2s\n",
      "[CV] max_features=1.0, max_samples=1.0, n_estimators=1000 ............\n",
      "[CV]  max_features=1.0, max_samples=1.0, n_estimators=1000, score=0.918605 -   4.5s\n",
      "[CV] max_features=1.0, max_samples=1.0, n_estimators=1000 ............\n",
      "[CV]  max_features=1.0, max_samples=1.0, n_estimators=1000, score=0.953488 -   4.6s\n",
      "[CV]  max_features=1.0, max_samples=1.0, n_estimators=1000, score=0.929412 -   4.4s\n",
      "[CV]  max_features=1.0, max_samples=1.0, n_estimators=1000, score=0.964706 -   3.7s\n",
      "[CV]  max_features=1.0, max_samples=1.0, n_estimators=1000, score=0.940476 -   2.7s\n"
     ]
    },
    {
     "name": "stderr",
     "output_type": "stream",
     "text": [
      "[Parallel(n_jobs=-1)]: Done 300 out of 300 | elapsed:  1.0min finished\n"
     ]
    },
    {
     "data": {
      "text/plain": [
       "GridSearchCV(cv=5, error_score='raise',\n",
       "       estimator=BaggingClassifier(base_estimator=DecisionTreeClassifier(class_weight=None, criterion='gini', max_depth=2,\n",
       "            max_features=None, max_leaf_nodes=None, min_samples_leaf=1,\n",
       "            min_samples_split=2, min_weight_fraction_leaf=0.0,\n",
       "            presort=False, random_state=None, spl...n_estimators=10, n_jobs=1, oob_score=False,\n",
       "         random_state=None, verbose=0, warm_start=False),\n",
       "       fit_params={}, iid=True, n_jobs=-1,\n",
       "       param_grid={'n_estimators': [4, 10, 25, 50, 1000], 'max_samples': [0.25, 0.5, 1.0], 'max_features': [0.25, 0.5, 0.75, 1.0]},\n",
       "       pre_dispatch='2*n_jobs', refit=True, scoring=None, verbose=10)"
      ]
     },
     "execution_count": 66,
     "metadata": {},
     "output_type": "execute_result"
    }
   ],
   "source": [
    "grid_search_bagging.fit(X_train, y_train)"
   ]
  },
  {
   "cell_type": "code",
   "execution_count": 67,
   "metadata": {
    "collapsed": false
   },
   "outputs": [
    {
     "name": "stdout",
     "output_type": "stream",
     "text": [
      "BaggingClassifier(base_estimator=DecisionTreeClassifier(class_weight=None, criterion='gini', max_depth=2,\n",
      "            max_features=None, max_leaf_nodes=None, min_samples_leaf=1,\n",
      "            min_samples_split=2, min_weight_fraction_leaf=0.0,\n",
      "            presort=False, random_state=None, splitter='best'),\n",
      "         bootstrap=True, bootstrap_features=False, max_features=0.75,\n",
      "         max_samples=0.25, n_estimators=25, n_jobs=1, oob_score=False,\n",
      "         random_state=None, verbose=0, warm_start=False)\n",
      "{'max_features': 0.75, 'max_samples': 0.25, 'n_estimators': 25}\n",
      "0.950704225352\n"
     ]
    }
   ],
   "source": [
    "print grid_search_bagging.best_estimator_\n",
    "print grid_search_bagging.best_params_\n",
    "print grid_search_bagging.best_score_"
   ]
  },
  {
   "cell_type": "code",
   "execution_count": 69,
   "metadata": {
    "collapsed": false
   },
   "outputs": [
    {
     "data": {
      "text/plain": [
       "BaggingClassifier(base_estimator=DecisionTreeClassifier(class_weight=None, criterion='gini', max_depth=2,\n",
       "            max_features=None, max_leaf_nodes=None, min_samples_leaf=1,\n",
       "            min_samples_split=2, min_weight_fraction_leaf=0.0,\n",
       "            presort=False, random_state=None, splitter='best'),\n",
       "         bootstrap=True, bootstrap_features=False, max_features=0.75,\n",
       "         max_samples=0.25, n_estimators=25, n_jobs=1, oob_score=False,\n",
       "         random_state=None, verbose=0, warm_start=False)"
      ]
     },
     "execution_count": 69,
     "metadata": {},
     "output_type": "execute_result"
    }
   ],
   "source": [
    "best_estimator = grid_search_bagging.best_estimator_\n",
    "best_estimator"
   ]
  },
  {
   "cell_type": "code",
   "execution_count": 70,
   "metadata": {
    "collapsed": false
   },
   "outputs": [
    {
     "data": {
      "text/plain": [
       "BaggingClassifier(base_estimator=DecisionTreeClassifier(class_weight=None, criterion='gini', max_depth=2,\n",
       "            max_features=None, max_leaf_nodes=None, min_samples_leaf=1,\n",
       "            min_samples_split=2, min_weight_fraction_leaf=0.0,\n",
       "            presort=False, random_state=None, splitter='best'),\n",
       "         bootstrap=True, bootstrap_features=False, max_features=0.75,\n",
       "         max_samples=0.25, n_estimators=25, n_jobs=1, oob_score=False,\n",
       "         random_state=None, verbose=0, warm_start=False)"
      ]
     },
     "execution_count": 70,
     "metadata": {},
     "output_type": "execute_result"
    }
   ],
   "source": [
    "best_estimator.fit(X_train, y_train)"
   ]
  },
  {
   "cell_type": "code",
   "execution_count": 71,
   "metadata": {
    "collapsed": false
   },
   "outputs": [
    {
     "data": {
      "text/plain": [
       "0.96713615023474175"
      ]
     },
     "execution_count": 71,
     "metadata": {},
     "output_type": "execute_result"
    }
   ],
   "source": [
    "best_estimator.score(X_train, y_train)"
   ]
  },
  {
   "cell_type": "code",
   "execution_count": 72,
   "metadata": {
    "collapsed": true
   },
   "outputs": [],
   "source": [
    "predictions = best_estimator.predict(X_test)"
   ]
  },
  {
   "cell_type": "code",
   "execution_count": 73,
   "metadata": {
    "collapsed": true
   },
   "outputs": [],
   "source": [
    "from sklearn.metrics import confusion_matrix, classification_report"
   ]
  },
  {
   "cell_type": "code",
   "execution_count": 74,
   "metadata": {
    "collapsed": false
   },
   "outputs": [
    {
     "data": {
      "text/plain": [
       "array([[45,  3],\n",
       "       [ 2, 93]])"
      ]
     },
     "execution_count": 74,
     "metadata": {},
     "output_type": "execute_result"
    }
   ],
   "source": [
    "confusion_matrix(y_test, predictions)"
   ]
  },
  {
   "cell_type": "code",
   "execution_count": 75,
   "metadata": {
    "collapsed": false
   },
   "outputs": [
    {
     "name": "stdout",
     "output_type": "stream",
     "text": [
      "             precision    recall  f1-score   support\n",
      "\n",
      "          0       0.96      0.94      0.95        48\n",
      "          1       0.97      0.98      0.97        95\n",
      "\n",
      "avg / total       0.96      0.97      0.96       143\n",
      "\n"
     ]
    }
   ],
   "source": [
    "print classification_report(y_test, predictions)"
   ]
  },
  {
   "cell_type": "code",
   "execution_count": 77,
   "metadata": {
    "collapsed": false
   },
   "outputs": [
    {
     "data": {
      "text/plain": [
       "BaggingClassifier(base_estimator=DecisionTreeClassifier(class_weight=None, criterion='gini', max_depth=2,\n",
       "            max_features=None, max_leaf_nodes=None, min_samples_leaf=1,\n",
       "            min_samples_split=2, min_weight_fraction_leaf=0.0,\n",
       "            presort=False, random_state=None, splitter='best'),\n",
       "         bootstrap=True, bootstrap_features=False, max_features=0.75,\n",
       "         max_samples=0.25, n_estimators=25, n_jobs=1, oob_score=False,\n",
       "         random_state=None, verbose=0, warm_start=False)"
      ]
     },
     "execution_count": 77,
     "metadata": {},
     "output_type": "execute_result"
    }
   ],
   "source": [
    "best_estimator_full_fit = best_estimator\n",
    "best_estimator_full_fit.fit(X, y)"
   ]
  },
  {
   "cell_type": "code",
   "execution_count": 79,
   "metadata": {
    "collapsed": false
   },
   "outputs": [
    {
     "data": {
      "text/plain": [
       "0.95782073813708257"
      ]
     },
     "execution_count": 79,
     "metadata": {},
     "output_type": "execute_result"
    }
   ],
   "source": [
    "best_estimator_full_fit.score(X, y)"
   ]
  },
  {
   "cell_type": "code",
   "execution_count": 80,
   "metadata": {
    "collapsed": true
   },
   "outputs": [],
   "source": [
    "full_predictions = best_estimator_full_fit.predict(X)"
   ]
  },
  {
   "cell_type": "code",
   "execution_count": 81,
   "metadata": {
    "collapsed": false
   },
   "outputs": [
    {
     "data": {
      "text/plain": [
       "array([[197,  15],\n",
       "       [  9, 348]])"
      ]
     },
     "execution_count": 81,
     "metadata": {},
     "output_type": "execute_result"
    }
   ],
   "source": [
    "confusion_matrix(y, full_predictions)"
   ]
  },
  {
   "cell_type": "markdown",
   "metadata": {},
   "source": [
    "## 2 Diabetes and Regression\n",
    "\n",
    "Scikit Learn has a dataset of diabetic patients obtained from this study:\n",
    "\n",
    "http://www4.stat.ncsu.edu/~boos/var.select/diabetes.html\n",
    "\n",
    "http://web.stanford.edu/~hastie/Papers/LARS/LeastAngle_2002.pdf\n",
    "\n",
    "442 diabetes patients were measured on 10 baseline variables: age, sex, body mass index, average blood pressure, and six blood serum measurements.\n",
    "\n",
    "The target is a quantitative measure of disease progression one year after baseline.\n",
    "\n",
    "Repeat the above comparison between a DecisionTreeRegressor and a Bagging version of the same."
   ]
  },
  {
   "cell_type": "markdown",
   "metadata": {},
   "source": [
    "### 2.a Simple comparison\n",
    "1. Load the data and create X and y\n",
    "- Initialize a Decision Tree Regressor and use `cross_val_score` to evaluate its performance. Set crossvalidation to 5-folds. Which score will you use?\n",
    "- Wrap a Bagging Regressor around the Decision Tree Regressor and use `cross_val_score` to evaluate its performance. Set crossvalidation to 5-folds. \n",
    "- Which score is better? Are the score significantly different? How can you judge that?"
   ]
  },
  {
   "cell_type": "code",
   "execution_count": null,
   "metadata": {
    "collapsed": false
   },
   "outputs": [],
   "source": []
  },
  {
   "cell_type": "markdown",
   "metadata": {},
   "source": [
    "### 2.b Grid Search\n",
    "\n",
    "Repeat Grid search as above:\n",
    "\n",
    "1. Initialize a `GridSearchCV` with 5-fold cross validation for the Decision Tree Regressor\n",
    "- Search for few values of the parameters in order to improve the score of the regressor\n",
    "- Use the whole X, y dataset for your test\n",
    "- Check the best\\_score\\_ once you've trained it. Is it better than before?\n",
    "- How does the score of the Grid-searched DT compare with the score of the Bagging DT?\n",
    "- Initialize a GridSearchCV with 5-fold cross validation for the Bagging Decision Tree Regressor\n",
    "- Repeat the search\n",
    "    - Note that you'll have to change parameter names for the `base_estimator`\n",
    "    - Note that there are also additional parameters to change\n",
    "    - Note that you may end up with a grid space too large to search in a short time\n",
    "    - Make use of the `n_jobs` parameter to speed up your grid search\n",
    "- Does the score improve for the Grid-searched Bagging Regressor?\n",
    "- Which score is better?"
   ]
  },
  {
   "cell_type": "code",
   "execution_count": null,
   "metadata": {
    "collapsed": true
   },
   "outputs": [],
   "source": []
  },
  {
   "cell_type": "markdown",
   "metadata": {},
   "source": [
    "## Bonus: Project 6 data\n",
    "\n",
    "Repeat the analysis for the Project 6 Dataset"
   ]
  },
  {
   "cell_type": "code",
   "execution_count": null,
   "metadata": {
    "collapsed": true
   },
   "outputs": [],
   "source": []
  }
 ],
 "metadata": {
  "anaconda-cloud": {},
  "kernelspec": {
   "display_name": "Python [default]",
   "language": "python",
   "name": "python2"
  },
  "language_info": {
   "codemirror_mode": {
    "name": "ipython",
    "version": 2
   },
   "file_extension": ".py",
   "mimetype": "text/x-python",
   "name": "python",
   "nbconvert_exporter": "python",
   "pygments_lexer": "ipython2",
   "version": "2.7.12"
  }
 },
 "nbformat": 4,
 "nbformat_minor": 0
}
