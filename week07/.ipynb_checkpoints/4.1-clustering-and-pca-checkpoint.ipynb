{
 "cells": [
  {
   "cell_type": "markdown",
   "metadata": {},
   "source": [
    "## Lab 4.1"
   ]
  },
  {
   "cell_type": "markdown",
   "metadata": {},
   "source": [
    "#### Setup your imports"
   ]
  },
  {
   "cell_type": "code",
   "execution_count": 1,
   "metadata": {
    "collapsed": false
   },
   "outputs": [],
   "source": [
    "import pandas as pd \n",
    "from sklearn.datasets import fetch_20newsgroups\n",
    "from sklearn.feature_extraction.text import CountVectorizer\n",
    "import numpy as np\n",
    "from sklearn.preprocessing import StandardScaler\n",
    "from sklearn.decomposition import PCA, TruncatedSVD\n",
    "from sklearn.cluster import KMeans\n",
    "from sklearn import metrics\n",
    "import matplotlib.pyplot as plt\n",
    "import seaborn as sns\n",
    "%matplotlib inline"
   ]
  },
  {
   "cell_type": "markdown",
   "metadata": {},
   "source": [
    "#### 1. Pull the training set from the newsgroup data"
   ]
  },
  {
   "cell_type": "code",
   "execution_count": 84,
   "metadata": {
    "collapsed": false
   },
   "outputs": [
    {
     "data": {
      "text/plain": [
       "['description', 'DESCR', 'filenames', 'target_names', 'data', 'target']"
      ]
     },
     "execution_count": 84,
     "metadata": {},
     "output_type": "execute_result"
    }
   ],
   "source": [
    "newsgroups = fetch_20newsgroups(subset='train')\n",
    "newsgroups.keys()"
   ]
  },
  {
   "cell_type": "code",
   "execution_count": 6,
   "metadata": {
    "collapsed": false
   },
   "outputs": [
    {
     "data": {
      "text/html": [
       "<div>\n",
       "<table border=\"1\" class=\"dataframe\">\n",
       "  <thead>\n",
       "    <tr style=\"text-align: right;\">\n",
       "      <th></th>\n",
       "      <th>text</th>\n",
       "    </tr>\n",
       "  </thead>\n",
       "  <tbody>\n",
       "    <tr>\n",
       "      <th>0</th>\n",
       "      <td>From: lerxst@wam.umd.edu (where's my thing)\\nS...</td>\n",
       "    </tr>\n",
       "    <tr>\n",
       "      <th>1</th>\n",
       "      <td>From: guykuo@carson.u.washington.edu (Guy Kuo)...</td>\n",
       "    </tr>\n",
       "    <tr>\n",
       "      <th>2</th>\n",
       "      <td>From: twillis@ec.ecn.purdue.edu (Thomas E Will...</td>\n",
       "    </tr>\n",
       "    <tr>\n",
       "      <th>3</th>\n",
       "      <td>From: jgreen@amber (Joe Green)\\nSubject: Re: W...</td>\n",
       "    </tr>\n",
       "    <tr>\n",
       "      <th>4</th>\n",
       "      <td>From: jcm@head-cfa.harvard.edu (Jonathan McDow...</td>\n",
       "    </tr>\n",
       "  </tbody>\n",
       "</table>\n",
       "</div>"
      ],
      "text/plain": [
       "                                                text\n",
       "0  From: lerxst@wam.umd.edu (where's my thing)\\nS...\n",
       "1  From: guykuo@carson.u.washington.edu (Guy Kuo)...\n",
       "2  From: twillis@ec.ecn.purdue.edu (Thomas E Will...\n",
       "3  From: jgreen@amber (Joe Green)\\nSubject: Re: W...\n",
       "4  From: jcm@head-cfa.harvard.edu (Jonathan McDow..."
      ]
     },
     "execution_count": 6,
     "metadata": {},
     "output_type": "execute_result"
    }
   ],
   "source": [
    "df = pd.DataFrame(newsgroups['data'], columns=['text'])\n",
    "df.head()"
   ]
  },
  {
   "cell_type": "code",
   "execution_count": 10,
   "metadata": {
    "collapsed": false
   },
   "outputs": [
    {
     "name": "stdout",
     "output_type": "stream",
     "text": [
      "From: dfo@vttoulu.tko.vtt.fi (Foxvog Douglas)\n",
      "Subject: Re: Rewording the Second Amendment (ideas)\n",
      "Organization: VTT\n",
      "Lines: 58\n",
      "\n",
      "In article <1r1eu1$4t@transfer.stratus.com> cdt@sw.stratus.com (C. D. Tavares) writes:\n",
      ">In article <1993Apr20.083057.16899@ousrvr.oulu.fi>, dfo@vttoulu.tko.vtt.fi (Foxvog Douglas) writes:\n",
      ">> In article <1qv87v$4j3@transfer.stratus.com> cdt@sw.stratus.com (C. D. Tavares) writes:\n",
      ">> >In article <C5n3GI.F8F@ulowell.ulowell.edu>, jrutledg@cs.ulowell.edu (John Lawrence Rutledge) writes:\n",
      ">\n",
      ">> >> The massive destructive power of many modern weapons, makes the\n",
      ">> >> cost of an accidental or crimial usage of these weapons to great.\n",
      ">> >> The weapons of mass destruction need to be in the control of\n",
      ">> >> the government only.  Individual access would result in the\n",
      ">> >> needless deaths of millions.  This makes the right of the people\n",
      ">> >> to keep and bear many modern weapons non-existant.\n",
      "\n",
      ">> >Thanks for stating where you're coming from.  Needless to say, I\n",
      ">> >disagree on every count.\n",
      "\n",
      ">> You believe that individuals should have the right to own weapons of\n",
      ">> mass destruction?  I find it hard to believe that you would support a \n",
      ">> neighbor's right to keep nuclear weapons, biological weapons, and nerve\n",
      ">> gas on his/her property.  \n",
      "\n",
      ">> If we cannot even agree on keeping weapons of mass destruction out of\n",
      ">> the hands of individuals, can there be any hope for us?\n",
      "\n",
      ">I don't sign any blank checks.\n",
      "\n",
      "Of course.  The term must be rigidly defined in any bill.\n",
      "\n",
      ">When Doug Foxvog says \"weapons of mass destruction,\" he means CBW and\n",
      ">nukes.  When Sarah Brady says \"weapons of mass destruction\" she means\n",
      ">Street Sweeper shotguns and semi-automatic SKS rifles.  \n",
      "\n",
      "I doubt she uses this term for that.  You are using a quote allegedly\n",
      "from her, can you back it up?\n",
      "\n",
      ">When John\n",
      ">Lawrence Rutledge says \"weapons of mass destruction,\" and then immediately\n",
      ">follows it with:\n",
      "\n",
      ">>> The US has thousands of people killed each year by handguns,\n",
      ">>> this number can easily be reduced by putting reasonable restrictions\n",
      ">>> on them.\n",
      "\n",
      ">...what does Rutledge mean by the term?\n",
      "\n",
      "I read the article as presenting first an argument about weapons of mass\n",
      "destruction (as commonly understood) and then switching to other topics.\n",
      "The first point evidently was to show that not all weapons should be\n",
      "allowed, and then the later analysis was, given this understanding, to\n",
      "consider another class.\n",
      "\n",
      ">cdt@rocket.sw.stratus.com   --If you believe that I speak for my company,\n",
      ">OR cdt@vos.stratus.com        write today for my special Investors' Packet...\n",
      "\n",
      "\n",
      "\n",
      "-- \n",
      "doug foxvog\n",
      "douglas.foxvog@vtt.fi\n",
      "\n"
     ]
    }
   ],
   "source": [
    "print df.iloc[5,0]"
   ]
  },
  {
   "cell_type": "code",
   "execution_count": 11,
   "metadata": {
    "collapsed": false
   },
   "outputs": [
    {
     "data": {
      "text/plain": [
       "(11314, 1)"
      ]
     },
     "execution_count": 11,
     "metadata": {},
     "output_type": "execute_result"
    }
   ],
   "source": [
    "df.shape"
   ]
  },
  {
   "cell_type": "code",
   "execution_count": 12,
   "metadata": {
    "collapsed": true
   },
   "outputs": [],
   "source": [
    "df['text_lower'] = df['text'].str.lower()"
   ]
  },
  {
   "cell_type": "code",
   "execution_count": 13,
   "metadata": {
    "collapsed": false
   },
   "outputs": [
    {
     "data": {
      "text/plain": [
       "0    from: lerxst@wam.umd.edu (where's my thing)\\ns...\n",
       "1    from: guykuo@carson.u.washington.edu (guy kuo)...\n",
       "2    from: twillis@ec.ecn.purdue.edu (thomas e will...\n",
       "3    from: jgreen@amber (joe green)\\nsubject: re: w...\n",
       "4    from: jcm@head-cfa.harvard.edu (jonathan mcdow...\n",
       "Name: text_lower, dtype: object"
      ]
     },
     "execution_count": 13,
     "metadata": {},
     "output_type": "execute_result"
    }
   ],
   "source": [
    "df['text_lower'].head()"
   ]
  },
  {
   "cell_type": "code",
   "execution_count": null,
   "metadata": {
    "collapsed": true
   },
   "outputs": [],
   "source": []
  },
  {
   "cell_type": "markdown",
   "metadata": {},
   "source": [
    "#### 2. Create the vectorizer "
   ]
  },
  {
   "cell_type": "code",
   "execution_count": 18,
   "metadata": {
    "collapsed": true
   },
   "outputs": [],
   "source": [
    "count_vectorizer = CountVectorizer(stop_words='english',\n",
    "                                   max_features=10000)"
   ]
  },
  {
   "cell_type": "code",
   "execution_count": 19,
   "metadata": {
    "collapsed": true
   },
   "outputs": [],
   "source": [
    "corpus_1 = count_vectorizer.fit_transform(df['text_lower'].values)"
   ]
  },
  {
   "cell_type": "code",
   "execution_count": 20,
   "metadata": {
    "collapsed": false
   },
   "outputs": [
    {
     "data": {
      "text/plain": [
       "<11314x10000 sparse matrix of type '<type 'numpy.int64'>'\n",
       "\twith 1004156 stored elements in Compressed Sparse Row format>"
      ]
     },
     "execution_count": 20,
     "metadata": {},
     "output_type": "execute_result"
    }
   ],
   "source": [
    "corpus_1"
   ]
  },
  {
   "cell_type": "code",
   "execution_count": null,
   "metadata": {
    "collapsed": true
   },
   "outputs": [],
   "source": []
  },
  {
   "cell_type": "markdown",
   "metadata": {},
   "source": [
    "#### 3. Create the Truncated Singular Value Decomposition"
   ]
  },
  {
   "cell_type": "code",
   "execution_count": 21,
   "metadata": {
    "collapsed": true
   },
   "outputs": [],
   "source": [
    "tsvd = TruncatedSVD()"
   ]
  },
  {
   "cell_type": "code",
   "execution_count": 22,
   "metadata": {
    "collapsed": true
   },
   "outputs": [],
   "source": [
    "tsvd_word_data = tsvd.fit_transform(corpus_1)"
   ]
  },
  {
   "cell_type": "code",
   "execution_count": 23,
   "metadata": {
    "collapsed": false
   },
   "outputs": [
    {
     "data": {
      "text/plain": [
       "array([[  1.17834551e-03,  -8.44785403e-01],\n",
       "       [  1.52753858e-03,   2.07927809e-01],\n",
       "       [  1.58567063e-03,   3.48148501e-01],\n",
       "       ..., \n",
       "       [  4.77910886e-04,   1.18576784e-01],\n",
       "       [  1.36892826e-03,   2.36903533e-01],\n",
       "       [  1.74614197e-03,   2.01831445e-01]])"
      ]
     },
     "execution_count": 23,
     "metadata": {},
     "output_type": "execute_result"
    }
   ],
   "source": [
    "tsvd_word_data"
   ]
  },
  {
   "cell_type": "code",
   "execution_count": 24,
   "metadata": {
    "collapsed": false
   },
   "outputs": [
    {
     "data": {
      "text/plain": [
       "(11314, 2)"
      ]
     },
     "execution_count": 24,
     "metadata": {},
     "output_type": "execute_result"
    }
   ],
   "source": [
    "tsvd_word_data.shape"
   ]
  },
  {
   "cell_type": "code",
   "execution_count": 25,
   "metadata": {
    "collapsed": true
   },
   "outputs": [],
   "source": [
    "targets = pd.DataFrame(newsgroups['target'], columns=['target_names'])"
   ]
  },
  {
   "cell_type": "code",
   "execution_count": 27,
   "metadata": {
    "collapsed": false
   },
   "outputs": [
    {
     "name": "stdout",
     "output_type": "stream",
     "text": [
      "(11314, 1)\n"
     ]
    },
    {
     "data": {
      "text/html": [
       "<div>\n",
       "<table border=\"1\" class=\"dataframe\">\n",
       "  <thead>\n",
       "    <tr style=\"text-align: right;\">\n",
       "      <th></th>\n",
       "      <th>target_names</th>\n",
       "    </tr>\n",
       "  </thead>\n",
       "  <tbody>\n",
       "    <tr>\n",
       "      <th>0</th>\n",
       "      <td>7</td>\n",
       "    </tr>\n",
       "    <tr>\n",
       "      <th>1</th>\n",
       "      <td>4</td>\n",
       "    </tr>\n",
       "    <tr>\n",
       "      <th>2</th>\n",
       "      <td>4</td>\n",
       "    </tr>\n",
       "    <tr>\n",
       "      <th>3</th>\n",
       "      <td>1</td>\n",
       "    </tr>\n",
       "    <tr>\n",
       "      <th>4</th>\n",
       "      <td>14</td>\n",
       "    </tr>\n",
       "  </tbody>\n",
       "</table>\n",
       "</div>"
      ],
      "text/plain": [
       "   target_names\n",
       "0             7\n",
       "1             4\n",
       "2             4\n",
       "3             1\n",
       "4            14"
      ]
     },
     "execution_count": 27,
     "metadata": {},
     "output_type": "execute_result"
    }
   ],
   "source": [
    "print targets.shape\n",
    "targets.head()"
   ]
  },
  {
   "cell_type": "code",
   "execution_count": 30,
   "metadata": {
    "collapsed": false
   },
   "outputs": [
    {
     "data": {
      "text/plain": [
       "10    600\n",
       "15    599\n",
       "8     598\n",
       "9     597\n",
       "11    595\n",
       "13    594\n",
       "7     594\n",
       "14    593\n",
       "5     593\n",
       "12    591\n",
       "2     591\n",
       "3     590\n",
       "6     585\n",
       "1     584\n",
       "4     578\n",
       "17    564\n",
       "16    546\n",
       "0     480\n",
       "18    465\n",
       "19    377\n",
       "Name: target_names, dtype: int64"
      ]
     },
     "execution_count": 30,
     "metadata": {},
     "output_type": "execute_result"
    }
   ],
   "source": [
    "targets['target_names'].value_counts()"
   ]
  },
  {
   "cell_type": "code",
   "execution_count": 31,
   "metadata": {
    "collapsed": false
   },
   "outputs": [
    {
     "data": {
      "text/plain": [
       "[(0, 'alt.atheism'),\n",
       " (1, 'comp.graphics'),\n",
       " (2, 'comp.os.ms-windows.misc'),\n",
       " (3, 'comp.sys.ibm.pc.hardware'),\n",
       " (4, 'comp.sys.mac.hardware'),\n",
       " (5, 'comp.windows.x'),\n",
       " (6, 'misc.forsale'),\n",
       " (7, 'rec.autos'),\n",
       " (8, 'rec.motorcycles'),\n",
       " (9, 'rec.sport.baseball'),\n",
       " (10, 'rec.sport.hockey'),\n",
       " (11, 'sci.crypt'),\n",
       " (12, 'sci.electronics'),\n",
       " (13, 'sci.med'),\n",
       " (14, 'sci.space'),\n",
       " (15, 'soc.religion.christian'),\n",
       " (16, 'talk.politics.guns'),\n",
       " (17, 'talk.politics.mideast'),\n",
       " (18, 'talk.politics.misc'),\n",
       " (19, 'talk.religion.misc')]"
      ]
     },
     "execution_count": 31,
     "metadata": {},
     "output_type": "execute_result"
    }
   ],
   "source": [
    "zip(range(0, 21), newsgroups['target_names'])"
   ]
  },
  {
   "cell_type": "code",
   "execution_count": 32,
   "metadata": {
    "collapsed": false
   },
   "outputs": [
    {
     "data": {
      "text/plain": [
       "0    0\n",
       "1    0\n",
       "2    0\n",
       "3    0\n",
       "4    0\n",
       "Name: target_names, dtype: int64"
      ]
     },
     "execution_count": 32,
     "metadata": {},
     "output_type": "execute_result"
    }
   ],
   "source": [
    "y = targets['target_names'].apply(lambda x: 1 if x == 16 else 0)\n",
    "y.head()"
   ]
  },
  {
   "cell_type": "code",
   "execution_count": 33,
   "metadata": {
    "collapsed": false
   },
   "outputs": [
    {
     "data": {
      "text/plain": [
       "5      1\n",
       "39     1\n",
       "67     1\n",
       "81     1\n",
       "127    1\n",
       "Name: target_names, dtype: int64"
      ]
     },
     "execution_count": 33,
     "metadata": {},
     "output_type": "execute_result"
    }
   ],
   "source": [
    "y[y==1].head()"
   ]
  },
  {
   "cell_type": "code",
   "execution_count": 35,
   "metadata": {
    "collapsed": false
   },
   "outputs": [
    {
     "name": "stdout",
     "output_type": "stream",
     "text": [
      "From: bressler@iftccu.ca.boeing.com (Rick Bressler)\n",
      "Subject: Re: Gun Lovers (was Re: My Gun is like my American Express Card)\n",
      "Organization: Boeing Commercial Airplane Group\n",
      "Lines: 104\n",
      "\n",
      "/ iftccu:talk.politics.guns / vincent@cad.gatech.edu (Vincent Fox) / 10:34 am  Apr 14, 1993 /\n",
      "\n",
      "This isn't rec.guns, so maybe this is getting a bet technical, but I\n",
      "can't resist....\n",
      "\n",
      "> - A revolver also has the advantage that if it misfires you just pull\n",
      ">   the trigger again.\n",
      "\n",
      "Sometimes.....  Depends on WHY it misfired....\n",
      "\n",
      "> - A double-action revolver (almost all of them) can be hand-cocked first,\n",
      ">   but will fire merely by pulling the trigger.\n",
      "\n",
      "I can't imagine doing much combat type shooting single action.....\n",
      "\n",
      "> - A misfire in a revolver merely means you must pull the trigger again\n",
      ">   to rotate to the next round.\n",
      "\n",
      "Assuming the cylinder WILL rotate....\n",
      "\n",
      "> - A revolver can be carried with the 6th chamber empty and under the\n",
      ">   hammer for maximum safety, but still can be drawn and fired with an\n",
      ">   easy motion, even one handed.\n",
      "\n",
      "Never hurts to err on the side of safety, but if you've got one of those\n",
      "'new fangled' hammer blocks or transfer bar safeties, it's unnecessarily\n",
      "redundant.  I'd rather have the extra round.\n",
      "\n",
      "> - Speedloaders for a revolver allow reloads almost as fast as magazines\n",
      ">   on semi-autos. Can be faster depending on users.\n",
      "\n",
      "Quite true.  Speed loaders are a little less convenient to pack around\n",
      "than magazines though.\n",
      "\n",
      "> - A misfire in a semi-auto will require you to clear a jammed shell\n",
      ">   first, time spent which can be fatal. And a vital second or so is often\n",
      ">   lost as you realize \"hey, it's jammed!\" before starting to do anything\n",
      ">   about clearing it.\n",
      "\n",
      "True, but this is a training function.\n",
      "\n",
      "> - Most semi-autos must have the slide worked to chamber the first round\n",
      ">   and cock the hammer. Some police carry their semi-autos with the\n",
      ">   chamber loaded and hammer cocked, but a safety engaged. I do not consider\n",
      ">   this safe however. You must trade-off safety to get the same speed\n",
      ">   of employment as a revolver.\n",
      "\n",
      "Cocked and locked for single actions or hammer down on double actions\n",
      "are the only carry modes that make sense...  The 80 series Colt's for\n",
      "example are quite safe to carry this way.\n",
      "\n",
      "> - There are some double-action semi-autos out there, but the complexity of\n",
      ">   operation of many of them requires more training.\n",
      "\n",
      "Agreed.\n",
      "\n",
      "Now that I've shot off my mouth a bit, let me back some of this up.  It\n",
      "is true that a simple misfire on a revolver doesn't cost you much.  On\n",
      "the other hand, I've had all sorts of interesting things happen over the\n",
      "years.  For example, I've had FACTORY ammunition that has had high\n",
      "primers.  A high primer will tie your revolver up somewhere from seconds\n",
      "to minutes while you try to pound the action open to clear the problem.\n",
      "An auto?  Jack the slide and continue.\n",
      "\n",
      "I've had bullets come out of the case, keeping the cylinder from\n",
      "turning, see clearing paragraph above.  About the WORST that can happen\n",
      "with a semi auto is a double feed.  This can be cleared in seconds.\n",
      "\n",
      "Most revolvers are more 'fragile' then semi auto's.  There are all sorts\n",
      "of close tolerance parts and fitting involved.  Dropping the gun, or a\n",
      "blow to the gun or all sorts of things can take it out of action.  Many\n",
      "of the problems that can be cured on the spot with a (quality) semi auto\n",
      "take a gun smith for a revolver.  In short a revolver MAY be less likely\n",
      "to malfunction, but as a rule when it does, you're out of the fight.\n",
      "The majority of malfunctions that occur with semi autos does not fall\n",
      "into that category.\n",
      "\n",
      "Vincint makes many good points in this post, but leaves off the opposing\n",
      "view of most of them.  A real good starting place is Ayoob's \"The Semi\n",
      "Auto Pistol for Police and Self Defense.\"\n",
      "\n",
      "In general, I'd agree, the revolver is an excellent first gun and self\n",
      "defense weapon for somebody that does not have the time, and inclination\n",
      "that is necessary for the training and practice needed to use a semi\n",
      "auto effectively as a self defense arm.\n",
      "\n",
      "Most cops are notoriously indifferent to firearms.  If the department\n",
      "isn't going to train them, they aren't going to take the time on their\n",
      "own.  There is no doubt that training is an issue.  The amount of\n",
      "training required for effective use of a semi auto is probably several\n",
      "times that of a revolver.  Many cops don't bother.\n",
      "\n",
      "For myself, I'd hate to be limited to one or the other.  I'd rather pick\n",
      "what fits better with my personal inclination, what I'm wearing that day\n",
      "and so on.  Like the Moderator on rec.guns says, buy em all!\n",
      "\n",
      "That said, I have to admit that often my advice to people thinking of\n",
      "buying their first defense arm is (right after taking a class) get a\n",
      "Ruger or Smith revolver....  (Sorry Colt fans.  Colt revolvers are ok\n",
      "too!)\n",
      "\n",
      "If this post had gone the other way, I'd be arguing for revolvers. :-)\n",
      "\n",
      "Rick.\n",
      "\n"
     ]
    }
   ],
   "source": [
    "print df.iloc[39,0]"
   ]
  },
  {
   "cell_type": "code",
   "execution_count": 37,
   "metadata": {
    "collapsed": false
   },
   "outputs": [],
   "source": [
    "from sklearn.ensemble import RandomForestClassifier\n",
    "from sklearn.cross_validation import train_test_split"
   ]
  },
  {
   "cell_type": "code",
   "execution_count": 39,
   "metadata": {
    "collapsed": false
   },
   "outputs": [],
   "source": [
    "def tts_and_model(x, y):\n",
    "    x_train, x_test, y_train, y_test = train_test_split(x, y, test_size=0.3)\n",
    "    rf = RandomForestClassifier()\n",
    "    rf.fit(x_train, y_train)\n",
    "    print rf.score(x_test, y_test)"
   ]
  },
  {
   "cell_type": "code",
   "execution_count": 40,
   "metadata": {
    "collapsed": false
   },
   "outputs": [
    {
     "name": "stdout",
     "output_type": "stream",
     "text": [
      "0.950810014728\n"
     ]
    }
   ],
   "source": [
    "tts_and_model(tsvd_word_data, y)"
   ]
  },
  {
   "cell_type": "code",
   "execution_count": 41,
   "metadata": {
    "collapsed": true
   },
   "outputs": [],
   "source": [
    "tsvd_200 = TruncatedSVD(n_components=200)\n",
    "tsvd_200_words = tsvd_200.fit_transform(corpus_1)"
   ]
  },
  {
   "cell_type": "code",
   "execution_count": 42,
   "metadata": {
    "collapsed": false
   },
   "outputs": [
    {
     "name": "stdout",
     "output_type": "stream",
     "text": [
      "0.956111929308\n"
     ]
    }
   ],
   "source": [
    "tts_and_model(tsvd_200_words, y)"
   ]
  },
  {
   "cell_type": "code",
   "execution_count": 43,
   "metadata": {
    "collapsed": false
   },
   "outputs": [
    {
     "data": {
      "text/plain": [
       "0    0\n",
       "1    0\n",
       "2    0\n",
       "3    0\n",
       "4    0\n",
       "Name: target_names, dtype: int64"
      ]
     },
     "execution_count": 43,
     "metadata": {},
     "output_type": "execute_result"
    }
   ],
   "source": [
    "electronics_y = targets['target_names'].apply(lambda x: 1 if x == 12 else 0)\n",
    "electronics_y.head()"
   ]
  },
  {
   "cell_type": "code",
   "execution_count": 46,
   "metadata": {
    "collapsed": false
   },
   "outputs": [
    {
     "name": "stdout",
     "output_type": "stream",
     "text": [
      "0.938733431517\n",
      "0.950515463918\n"
     ]
    }
   ],
   "source": [
    "tts_and_model(tsvd_word_data, electronics_y)\n",
    "tts_and_model(tsvd_200_words, electronics_y)"
   ]
  },
  {
   "cell_type": "code",
   "execution_count": 47,
   "metadata": {
    "collapsed": false
   },
   "outputs": [
    {
     "name": "stdout",
     "output_type": "stream",
     "text": [
      "0.0630338733432\n",
      "0.251840942563\n"
     ]
    }
   ],
   "source": [
    "# All 20 classes at once\n",
    "tts_and_model(tsvd_word_data, targets['target_names'])\n",
    "tts_and_model(tsvd_200_words, targets['target_names'])"
   ]
  },
  {
   "cell_type": "code",
   "execution_count": null,
   "metadata": {
    "collapsed": true
   },
   "outputs": [],
   "source": []
  },
  {
   "cell_type": "markdown",
   "metadata": {},
   "source": [
    "#### 4. Setup your k-means clustering"
   ]
  },
  {
   "cell_type": "code",
   "execution_count": 48,
   "metadata": {
    "collapsed": true
   },
   "outputs": [],
   "source": [
    "km = KMeans(n_clusters=2)"
   ]
  },
  {
   "cell_type": "code",
   "execution_count": 49,
   "metadata": {
    "collapsed": false
   },
   "outputs": [
    {
     "data": {
      "text/plain": [
       "array([[-0.02711467, -0.16019924],\n",
       "       [-0.02711296, -0.033471  ],\n",
       "       [-0.02711267, -0.01659088],\n",
       "       [-0.02710846, -0.02452862],\n",
       "       [-0.02711081, -0.02471534]])"
      ]
     },
     "execution_count": 49,
     "metadata": {},
     "output_type": "execute_result"
    }
   ],
   "source": [
    "tsvd_word_data_standardized = StandardScaler().fit_transform(tsvd_word_data)\n",
    "tsvd_word_data_standardized[0:5]"
   ]
  },
  {
   "cell_type": "code",
   "execution_count": 50,
   "metadata": {
    "collapsed": false
   },
   "outputs": [
    {
     "data": {
      "text/plain": [
       "KMeans(copy_x=True, init='k-means++', max_iter=300, n_clusters=2, n_init=10,\n",
       "    n_jobs=1, precompute_distances='auto', random_state=None, tol=0.0001,\n",
       "    verbose=0)"
      ]
     },
     "execution_count": 50,
     "metadata": {},
     "output_type": "execute_result"
    }
   ],
   "source": [
    "km.fit(tsvd_word_data_standardized)"
   ]
  },
  {
   "cell_type": "code",
   "execution_count": 51,
   "metadata": {
    "collapsed": false
   },
   "outputs": [
    {
     "data": {
      "text/plain": [
       "0    11303\n",
       "1       11\n",
       "dtype: int64"
      ]
     },
     "execution_count": 51,
     "metadata": {},
     "output_type": "execute_result"
    }
   ],
   "source": [
    "pd.Series(km.labels_).value_counts()"
   ]
  },
  {
   "cell_type": "code",
   "execution_count": 56,
   "metadata": {
    "collapsed": false
   },
   "outputs": [
    {
     "data": {
      "image/png": "[encoded data removed]",
      "text/plain": [
       "<matplotlib.figure.Figure at 0x7efeed40dd90>"
      ]
     },
     "metadata": {},
     "output_type": "display_data"
    }
   ],
   "source": [
    "plt.scatter(tsvd_word_data[:,0], tsvd_word_data[:,1], c=[km.labels_], cmap='viridis')\n",
    "plt.xlabel('TSVD Component 1')\n",
    "plt.ylabel('TSVD Component 2')\n",
    "plt.title('Scatter plot of KMeans, 2 Cluster')\n",
    "# plt.ylim([-50, 150])\n",
    "# plt.xlim([-10, 10])\n",
    "plt.show()"
   ]
  },
  {
   "cell_type": "code",
   "execution_count": 66,
   "metadata": {
    "collapsed": true
   },
   "outputs": [],
   "source": [
    "def kmeans_and_graph(x, k):\n",
    "    km = KMeans(n_clusters=k)\n",
    "    km.fit(x)\n",
    "    plt.figure(figsize=(20, 16))\n",
    "    plt.scatter(tsvd_word_data[:,0], tsvd_word_data[:,1], c=[km.labels_], cmap='viridis', s=50)\n",
    "    plt.xlabel('TSVD Component 1')\n",
    "    plt.ylabel('TSVD Component 2')\n",
    "    plt.title('Scatter plot of KMeans, %s Cluster' % k)\n",
    "    plt.ylim([-10, 100])\n",
    "    plt.xlim([-1, 10])\n",
    "    plt.show()"
   ]
  },
  {
   "cell_type": "code",
   "execution_count": 67,
   "metadata": {
    "collapsed": false
   },
   "outputs": [
    {
     "data": {
      "image/png": "[encoded data removed]",
      "text/plain": [
       "<matplotlib.figure.Figure at 0x7efeedb0b390>"
      ]
     },
     "metadata": {},
     "output_type": "display_data"
    }
   ],
   "source": [
    "kmeans_and_graph(tsvd_word_data, 20)"
   ]
  },
  {
   "cell_type": "code",
   "execution_count": 79,
   "metadata": {
    "collapsed": true
   },
   "outputs": [],
   "source": [
    "def silhouette_selection(x, k):\n",
    "    scores = []\n",
    "    for iteration in range(10, k):\n",
    "        print 'Iteration:', iteration\n",
    "        km = KMeans(n_clusters=iteration)\n",
    "        km.fit(x)\n",
    "        scores.append((iteration, metrics.silhouette_score(x, km.labels_)))\n",
    "    ks = [k[0] for k in scores]\n",
    "    sils = [k[1] for k in scores]\n",
    "    plt.plot(ks, sils)\n",
    "    plt.xlabel('Silhouette score')\n",
    "    plt.ylabel('K in KMeans')\n",
    "    plt.show()\n",
    "    print scores"
   ]
  },
  {
   "cell_type": "code",
   "execution_count": 74,
   "metadata": {
    "collapsed": false
   },
   "outputs": [
    {
     "name": "stdout",
     "output_type": "stream",
     "text": [
      "Iteration: 2\n",
      "Iteration: 3\n",
      "Iteration: 4\n",
      "Iteration: 5\n",
      "Iteration: 6\n",
      "Iteration: 7\n",
      "Iteration: 8\n",
      "Iteration: 9\n",
      "Iteration: 10\n",
      "Iteration: 11\n",
      "Iteration: 12\n",
      "Iteration: 13\n",
      "Iteration: 14\n",
      "Iteration: 15\n",
      "Iteration: 16\n",
      "Iteration: 17\n",
      "Iteration: 18\n",
      "Iteration: 19\n",
      "Iteration: 20\n",
      "Iteration: 21\n",
      "Iteration: 22\n",
      "Iteration: 23\n",
      "Iteration: 24\n",
      "Iteration: 25\n"
     ]
    },
    {
     "data": {
      "image/png": "[encoded data removed]",
      "text/plain": [
       "<matplotlib.figure.Figure at 0x7efeee174090>"
      ]
     },
     "metadata": {},
     "output_type": "display_data"
    }
   ],
   "source": [
    "silhouette_selection(tsvd_word_data, 26)"
   ]
  },
  {
   "cell_type": "code",
   "execution_count": 75,
   "metadata": {
    "collapsed": true
   },
   "outputs": [],
   "source": [
    "count_vectorizer_all_words = CountVectorizer(stop_words='english')\n",
    "\n",
    "corpus_2 = count_vectorizer_all_words.fit_transform(df['text_lower'].values)"
   ]
  },
  {
   "cell_type": "code",
   "execution_count": 76,
   "metadata": {
    "collapsed": false
   },
   "outputs": [
    {
     "data": {
      "text/plain": [
       "<11314x129797 sparse matrix of type '<type 'numpy.int64'>'\n",
       "\twith 1300761 stored elements in Compressed Sparse Row format>"
      ]
     },
     "execution_count": 76,
     "metadata": {},
     "output_type": "execute_result"
    }
   ],
   "source": [
    "corpus_2"
   ]
  },
  {
   "cell_type": "code",
   "execution_count": 77,
   "metadata": {
    "collapsed": true
   },
   "outputs": [],
   "source": [
    "tv = TruncatedSVD()\n",
    "tsvd_all_words = tv.fit_transform(corpus_2)"
   ]
  },
  {
   "cell_type": "code",
   "execution_count": 78,
   "metadata": {
    "collapsed": false
   },
   "outputs": [
    {
     "data": {
      "text/plain": [
       "array([[ 0.00117836,  0.14741331],\n",
       "       [ 0.00152756,  0.18887381],\n",
       "       [ 0.00158569,  0.30564494],\n",
       "       ..., \n",
       "       [ 0.00047792,  0.10518806],\n",
       "       [ 0.00136895,  0.21547875],\n",
       "       [ 0.00174615,  0.18822067]])"
      ]
     },
     "execution_count": 78,
     "metadata": {},
     "output_type": "execute_result"
    }
   ],
   "source": [
    "tsvd_all_words"
   ]
  },
  {
   "cell_type": "code",
   "execution_count": 80,
   "metadata": {
    "collapsed": false
   },
   "outputs": [
    {
     "name": "stdout",
     "output_type": "stream",
     "text": [
      "Iteration: 10\n",
      "Iteration: 11\n",
      "Iteration: 12\n",
      "Iteration: 13\n",
      "Iteration: 14\n",
      "Iteration: 15\n",
      "Iteration: 16\n",
      "Iteration: 17\n",
      "Iteration: 18\n",
      "Iteration: 19\n",
      "Iteration: 20\n",
      "Iteration: 21\n",
      "Iteration: 22\n",
      "Iteration: 23\n",
      "Iteration: 24\n",
      "Iteration: 25\n"
     ]
    },
    {
     "data": {
      "image/png": "[encoded data removed]",
      "text/plain": [
       "<matplotlib.figure.Figure at 0x7efeed81e550>"
      ]
     },
     "metadata": {},
     "output_type": "display_data"
    },
    {
     "name": "stdout",
     "output_type": "stream",
     "text": [
      "[(10, 0.99911652431151388), (11, 0.99920591077071486), (12, 0.99931916798712517), (13, 0.99595442294243575), (14, 0.97391332254076723), (15, 0.94513289142176604), (16, 0.94395641563517518), (17, 0.94226730683445659), (18, 0.84459206405861897), (19, 0.87951309452378146), (20, 0.6492586812423834), (21, 0.60035826215322863), (22, 0.56680498703882032), (23, 0.58585830466649069), (24, 0.57369186480217726), (25, 0.56025897020295978)]\n"
     ]
    }
   ],
   "source": [
    "silhouette_selection(tsvd_all_words, 26)"
   ]
  },
  {
   "cell_type": "code",
   "execution_count": 109,
   "metadata": {
    "collapsed": false
   },
   "outputs": [
    {
     "data": {
      "text/html": [
       "<div>\n",
       "<table border=\"1\" class=\"dataframe\">\n",
       "  <thead>\n",
       "    <tr style=\"text-align: right;\">\n",
       "      <th></th>\n",
       "      <th>labels</th>\n",
       "    </tr>\n",
       "  </thead>\n",
       "  <tbody>\n",
       "    <tr>\n",
       "      <th>0</th>\n",
       "      <td>7</td>\n",
       "    </tr>\n",
       "    <tr>\n",
       "      <th>1</th>\n",
       "      <td>4</td>\n",
       "    </tr>\n",
       "    <tr>\n",
       "      <th>2</th>\n",
       "      <td>4</td>\n",
       "    </tr>\n",
       "    <tr>\n",
       "      <th>3</th>\n",
       "      <td>1</td>\n",
       "    </tr>\n",
       "    <tr>\n",
       "      <th>4</th>\n",
       "      <td>14</td>\n",
       "    </tr>\n",
       "  </tbody>\n",
       "</table>\n",
       "</div>"
      ],
      "text/plain": [
       "   labels\n",
       "0       7\n",
       "1       4\n",
       "2       4\n",
       "3       1\n",
       "4      14"
      ]
     },
     "execution_count": 109,
     "metadata": {},
     "output_type": "execute_result"
    }
   ],
   "source": [
    "news = pd.DataFrame(newsgroups['target'], columns=['labels'])\n",
    "news.head()"
   ]
  },
  {
   "cell_type": "code",
   "execution_count": 110,
   "metadata": {
    "collapsed": true
   },
   "outputs": [],
   "source": [
    "def text_labels(value):\n",
    "    return newsgroups['target_names'][value]"
   ]
  },
  {
   "cell_type": "code",
   "execution_count": 111,
   "metadata": {
    "collapsed": false
   },
   "outputs": [
    {
     "name": "stdout",
     "output_type": "stream",
     "text": [
      "talk.politics.guns\n"
     ]
    }
   ],
   "source": [
    "print text_labels(16)"
   ]
  },
  {
   "cell_type": "code",
   "execution_count": 112,
   "metadata": {
    "collapsed": false
   },
   "outputs": [
    {
     "data": {
      "text/html": [
       "<div>\n",
       "<table border=\"1\" class=\"dataframe\">\n",
       "  <thead>\n",
       "    <tr style=\"text-align: right;\">\n",
       "      <th></th>\n",
       "      <th>labels</th>\n",
       "      <th>text_label</th>\n",
       "    </tr>\n",
       "  </thead>\n",
       "  <tbody>\n",
       "    <tr>\n",
       "      <th>0</th>\n",
       "      <td>7</td>\n",
       "      <td>rec.autos</td>\n",
       "    </tr>\n",
       "    <tr>\n",
       "      <th>1</th>\n",
       "      <td>4</td>\n",
       "      <td>comp.sys.mac.hardware</td>\n",
       "    </tr>\n",
       "    <tr>\n",
       "      <th>2</th>\n",
       "      <td>4</td>\n",
       "      <td>comp.sys.mac.hardware</td>\n",
       "    </tr>\n",
       "    <tr>\n",
       "      <th>3</th>\n",
       "      <td>1</td>\n",
       "      <td>comp.graphics</td>\n",
       "    </tr>\n",
       "    <tr>\n",
       "      <th>4</th>\n",
       "      <td>14</td>\n",
       "      <td>sci.space</td>\n",
       "    </tr>\n",
       "  </tbody>\n",
       "</table>\n",
       "</div>"
      ],
      "text/plain": [
       "   labels             text_label\n",
       "0       7              rec.autos\n",
       "1       4  comp.sys.mac.hardware\n",
       "2       4  comp.sys.mac.hardware\n",
       "3       1          comp.graphics\n",
       "4      14              sci.space"
      ]
     },
     "execution_count": 112,
     "metadata": {},
     "output_type": "execute_result"
    }
   ],
   "source": [
    "news['text_label'] = news['labels'].apply(text_labels)\n",
    "news.head()"
   ]
  },
  {
   "cell_type": "code",
   "execution_count": 113,
   "metadata": {
    "collapsed": false
   },
   "outputs": [
    {
     "data": {
      "text/plain": [
       "KMeans(copy_x=True, init='k-means++', max_iter=300, n_clusters=20, n_init=10,\n",
       "    n_jobs=1, precompute_distances='auto', random_state=None, tol=0.0001,\n",
       "    verbose=0)"
      ]
     },
     "execution_count": 113,
     "metadata": {},
     "output_type": "execute_result"
    }
   ],
   "source": [
    "final_model = KMeans(n_clusters=20)\n",
    "scaled = StandardScaler().fit_transform(tsvd_all_words)\n",
    "final_model.fit(scaled)"
   ]
  },
  {
   "cell_type": "code",
   "execution_count": 114,
   "metadata": {
    "collapsed": false
   },
   "outputs": [],
   "source": [
    "news = news.join(pd.DataFrame(final_model.labels_, columns=['predicted_group']))"
   ]
  },
  {
   "cell_type": "code",
   "execution_count": 115,
   "metadata": {
    "collapsed": false
   },
   "outputs": [
    {
     "data": {
      "text/html": [
       "<div>\n",
       "<table border=\"1\" class=\"dataframe\">\n",
       "  <thead>\n",
       "    <tr style=\"text-align: right;\">\n",
       "      <th></th>\n",
       "      <th>labels</th>\n",
       "      <th>text_label</th>\n",
       "      <th>predicted_group</th>\n",
       "    </tr>\n",
       "  </thead>\n",
       "  <tbody>\n",
       "    <tr>\n",
       "      <th>0</th>\n",
       "      <td>7</td>\n",
       "      <td>rec.autos</td>\n",
       "      <td>0</td>\n",
       "    </tr>\n",
       "    <tr>\n",
       "      <th>1</th>\n",
       "      <td>4</td>\n",
       "      <td>comp.sys.mac.hardware</td>\n",
       "      <td>0</td>\n",
       "    </tr>\n",
       "    <tr>\n",
       "      <th>2</th>\n",
       "      <td>4</td>\n",
       "      <td>comp.sys.mac.hardware</td>\n",
       "      <td>0</td>\n",
       "    </tr>\n",
       "    <tr>\n",
       "      <th>3</th>\n",
       "      <td>1</td>\n",
       "      <td>comp.graphics</td>\n",
       "      <td>0</td>\n",
       "    </tr>\n",
       "    <tr>\n",
       "      <th>4</th>\n",
       "      <td>14</td>\n",
       "      <td>sci.space</td>\n",
       "      <td>0</td>\n",
       "    </tr>\n",
       "  </tbody>\n",
       "</table>\n",
       "</div>"
      ],
      "text/plain": [
       "   labels             text_label  predicted_group\n",
       "0       7              rec.autos                0\n",
       "1       4  comp.sys.mac.hardware                0\n",
       "2       4  comp.sys.mac.hardware                0\n",
       "3       1          comp.graphics                0\n",
       "4      14              sci.space                0"
      ]
     },
     "execution_count": 115,
     "metadata": {},
     "output_type": "execute_result"
    }
   ],
   "source": [
    "news.head()"
   ]
  },
  {
   "cell_type": "code",
   "execution_count": 116,
   "metadata": {
    "collapsed": false
   },
   "outputs": [
    {
     "data": {
      "text/plain": [
       "0     10213\n",
       "19      949\n",
       "15       84\n",
       "13       33\n",
       "18       16\n",
       "8         3\n",
       "14        3\n",
       "2         1\n",
       "16        1\n",
       "1         1\n",
       "9         1\n",
       "17        1\n",
       "6         1\n",
       "10        1\n",
       "7         1\n",
       "11        1\n",
       "4         1\n",
       "12        1\n",
       "5         1\n",
       "3         1\n",
       "Name: predicted_group, dtype: int64"
      ]
     },
     "execution_count": 116,
     "metadata": {},
     "output_type": "execute_result"
    }
   ],
   "source": [
    "news['predicted_group'].value_counts()"
   ]
  },
  {
   "cell_type": "code",
   "execution_count": 117,
   "metadata": {
    "collapsed": false
   },
   "outputs": [
    {
     "data": {
      "text/plain": [
       "predicted_group  text_label              \n",
       "0                rec.motorcycles             581\n",
       "                 sci.electronics             567\n",
       "                 rec.autos                   558\n",
       "                 comp.windows.x              556\n",
       "                 comp.sys.mac.hardware       552\n",
       "                 comp.sys.ibm.pc.hardware    550\n",
       "                 comp.graphics               546\n",
       "                 sci.med                     542\n",
       "                 misc.forsale                540\n",
       "                 rec.sport.baseball          533\n",
       "                 comp.os.ms-windows.misc     532\n",
       "                 rec.sport.hockey            521\n",
       "                 sci.space                   518\n",
       "                 soc.religion.christian      513\n",
       "                 sci.crypt                   511\n",
       "                 talk.politics.mideast       473\n",
       "                 talk.politics.guns          471\n",
       "                 alt.atheism                 437\n",
       "                 talk.politics.misc          388\n",
       "                 talk.religion.misc          324\n",
       "1                comp.os.ms-windows.misc       1\n",
       "2                comp.os.ms-windows.misc       1\n",
       "3                comp.os.ms-windows.misc       1\n",
       "4                comp.os.ms-windows.misc       1\n",
       "5                comp.os.ms-windows.misc       1\n",
       "6                comp.os.ms-windows.misc       1\n",
       "7                comp.os.ms-windows.misc       1\n",
       "8                comp.os.ms-windows.misc       3\n",
       "9                comp.os.ms-windows.misc       1\n",
       "10               comp.os.ms-windows.misc       1\n",
       "                                            ... \n",
       "16               comp.os.ms-windows.misc       1\n",
       "17               rec.sport.hockey              1\n",
       "18               comp.windows.x                4\n",
       "                 comp.graphics                 3\n",
       "                 rec.sport.hockey              2\n",
       "                 talk.politics.guns            2\n",
       "                 talk.politics.misc            2\n",
       "                 comp.os.ms-windows.misc       1\n",
       "                 comp.sys.mac.hardware         1\n",
       "                 sci.crypt                     1\n",
       "19               soc.religion.christian       85\n",
       "                 talk.politics.mideast        83\n",
       "                 sci.crypt                    70\n",
       "                 talk.politics.guns           70\n",
       "                 talk.politics.misc           67\n",
       "                 sci.space                    61\n",
       "                 rec.sport.hockey             58\n",
       "                 rec.sport.baseball           56\n",
       "                 talk.religion.misc           52\n",
       "                 sci.med                      41\n",
       "                 misc.forsale                 40\n",
       "                 alt.atheism                  39\n",
       "                 comp.os.ms-windows.misc      38\n",
       "                 comp.sys.ibm.pc.hardware     36\n",
       "                 rec.autos                    34\n",
       "                 comp.graphics                32\n",
       "                 comp.sys.mac.hardware        25\n",
       "                 comp.windows.x               25\n",
       "                 sci.electronics              22\n",
       "                 rec.motorcycles              15\n",
       "Name: text_label, dtype: int64"
      ]
     },
     "execution_count": 117,
     "metadata": {},
     "output_type": "execute_result"
    }
   ],
   "source": [
    "news.groupby('predicted_group')['text_label'].value_counts()"
   ]
  },
  {
   "cell_type": "code",
   "execution_count": null,
   "metadata": {
    "collapsed": true
   },
   "outputs": [],
   "source": []
  },
  {
   "cell_type": "code",
   "execution_count": null,
   "metadata": {
    "collapsed": true
   },
   "outputs": [],
   "source": []
  },
  {
   "cell_type": "code",
   "execution_count": null,
   "metadata": {
    "collapsed": true
   },
   "outputs": [],
   "source": []
  },
  {
   "cell_type": "markdown",
   "metadata": {},
   "source": [
    "### Fixing the data to remove common stuff that is effecting results"
   ]
  },
  {
   "cell_type": "code",
   "execution_count": 118,
   "metadata": {
    "collapsed": false
   },
   "outputs": [
    {
     "data": {
      "text/plain": [
       "0    from: lerxst@wam.umd.edu (where's my thing)\\ns...\n",
       "1    from: guykuo@carson.u.washington.edu (guy kuo)...\n",
       "2    from: twillis@ec.ecn.purdue.edu (thomas e will...\n",
       "3    from: jgreen@amber (joe green)\\nsubject: re: w...\n",
       "4    from: jcm@head-cfa.harvard.edu (jonathan mcdow...\n",
       "Name: text_lower, dtype: object"
      ]
     },
     "execution_count": 118,
     "metadata": {},
     "output_type": "execute_result"
    }
   ],
   "source": [
    "df['text_lower'].head()"
   ]
  },
  {
   "cell_type": "code",
   "execution_count": 119,
   "metadata": {
    "collapsed": false
   },
   "outputs": [
    {
     "name": "stdout",
     "output_type": "stream",
     "text": [
      "from: lerxst@wam.umd.edu (where's my thing)\n",
      "subject: what car is this!?\n",
      "nntp-posting-host: rac3.wam.umd.edu\n",
      "organization: university of maryland, college park\n",
      "lines: 15\n",
      "\n",
      " i was wondering if anyone out there could enlighten me on this car i saw\n",
      "the other day. it was a 2-door sports car, looked to be from the late 60s/\n",
      "early 70s. it was called a bricklin. the doors were really small. in addition,\n",
      "the front bumper was separate from the rest of the body. this is \n",
      "all i know. if anyone can tellme a model name, engine specs, years\n",
      "of production, where this car is made, history, or whatever info you\n",
      "have on this funky looking car, please e-mail.\n",
      "\n",
      "thanks,\n",
      "- il\n",
      "   ---- brought to you by your neighborhood lerxst ----\n",
      "\n",
      "\n",
      "\n",
      "\n",
      "\n",
      "from: guykuo@carson.u.washington.edu (guy kuo)\n",
      "subject: si clock poll - final call\n",
      "summary: final call for si clock reports\n",
      "keywords: si,acceleration,clock,upgrade\n",
      "article-i.d.: shelley.1qvfo9innc3s\n",
      "organization: university of washington\n",
      "lines: 11\n",
      "nntp-posting-host: carson.u.washington.edu\n",
      "\n",
      "a fair number of brave souls who upgraded their si clock oscillator have\n",
      "shared their experiences for this poll. please send a brief message detailing\n",
      "your experiences with the procedure. top speed attained, cpu rated speed,\n",
      "add on cards and adapters, heat sinks, hour of usage per day, floppy disk\n",
      "functionality with 800 and 1.4 m floppies are especially requested.\n",
      "\n",
      "i will be summarizing in the next two days, so please add to the network\n",
      "knowledge base if you have done the clock upgrade and haven't answered this\n",
      "poll. thanks.\n",
      "\n",
      "guy kuo <guykuo@u.washington.edu>\n",
      "\n",
      "from: twillis@ec.ecn.purdue.edu (thomas e willis)\n",
      "subject: pb questions...\n",
      "organization: purdue university engineering computer network\n",
      "distribution: usa\n",
      "lines: 36\n",
      "\n",
      "well folks, my mac plus finally gave up the ghost this weekend after\n",
      "starting life as a 512k way back in 1985.  sooo, i'm in the market for a\n",
      "new machine a bit sooner than i intended to be...\n",
      "\n",
      "i'm looking into picking up a powerbook 160 or maybe 180 and have a bunch\n",
      "of questions that (hopefully) somebody can answer:\n",
      "\n",
      "* does anybody know any dirt on when the next round of powerbook\n",
      "introductions are expected?  i'd heard the 185c was supposed to make an\n",
      "appearence \"this summer\" but haven't heard anymore on it - and since i\n",
      "don't have access to macleak, i was wondering if anybody out there had\n",
      "more info...\n",
      "\n",
      "* has anybody heard rumors about price drops to the powerbook line like the\n",
      "ones the duo's just went through recently?\n",
      "\n",
      "* what's the impression of the display on the 180?  i could probably swing\n",
      "a 180 if i got the 80mb disk rather than the 120, but i don't really have\n",
      "a feel for how much \"better\" the display is (yea, it looks great in the\n",
      "store, but is that all \"wow\" or is it really that good?).  could i solicit\n",
      "some opinions of people who use the 160 and 180 day-to-day on if its worth\n",
      "taking the disk size and money hit to get the active display?  (i realize\n",
      "this is a real subjective question, but i've only played around with the\n",
      "machines in a computer store breifly and figured the opinions of somebody\n",
      "who actually uses the machine daily might prove helpful).\n",
      "\n",
      "* how well does hellcats perform?  ;)\n",
      "\n",
      "thanks a bunch in advance for any info - if you could email, i'll post a\n",
      "summary (news reading time is at a premium with finals just around the\n",
      "corner... :( )\n",
      "--\n",
      "tom willis  \\  twillis@ecn.purdue.edu    \\    purdue electrical engineering\n",
      "---------------------------------------------------------------------------\n",
      "\"convictions are more dangerous enemies of truth than lies.\"  - f. w.\n",
      "nietzsche\n",
      "\n",
      "from: jgreen@amber (joe green)\n",
      "subject: re: weitek p9000 ?\n",
      "organization: harris computer systems division\n",
      "lines: 14\n",
      "distribution: world\n",
      "nntp-posting-host: amber.ssd.csd.harris.com\n",
      "x-newsreader: tin [version 1.1 pl9]\n",
      "\n",
      "robert j.c. kyanko (rob@rjck.uucp) wrote:\n",
      "> abraxis@iastate.edu writes in article <abraxis.734340159@class1.iastate.edu>:\n",
      "> > anyone know about the weitek p9000 graphics chip?\n",
      "> as far as the low-level stuff goes, it looks pretty nice.  it's got this\n",
      "> quadrilateral fill command that requires just the four points.\n",
      "\n",
      "do you have weitek's address/phone number?  i'd like to get some information\n",
      "about this chip.\n",
      "\n",
      "--\n",
      "joe green\t\t\t\tharris corporation\n",
      "jgreen@csd.harris.com\t\t\tcomputer systems division\n",
      "\"the only thing that really scares me is a person with no sense of humor.\"\n",
      "\t\t\t\t\t\t-- jonathan winters\n",
      "\n",
      "from: jcm@head-cfa.harvard.edu (jonathan mcdowell)\n",
      "subject: re: shuttle launch question\n",
      "organization: smithsonian astrophysical observatory, cambridge, ma,  usa\n",
      "distribution: sci\n",
      "lines: 23\n",
      "\n",
      "from article <c5owcb.n3p@world.std.com>, by tombaker@world.std.com (tom a baker):\n",
      ">>in article <c5jlwx.4h9.1@cs.cmu.edu>, etrat@ttacs1.ttu.edu (pack rat) writes...\n",
      ">>>\"clear caution & warning memory.  verify no unexpected\n",
      ">>>errors. ...\".  i am wondering what an \"expected error\" might\n",
      ">>>be.  sorry if this is a really dumb question, but\n",
      "> \n",
      "> parity errors in memory or previously known conditions that were waivered.\n",
      ">    \"yes that is an error, but we already knew about it\"\n",
      "> i'd be curious as to what the real meaning of the quote is.\n",
      "> \n",
      "> tom\n",
      "\n",
      "\n",
      "my understanding is that the 'expected errors' are basically\n",
      "known bugs in the warning system software - things are checked\n",
      "that don't have the right values in yet because they aren't\n",
      "set till after launch, and suchlike. rather than fix the code\n",
      "and possibly introduce new bugs, they just tell the crew\n",
      "'ok, if you see a warning no. 213 before liftoff, ignore it'.\n",
      "\n",
      " - jonathan\n",
      "\n",
      "\n",
      "\n"
     ]
    }
   ],
   "source": [
    "for x in range(0, 5):\n",
    "    print df.iloc[x, 1]"
   ]
  },
  {
   "cell_type": "code",
   "execution_count": 127,
   "metadata": {
    "collapsed": true
   },
   "outputs": [],
   "source": [
    "df['stripped_marks'] = df['text_lower'].str.replace('>', '')"
   ]
  },
  {
   "cell_type": "code",
   "execution_count": 134,
   "metadata": {
    "collapsed": true
   },
   "outputs": [],
   "source": [
    "df['stripped_headers'] = df['stripped_marks'].str.replace('from:', '')\n",
    "df['stripped_headers'] = df['stripped_headers'].str.replace('subject:', '')\n",
    "df['stripped_headers'] = df['stripped_headers'].str.replace('organization:', '')\n",
    "df['stripped_headers'] = df['stripped_headers'].str.replace('distribution:', '')\n",
    "df['stripped_headers'] = df['stripped_headers'].str.replace('lines:', '')"
   ]
  },
  {
   "cell_type": "code",
   "execution_count": null,
   "metadata": {
    "collapsed": true
   },
   "outputs": [],
   "source": []
  },
  {
   "cell_type": "code",
   "execution_count": 135,
   "metadata": {
    "collapsed": false
   },
   "outputs": [
    {
     "name": "stdout",
     "output_type": "stream",
     "text": [
      " jcm@head-cfa.harvard.edu (jonathan mcdowell)\n",
      " re: shuttle launch question\n",
      " smithsonian astrophysical observatory, cambridge, ma,  usa\n",
      " sci\n",
      " 23\n",
      "\n",
      "from article <c5owcb.n3p@world.std.com, by tombaker@world.std.com (tom a baker):\n",
      "in article <c5jlwx.4h9.1@cs.cmu.edu, etrat@ttacs1.ttu.edu (pack rat) writes...\n",
      "\"clear caution & warning memory.  verify no unexpected\n",
      "errors. ...\".  i am wondering what an \"expected error\" might\n",
      "be.  sorry if this is a really dumb question, but\n",
      " \n",
      " parity errors in memory or previously known conditions that were waivered.\n",
      "    \"yes that is an error, but we already knew about it\"\n",
      " i'd be curious as to what the real meaning of the quote is.\n",
      " \n",
      " tom\n",
      "\n",
      "\n",
      "my understanding is that the 'expected errors' are basically\n",
      "known bugs in the warning system software - things are checked\n",
      "that don't have the right values in yet because they aren't\n",
      "set till after launch, and suchlike. rather than fix the code\n",
      "and possibly introduce new bugs, they just tell the crew\n",
      "'ok, if you see a warning no. 213 before liftoff, ignore it'.\n",
      "\n",
      " - jonathan\n",
      "\n",
      "\n",
      "\n"
     ]
    }
   ],
   "source": [
    "print df.iloc[4,3]"
   ]
  },
  {
   "cell_type": "code",
   "execution_count": 138,
   "metadata": {
    "collapsed": false
   },
   "outputs": [
    {
     "name": "stdout",
     "output_type": "stream",
     "text": [
      "lerxst@wam.umd.edu (where's my thing)\n",
      " what car is this!?\n",
      "nntp-posting-host: rac3.wam.umd.edu\n",
      " university of maryland, college park\n",
      " 15\n",
      "\n",
      " i was wondering if anyone out there could enlighten me on this car i saw\n",
      "the other day. it was a 2-door sports car, looked to be from the late 60s/\n",
      "early 70s. it was called a bricklin. the doors were really small. in addition,\n",
      "the front bumper was separate from the rest of the body. this is \n",
      "all i know. if anyone can tellme a model name, engine specs, years\n",
      "of production, where this car is made, history, or whatever info you\n",
      "have on this funky looking car, please e-mail.\n",
      "\n",
      "thanks,\n",
      "- il\n",
      "   ---- brought to you by your neighborhood lerxst ----\n"
     ]
    }
   ],
   "source": [
    "def strip_text(text):\n",
    "    new_text = text.replace('from:', '').replace('subject:', '').replace('organization:', '').replace('distribution:', '').replace('lines:', '')\n",
    "    return new_text.strip()\n",
    "\n",
    "print strip_text(df.iloc[0,3])"
   ]
  },
  {
   "cell_type": "code",
   "execution_count": 139,
   "metadata": {
    "collapsed": true
   },
   "outputs": [],
   "source": [
    "df['text_v2'] = df['text_lower'].apply(strip_text)"
   ]
  },
  {
   "cell_type": "code",
   "execution_count": 140,
   "metadata": {
    "collapsed": false
   },
   "outputs": [
    {
     "data": {
      "text/plain": [
       "0    lerxst@wam.umd.edu (where's my thing)\\n what c...\n",
       "1    guykuo@carson.u.washington.edu (guy kuo)\\n si ...\n",
       "2    twillis@ec.ecn.purdue.edu (thomas e willis)\\n ...\n",
       "3    jgreen@amber (joe green)\\n re: weitek p9000 ?\\...\n",
       "4    jcm@head-cfa.harvard.edu (jonathan mcdowell)\\n...\n",
       "Name: text_v2, dtype: object"
      ]
     },
     "execution_count": 140,
     "metadata": {},
     "output_type": "execute_result"
    }
   ],
   "source": [
    "df['text_v2'].head()"
   ]
  },
  {
   "cell_type": "code",
   "execution_count": null,
   "metadata": {
    "collapsed": true
   },
   "outputs": [],
   "source": []
  },
  {
   "cell_type": "code",
   "execution_count": null,
   "metadata": {
    "collapsed": true
   },
   "outputs": [],
   "source": []
  },
  {
   "cell_type": "markdown",
   "metadata": {},
   "source": [
    "#### 5. Fit the vectorizer and SVD"
   ]
  },
  {
   "cell_type": "code",
   "execution_count": null,
   "metadata": {
    "collapsed": true
   },
   "outputs": [],
   "source": []
  },
  {
   "cell_type": "code",
   "execution_count": null,
   "metadata": {
    "collapsed": true
   },
   "outputs": [],
   "source": []
  },
  {
   "cell_type": "markdown",
   "metadata": {},
   "source": [
    "#### 7. Fit the kmeans"
   ]
  },
  {
   "cell_type": "code",
   "execution_count": null,
   "metadata": {
    "collapsed": true
   },
   "outputs": [],
   "source": []
  },
  {
   "cell_type": "code",
   "execution_count": null,
   "metadata": {
    "collapsed": true
   },
   "outputs": [],
   "source": []
  },
  {
   "cell_type": "code",
   "execution_count": null,
   "metadata": {
    "collapsed": true
   },
   "outputs": [],
   "source": []
  },
  {
   "cell_type": "markdown",
   "metadata": {},
   "source": [
    "#### 8. Check the performance of our kmeans test"
   ]
  },
  {
   "cell_type": "code",
   "execution_count": null,
   "metadata": {
    "collapsed": true
   },
   "outputs": [],
   "source": []
  },
  {
   "cell_type": "markdown",
   "metadata": {},
   "source": [
    "#### Classification Report"
   ]
  },
  {
   "cell_type": "code",
   "execution_count": null,
   "metadata": {
    "collapsed": true
   },
   "outputs": [],
   "source": []
  },
  {
   "cell_type": "markdown",
   "metadata": {},
   "source": [
    "#### Confusion Matrix"
   ]
  },
  {
   "cell_type": "code",
   "execution_count": null,
   "metadata": {
    "collapsed": true
   },
   "outputs": [],
   "source": []
  },
  {
   "cell_type": "markdown",
   "metadata": {},
   "source": [
    "#### Note: Repeat the kmeans test with varying values of \"k\" to determine the best performance"
   ]
  },
  {
   "cell_type": "code",
   "execution_count": null,
   "metadata": {
    "collapsed": true
   },
   "outputs": [],
   "source": []
  }
 ],
 "metadata": {
  "anaconda-cloud": {},
  "kernelspec": {
   "display_name": "Python [conda root]",
   "language": "python",
   "name": "conda-root-py"
  },
  "language_info": {
   "codemirror_mode": {
    "name": "ipython",
    "version": 2
   },
   "file_extension": ".py",
   "mimetype": "text/x-python",
   "name": "python",
   "nbconvert_exporter": "python",
   "pygments_lexer": "ipython2",
   "version": "2.7.12"
  }
 },
 "nbformat": 4,
 "nbformat_minor": 0
}
