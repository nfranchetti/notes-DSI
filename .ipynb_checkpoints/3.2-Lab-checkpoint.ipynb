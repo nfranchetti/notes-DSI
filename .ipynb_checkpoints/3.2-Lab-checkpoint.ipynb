{
 "cells": [
  {
   "cell_type": "markdown",
   "metadata": {},
   "source": [
    "# Regularization Lab\n",
    "\n",
    "In this lab we'll practice regularization. The [data set](http://data.princeton.edu/wws509/datasets/#salary) consists of salary data for 52 professors at a small college, categorized by gender, professor rank, highest degree, and years of service paired with salary.\n",
    "\n",
    "### Learning objectives\n",
    "\n",
    "- Practice working with categorical data and dummy variables\n",
    "- Try to predict various features using the others\n",
    "- Practice regularization and evaluating model fit\n",
    "- Visualize your fits, plotting accuracies versus predictions\n",
    "\n",
    "### Requirements\n",
    "\n",
    "The data contains three categorical variables, each with two or three values: \"sx\", \"dg\", \"rk\". Your tasks are as follows.\n",
    "* Create dummy variables for each categorical variables.\n",
    "* Use pandas `value_counts()` to see the distributions of the data\n",
    "* Use seaborn to make [violin plots](https://stanford.edu/~mwaskom/software/seaborn/generated/seaborn.violinplot.html) of the salaries by variable\n",
    "\n",
    "You can use patsy instead of pandas to handle the categorical variables if you like.\n",
    "\n",
    "For each categorical variable:\n",
    "* Fit a model to the entire data set without the dummy variables for that category (but include the others).\n",
    "* Use pandas to select a subset of the data and fit a linear model to just that subset. For example, select just the male professors and fit a model\n",
    "* Apply the model fit from one subset to the other subset and compare the goodness of fit scores.\n",
    "* Do the same for the other variables, i.e. fit a model to the women professors and apply it to the men, again comparing the goodness of fit.\n",
    "* Use regularization (e.g. RidgeRegression or Lasso) to fit a model on one subset and apply to the other, again looking at the goodness of fit. Did regularization improve the model fits?\n",
    "\n",
    "Bonus exercises:\n",
    "* Try to predict years served \"yr\" or years since degree \"yd\" from the salary data and other variables. Does regularization help in any of these cases?\n",
    "\n",
    "### Resources\n",
    "- [scikit-learn linear models](http://scikit-learn.org/stable/modules/linear_model.html), including regularization\n",
    "- [http://pandas.pydata.org/pandas-docs/stable/generated/pandas.get_dummies.html](Creating dummy variables with pandas)\n"
   ]
  },
  {
   "cell_type": "code",
   "execution_count": 31,
   "metadata": {
    "collapsed": true
   },
   "outputs": [],
   "source": [
    "% matplotlib inline\n",
    "\n",
    "from matplotlib import pyplot as plt\n",
    "import numpy as np\n",
    "import pandas as pd\n",
    "import seaborn as sns\n",
    "from sklearn import linear_model\n",
    "from sklearn.metrics import r2_score"
   ]
  },
  {
   "cell_type": "code",
   "execution_count": 32,
   "metadata": {
    "collapsed": false
   },
   "outputs": [
    {
     "data": {
      "text/html": [
       "<div>\n",
       "<table border=\"1\" class=\"dataframe\">\n",
       "  <thead>\n",
       "    <tr style=\"text-align: right;\">\n",
       "      <th></th>\n",
       "      <th>sx</th>\n",
       "      <th>rk</th>\n",
       "      <th>yr</th>\n",
       "      <th>dg</th>\n",
       "      <th>yd</th>\n",
       "      <th>sl</th>\n",
       "    </tr>\n",
       "  </thead>\n",
       "  <tbody>\n",
       "    <tr>\n",
       "      <th>0</th>\n",
       "      <td>male</td>\n",
       "      <td>full</td>\n",
       "      <td>25</td>\n",
       "      <td>doctorate</td>\n",
       "      <td>35</td>\n",
       "      <td>36350</td>\n",
       "    </tr>\n",
       "    <tr>\n",
       "      <th>1</th>\n",
       "      <td>male</td>\n",
       "      <td>full</td>\n",
       "      <td>13</td>\n",
       "      <td>doctorate</td>\n",
       "      <td>22</td>\n",
       "      <td>35350</td>\n",
       "    </tr>\n",
       "    <tr>\n",
       "      <th>2</th>\n",
       "      <td>male</td>\n",
       "      <td>full</td>\n",
       "      <td>10</td>\n",
       "      <td>doctorate</td>\n",
       "      <td>23</td>\n",
       "      <td>28200</td>\n",
       "    </tr>\n",
       "    <tr>\n",
       "      <th>3</th>\n",
       "      <td>female</td>\n",
       "      <td>full</td>\n",
       "      <td>7</td>\n",
       "      <td>doctorate</td>\n",
       "      <td>27</td>\n",
       "      <td>26775</td>\n",
       "    </tr>\n",
       "    <tr>\n",
       "      <th>4</th>\n",
       "      <td>male</td>\n",
       "      <td>full</td>\n",
       "      <td>19</td>\n",
       "      <td>masters</td>\n",
       "      <td>30</td>\n",
       "      <td>33696</td>\n",
       "    </tr>\n",
       "  </tbody>\n",
       "</table>\n",
       "</div>"
      ],
      "text/plain": [
       "       sx    rk  yr         dg  yd     sl\n",
       "0    male  full  25  doctorate  35  36350\n",
       "1    male  full  13  doctorate  22  35350\n",
       "2    male  full  10  doctorate  23  28200\n",
       "3  female  full   7  doctorate  27  26775\n",
       "4    male  full  19    masters  30  33696"
      ]
     },
     "execution_count": 32,
     "metadata": {},
     "output_type": "execute_result"
    }
   ],
   "source": [
    "# Load the data (use delim_whitespace=True)\n",
    "df = pd.read_csv('salary.dat', delim_whitespace=True)\n",
    "\n",
    "# Take a look\n",
    "df.head()"
   ]
  },
  {
   "cell_type": "code",
   "execution_count": 33,
   "metadata": {
    "collapsed": false
   },
   "outputs": [
    {
     "name": "stdout",
     "output_type": "stream",
     "text": [
      "male      38\n",
      "female    14\n",
      "Name: sx, dtype: int64\n",
      "doctorate    34\n",
      "masters      18\n",
      "Name: dg, dtype: int64\n",
      "full         20\n",
      "assistant    18\n",
      "associate    14\n",
      "Name: rk, dtype: int64\n"
     ]
    }
   ],
   "source": [
    "# Apply value_counts() to series for \"sx\", \"dg\", and \"rk\"\n",
    "print df['sx'].value_counts()\n",
    "print df['dg'].value_counts()\n",
    "print df['rk'].value_counts()"
   ]
  },
  {
   "cell_type": "code",
   "execution_count": 34,
   "metadata": {
    "collapsed": false
   },
   "outputs": [
    {
     "data": {
      "image/png": "[encoded data removed]",
      "text/plain": [
       "<matplotlib.figure.Figure at 0x7f6892203ad0>"
      ]
     },
     "metadata": {},
     "output_type": "display_data"
    },
    {
     "data": {
      "image/png": "[encoded data removed]",
      "text/plain": [
       "<matplotlib.figure.Figure at 0x7f68920f74d0>"
      ]
     },
     "metadata": {},
     "output_type": "display_data"
    },
    {
     "data": {
      "image/png": "[encoded data removed]",
      "text/plain": [
       "<matplotlib.figure.Figure at 0x7f68920410d0>"
      ]
     },
     "metadata": {},
     "output_type": "display_data"
    }
   ],
   "source": [
    "# Make violin plots\n",
    "sns.violinplot(x=\"sx\", y=\"sl\", data=df)\n",
    "plt.show()\n",
    "\n",
    "# Do the same for \"dg\" and \"rk\"\n",
    "sns.violinplot(x='dg', y='sl', data=df)\n",
    "plt.show()\n",
    "\n",
    "sns.violinplot(x='rk', y='sl', data=df)\n",
    "plt.show()"
   ]
  },
  {
   "cell_type": "code",
   "execution_count": 57,
   "metadata": {
    "collapsed": false
   },
   "outputs": [
    {
     "name": "stdout",
     "output_type": "stream",
     "text": [
      "Index([u'sx', u'rk', u'yr', u'dg', u'yd', u'sl', u'sx_female', u'sx_male',\n",
      "       u'rk_assistant', u'rk_associate', u'rk_full', u'dg_doctorate',\n",
      "       u'dg_masters', u'sx_female', u'sx_male', u'rk_assistant',\n",
      "       u'rk_associate', u'rk_full', u'dg_doctorate', u'dg_masters',\n",
      "       u'sx_female', u'sx_male', u'rk_assistant', u'rk_associate', u'rk_full',\n",
      "       u'dg_doctorate', u'dg_masters'],\n",
      "      dtype='object')\n"
     ]
    },
    {
     "data": {
      "text/html": [
       "<div>\n",
       "<table border=\"1\" class=\"dataframe\">\n",
       "  <thead>\n",
       "    <tr style=\"text-align: right;\">\n",
       "      <th></th>\n",
       "      <th>sx</th>\n",
       "      <th>rk</th>\n",
       "      <th>yr</th>\n",
       "      <th>dg</th>\n",
       "      <th>yd</th>\n",
       "      <th>sl</th>\n",
       "      <th>sx_female</th>\n",
       "      <th>sx_male</th>\n",
       "      <th>rk_assistant</th>\n",
       "      <th>rk_associate</th>\n",
       "      <th>...</th>\n",
       "      <th>rk_full</th>\n",
       "      <th>dg_doctorate</th>\n",
       "      <th>dg_masters</th>\n",
       "      <th>sx_female</th>\n",
       "      <th>sx_male</th>\n",
       "      <th>rk_assistant</th>\n",
       "      <th>rk_associate</th>\n",
       "      <th>rk_full</th>\n",
       "      <th>dg_doctorate</th>\n",
       "      <th>dg_masters</th>\n",
       "    </tr>\n",
       "  </thead>\n",
       "  <tbody>\n",
       "    <tr>\n",
       "      <th>0</th>\n",
       "      <td>male</td>\n",
       "      <td>full</td>\n",
       "      <td>25</td>\n",
       "      <td>doctorate</td>\n",
       "      <td>35</td>\n",
       "      <td>36350</td>\n",
       "      <td>0.0</td>\n",
       "      <td>1.0</td>\n",
       "      <td>0.0</td>\n",
       "      <td>0.0</td>\n",
       "      <td>...</td>\n",
       "      <td>1.0</td>\n",
       "      <td>1.0</td>\n",
       "      <td>0.0</td>\n",
       "      <td>0.0</td>\n",
       "      <td>1.0</td>\n",
       "      <td>0.0</td>\n",
       "      <td>0.0</td>\n",
       "      <td>1.0</td>\n",
       "      <td>1.0</td>\n",
       "      <td>0.0</td>\n",
       "    </tr>\n",
       "    <tr>\n",
       "      <th>1</th>\n",
       "      <td>male</td>\n",
       "      <td>full</td>\n",
       "      <td>13</td>\n",
       "      <td>doctorate</td>\n",
       "      <td>22</td>\n",
       "      <td>35350</td>\n",
       "      <td>0.0</td>\n",
       "      <td>1.0</td>\n",
       "      <td>0.0</td>\n",
       "      <td>0.0</td>\n",
       "      <td>...</td>\n",
       "      <td>1.0</td>\n",
       "      <td>1.0</td>\n",
       "      <td>0.0</td>\n",
       "      <td>0.0</td>\n",
       "      <td>1.0</td>\n",
       "      <td>0.0</td>\n",
       "      <td>0.0</td>\n",
       "      <td>1.0</td>\n",
       "      <td>1.0</td>\n",
       "      <td>0.0</td>\n",
       "    </tr>\n",
       "    <tr>\n",
       "      <th>2</th>\n",
       "      <td>male</td>\n",
       "      <td>full</td>\n",
       "      <td>10</td>\n",
       "      <td>doctorate</td>\n",
       "      <td>23</td>\n",
       "      <td>28200</td>\n",
       "      <td>0.0</td>\n",
       "      <td>1.0</td>\n",
       "      <td>0.0</td>\n",
       "      <td>0.0</td>\n",
       "      <td>...</td>\n",
       "      <td>1.0</td>\n",
       "      <td>1.0</td>\n",
       "      <td>0.0</td>\n",
       "      <td>0.0</td>\n",
       "      <td>1.0</td>\n",
       "      <td>0.0</td>\n",
       "      <td>0.0</td>\n",
       "      <td>1.0</td>\n",
       "      <td>1.0</td>\n",
       "      <td>0.0</td>\n",
       "    </tr>\n",
       "    <tr>\n",
       "      <th>3</th>\n",
       "      <td>female</td>\n",
       "      <td>full</td>\n",
       "      <td>7</td>\n",
       "      <td>doctorate</td>\n",
       "      <td>27</td>\n",
       "      <td>26775</td>\n",
       "      <td>1.0</td>\n",
       "      <td>0.0</td>\n",
       "      <td>0.0</td>\n",
       "      <td>0.0</td>\n",
       "      <td>...</td>\n",
       "      <td>1.0</td>\n",
       "      <td>1.0</td>\n",
       "      <td>0.0</td>\n",
       "      <td>1.0</td>\n",
       "      <td>0.0</td>\n",
       "      <td>0.0</td>\n",
       "      <td>0.0</td>\n",
       "      <td>1.0</td>\n",
       "      <td>1.0</td>\n",
       "      <td>0.0</td>\n",
       "    </tr>\n",
       "    <tr>\n",
       "      <th>4</th>\n",
       "      <td>male</td>\n",
       "      <td>full</td>\n",
       "      <td>19</td>\n",
       "      <td>masters</td>\n",
       "      <td>30</td>\n",
       "      <td>33696</td>\n",
       "      <td>0.0</td>\n",
       "      <td>1.0</td>\n",
       "      <td>0.0</td>\n",
       "      <td>0.0</td>\n",
       "      <td>...</td>\n",
       "      <td>1.0</td>\n",
       "      <td>0.0</td>\n",
       "      <td>1.0</td>\n",
       "      <td>0.0</td>\n",
       "      <td>1.0</td>\n",
       "      <td>0.0</td>\n",
       "      <td>0.0</td>\n",
       "      <td>1.0</td>\n",
       "      <td>0.0</td>\n",
       "      <td>1.0</td>\n",
       "    </tr>\n",
       "  </tbody>\n",
       "</table>\n",
       "<p>5 rows × 27 columns</p>\n",
       "</div>"
      ],
      "text/plain": [
       "       sx    rk  yr         dg  yd     sl  sx_female  sx_male  rk_assistant  \\\n",
       "0    male  full  25  doctorate  35  36350        0.0      1.0           0.0   \n",
       "1    male  full  13  doctorate  22  35350        0.0      1.0           0.0   \n",
       "2    male  full  10  doctorate  23  28200        0.0      1.0           0.0   \n",
       "3  female  full   7  doctorate  27  26775        1.0      0.0           0.0   \n",
       "4    male  full  19    masters  30  33696        0.0      1.0           0.0   \n",
       "\n",
       "   rk_associate     ...      rk_full  dg_doctorate  dg_masters  sx_female  \\\n",
       "0           0.0     ...          1.0           1.0         0.0        0.0   \n",
       "1           0.0     ...          1.0           1.0         0.0        0.0   \n",
       "2           0.0     ...          1.0           1.0         0.0        0.0   \n",
       "3           0.0     ...          1.0           1.0         0.0        1.0   \n",
       "4           0.0     ...          1.0           0.0         1.0        0.0   \n",
       "\n",
       "   sx_male  rk_assistant  rk_associate  rk_full  dg_doctorate  dg_masters  \n",
       "0      1.0           0.0           0.0      1.0           1.0         0.0  \n",
       "1      1.0           0.0           0.0      1.0           1.0         0.0  \n",
       "2      1.0           0.0           0.0      1.0           1.0         0.0  \n",
       "3      0.0           0.0           0.0      1.0           1.0         0.0  \n",
       "4      1.0           0.0           0.0      1.0           0.0         1.0  \n",
       "\n",
       "[5 rows x 27 columns]"
      ]
     },
     "execution_count": 57,
     "metadata": {},
     "output_type": "execute_result"
    }
   ],
   "source": [
    "## Students can copy their code from Week 2, Lesson 3.3\n",
    "# Create dummy variables\n",
    "\n",
    "categories = [\"sx\", \"rk\", \"dg\"]\n",
    "for category in categories:\n",
    "    series = df[category]\n",
    "    dummies = pd.get_dummies(series, prefix=category)\n",
    "    df = pd.concat([df, dummies], axis=1)\n",
    "print df.columns\n",
    "df.head()"
   ]
  },
  {
   "cell_type": "markdown",
   "metadata": {
    "collapsed": true
   },
   "source": [
    "### Here's an example to get you started.\n",
    "\n",
    "Try reruning the next cell multiple times. You should see an improvement for some samples."
   ]
  },
  {
   "cell_type": "code",
   "execution_count": 36,
   "metadata": {
    "collapsed": false
   },
   "outputs": [
    {
     "name": "stdout",
     "output_type": "stream",
     "text": [
      "Sample: 0.775700117951\n",
      "All data with sample model: 0.108788201552\n",
      "Sample with regularization: 0.775222193893\n",
      "All data with regularization model: 0.161631338797\n"
     ]
    }
   ],
   "source": [
    "# Here's an example to get you started. Let's fit a model on a small random subset\n",
    "\n",
    "subset = df.sample(frac=0.1, replace=False)\n",
    "\n",
    "X = subset[[u'yr', u'yd']]\n",
    "y = subset[u'sl']\n",
    "\n",
    "lm = linear_model.LinearRegression()\n",
    "model = lm.fit(X, y)\n",
    "predictions = model.predict(X)\n",
    "print \"Sample:\", model.score(X, y)\n",
    "\n",
    "# Apply to the whole data set\n",
    "\n",
    "X = df[[u'yr', u'yd']]\n",
    "y = df[u'sl']\n",
    "print \"All data with sample model:\", model.score(X, y)\n",
    "\n",
    "# Repeat with regularization\n",
    "\n",
    "X = subset[[u'yr', u'yd']]\n",
    "y = subset[u'sl']\n",
    "\n",
    "lm = linear_model.RidgeCV(alphas=[0.1, 1, 10]) # Try different alphas\n",
    "model = lm.fit(X, y)\n",
    "predictions = model.predict(X)\n",
    "print \"Sample with regularization:\", model.score(X, y)\n",
    "\n",
    "# Apply to the whole data set\n",
    "\n",
    "X = df[[u'yr', u'yd']]\n",
    "y = df[u'sl']\n",
    "print \"All data with regularization model:\", model.score(X, y)\n",
    "\n",
    "# Did the results improve?"
   ]
  },
  {
   "cell_type": "code",
   "execution_count": 73,
   "metadata": {
    "collapsed": false
   },
   "outputs": [
    {
     "name": "stdout",
     "output_type": "stream",
     "text": [
      "(38, 17)\n",
      "(38,)\n"
     ]
    },
    {
     "ename": "ValueError",
     "evalue": "x and y must be the same size",
     "output_type": "error",
     "traceback": [
      "\u001b[1;31m---------------------------------------------------------------------------\u001b[0m",
      "\u001b[1;31mValueError\u001b[0m                                Traceback (most recent call last)",
      "\u001b[1;32m<ipython-input-73-0089d57b44e1>\u001b[0m in \u001b[0;36m<module>\u001b[1;34m()\u001b[0m\n\u001b[0;32m     15\u001b[0m \u001b[1;33m\u001b[0m\u001b[0m\n\u001b[0;32m     16\u001b[0m \u001b[1;33m\u001b[0m\u001b[0m\n\u001b[1;32m---> 17\u001b[1;33m \u001b[0mplt\u001b[0m\u001b[1;33m.\u001b[0m\u001b[0mscatter\u001b[0m\u001b[1;33m(\u001b[0m\u001b[0mX\u001b[0m\u001b[1;33m,\u001b[0m \u001b[0my\u001b[0m\u001b[1;33m)\u001b[0m\u001b[1;33m\u001b[0m\u001b[0m\n\u001b[0m\u001b[0;32m     18\u001b[0m \u001b[1;33m\u001b[0m\u001b[0m\n\u001b[0;32m     19\u001b[0m \u001b[1;33m\u001b[0m\u001b[0m\n",
      "\u001b[1;32m/home/nick/anaconda2/lib/python2.7/site-packages/matplotlib/pyplot.pyc\u001b[0m in \u001b[0;36mscatter\u001b[1;34m(x, y, s, c, marker, cmap, norm, vmin, vmax, alpha, linewidths, verts, edgecolors, hold, data, **kwargs)\u001b[0m\n\u001b[0;32m   3249\u001b[0m                          \u001b[0mvmin\u001b[0m\u001b[1;33m=\u001b[0m\u001b[0mvmin\u001b[0m\u001b[1;33m,\u001b[0m \u001b[0mvmax\u001b[0m\u001b[1;33m=\u001b[0m\u001b[0mvmax\u001b[0m\u001b[1;33m,\u001b[0m \u001b[0malpha\u001b[0m\u001b[1;33m=\u001b[0m\u001b[0malpha\u001b[0m\u001b[1;33m,\u001b[0m\u001b[1;33m\u001b[0m\u001b[0m\n\u001b[0;32m   3250\u001b[0m                          \u001b[0mlinewidths\u001b[0m\u001b[1;33m=\u001b[0m\u001b[0mlinewidths\u001b[0m\u001b[1;33m,\u001b[0m \u001b[0mverts\u001b[0m\u001b[1;33m=\u001b[0m\u001b[0mverts\u001b[0m\u001b[1;33m,\u001b[0m\u001b[1;33m\u001b[0m\u001b[0m\n\u001b[1;32m-> 3251\u001b[1;33m                          edgecolors=edgecolors, data=data, **kwargs)\n\u001b[0m\u001b[0;32m   3252\u001b[0m     \u001b[1;32mfinally\u001b[0m\u001b[1;33m:\u001b[0m\u001b[1;33m\u001b[0m\u001b[0m\n\u001b[0;32m   3253\u001b[0m         \u001b[0max\u001b[0m\u001b[1;33m.\u001b[0m\u001b[0mhold\u001b[0m\u001b[1;33m(\u001b[0m\u001b[0mwashold\u001b[0m\u001b[1;33m)\u001b[0m\u001b[1;33m\u001b[0m\u001b[0m\n",
      "\u001b[1;32m/home/nick/anaconda2/lib/python2.7/site-packages/matplotlib/__init__.pyc\u001b[0m in \u001b[0;36minner\u001b[1;34m(ax, *args, **kwargs)\u001b[0m\n\u001b[0;32m   1810\u001b[0m                     warnings.warn(msg % (label_namer, func.__name__),\n\u001b[0;32m   1811\u001b[0m                                   RuntimeWarning, stacklevel=2)\n\u001b[1;32m-> 1812\u001b[1;33m             \u001b[1;32mreturn\u001b[0m \u001b[0mfunc\u001b[0m\u001b[1;33m(\u001b[0m\u001b[0max\u001b[0m\u001b[1;33m,\u001b[0m \u001b[1;33m*\u001b[0m\u001b[0margs\u001b[0m\u001b[1;33m,\u001b[0m \u001b[1;33m**\u001b[0m\u001b[0mkwargs\u001b[0m\u001b[1;33m)\u001b[0m\u001b[1;33m\u001b[0m\u001b[0m\n\u001b[0m\u001b[0;32m   1813\u001b[0m         \u001b[0mpre_doc\u001b[0m \u001b[1;33m=\u001b[0m \u001b[0minner\u001b[0m\u001b[1;33m.\u001b[0m\u001b[0m__doc__\u001b[0m\u001b[1;33m\u001b[0m\u001b[0m\n\u001b[0;32m   1814\u001b[0m         \u001b[1;32mif\u001b[0m \u001b[0mpre_doc\u001b[0m \u001b[1;32mis\u001b[0m \u001b[0mNone\u001b[0m\u001b[1;33m:\u001b[0m\u001b[1;33m\u001b[0m\u001b[0m\n",
      "\u001b[1;32m/home/nick/anaconda2/lib/python2.7/site-packages/matplotlib/axes/_axes.pyc\u001b[0m in \u001b[0;36mscatter\u001b[1;34m(self, x, y, s, c, marker, cmap, norm, vmin, vmax, alpha, linewidths, verts, edgecolors, **kwargs)\u001b[0m\n\u001b[0;32m   3838\u001b[0m         \u001b[0my\u001b[0m \u001b[1;33m=\u001b[0m \u001b[0mnp\u001b[0m\u001b[1;33m.\u001b[0m\u001b[0mma\u001b[0m\u001b[1;33m.\u001b[0m\u001b[0mravel\u001b[0m\u001b[1;33m(\u001b[0m\u001b[0my\u001b[0m\u001b[1;33m)\u001b[0m\u001b[1;33m\u001b[0m\u001b[0m\n\u001b[0;32m   3839\u001b[0m         \u001b[1;32mif\u001b[0m \u001b[0mx\u001b[0m\u001b[1;33m.\u001b[0m\u001b[0msize\u001b[0m \u001b[1;33m!=\u001b[0m \u001b[0my\u001b[0m\u001b[1;33m.\u001b[0m\u001b[0msize\u001b[0m\u001b[1;33m:\u001b[0m\u001b[1;33m\u001b[0m\u001b[0m\n\u001b[1;32m-> 3840\u001b[1;33m             \u001b[1;32mraise\u001b[0m \u001b[0mValueError\u001b[0m\u001b[1;33m(\u001b[0m\u001b[1;34m\"x and y must be the same size\"\u001b[0m\u001b[1;33m)\u001b[0m\u001b[1;33m\u001b[0m\u001b[0m\n\u001b[0m\u001b[0;32m   3841\u001b[0m \u001b[1;33m\u001b[0m\u001b[0m\n\u001b[0;32m   3842\u001b[0m         \u001b[0ms\u001b[0m \u001b[1;33m=\u001b[0m \u001b[0mnp\u001b[0m\u001b[1;33m.\u001b[0m\u001b[0mma\u001b[0m\u001b[1;33m.\u001b[0m\u001b[0mravel\u001b[0m\u001b[1;33m(\u001b[0m\u001b[0ms\u001b[0m\u001b[1;33m)\u001b[0m  \u001b[1;31m# This doesn't have to match x, y in size.\u001b[0m\u001b[1;33m\u001b[0m\u001b[0m\n",
      "\u001b[1;31mValueError\u001b[0m: x and y must be the same size"
     ]
    },
    {
     "data": {
      "image/png": "[encoded data removed]",
      "text/plain": [
       "<matplotlib.figure.Figure at 0x7f6891f778d0>"
      ]
     },
     "metadata": {},
     "output_type": "display_data"
    }
   ],
   "source": [
    "# Fit a model to the men\n",
    "mask = df[\"sx\"] == \"male\"\n",
    "X = df[mask][[u'yr', u'yd',\n",
    "       u'rk_assistant', u'rk_associate', u'rk_full', u'dg_doctorate',\n",
    "       u'dg_masters']]\n",
    "y = df[mask][u'sl']\n",
    "\n",
    "## Fit a linear model here\n",
    "lm = linear_model.LinearRegression()\n",
    "model = lm.fit(X, y)\n",
    "predictions = model.predict(X)\n",
    "## Plot the data\n",
    "print X.shape\n",
    "print y.shape\n",
    "\n",
    "\n",
    "plt.scatter(X, y)\n",
    "\n",
    "\n",
    "\n",
    "# ## and print the model score\n",
    "# print 'Model Score for Male subset: ', model.score(X, y)\n",
    "\n",
    "# # Apply the same model to the women and compare the model score\n",
    "# mask = df[\"sx\"] == \"female\"\n",
    "# X = df[mask][[u'yr', u'yd',\n",
    "#        u'rk_assistant', u'rk_associate', u'rk_full', u'dg_doctorate',\n",
    "#        u'dg_masters']]\n",
    "# y = df[mask][u'sl']\n",
    "\n",
    "# print 'Model Score for Male model applied to Female: ', model.score(X, y)"
   ]
  },
  {
   "cell_type": "code",
   "execution_count": 38,
   "metadata": {
    "collapsed": false
   },
   "outputs": [
    {
     "name": "stdout",
     "output_type": "stream",
     "text": [
      "Model Score for Female subset:  0.781837240731\n",
      "Model Score for Female model applied to Male:  0.657523429275\n"
     ]
    }
   ],
   "source": [
    "# What about the other order? Apply to women first\n",
    "mask = df[\"sx\"] == \"female\"\n",
    "X = df[mask][[u'yr', u'yd',\n",
    "       u'rk_assistant', u'rk_associate', u'rk_full', u'dg_doctorate',\n",
    "       u'dg_masters']]\n",
    "y = df[mask][u'sl']\n",
    "\n",
    "lm = linear_model.LinearRegression()\n",
    "model = lm.fit(X, y)\n",
    "predictions = model.predict(X)\n",
    "\n",
    "print 'Model Score for Female subset: ', model.score(X, y)\n",
    "\n",
    "# Apply to men\n",
    "mask = df[\"sx\"] == \"male\"\n",
    "X = df[mask][[u'yr', u'yd',\n",
    "       u'rk_assistant', u'rk_associate', u'rk_full', u'dg_doctorate',\n",
    "       u'dg_masters']]\n",
    "y = df[mask][u'sl']\n",
    "\n",
    "print 'Model Score for Female model applied to Male: ', model.score(X, y)"
   ]
  },
  {
   "cell_type": "code",
   "execution_count": 39,
   "metadata": {
    "collapsed": false
   },
   "outputs": [
    {
     "name": "stdout",
     "output_type": "stream",
     "text": [
      "Ridge model score for Female subset:  0.776052416893\n",
      "Ridge model score for Female model applied to Male:  0.758931781825\n"
     ]
    }
   ],
   "source": [
    "# This time use regularlization (RidgeCV)\n",
    "\n",
    "# Apply to women first\n",
    "mask = df[\"sx\"] == \"female\"\n",
    "X = df[mask][[u'yr', u'yd',\n",
    "       u'rk_assistant', u'rk_associate', u'rk_full', u'dg_doctorate',\n",
    "       u'dg_masters']]\n",
    "y = df[mask][u'sl']\n",
    "\n",
    "rlm = linear_model.Ridge(alpha=0.1, normalize=True)\n",
    "ridge_model = rlm.fit(X, y)\n",
    "predictions = ridge_model.predict(X)\n",
    "\n",
    "print 'Ridge model score for Female subset: ', ridge_model.score(X, y)\n",
    "\n",
    "# Apply to men\n",
    "mask = df[\"sx\"] == \"male\"\n",
    "X = df[mask][[u'yr', u'yd',\n",
    "       u'rk_assistant', u'rk_associate', u'rk_full', u'dg_doctorate',\n",
    "       u'dg_masters']]\n",
    "y = df[mask][u'sl']\n",
    "\n",
    "print 'Ridge model score for Female model applied to Male: ', ridge_model.score(X, y)"
   ]
  },
  {
   "cell_type": "markdown",
   "metadata": {
    "collapsed": true
   },
   "source": [
    "### Results\n",
    "\n",
    "Did regularization improve the second fit?\n",
    "\n",
    "Now let's move on to the next category, \"dg\" (degree)."
   ]
  },
  {
   "cell_type": "code",
   "execution_count": 40,
   "metadata": {
    "collapsed": false
   },
   "outputs": [
    {
     "name": "stdout",
     "output_type": "stream",
     "text": [
      "Linear model score for Doctorate subset:  0.876486548837\n",
      "Linear model score for Doctorate model applied to non-Doctorate:  0.6849888843\n"
     ]
    }
   ],
   "source": [
    "mask = (df[\"dg\"] == \"doctorate\")\n",
    "X = df[mask][[u'yr', u'yd', 'sx_female', 'sx_male',\n",
    "       u'rk_assistant', u'rk_associate', u'rk_full']]\n",
    "y = df[mask][u'sl']\n",
    "\n",
    "lm = linear_model.LinearRegression()\n",
    "model = lm.fit(X, y)\n",
    "predictions = model.predict(X)\n",
    "\n",
    "print 'Linear model score for Doctorate subset: ', model.score(X, y)\n",
    "\n",
    "\n",
    "mask = (df[\"dg\"] != \"doctorate\")\n",
    "X = df[mask][[u'yr', u'yd', 'sx_female', 'sx_male',\n",
    "       u'rk_assistant', u'rk_associate', u'rk_full']]\n",
    "y = df[mask][u'sl']\n",
    "\n",
    "print 'Linear model score for Doctorate model applied to non-Doctorate: ', model.score(X, y)"
   ]
  },
  {
   "cell_type": "code",
   "execution_count": 41,
   "metadata": {
    "collapsed": false
   },
   "outputs": [
    {
     "name": "stdout",
     "output_type": "stream",
     "text": [
      "Linear model score for non-Doctorate subset:  0.797682614586\n",
      "Linear model score for non-Doctorate model applied to Doctorate:  0.745050571834\n"
     ]
    }
   ],
   "source": [
    "# Reverse the order\n",
    "\n",
    "mask = (df[\"dg\"] != \"doctorate\") # !=\n",
    "X = df[mask][[u'yr', u'yd', 'sx_female', 'sx_male',\n",
    "       u'rk_assistant', u'rk_associate', u'rk_full']]\n",
    "y = df[mask][u'sl']\n",
    "\n",
    "lm = linear_model.LinearRegression()\n",
    "model = lm.fit(X, y)\n",
    "predictions = model.predict(X)\n",
    "\n",
    "print 'Linear model score for non-Doctorate subset: ', model.score(X, y)\n",
    "\n",
    "\n",
    "mask = (df[\"dg\"] == \"doctorate\")\n",
    "X = df[mask][[u'yr', u'yd', 'sx_female', 'sx_male',\n",
    "       u'rk_assistant', u'rk_associate', u'rk_full']]\n",
    "y = df[mask][u'sl']\n",
    "\n",
    "print 'Linear model score for non-Doctorate model applied to Doctorate: ', model.score(X, y)"
   ]
  },
  {
   "cell_type": "code",
   "execution_count": 42,
   "metadata": {
    "collapsed": false
   },
   "outputs": [
    {
     "name": "stdout",
     "output_type": "stream",
     "text": [
      "Ridge model score for Doctorate subset:  0.872760800339\n",
      "Ridge model score for Doctorate model applied to non-Doctorate:  0.525759951395\n"
     ]
    }
   ],
   "source": [
    "# With regularization\n",
    "\n",
    "mask = (df[\"dg\"] == \"doctorate\")\n",
    "X = df[mask][[u'yr', u'yd', 'sx_female', 'sx_male',\n",
    "       u'rk_assistant', u'rk_associate', u'rk_full']]\n",
    "y = df[mask][u'sl']\n",
    "\n",
    "rlm = linear_model.Ridge(alpha=0.1, normalize=True)\n",
    "ridge_model = rlm.fit(X, y)\n",
    "predictions = ridge_model.predict(X)\n",
    "\n",
    "print 'Ridge model score for Doctorate subset: ', ridge_model.score(X, y)\n",
    "\n",
    "\n",
    "mask = (df[\"dg\"] != \"doctorate\")\n",
    "X = df[mask][[u'yr', u'yd', 'sx_female', 'sx_male',\n",
    "       u'rk_assistant', u'rk_associate', u'rk_full']]\n",
    "y = df[mask][u'sl']\n",
    "\n",
    "print 'Ridge model score for Doctorate model applied to non-Doctorate: ', ridge_model.score(X, y)"
   ]
  },
  {
   "cell_type": "code",
   "execution_count": 59,
   "metadata": {
    "collapsed": false
   },
   "outputs": [
    {
     "name": "stdout",
     "output_type": "stream",
     "text": [
      "Ridge model score for non-Doctorate subset:  0.790631661643\n",
      "Ridge model score for non-Doctorate model applied to Doctorate:  0.765529287714\n"
     ]
    }
   ],
   "source": [
    "# With regularization\n",
    "# Reverse the order\n",
    "\n",
    "mask = (df[\"dg\"] != \"doctorate\") # !=\n",
    "X = df[mask][[u'yr', u'yd', 'sx_female', 'sx_male',\n",
    "       u'rk_assistant', u'rk_associate', u'rk_full']]\n",
    "y = df[mask][u'sl']\n",
    "\n",
    "rlm = linear_model.Ridge(alpha=0.1, normalize=True)\n",
    "ridge_model = rlm.fit(X, y)\n",
    "predictions = ridge_model.predict(X)\n",
    "\n",
    "print 'Ridge model score for non-Doctorate subset: ', ridge_model.score(X, y)\n",
    "\n",
    "\n",
    "mask = (df[\"dg\"] == \"doctorate\")\n",
    "X = df[mask][[u'yr', u'yd', 'sx_female', 'sx_male',\n",
    "       u'rk_assistant', u'rk_associate', u'rk_full']]\n",
    "y = df[mask][u'sl']\n",
    "\n",
    "print 'Ridge model score for non-Doctorate model applied to Doctorate: ', ridge_model.score(X, y)"
   ]
  },
  {
   "cell_type": "markdown",
   "metadata": {},
   "source": [
    "### Results\n",
    "Note by varying alpha we can shift the goodness of fit. Did regularization improve our two fits?\n",
    "\n",
    "Next we move on to \"rk\" (professor rank). In this case there are three options."
   ]
  },
  {
   "cell_type": "code",
   "execution_count": 62,
   "metadata": {
    "collapsed": false
   },
   "outputs": [
    {
     "data": {
      "text/plain": [
       "full         20\n",
       "assistant    18\n",
       "associate    14\n",
       "Name: rk, dtype: int64"
      ]
     },
     "execution_count": 62,
     "metadata": {},
     "output_type": "execute_result"
    }
   ],
   "source": [
    "df['rk'].value_counts()"
   ]
  },
  {
   "cell_type": "code",
   "execution_count": 70,
   "metadata": {
    "collapsed": false
   },
   "outputs": [
    {
     "name": "stdout",
     "output_type": "stream",
     "text": [
      "Linear model score for Full subset:  0.518546885368\n",
      "Linear model score for Full applied to non-Full:  -4.60483198065\n"
     ]
    }
   ],
   "source": [
    "mask = (df[\"rk\"] == \"full\") # First subset, there are two more\n",
    "X = df[mask][[u'yr', u'yd', 'sx_female', 'sx_male', u'dg_doctorate', u'dg_masters']]\n",
    "y = df[mask][u'sl']\n",
    "\n",
    "# print X.shape\n",
    "# print y.shape\n",
    "\n",
    "lm = linear_model.LinearRegression()\n",
    "model = lm.fit(X, y)\n",
    "predictions = model.predict(X)\n",
    "\n",
    "print 'Linear model score for Full subset: ', model.score(X, y)\n",
    "\n",
    "\n",
    "mask = (df[\"rk\"] != \"full\")\n",
    "X = df[mask][[u'yr', u'yd', 'sx_female', 'sx_male', u'dg_doctorate', u'dg_masters']]\n",
    "y = df[mask][u'sl']\n",
    "\n",
    "print 'Linear model score for Full applied to non-Full: ', model.score(X, y)\n",
    "\n",
    "# print X.shape\n",
    "# print y.shape"
   ]
  },
  {
   "cell_type": "code",
   "execution_count": 71,
   "metadata": {
    "collapsed": false
   },
   "outputs": [
    {
     "name": "stdout",
     "output_type": "stream",
     "text": [
      "Ridge model score for Full subset:  0.506996573959\n",
      "Ridge model score for Full applied to non-Full:  -3.86167314062\n"
     ]
    }
   ],
   "source": [
    "mask = (df[\"rk\"] == \"full\") # First subset, there are two more RIDGE MODEL\n",
    "X = df[mask][[u'yr', u'yd', 'sx_female', 'sx_male', u'dg_doctorate', u'dg_masters']]\n",
    "y = df[mask][u'sl']\n",
    "\n",
    "# print X.shape\n",
    "# print y.shape\n",
    "rlm = linear_model.Ridge(alpha=0.1, normalize=True)\n",
    "ridge_model = rlm.fit(X, y)\n",
    "predictions = ridge_model.predict(X)\n",
    "\n",
    "\n",
    "print 'Ridge model score for Full subset: ', ridge_model.score(X, y)\n",
    "\n",
    "\n",
    "mask = (df[\"rk\"] != \"full\")\n",
    "X = df[mask][[u'yr', u'yd', 'sx_female', 'sx_male', u'dg_doctorate', u'dg_masters']]\n",
    "y = df[mask][u'sl']\n",
    "\n",
    "print 'Ridge model score for Full applied to non-Full: ', ridge_model.score(X, y)\n",
    "\n",
    "# print X.shape\n",
    "# print y.shape"
   ]
  },
  {
   "cell_type": "code",
   "execution_count": 52,
   "metadata": {
    "collapsed": false
   },
   "outputs": [
    {
     "name": "stdout",
     "output_type": "stream",
     "text": [
      "Linear model score for Associate subset:  0.621136292896\n",
      "Linear model score for Associate applied to non-Associate:  -0.0835279216007\n"
     ]
    }
   ],
   "source": [
    "# The second permutation of three\n",
    "\n",
    "mask = (df[\"rk\"] == \"associate\") # Second subset\n",
    "X = df[mask][[u'yr', u'yd', 'sx_female', 'sx_male', u'dg_doctorate', u'dg_masters']]\n",
    "y = df[mask][u'sl']\n",
    "\n",
    "lm = linear_model.LinearRegression()\n",
    "model = lm.fit(X, y)\n",
    "predictions = model.predict(X)\n",
    "\n",
    "print 'Linear model score for Associate subset: ', model.score(X, y)\n",
    "\n",
    "\n",
    "mask = (df[\"rk\"] != \"associate\")\n",
    "X = df[mask][[u'yr', u'yd', 'sx_female', 'sx_male', u'dg_doctorate', u'dg_masters']]\n",
    "y = df[mask][u'sl']\n",
    "\n",
    "print 'Linear model score for Associate applied to non-Associate: ', model.score(X, y)"
   ]
  },
  {
   "cell_type": "code",
   "execution_count": 53,
   "metadata": {
    "collapsed": false
   },
   "outputs": [
    {
     "name": "stdout",
     "output_type": "stream",
     "text": [
      "Linear model score for Assistant subset:  0.515603387509\n",
      "Linear model score for Assistant applied to non-Assistant:  -3.59106141162\n"
     ]
    }
   ],
   "source": [
    "# The third permutation of three\n",
    "mask = (df[\"rk\"] == \"assistant\") # Third subset\n",
    "X = df[mask][[u'yr', u'yd', 'sx_female', 'sx_male', u'dg_doctorate', u'dg_masters']]\n",
    "y = df[mask][u'sl']\n",
    "\n",
    "lm = linear_model.LinearRegression()\n",
    "model = lm.fit(X, y)\n",
    "predictions = model.predict(X)\n",
    "\n",
    "print 'Linear model score for Assistant subset: ', model.score(X, y)\n",
    "\n",
    "\n",
    "mask = (df[\"rk\"] != \"assistant\")\n",
    "X = df[mask][[u'yr', u'yd', 'sx_female', 'sx_male', u'dg_doctorate', u'dg_masters']]\n",
    "y = df[mask][u'sl']\n",
    "\n",
    "print 'Linear model score for Assistant applied to non-Assistant: ', model.score(X, y)"
   ]
  },
  {
   "cell_type": "markdown",
   "metadata": {},
   "source": [
    "# Results\n",
    "\n",
    "How did the regularized models fare?"
   ]
  },
  {
   "cell_type": "markdown",
   "metadata": {},
   "source": [
    "### Bonus\n",
    "\n",
    "Try predicting \"yd\" by splitting the data on \"sx\"."
   ]
  },
  {
   "cell_type": "code",
   "execution_count": null,
   "metadata": {
    "collapsed": false
   },
   "outputs": [],
   "source": [
    "# Without regularization\n",
    "mask = df[\"sx\"] == \"female\"\n"
   ]
  },
  {
   "cell_type": "code",
   "execution_count": null,
   "metadata": {
    "collapsed": false
   },
   "outputs": [],
   "source": [
    "# With regularization, RidgeCV"
   ]
  },
  {
   "cell_type": "code",
   "execution_count": null,
   "metadata": {
    "collapsed": false
   },
   "outputs": [],
   "source": [
    "# With regularization, LassoCV"
   ]
  },
  {
   "cell_type": "code",
   "execution_count": null,
   "metadata": {
    "collapsed": false
   },
   "outputs": [],
   "source": []
  }
 ],
 "metadata": {
  "anaconda-cloud": {},
  "kernelspec": {
   "display_name": "Python [Root]",
   "language": "python",
   "name": "Python [Root]"
  },
  "language_info": {
   "codemirror_mode": {
    "name": "ipython",
    "version": 2
   },
   "file_extension": ".py",
   "mimetype": "text/x-python",
   "name": "python",
   "nbconvert_exporter": "python",
   "pygments_lexer": "ipython2",
   "version": "2.7.12"
  }
 },
 "nbformat": 4,
 "nbformat_minor": 0
}
