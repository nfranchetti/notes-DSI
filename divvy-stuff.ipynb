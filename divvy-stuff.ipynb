{
 "cells": [
  {
   "cell_type": "code",
   "execution_count": 1,
   "metadata": {
    "collapsed": false
   },
   "outputs": [],
   "source": [
    "%matplotlib inline\n",
    "import matplotlib.pyplot as plt\n",
    "import pandas as pd\n",
    "import os"
   ]
  },
  {
   "cell_type": "code",
   "execution_count": 2,
   "metadata": {
    "collapsed": false
   },
   "outputs": [],
   "source": [
    "import seaborn as sns"
   ]
  },
  {
   "cell_type": "code",
   "execution_count": 4,
   "metadata": {
    "collapsed": false
   },
   "outputs": [
    {
     "name": "stderr",
     "output_type": "stream",
     "text": [
      "/home/nick/anaconda2/lib/python2.7/site-packages/IPython/core/interactiveshell.py:2717: DtypeWarning: Columns (5) have mixed types. Specify dtype option on import or set low_memory=False.\n",
      "  interactivity=interactivity, compiler=compiler, result=result)\n"
     ]
    }
   ],
   "source": [
    "data = pd.read_csv('../../Downloads/final_csv_of_divvy_rides.csv')"
   ]
  },
  {
   "cell_type": "code",
   "execution_count": 5,
   "metadata": {
    "collapsed": false
   },
   "outputs": [
    {
     "data": {
      "text/html": [
       "<div>\n",
       "<table border=\"1\" class=\"dataframe\">\n",
       "  <thead>\n",
       "    <tr style=\"text-align: right;\">\n",
       "      <th></th>\n",
       "      <th>bikeid</th>\n",
       "      <th>birthday</th>\n",
       "      <th>birthyear</th>\n",
       "      <th>from_station_id</th>\n",
       "      <th>from_station_name</th>\n",
       "      <th>gender</th>\n",
       "      <th>starttime</th>\n",
       "      <th>stoptime</th>\n",
       "      <th>to_station_id</th>\n",
       "      <th>to_station_name</th>\n",
       "      <th>trip_id</th>\n",
       "      <th>tripduration</th>\n",
       "      <th>usertype</th>\n",
       "    </tr>\n",
       "  </thead>\n",
       "  <tbody>\n",
       "    <tr>\n",
       "      <th>0</th>\n",
       "      <td>480</td>\n",
       "      <td>NaN</td>\n",
       "      <td>NaN</td>\n",
       "      <td>85</td>\n",
       "      <td>Michigan Ave &amp; Oak St</td>\n",
       "      <td>NaN</td>\n",
       "      <td>2013-06-27 12:11</td>\n",
       "      <td>2013-06-27 12:16</td>\n",
       "      <td>28</td>\n",
       "      <td>Larrabee St &amp; Menomonee St</td>\n",
       "      <td>4118</td>\n",
       "      <td>316</td>\n",
       "      <td>Customer</td>\n",
       "    </tr>\n",
       "    <tr>\n",
       "      <th>1</th>\n",
       "      <td>77</td>\n",
       "      <td>NaN</td>\n",
       "      <td>NaN</td>\n",
       "      <td>32</td>\n",
       "      <td>Racine Ave &amp; Congress Pkwy</td>\n",
       "      <td>NaN</td>\n",
       "      <td>2013-06-27 14:44</td>\n",
       "      <td>2013-06-27 14:45</td>\n",
       "      <td>32</td>\n",
       "      <td>Racine Ave &amp; Congress Pkwy</td>\n",
       "      <td>4275</td>\n",
       "      <td>64</td>\n",
       "      <td>Customer</td>\n",
       "    </tr>\n",
       "    <tr>\n",
       "      <th>2</th>\n",
       "      <td>77</td>\n",
       "      <td>NaN</td>\n",
       "      <td>NaN</td>\n",
       "      <td>32</td>\n",
       "      <td>Racine Ave &amp; Congress Pkwy</td>\n",
       "      <td>NaN</td>\n",
       "      <td>2013-06-27 14:58</td>\n",
       "      <td>2013-06-27 15:05</td>\n",
       "      <td>19</td>\n",
       "      <td>Loomis St &amp; Taylor St</td>\n",
       "      <td>4291</td>\n",
       "      <td>433</td>\n",
       "      <td>Customer</td>\n",
       "    </tr>\n",
       "    <tr>\n",
       "      <th>3</th>\n",
       "      <td>77</td>\n",
       "      <td>NaN</td>\n",
       "      <td>NaN</td>\n",
       "      <td>19</td>\n",
       "      <td>Loomis St &amp; Taylor St</td>\n",
       "      <td>NaN</td>\n",
       "      <td>2013-06-27 15:06</td>\n",
       "      <td>2013-06-27 15:09</td>\n",
       "      <td>19</td>\n",
       "      <td>Loomis St &amp; Taylor St</td>\n",
       "      <td>4316</td>\n",
       "      <td>123</td>\n",
       "      <td>Customer</td>\n",
       "    </tr>\n",
       "    <tr>\n",
       "      <th>4</th>\n",
       "      <td>77</td>\n",
       "      <td>NaN</td>\n",
       "      <td>NaN</td>\n",
       "      <td>19</td>\n",
       "      <td>Loomis St &amp; Taylor St</td>\n",
       "      <td>NaN</td>\n",
       "      <td>2013-06-27 15:13</td>\n",
       "      <td>2013-06-27 15:27</td>\n",
       "      <td>55</td>\n",
       "      <td>Halsted St &amp; James M Rochford St</td>\n",
       "      <td>4342</td>\n",
       "      <td>852</td>\n",
       "      <td>Customer</td>\n",
       "    </tr>\n",
       "  </tbody>\n",
       "</table>\n",
       "</div>"
      ],
      "text/plain": [
       "   bikeid  birthday  birthyear  from_station_id           from_station_name  \\\n",
       "0     480       NaN        NaN               85       Michigan Ave & Oak St   \n",
       "1      77       NaN        NaN               32  Racine Ave & Congress Pkwy   \n",
       "2      77       NaN        NaN               32  Racine Ave & Congress Pkwy   \n",
       "3      77       NaN        NaN               19       Loomis St & Taylor St   \n",
       "4      77       NaN        NaN               19       Loomis St & Taylor St   \n",
       "\n",
       "  gender         starttime          stoptime  to_station_id  \\\n",
       "0    NaN  2013-06-27 12:11  2013-06-27 12:16             28   \n",
       "1    NaN  2013-06-27 14:44  2013-06-27 14:45             32   \n",
       "2    NaN  2013-06-27 14:58  2013-06-27 15:05             19   \n",
       "3    NaN  2013-06-27 15:06  2013-06-27 15:09             19   \n",
       "4    NaN  2013-06-27 15:13  2013-06-27 15:27             55   \n",
       "\n",
       "                    to_station_name  trip_id  tripduration  usertype  \n",
       "0        Larrabee St & Menomonee St     4118           316  Customer  \n",
       "1        Racine Ave & Congress Pkwy     4275            64  Customer  \n",
       "2             Loomis St & Taylor St     4291           433  Customer  \n",
       "3             Loomis St & Taylor St     4316           123  Customer  \n",
       "4  Halsted St & James M Rochford St     4342           852  Customer  "
      ]
     },
     "execution_count": 5,
     "metadata": {},
     "output_type": "execute_result"
    }
   ],
   "source": [
    "data.head()"
   ]
  },
  {
   "cell_type": "code",
   "execution_count": 6,
   "metadata": {
    "collapsed": false
   },
   "outputs": [
    {
     "data": {
      "text/plain": [
       "Streeter Dr & Illinois St       164101\n",
       "Lake Shore Dr & Monroe St       122493\n",
       "Theater on the Lake             115330\n",
       "Clinton St & Washington Blvd    110611\n",
       "Millennium Park                 110085\n",
       "Michigan Ave & Oak St           109586\n",
       "Lake Shore Dr & North Blvd      101364\n",
       "Canal St & Madison St            96899\n",
       "Canal St & Adams St              85913\n",
       "McClurg Ct & Illinois St         69345\n",
       "Name: to_station_name, dtype: int64"
      ]
     },
     "execution_count": 6,
     "metadata": {},
     "output_type": "execute_result"
    }
   ],
   "source": [
    "data['to_station_name'].value_counts().head(10)"
   ]
  },
  {
   "cell_type": "code",
   "execution_count": 7,
   "metadata": {
    "collapsed": true
   },
   "outputs": [],
   "source": [
    "departure_arrival = pd.DataFrame(data['from_station_name'].value_counts()).join(data['to_station_name'].value_counts())"
   ]
  },
  {
   "cell_type": "code",
   "execution_count": 8,
   "metadata": {
    "collapsed": true
   },
   "outputs": [],
   "source": [
    "departure_arrival['net_departures'] = departure_arrival['from_station_name'] - departure_arrival['to_station_name']"
   ]
  },
  {
   "cell_type": "code",
   "execution_count": 9,
   "metadata": {
    "collapsed": false
   },
   "outputs": [
    {
     "data": {
      "text/html": [
       "<div>\n",
       "<table border=\"1\" class=\"dataframe\">\n",
       "  <thead>\n",
       "    <tr style=\"text-align: right;\">\n",
       "      <th></th>\n",
       "      <th>from_station_name</th>\n",
       "      <th>to_station_name</th>\n",
       "      <th>net_departures</th>\n",
       "    </tr>\n",
       "  </thead>\n",
       "  <tbody>\n",
       "    <tr>\n",
       "      <th>Columbus Dr &amp; Randolph St</th>\n",
       "      <td>70126</td>\n",
       "      <td>47723.0</td>\n",
       "      <td>22403.0</td>\n",
       "    </tr>\n",
       "    <tr>\n",
       "      <th>Canal St &amp; Monroe St</th>\n",
       "      <td>34496</td>\n",
       "      <td>22198.0</td>\n",
       "      <td>12298.0</td>\n",
       "    </tr>\n",
       "    <tr>\n",
       "      <th>Clinton St &amp; Madison St</th>\n",
       "      <td>71598</td>\n",
       "      <td>63789.0</td>\n",
       "      <td>7809.0</td>\n",
       "    </tr>\n",
       "    <tr>\n",
       "      <th>Stetson Ave &amp; South Water St</th>\n",
       "      <td>31514</td>\n",
       "      <td>23837.0</td>\n",
       "      <td>7677.0</td>\n",
       "    </tr>\n",
       "    <tr>\n",
       "      <th>Desplaines St &amp; Kinzie St</th>\n",
       "      <td>46823</td>\n",
       "      <td>41509.0</td>\n",
       "      <td>5314.0</td>\n",
       "    </tr>\n",
       "    <tr>\n",
       "      <th>Franklin St &amp; Jackson Blvd</th>\n",
       "      <td>60706</td>\n",
       "      <td>56046.0</td>\n",
       "      <td>4660.0</td>\n",
       "    </tr>\n",
       "    <tr>\n",
       "      <th>Michigan Ave &amp; Madison St</th>\n",
       "      <td>30219</td>\n",
       "      <td>25816.0</td>\n",
       "      <td>4403.0</td>\n",
       "    </tr>\n",
       "    <tr>\n",
       "      <th>Daley Center Plaza</th>\n",
       "      <td>54887</td>\n",
       "      <td>50525.0</td>\n",
       "      <td>4362.0</td>\n",
       "    </tr>\n",
       "    <tr>\n",
       "      <th>Wells St &amp; Walton St</th>\n",
       "      <td>23349</td>\n",
       "      <td>19022.0</td>\n",
       "      <td>4327.0</td>\n",
       "    </tr>\n",
       "    <tr>\n",
       "      <th>Franklin St &amp; Lake St</th>\n",
       "      <td>38108</td>\n",
       "      <td>34066.0</td>\n",
       "      <td>4042.0</td>\n",
       "    </tr>\n",
       "    <tr>\n",
       "      <th>Clark St &amp; Schiller St</th>\n",
       "      <td>34931</td>\n",
       "      <td>31156.0</td>\n",
       "      <td>3775.0</td>\n",
       "    </tr>\n",
       "    <tr>\n",
       "      <th>LaSalle St &amp; Washington St</th>\n",
       "      <td>37523</td>\n",
       "      <td>33904.0</td>\n",
       "      <td>3619.0</td>\n",
       "    </tr>\n",
       "    <tr>\n",
       "      <th>Jefferson St &amp; Monroe St</th>\n",
       "      <td>30896</td>\n",
       "      <td>27384.0</td>\n",
       "      <td>3512.0</td>\n",
       "    </tr>\n",
       "    <tr>\n",
       "      <th>Wells St &amp; Polk St</th>\n",
       "      <td>22611</td>\n",
       "      <td>19337.0</td>\n",
       "      <td>3274.0</td>\n",
       "    </tr>\n",
       "    <tr>\n",
       "      <th>Fairbanks Ct &amp; Grand Ave</th>\n",
       "      <td>48436</td>\n",
       "      <td>45712.0</td>\n",
       "      <td>2724.0</td>\n",
       "    </tr>\n",
       "    <tr>\n",
       "      <th>Clark St &amp; Congress Pkwy</th>\n",
       "      <td>34340</td>\n",
       "      <td>31637.0</td>\n",
       "      <td>2703.0</td>\n",
       "    </tr>\n",
       "    <tr>\n",
       "      <th>Franklin St &amp; Arcade Pl</th>\n",
       "      <td>36729</td>\n",
       "      <td>34156.0</td>\n",
       "      <td>2573.0</td>\n",
       "    </tr>\n",
       "    <tr>\n",
       "      <th>Clark St &amp; Chicago Ave</th>\n",
       "      <td>25625</td>\n",
       "      <td>23127.0</td>\n",
       "      <td>2498.0</td>\n",
       "    </tr>\n",
       "    <tr>\n",
       "      <th>Indiana Ave &amp; Roosevelt Rd</th>\n",
       "      <td>55535</td>\n",
       "      <td>53073.0</td>\n",
       "      <td>2462.0</td>\n",
       "    </tr>\n",
       "    <tr>\n",
       "      <th>State St &amp; Van Buren St</th>\n",
       "      <td>37344</td>\n",
       "      <td>34935.0</td>\n",
       "      <td>2409.0</td>\n",
       "    </tr>\n",
       "    <tr>\n",
       "      <th>Sedgwick St &amp; North Ave</th>\n",
       "      <td>26803</td>\n",
       "      <td>24527.0</td>\n",
       "      <td>2276.0</td>\n",
       "    </tr>\n",
       "    <tr>\n",
       "      <th>Canal St &amp; Jackson Blvd</th>\n",
       "      <td>64975</td>\n",
       "      <td>62719.0</td>\n",
       "      <td>2256.0</td>\n",
       "    </tr>\n",
       "    <tr>\n",
       "      <th>Canal St &amp; Adams St</th>\n",
       "      <td>88121</td>\n",
       "      <td>85913.0</td>\n",
       "      <td>2208.0</td>\n",
       "    </tr>\n",
       "    <tr>\n",
       "      <th>Clinton St &amp; Lake St</th>\n",
       "      <td>51554</td>\n",
       "      <td>49347.0</td>\n",
       "      <td>2207.0</td>\n",
       "    </tr>\n",
       "    <tr>\n",
       "      <th>State St &amp; Randolph St</th>\n",
       "      <td>43731</td>\n",
       "      <td>41533.0</td>\n",
       "      <td>2198.0</td>\n",
       "    </tr>\n",
       "    <tr>\n",
       "      <th>Dearborn St &amp; Adams St</th>\n",
       "      <td>49630</td>\n",
       "      <td>47445.0</td>\n",
       "      <td>2185.0</td>\n",
       "    </tr>\n",
       "    <tr>\n",
       "      <th>Lake Shore Dr &amp; Monroe St</th>\n",
       "      <td>124674</td>\n",
       "      <td>122493.0</td>\n",
       "      <td>2181.0</td>\n",
       "    </tr>\n",
       "    <tr>\n",
       "      <th>Dusable Harbor</th>\n",
       "      <td>23967</td>\n",
       "      <td>21815.0</td>\n",
       "      <td>2152.0</td>\n",
       "    </tr>\n",
       "    <tr>\n",
       "      <th>Canal St &amp; Monroe St (*)</th>\n",
       "      <td>7949</td>\n",
       "      <td>5819.0</td>\n",
       "      <td>2130.0</td>\n",
       "    </tr>\n",
       "    <tr>\n",
       "      <th>Kingsbury St &amp; Erie St</th>\n",
       "      <td>45160</td>\n",
       "      <td>43032.0</td>\n",
       "      <td>2128.0</td>\n",
       "    </tr>\n",
       "    <tr>\n",
       "      <th>...</th>\n",
       "      <td>...</td>\n",
       "      <td>...</td>\n",
       "      <td>...</td>\n",
       "    </tr>\n",
       "    <tr>\n",
       "      <th>Lake Shore Dr &amp; Wellington Ave</th>\n",
       "      <td>31152</td>\n",
       "      <td>32817.0</td>\n",
       "      <td>-1665.0</td>\n",
       "    </tr>\n",
       "    <tr>\n",
       "      <th>McClurg Ct &amp; Illinois St</th>\n",
       "      <td>67656</td>\n",
       "      <td>69345.0</td>\n",
       "      <td>-1689.0</td>\n",
       "    </tr>\n",
       "    <tr>\n",
       "      <th>Kedzie Ave &amp; Milwaukee Ave</th>\n",
       "      <td>20586</td>\n",
       "      <td>22275.0</td>\n",
       "      <td>-1689.0</td>\n",
       "    </tr>\n",
       "    <tr>\n",
       "      <th>Clinton St &amp; Roosevelt Rd</th>\n",
       "      <td>19663</td>\n",
       "      <td>21654.0</td>\n",
       "      <td>-1991.0</td>\n",
       "    </tr>\n",
       "    <tr>\n",
       "      <th>Larrabee St &amp; Kingsbury St</th>\n",
       "      <td>46168</td>\n",
       "      <td>48171.0</td>\n",
       "      <td>-2003.0</td>\n",
       "    </tr>\n",
       "    <tr>\n",
       "      <th>Dearborn Pkwy &amp; Delaware Pl</th>\n",
       "      <td>41986</td>\n",
       "      <td>44078.0</td>\n",
       "      <td>-2092.0</td>\n",
       "    </tr>\n",
       "    <tr>\n",
       "      <th>Michigan Ave &amp; Lake St</th>\n",
       "      <td>63442</td>\n",
       "      <td>65580.0</td>\n",
       "      <td>-2138.0</td>\n",
       "    </tr>\n",
       "    <tr>\n",
       "      <th>Mies van der Rohe Way &amp; Chicago Ave</th>\n",
       "      <td>39430</td>\n",
       "      <td>41618.0</td>\n",
       "      <td>-2188.0</td>\n",
       "    </tr>\n",
       "    <tr>\n",
       "      <th>Wabash Ave &amp; Grand Ave</th>\n",
       "      <td>58124</td>\n",
       "      <td>60333.0</td>\n",
       "      <td>-2209.0</td>\n",
       "    </tr>\n",
       "    <tr>\n",
       "      <th>Damen Ave &amp; Chicago Ave</th>\n",
       "      <td>26262</td>\n",
       "      <td>28524.0</td>\n",
       "      <td>-2262.0</td>\n",
       "    </tr>\n",
       "    <tr>\n",
       "      <th>State St &amp; Kinzie St</th>\n",
       "      <td>53759</td>\n",
       "      <td>56026.0</td>\n",
       "      <td>-2267.0</td>\n",
       "    </tr>\n",
       "    <tr>\n",
       "      <th>Bissell St &amp; Armitage Ave</th>\n",
       "      <td>25418</td>\n",
       "      <td>27798.0</td>\n",
       "      <td>-2380.0</td>\n",
       "    </tr>\n",
       "    <tr>\n",
       "      <th>LaSalle St &amp; Illinois St</th>\n",
       "      <td>48912</td>\n",
       "      <td>51398.0</td>\n",
       "      <td>-2486.0</td>\n",
       "    </tr>\n",
       "    <tr>\n",
       "      <th>St Clair St &amp; Erie St</th>\n",
       "      <td>21162</td>\n",
       "      <td>23865.0</td>\n",
       "      <td>-2703.0</td>\n",
       "    </tr>\n",
       "    <tr>\n",
       "      <th>Sheffield Ave &amp; Kingsbury St</th>\n",
       "      <td>23413</td>\n",
       "      <td>26142.0</td>\n",
       "      <td>-2729.0</td>\n",
       "    </tr>\n",
       "    <tr>\n",
       "      <th>Green St &amp; Randolph St</th>\n",
       "      <td>28772</td>\n",
       "      <td>31511.0</td>\n",
       "      <td>-2739.0</td>\n",
       "    </tr>\n",
       "    <tr>\n",
       "      <th>Damen Ave &amp; Pierce Ave</th>\n",
       "      <td>45252</td>\n",
       "      <td>48691.0</td>\n",
       "      <td>-3439.0</td>\n",
       "    </tr>\n",
       "    <tr>\n",
       "      <th>Streeter Dr &amp; Grand Ave</th>\n",
       "      <td>30795</td>\n",
       "      <td>34547.0</td>\n",
       "      <td>-3752.0</td>\n",
       "    </tr>\n",
       "    <tr>\n",
       "      <th>Wabash Ave &amp; Roosevelt Rd</th>\n",
       "      <td>51241</td>\n",
       "      <td>55419.0</td>\n",
       "      <td>-4178.0</td>\n",
       "    </tr>\n",
       "    <tr>\n",
       "      <th>Sheffield Ave &amp; Addison St</th>\n",
       "      <td>32835</td>\n",
       "      <td>37073.0</td>\n",
       "      <td>-4238.0</td>\n",
       "    </tr>\n",
       "    <tr>\n",
       "      <th>Hampden Ct &amp; Diversey Pkwy</th>\n",
       "      <td>32729</td>\n",
       "      <td>37369.0</td>\n",
       "      <td>-4640.0</td>\n",
       "    </tr>\n",
       "    <tr>\n",
       "      <th>St. Clair St &amp; Erie St</th>\n",
       "      <td>26263</td>\n",
       "      <td>32037.0</td>\n",
       "      <td>-5774.0</td>\n",
       "    </tr>\n",
       "    <tr>\n",
       "      <th>Theater on the Lake</th>\n",
       "      <td>108426</td>\n",
       "      <td>115330.0</td>\n",
       "      <td>-6904.0</td>\n",
       "    </tr>\n",
       "    <tr>\n",
       "      <th>Michigan Ave &amp; Oak St</th>\n",
       "      <td>101762</td>\n",
       "      <td>109586.0</td>\n",
       "      <td>-7824.0</td>\n",
       "    </tr>\n",
       "    <tr>\n",
       "      <th>Millennium Park</th>\n",
       "      <td>100545</td>\n",
       "      <td>110085.0</td>\n",
       "      <td>-9540.0</td>\n",
       "    </tr>\n",
       "    <tr>\n",
       "      <th>Canal St &amp; Madison St</th>\n",
       "      <td>86289</td>\n",
       "      <td>96899.0</td>\n",
       "      <td>-10610.0</td>\n",
       "    </tr>\n",
       "    <tr>\n",
       "      <th>Lake Shore Dr &amp; North Blvd</th>\n",
       "      <td>90112</td>\n",
       "      <td>101364.0</td>\n",
       "      <td>-11252.0</td>\n",
       "    </tr>\n",
       "    <tr>\n",
       "      <th>Streeter Dr &amp; Illinois St</th>\n",
       "      <td>137683</td>\n",
       "      <td>164101.0</td>\n",
       "      <td>-26418.0</td>\n",
       "    </tr>\n",
       "    <tr>\n",
       "      <th>Marion St &amp; South Blvd</th>\n",
       "      <td>3</td>\n",
       "      <td>NaN</td>\n",
       "      <td>NaN</td>\n",
       "    </tr>\n",
       "    <tr>\n",
       "      <th>Elizabeth St &amp; 47th St</th>\n",
       "      <td>1</td>\n",
       "      <td>NaN</td>\n",
       "      <td>NaN</td>\n",
       "    </tr>\n",
       "  </tbody>\n",
       "</table>\n",
       "<p>581 rows × 3 columns</p>\n",
       "</div>"
      ],
      "text/plain": [
       "                                     from_station_name  to_station_name  \\\n",
       "Columbus Dr & Randolph St                        70126          47723.0   \n",
       "Canal St & Monroe St                             34496          22198.0   \n",
       "Clinton St & Madison St                          71598          63789.0   \n",
       "Stetson Ave & South Water St                     31514          23837.0   \n",
       "Desplaines St & Kinzie St                        46823          41509.0   \n",
       "Franklin St & Jackson Blvd                       60706          56046.0   \n",
       "Michigan Ave & Madison St                        30219          25816.0   \n",
       "Daley Center Plaza                               54887          50525.0   \n",
       "Wells St & Walton St                             23349          19022.0   \n",
       "Franklin St & Lake St                            38108          34066.0   \n",
       "Clark St & Schiller St                           34931          31156.0   \n",
       "LaSalle St & Washington St                       37523          33904.0   \n",
       "Jefferson St & Monroe St                         30896          27384.0   \n",
       "Wells St & Polk St                               22611          19337.0   \n",
       "Fairbanks Ct & Grand Ave                         48436          45712.0   \n",
       "Clark St & Congress Pkwy                         34340          31637.0   \n",
       "Franklin St & Arcade Pl                          36729          34156.0   \n",
       "Clark St & Chicago Ave                           25625          23127.0   \n",
       "Indiana Ave & Roosevelt Rd                       55535          53073.0   \n",
       "State St & Van Buren St                          37344          34935.0   \n",
       "Sedgwick St & North Ave                          26803          24527.0   \n",
       "Canal St & Jackson Blvd                          64975          62719.0   \n",
       "Canal St & Adams St                              88121          85913.0   \n",
       "Clinton St & Lake St                             51554          49347.0   \n",
       "State St & Randolph St                           43731          41533.0   \n",
       "Dearborn St & Adams St                           49630          47445.0   \n",
       "Lake Shore Dr & Monroe St                       124674         122493.0   \n",
       "Dusable Harbor                                   23967          21815.0   \n",
       "Canal St & Monroe St (*)                          7949           5819.0   \n",
       "Kingsbury St & Erie St                           45160          43032.0   \n",
       "...                                                ...              ...   \n",
       "Lake Shore Dr & Wellington Ave                   31152          32817.0   \n",
       "McClurg Ct & Illinois St                         67656          69345.0   \n",
       "Kedzie Ave & Milwaukee Ave                       20586          22275.0   \n",
       "Clinton St & Roosevelt Rd                        19663          21654.0   \n",
       "Larrabee St & Kingsbury St                       46168          48171.0   \n",
       "Dearborn Pkwy & Delaware Pl                      41986          44078.0   \n",
       "Michigan Ave & Lake St                           63442          65580.0   \n",
       "Mies van der Rohe Way & Chicago Ave              39430          41618.0   \n",
       "Wabash Ave & Grand Ave                           58124          60333.0   \n",
       "Damen Ave & Chicago Ave                          26262          28524.0   \n",
       "State St & Kinzie St                             53759          56026.0   \n",
       "Bissell St & Armitage Ave                        25418          27798.0   \n",
       "LaSalle St & Illinois St                         48912          51398.0   \n",
       "St Clair St & Erie St                            21162          23865.0   \n",
       "Sheffield Ave & Kingsbury St                     23413          26142.0   \n",
       "Green St & Randolph St                           28772          31511.0   \n",
       "Damen Ave & Pierce Ave                           45252          48691.0   \n",
       "Streeter Dr & Grand Ave                          30795          34547.0   \n",
       "Wabash Ave & Roosevelt Rd                        51241          55419.0   \n",
       "Sheffield Ave & Addison St                       32835          37073.0   \n",
       "Hampden Ct & Diversey Pkwy                       32729          37369.0   \n",
       "St. Clair St & Erie St                           26263          32037.0   \n",
       "Theater on the Lake                             108426         115330.0   \n",
       "Michigan Ave & Oak St                           101762         109586.0   \n",
       "Millennium Park                                 100545         110085.0   \n",
       "Canal St & Madison St                            86289          96899.0   \n",
       "Lake Shore Dr & North Blvd                       90112         101364.0   \n",
       "Streeter Dr & Illinois St                       137683         164101.0   \n",
       "Marion St & South Blvd                               3              NaN   \n",
       "Elizabeth St & 47th St                               1              NaN   \n",
       "\n",
       "                                     net_departures  \n",
       "Columbus Dr & Randolph St                   22403.0  \n",
       "Canal St & Monroe St                        12298.0  \n",
       "Clinton St & Madison St                      7809.0  \n",
       "Stetson Ave & South Water St                 7677.0  \n",
       "Desplaines St & Kinzie St                    5314.0  \n",
       "Franklin St & Jackson Blvd                   4660.0  \n",
       "Michigan Ave & Madison St                    4403.0  \n",
       "Daley Center Plaza                           4362.0  \n",
       "Wells St & Walton St                         4327.0  \n",
       "Franklin St & Lake St                        4042.0  \n",
       "Clark St & Schiller St                       3775.0  \n",
       "LaSalle St & Washington St                   3619.0  \n",
       "Jefferson St & Monroe St                     3512.0  \n",
       "Wells St & Polk St                           3274.0  \n",
       "Fairbanks Ct & Grand Ave                     2724.0  \n",
       "Clark St & Congress Pkwy                     2703.0  \n",
       "Franklin St & Arcade Pl                      2573.0  \n",
       "Clark St & Chicago Ave                       2498.0  \n",
       "Indiana Ave & Roosevelt Rd                   2462.0  \n",
       "State St & Van Buren St                      2409.0  \n",
       "Sedgwick St & North Ave                      2276.0  \n",
       "Canal St & Jackson Blvd                      2256.0  \n",
       "Canal St & Adams St                          2208.0  \n",
       "Clinton St & Lake St                         2207.0  \n",
       "State St & Randolph St                       2198.0  \n",
       "Dearborn St & Adams St                       2185.0  \n",
       "Lake Shore Dr & Monroe St                    2181.0  \n",
       "Dusable Harbor                               2152.0  \n",
       "Canal St & Monroe St (*)                     2130.0  \n",
       "Kingsbury St & Erie St                       2128.0  \n",
       "...                                             ...  \n",
       "Lake Shore Dr & Wellington Ave              -1665.0  \n",
       "McClurg Ct & Illinois St                    -1689.0  \n",
       "Kedzie Ave & Milwaukee Ave                  -1689.0  \n",
       "Clinton St & Roosevelt Rd                   -1991.0  \n",
       "Larrabee St & Kingsbury St                  -2003.0  \n",
       "Dearborn Pkwy & Delaware Pl                 -2092.0  \n",
       "Michigan Ave & Lake St                      -2138.0  \n",
       "Mies van der Rohe Way & Chicago Ave         -2188.0  \n",
       "Wabash Ave & Grand Ave                      -2209.0  \n",
       "Damen Ave & Chicago Ave                     -2262.0  \n",
       "State St & Kinzie St                        -2267.0  \n",
       "Bissell St & Armitage Ave                   -2380.0  \n",
       "LaSalle St & Illinois St                    -2486.0  \n",
       "St Clair St & Erie St                       -2703.0  \n",
       "Sheffield Ave & Kingsbury St                -2729.0  \n",
       "Green St & Randolph St                      -2739.0  \n",
       "Damen Ave & Pierce Ave                      -3439.0  \n",
       "Streeter Dr & Grand Ave                     -3752.0  \n",
       "Wabash Ave & Roosevelt Rd                   -4178.0  \n",
       "Sheffield Ave & Addison St                  -4238.0  \n",
       "Hampden Ct & Diversey Pkwy                  -4640.0  \n",
       "St. Clair St & Erie St                      -5774.0  \n",
       "Theater on the Lake                         -6904.0  \n",
       "Michigan Ave & Oak St                       -7824.0  \n",
       "Millennium Park                             -9540.0  \n",
       "Canal St & Madison St                      -10610.0  \n",
       "Lake Shore Dr & North Blvd                 -11252.0  \n",
       "Streeter Dr & Illinois St                  -26418.0  \n",
       "Marion St & South Blvd                          NaN  \n",
       "Elizabeth St & 47th St                          NaN  \n",
       "\n",
       "[581 rows x 3 columns]"
      ]
     },
     "execution_count": 9,
     "metadata": {},
     "output_type": "execute_result"
    }
   ],
   "source": [
    "departure_arrival.sort_values(by='net_departures', ascending=False)"
   ]
  },
  {
   "cell_type": "code",
   "execution_count": 10,
   "metadata": {
    "collapsed": false
   },
   "outputs": [
    {
     "data": {
      "text/plain": [
       "from_station_name    581\n",
       "to_station_name      579\n",
       "net_departures       579\n",
       "dtype: int64"
      ]
     },
     "execution_count": 10,
     "metadata": {},
     "output_type": "execute_result"
    }
   ],
   "source": [
    "#departure_arrival.sort_values(by='net_departures')\n",
    "departure_arrival.count()"
   ]
  },
  {
   "cell_type": "code",
   "execution_count": 11,
   "metadata": {
    "collapsed": true
   },
   "outputs": [],
   "source": [
    "departure_arrival.fillna(0, inplace=True)"
   ]
  },
  {
   "cell_type": "code",
   "execution_count": 12,
   "metadata": {
    "collapsed": false
   },
   "outputs": [
    {
     "data": {
      "text/plain": [
       "from_station_name    581\n",
       "to_station_name      581\n",
       "net_departures       581\n",
       "dtype: int64"
      ]
     },
     "execution_count": 12,
     "metadata": {},
     "output_type": "execute_result"
    }
   ],
   "source": [
    "departure_arrival.count()"
   ]
  },
  {
   "cell_type": "code",
   "execution_count": 13,
   "metadata": {
    "collapsed": true
   },
   "outputs": [],
   "source": [
    "departure_arrival['net_departures'] = departure_arrival['from_station_name'] - departure_arrival['to_station_name']"
   ]
  },
  {
   "cell_type": "code",
   "execution_count": 14,
   "metadata": {
    "collapsed": false
   },
   "outputs": [
    {
     "data": {
      "text/plain": [
       "(array([ 389.,  101.,   47.,   22.,   11.,    2.,    3.,    3.,    1.,    2.]),\n",
       " array([  1.00000000e+00,   1.37692000e+04,   2.75374000e+04,\n",
       "          4.13056000e+04,   5.50738000e+04,   6.88420000e+04,\n",
       "          8.26102000e+04,   9.63784000e+04,   1.10146600e+05,\n",
       "          1.23914800e+05,   1.37683000e+05]),\n",
       " <a list of 10 Patch objects>)"
      ]
     },
     "execution_count": 14,
     "metadata": {},
     "output_type": "execute_result"
    },
    {
     "data": {
      "image/png": "[encoded data removed]",
      "text/plain": [
       "<matplotlib.figure.Figure at 0x7fc7d6e6f410>"
      ]
     },
     "metadata": {},
     "output_type": "display_data"
    }
   ],
   "source": [
    "plt.hist(departure_arrival['from_station_name'])"
   ]
  },
  {
   "cell_type": "code",
   "execution_count": 15,
   "metadata": {
    "collapsed": false
   },
   "outputs": [
    {
     "data": {
      "text/plain": [
       "(array([ 158.,   53.,   32.,   26.,   26.,   14.,   22.,   28.,   19.,\n",
       "          11.,   20.,   12.,    9.,    7.,   14.,    7.,    9.,    9.,\n",
       "           3.,   11.,    8.,    1.,    6.,   10.,    8.,    3.,    3.,\n",
       "           4.,    3.,    1.,    2.,    4.,    3.,    2.,    2.,    4.,\n",
       "           1.,    2.,    0.,    2.,    1.,    1.,    2.,    1.,    2.,\n",
       "           0.,    1.,    2.,    0.,    1.,    1.,    0.,    1.,    0.,\n",
       "           0.,    0.,    0.,    0.,    0.,    0.,    0.,    0.,    1.,\n",
       "           0.,    1.,    1.,    0.,    0.,    0.,    0.,    0.,    0.,\n",
       "           0.,    2.,    0.,    0.,    0.,    0.,    1.,    0.,    0.,\n",
       "           1.,    0.,    0.,    0.,    0.,    0.,    0.,    0.,    0.,\n",
       "           1.,    0.,    0.,    0.,    0.,    0.,    0.,    0.,    0.,    1.]),\n",
       " array([  1.00000000e+00,   1.37782000e+03,   2.75464000e+03,\n",
       "          4.13146000e+03,   5.50828000e+03,   6.88510000e+03,\n",
       "          8.26192000e+03,   9.63874000e+03,   1.10155600e+04,\n",
       "          1.23923800e+04,   1.37692000e+04,   1.51460200e+04,\n",
       "          1.65228400e+04,   1.78996600e+04,   1.92764800e+04,\n",
       "          2.06533000e+04,   2.20301200e+04,   2.34069400e+04,\n",
       "          2.47837600e+04,   2.61605800e+04,   2.75374000e+04,\n",
       "          2.89142200e+04,   3.02910400e+04,   3.16678600e+04,\n",
       "          3.30446800e+04,   3.44215000e+04,   3.57983200e+04,\n",
       "          3.71751400e+04,   3.85519600e+04,   3.99287800e+04,\n",
       "          4.13056000e+04,   4.26824200e+04,   4.40592400e+04,\n",
       "          4.54360600e+04,   4.68128800e+04,   4.81897000e+04,\n",
       "          4.95665200e+04,   5.09433400e+04,   5.23201600e+04,\n",
       "          5.36969800e+04,   5.50738000e+04,   5.64506200e+04,\n",
       "          5.78274400e+04,   5.92042600e+04,   6.05810800e+04,\n",
       "          6.19579000e+04,   6.33347200e+04,   6.47115400e+04,\n",
       "          6.60883600e+04,   6.74651800e+04,   6.88420000e+04,\n",
       "          7.02188200e+04,   7.15956400e+04,   7.29724600e+04,\n",
       "          7.43492800e+04,   7.57261000e+04,   7.71029200e+04,\n",
       "          7.84797400e+04,   7.98565600e+04,   8.12333800e+04,\n",
       "          8.26102000e+04,   8.39870200e+04,   8.53638400e+04,\n",
       "          8.67406600e+04,   8.81174800e+04,   8.94943000e+04,\n",
       "          9.08711200e+04,   9.22479400e+04,   9.36247600e+04,\n",
       "          9.50015800e+04,   9.63784000e+04,   9.77552200e+04,\n",
       "          9.91320400e+04,   1.00508860e+05,   1.01885680e+05,\n",
       "          1.03262500e+05,   1.04639320e+05,   1.06016140e+05,\n",
       "          1.07392960e+05,   1.08769780e+05,   1.10146600e+05,\n",
       "          1.11523420e+05,   1.12900240e+05,   1.14277060e+05,\n",
       "          1.15653880e+05,   1.17030700e+05,   1.18407520e+05,\n",
       "          1.19784340e+05,   1.21161160e+05,   1.22537980e+05,\n",
       "          1.23914800e+05,   1.25291620e+05,   1.26668440e+05,\n",
       "          1.28045260e+05,   1.29422080e+05,   1.30798900e+05,\n",
       "          1.32175720e+05,   1.33552540e+05,   1.34929360e+05,\n",
       "          1.36306180e+05,   1.37683000e+05]),\n",
       " <a list of 100 Patch objects>)"
      ]
     },
     "execution_count": 15,
     "metadata": {},
     "output_type": "execute_result"
    },
    {
     "data": {
      "image/png": "[encoded data removed]",
      "text/plain": [
       "<matplotlib.figure.Figure at 0x7fc7d6bd5bd0>"
      ]
     },
     "metadata": {},
     "output_type": "display_data"
    }
   ],
   "source": [
    "plt.hist(departure_arrival['from_station_name'], 100)"
   ]
  },
  {
   "cell_type": "code",
   "execution_count": 16,
   "metadata": {
    "collapsed": false
   },
   "outputs": [
    {
     "data": {
      "text/plain": [
       "(array([   1.,    0.,    0.,    0.,    0.,    0.,    0.,    0.,    0.,\n",
       "           0.,    0.,    0.,    0.,    0.,    0.,    0.,    0.,    0.,\n",
       "           0.,    0.,    0.,    0.,    0.,    0.,    0.,    0.,    0.,\n",
       "           0.,    0.,    0.,    0.,    1.,    1.,    0.,    1.,    0.,\n",
       "           0.,    0.,    1.,    1.,    0.,    0.,    1.,    0.,    1.,\n",
       "           2.,    1.,    1.,    3.,    8.,    7.,   24.,   29.,  135.,\n",
       "         255.,   52.,   14.,   10.,   12.,    6.,    1.,    3.,    2.,\n",
       "           3.,    1.,    0.,    0.,    0.,    0.,    1.,    1.,    0.,\n",
       "           0.,    0.,    0.,    0.,    0.,    0.,    0.,    1.,    0.,\n",
       "           0.,    0.,    0.,    0.,    0.,    0.,    0.,    0.,    0.,\n",
       "           0.,    0.,    0.,    0.,    0.,    0.,    0.,    0.,    0.,    1.]),\n",
       " array([-26418.  , -25929.79, -25441.58, -24953.37, -24465.16, -23976.95,\n",
       "        -23488.74, -23000.53, -22512.32, -22024.11, -21535.9 , -21047.69,\n",
       "        -20559.48, -20071.27, -19583.06, -19094.85, -18606.64, -18118.43,\n",
       "        -17630.22, -17142.01, -16653.8 , -16165.59, -15677.38, -15189.17,\n",
       "        -14700.96, -14212.75, -13724.54, -13236.33, -12748.12, -12259.91,\n",
       "        -11771.7 , -11283.49, -10795.28, -10307.07,  -9818.86,  -9330.65,\n",
       "         -8842.44,  -8354.23,  -7866.02,  -7377.81,  -6889.6 ,  -6401.39,\n",
       "         -5913.18,  -5424.97,  -4936.76,  -4448.55,  -3960.34,  -3472.13,\n",
       "         -2983.92,  -2495.71,  -2007.5 ,  -1519.29,  -1031.08,   -542.87,\n",
       "           -54.66,    433.55,    921.76,   1409.97,   1898.18,   2386.39,\n",
       "          2874.6 ,   3362.81,   3851.02,   4339.23,   4827.44,   5315.65,\n",
       "          5803.86,   6292.07,   6780.28,   7268.49,   7756.7 ,   8244.91,\n",
       "          8733.12,   9221.33,   9709.54,  10197.75,  10685.96,  11174.17,\n",
       "         11662.38,  12150.59,  12638.8 ,  13127.01,  13615.22,  14103.43,\n",
       "         14591.64,  15079.85,  15568.06,  16056.27,  16544.48,  17032.69,\n",
       "         17520.9 ,  18009.11,  18497.32,  18985.53,  19473.74,  19961.95,\n",
       "         20450.16,  20938.37,  21426.58,  21914.79,  22403.  ]),\n",
       " <a list of 100 Patch objects>)"
      ]
     },
     "execution_count": 16,
     "metadata": {},
     "output_type": "execute_result"
    },
    {
     "data": {
      "image/png": "[encoded data removed]",
      "text/plain": [
       "<matplotlib.figure.Figure at 0x7fc7d687f550>"
      ]
     },
     "metadata": {},
     "output_type": "display_data"
    }
   ],
   "source": [
    "plt.hist(departure_arrival['net_departures'], 100)"
   ]
  },
  {
   "cell_type": "code",
   "execution_count": 17,
   "metadata": {
    "collapsed": false
   },
   "outputs": [
    {
     "data": {
      "text/plain": [
       "count      581.000000\n",
       "mean         0.001721\n",
       "std       2082.847606\n",
       "min     -26418.000000\n",
       "25%       -217.000000\n",
       "50%          0.000000\n",
       "75%        222.000000\n",
       "max      22403.000000\n",
       "Name: net_departures, dtype: float64"
      ]
     },
     "execution_count": 17,
     "metadata": {},
     "output_type": "execute_result"
    }
   ],
   "source": [
    "departure_arrival['net_departures'].describe()"
   ]
  },
  {
   "cell_type": "code",
   "execution_count": 18,
   "metadata": {
    "collapsed": false
   },
   "outputs": [
    {
     "data": {
      "text/plain": [
       "Index([u'bikeid', u'birthday', u'birthyear', u'from_station_id',\n",
       "       u'from_station_name', u'gender', u'starttime', u'stoptime',\n",
       "       u'to_station_id', u'to_station_name', u'trip_id', u'tripduration',\n",
       "       u'usertype'],\n",
       "      dtype='object')"
      ]
     },
     "execution_count": 18,
     "metadata": {},
     "output_type": "execute_result"
    }
   ],
   "source": [
    "data.columns"
   ]
  },
  {
   "cell_type": "code",
   "execution_count": 19,
   "metadata": {
    "collapsed": false
   },
   "outputs": [
    {
     "data": {
      "text/plain": [
       "count    7.867601e+06\n",
       "mean     1.035279e+03\n",
       "std      2.063022e+03\n",
       "min      6.000000e+01\n",
       "25%      4.220000e+02\n",
       "50%      7.300000e+02\n",
       "75%      1.216000e+03\n",
       "max      8.639900e+04\n",
       "Name: tripduration, dtype: float64"
      ]
     },
     "execution_count": 19,
     "metadata": {},
     "output_type": "execute_result"
    }
   ],
   "source": [
    "data['tripduration'].describe()"
   ]
  },
  {
   "cell_type": "code",
   "execution_count": 20,
   "metadata": {
    "collapsed": false
   },
   "outputs": [
    {
     "name": "stdout",
     "output_type": "stream",
     "text": [
      "0\n",
      "False\n",
      "False    7867601\n",
      "Name: tripduration, dtype: int64\n"
     ]
    }
   ],
   "source": [
    "print data['tripduration'].isnull().sum()\n",
    "print data['tripduration'].isnull().any()\n",
    "print data['tripduration'].isnull().value_counts()"
   ]
  },
  {
   "cell_type": "code",
   "execution_count": 21,
   "metadata": {
    "collapsed": false
   },
   "outputs": [
    {
     "data": {
      "text/plain": [
       "(array([  4.84321500e+06,   2.29507500e+06,   4.15107000e+05,\n",
       "          1.29172000e+05,   5.97390000e+04,   3.51950000e+04,\n",
       "          2.22590000e+04,   1.51910000e+04,   1.03980000e+04,\n",
       "          7.24800000e+03,   5.37500000e+03,   4.15900000e+03,\n",
       "          3.13500000e+03,   2.36100000e+03,   1.96400000e+03,\n",
       "          1.67000000e+03,   1.31800000e+03,   1.11600000e+03,\n",
       "          9.26000000e+02,   7.65000000e+02,   6.08000000e+02,\n",
       "          5.99000000e+02,   5.10000000e+02,   4.59000000e+02,\n",
       "          3.82000000e+02,   3.67000000e+02,   3.12000000e+02,\n",
       "          2.69000000e+02,   2.77000000e+02,   2.18000000e+02,\n",
       "          2.08000000e+02,   2.07000000e+02,   1.92000000e+02,\n",
       "          1.69000000e+02,   1.89000000e+02,   1.64000000e+02,\n",
       "          1.69000000e+02,   1.90000000e+02,   1.69000000e+02,\n",
       "          1.53000000e+02,   1.35000000e+02,   1.43000000e+02,\n",
       "          1.38000000e+02,   1.41000000e+02,   1.27000000e+02,\n",
       "          1.38000000e+02,   1.31000000e+02,   1.09000000e+02,\n",
       "          1.21000000e+02,   1.38000000e+02,   1.29000000e+02,\n",
       "          1.24000000e+02,   1.00000000e+02,   1.27000000e+02,\n",
       "          1.38000000e+02,   1.57000000e+02,   1.48000000e+02,\n",
       "          1.29000000e+02,   1.34000000e+02,   1.45000000e+02,\n",
       "          1.35000000e+02,   1.14000000e+02,   1.11000000e+02,\n",
       "          1.08000000e+02,   1.14000000e+02,   9.40000000e+01,\n",
       "          1.19000000e+02,   1.13000000e+02,   9.30000000e+01,\n",
       "          1.11000000e+02,   9.50000000e+01,   1.14000000e+02,\n",
       "          9.10000000e+01,   1.00000000e+02,   1.01000000e+02,\n",
       "          8.90000000e+01,   8.40000000e+01,   8.60000000e+01,\n",
       "          5.30000000e+01,   9.10000000e+01,   8.80000000e+01,\n",
       "          1.08000000e+02,   8.20000000e+01,   8.20000000e+01,\n",
       "          7.80000000e+01,   7.60000000e+01,   8.10000000e+01,\n",
       "          8.20000000e+01,   9.40000000e+01,   6.70000000e+01,\n",
       "          8.40000000e+01,   7.30000000e+01,   8.30000000e+01,\n",
       "          9.70000000e+01,   8.80000000e+01,   9.30000000e+01,\n",
       "          7.90000000e+01,   1.01000000e+02,   1.13000000e+02,\n",
       "          8.50000000e+01]),\n",
       " array([  6.00000000e+01,   9.23390000e+02,   1.78678000e+03,\n",
       "          2.65017000e+03,   3.51356000e+03,   4.37695000e+03,\n",
       "          5.24034000e+03,   6.10373000e+03,   6.96712000e+03,\n",
       "          7.83051000e+03,   8.69390000e+03,   9.55729000e+03,\n",
       "          1.04206800e+04,   1.12840700e+04,   1.21474600e+04,\n",
       "          1.30108500e+04,   1.38742400e+04,   1.47376300e+04,\n",
       "          1.56010200e+04,   1.64644100e+04,   1.73278000e+04,\n",
       "          1.81911900e+04,   1.90545800e+04,   1.99179700e+04,\n",
       "          2.07813600e+04,   2.16447500e+04,   2.25081400e+04,\n",
       "          2.33715300e+04,   2.42349200e+04,   2.50983100e+04,\n",
       "          2.59617000e+04,   2.68250900e+04,   2.76884800e+04,\n",
       "          2.85518700e+04,   2.94152600e+04,   3.02786500e+04,\n",
       "          3.11420400e+04,   3.20054300e+04,   3.28688200e+04,\n",
       "          3.37322100e+04,   3.45956000e+04,   3.54589900e+04,\n",
       "          3.63223800e+04,   3.71857700e+04,   3.80491600e+04,\n",
       "          3.89125500e+04,   3.97759400e+04,   4.06393300e+04,\n",
       "          4.15027200e+04,   4.23661100e+04,   4.32295000e+04,\n",
       "          4.40928900e+04,   4.49562800e+04,   4.58196700e+04,\n",
       "          4.66830600e+04,   4.75464500e+04,   4.84098400e+04,\n",
       "          4.92732300e+04,   5.01366200e+04,   5.10000100e+04,\n",
       "          5.18634000e+04,   5.27267900e+04,   5.35901800e+04,\n",
       "          5.44535700e+04,   5.53169600e+04,   5.61803500e+04,\n",
       "          5.70437400e+04,   5.79071300e+04,   5.87705200e+04,\n",
       "          5.96339100e+04,   6.04973000e+04,   6.13606900e+04,\n",
       "          6.22240800e+04,   6.30874700e+04,   6.39508600e+04,\n",
       "          6.48142500e+04,   6.56776400e+04,   6.65410300e+04,\n",
       "          6.74044200e+04,   6.82678100e+04,   6.91312000e+04,\n",
       "          6.99945900e+04,   7.08579800e+04,   7.17213700e+04,\n",
       "          7.25847600e+04,   7.34481500e+04,   7.43115400e+04,\n",
       "          7.51749300e+04,   7.60383200e+04,   7.69017100e+04,\n",
       "          7.77651000e+04,   7.86284900e+04,   7.94918800e+04,\n",
       "          8.03552700e+04,   8.12186600e+04,   8.20820500e+04,\n",
       "          8.29454400e+04,   8.38088300e+04,   8.46722200e+04,\n",
       "          8.55356100e+04,   8.63990000e+04]),\n",
       " <a list of 100 Patch objects>)"
      ]
     },
     "execution_count": 21,
     "metadata": {},
     "output_type": "execute_result"
    },
    {
     "data": {
      "image/png": "[encoded data removed]",
      "text/plain": [
       "<matplotlib.figure.Figure at 0x7fc7d6887e90>"
      ]
     },
     "metadata": {},
     "output_type": "display_data"
    }
   ],
   "source": [
    "plt.hist(data['tripduration'], 100)"
   ]
  },
  {
   "cell_type": "code",
   "execution_count": 22,
   "metadata": {
    "collapsed": false
   },
   "outputs": [
    {
     "data": {
      "text/plain": [
       "(0, 1800)"
      ]
     },
     "execution_count": 22,
     "metadata": {},
     "output_type": "execute_result"
    },
    {
     "data": {
      "image/png": "[encoded data removed]",
      "text/plain": [
       "<matplotlib.figure.Figure at 0x7fc7d630e150>"
      ]
     },
     "metadata": {},
     "output_type": "display_data"
    }
   ],
   "source": [
    "plt.hist(data['tripduration'], bins=100, range=[0, 1801])\n",
    "plt.xlim(0, 1800)"
   ]
  },
  {
   "cell_type": "code",
   "execution_count": 23,
   "metadata": {
    "collapsed": false
   },
   "outputs": [
    {
     "data": {
      "text/plain": [
       "0           316\n",
       "1            64\n",
       "2           433\n",
       "3           123\n",
       "4           852\n",
       "6          1094\n",
       "7          1020\n",
       "9           653\n",
       "10         1738\n",
       "12         1712\n",
       "13          996\n",
       "14          818\n",
       "16          730\n",
       "17         1292\n",
       "18         1511\n",
       "19         1512\n",
       "20         1125\n",
       "21          964\n",
       "22          972\n",
       "23          977\n",
       "26         1758\n",
       "27          730\n",
       "30         1117\n",
       "31          980\n",
       "32         1642\n",
       "35          423\n",
       "38          944\n",
       "39         1656\n",
       "40          736\n",
       "41          223\n",
       "           ... \n",
       "7867571     871\n",
       "7867572    1698\n",
       "7867573     522\n",
       "7867574    1320\n",
       "7867575    1335\n",
       "7867576    1707\n",
       "7867577     469\n",
       "7867578    1254\n",
       "7867579    1178\n",
       "7867580     404\n",
       "7867581    1652\n",
       "7867582    1322\n",
       "7867583    1342\n",
       "7867584     423\n",
       "7867585     117\n",
       "7867586     372\n",
       "7867587     381\n",
       "7867588     282\n",
       "7867589     253\n",
       "7867590     609\n",
       "7867591    1540\n",
       "7867592    1613\n",
       "7867593     721\n",
       "7867594     704\n",
       "7867595     590\n",
       "7867596     484\n",
       "7867597     512\n",
       "7867598     744\n",
       "7867599     615\n",
       "7867600     508\n",
       "Name: tripduration, dtype: int64"
      ]
     },
     "execution_count": 23,
     "metadata": {},
     "output_type": "execute_result"
    }
   ],
   "source": [
    "data[(data['tripduration'] <= 1800.0)]['tripduration']"
   ]
  },
  {
   "cell_type": "code",
   "execution_count": 24,
   "metadata": {
    "collapsed": false
   },
   "outputs": [
    {
     "data": {
      "text/plain": [
       "(array([  13044.,   15049.,   25822.,   37343.,   49667.,   67006.,\n",
       "          76123.,   93060.,   97456.,  105284.,  118877.,  118166.,\n",
       "         130365.,  125873.,  127730.,  135669.,  129926.,  136540.,\n",
       "         128147.,  127271.,  133963.,  125199.,  130722.,  122180.,\n",
       "         120388.,  125586.,  115859.,  120413.,  111503.,  109629.,\n",
       "         113356.,  104342.,  108486.,   99805.,   97779.,  101538.,\n",
       "          93661.,   96684.,   89465.,   87536.,   90553.,   83489.,\n",
       "          86743.,   80276.,   79109.,   82147.,   75975.,   78639.,\n",
       "          73350.,   71844.,   75019.,   68821.,   71854.,   66347.,\n",
       "          65063.,   67860.,   62754.,   65043.,   60607.,   59475.,\n",
       "          62269.,   57813.,   59945.,   55568.,   55182.,   56438.,\n",
       "          52525.,   54895.,   50765.,   50007.,   52298.,   48735.,\n",
       "          50107.,   46550.,   45585.,   47460.,   43691.,   45364.,\n",
       "          41547.,   40744.,   42132.,   38598.,   40008.,   36556.,\n",
       "          35848.,   36040.,   33133.,   34042.,   30984.,   30074.,\n",
       "          30787.,   27842.,   28562.,   25903.,   24740.,   25123.,\n",
       "          22122.,   22353.,   19934.,   20090.]),\n",
       " array([   60. ,    77.4,    94.8,   112.2,   129.6,   147. ,   164.4,\n",
       "          181.8,   199.2,   216.6,   234. ,   251.4,   268.8,   286.2,\n",
       "          303.6,   321. ,   338.4,   355.8,   373.2,   390.6,   408. ,\n",
       "          425.4,   442.8,   460.2,   477.6,   495. ,   512.4,   529.8,\n",
       "          547.2,   564.6,   582. ,   599.4,   616.8,   634.2,   651.6,\n",
       "          669. ,   686.4,   703.8,   721.2,   738.6,   756. ,   773.4,\n",
       "          790.8,   808.2,   825.6,   843. ,   860.4,   877.8,   895.2,\n",
       "          912.6,   930. ,   947.4,   964.8,   982.2,   999.6,  1017. ,\n",
       "         1034.4,  1051.8,  1069.2,  1086.6,  1104. ,  1121.4,  1138.8,\n",
       "         1156.2,  1173.6,  1191. ,  1208.4,  1225.8,  1243.2,  1260.6,\n",
       "         1278. ,  1295.4,  1312.8,  1330.2,  1347.6,  1365. ,  1382.4,\n",
       "         1399.8,  1417.2,  1434.6,  1452. ,  1469.4,  1486.8,  1504.2,\n",
       "         1521.6,  1539. ,  1556.4,  1573.8,  1591.2,  1608.6,  1626. ,\n",
       "         1643.4,  1660.8,  1678.2,  1695.6,  1713. ,  1730.4,  1747.8,\n",
       "         1765.2,  1782.6,  1800. ]),\n",
       " <a list of 100 Patch objects>)"
      ]
     },
     "execution_count": 24,
     "metadata": {},
     "output_type": "execute_result"
    },
    {
     "data": {
      "image/png": "[encoded data removed]",
      "text/plain": [
       "<matplotlib.figure.Figure at 0x7fc7d67e1f10>"
      ]
     },
     "metadata": {},
     "output_type": "display_data"
    }
   ],
   "source": [
    "plt.hist(data[(data['tripduration'] <= 1800.0)]['tripduration'], bins=100)"
   ]
  },
  {
   "cell_type": "code",
   "execution_count": null,
   "metadata": {
    "collapsed": true
   },
   "outputs": [],
   "source": []
  }
 ],
 "metadata": {
  "anaconda-cloud": {},
  "kernelspec": {
   "display_name": "Python [conda root]",
   "language": "python",
   "name": "conda-root-py"
  },
  "language_info": {
   "codemirror_mode": {
    "name": "ipython",
    "version": 2
   },
   "file_extension": ".py",
   "mimetype": "text/x-python",
   "name": "python",
   "nbconvert_exporter": "python",
   "pygments_lexer": "ipython2",
   "version": "2.7.12"
  }
 },
 "nbformat": 4,
 "nbformat_minor": 1
}
