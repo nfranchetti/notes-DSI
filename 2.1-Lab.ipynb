{
 "cells": [
  {
   "cell_type": "code",
   "execution_count": 1,
   "metadata": {
    "collapsed": true
   },
   "outputs": [],
   "source": [
    "% matplotlib inline\n",
    "from __future__ import print_function\n",
    "import random\n",
    "\n",
    "from matplotlib import pyplot as plt\n",
    "import numpy as np\n",
    "import pandas as pd\n",
    "from scipy import stats\n",
    "# from sklearn import datasets, linear_model\n",
    "import statsmodels.api as sm"
   ]
  },
  {
   "cell_type": "code",
   "execution_count": 2,
   "metadata": {
    "collapsed": true
   },
   "outputs": [],
   "source": [
    "def polynomials(x, degree=1):\n",
    "    array = [x]\n",
    "    y = x\n",
    "    for i in range(2, int(degree + 1)):\n",
    "        y = y * x\n",
    "        array.append(y)\n",
    "    return np.array(array).transpose()"
   ]
  },
  {
   "cell_type": "code",
   "execution_count": 8,
   "metadata": {
    "collapsed": false
   },
   "outputs": [
    {
     "data": {
      "text/plain": [
       "array([0, 1, 2, 3, 4, 5, 6, 7, 8, 9])"
      ]
     },
     "execution_count": 8,
     "metadata": {},
     "output_type": "execute_result"
    }
   ],
   "source": [
    "A = np.array(range(10))\n",
    "A"
   ]
  },
  {
   "cell_type": "code",
   "execution_count": 9,
   "metadata": {
    "collapsed": false
   },
   "outputs": [
    {
     "data": {
      "text/plain": [
       "array([[         0,          0,          0,          0,          0,\n",
       "                 0,          0,          0,          0,          0],\n",
       "       [         1,          1,          1,          1,          1,\n",
       "                 1,          1,          1,          1,          1],\n",
       "       [         2,          4,          8,         16,         32,\n",
       "                64,        128,        256,        512,       1024],\n",
       "       [         3,          9,         27,         81,        243,\n",
       "               729,       2187,       6561,      19683,      59049],\n",
       "       [         4,         16,         64,        256,       1024,\n",
       "              4096,      16384,      65536,     262144,    1048576],\n",
       "       [         5,         25,        125,        625,       3125,\n",
       "             15625,      78125,     390625,    1953125,    9765625],\n",
       "       [         6,         36,        216,       1296,       7776,\n",
       "             46656,     279936,    1679616,   10077696,   60466176],\n",
       "       [         7,         49,        343,       2401,      16807,\n",
       "            117649,     823543,    5764801,   40353607,  282475249],\n",
       "       [         8,         64,        512,       4096,      32768,\n",
       "            262144,    2097152,   16777216,  134217728, 1073741824],\n",
       "       [         9,         81,        729,       6561,      59049,\n",
       "            531441,    4782969,   43046721,  387420489, 3486784401]])"
      ]
     },
     "execution_count": 9,
     "metadata": {},
     "output_type": "execute_result"
    }
   ],
   "source": [
    "polynomials(A, 10)"
   ]
  },
  {
   "cell_type": "code",
   "execution_count": 10,
   "metadata": {
    "collapsed": true
   },
   "outputs": [],
   "source": [
    "def monomials(x, degree=1):\n",
    "    y = np.array(x)\n",
    "    y = np.power(x, degree)\n",
    "    return np.array([y]).transpose()"
   ]
  },
  {
   "cell_type": "code",
   "execution_count": 11,
   "metadata": {
    "collapsed": false
   },
   "outputs": [
    {
     "data": {
      "text/plain": [
       "array([[  0],\n",
       "       [  1],\n",
       "       [  8],\n",
       "       [ 27],\n",
       "       [ 64],\n",
       "       [125],\n",
       "       [216],\n",
       "       [343],\n",
       "       [512],\n",
       "       [729]])"
      ]
     },
     "execution_count": 11,
     "metadata": {},
     "output_type": "execute_result"
    }
   ],
   "source": [
    "monomials(A, 3)"
   ]
  },
  {
   "cell_type": "code",
   "execution_count": 12,
   "metadata": {
    "collapsed": true
   },
   "outputs": [],
   "source": [
    "def generate_data(func, a, b, n=100):\n",
    "    data = []\n",
    "    for _ in range(n):\n",
    "        x = random.random() * (b - a)\n",
    "        y = func(x)\n",
    "        data.append((x, y))\n",
    "    return list(sorted(data))"
   ]
  },
  {
   "cell_type": "code",
   "execution_count": 14,
   "metadata": {
    "collapsed": false
   },
   "outputs": [
    {
     "data": {
      "text/plain": [
       "[(0.1695819489828223, 4.8434929699294),\n",
       " (0.42002379049298466, 5.611292144299398),\n",
       " (0.42365079021506324, 5.758374622399374),\n",
       " (0.4645508307262183, 5.666501223369455),\n",
       " (0.5502905618119993, 5.7297226966181185),\n",
       " (0.6094521473872085, 5.879148675183492),\n",
       " (0.6451908218674502, 6.001546477775247),\n",
       " (0.7405424312623363, 6.034451576500194),\n",
       " (0.877435407012422, 6.127270477356394),\n",
       " (0.9618572477205622, 6.107052041044993),\n",
       " (1.0148566250863922, 6.053662353004692),\n",
       " (1.0454971342301014, 6.146021060456149),\n",
       " (1.3339319984090883, 5.519571626729195),\n",
       " (1.3383339094669453, 5.651722159459564),\n",
       " (1.383774116432014, 5.349009564596802),\n",
       " (1.5221569627202243, 5.1785528404272565),\n",
       " (1.635583625699499, 4.611575604474073),\n",
       " (1.6415494036921023, 4.448607532299113),\n",
       " (1.6680173671715959, 4.587393278737401),\n",
       " (1.7282303930914693, 4.234718108501066)]"
      ]
     },
     "execution_count": 14,
     "metadata": {},
     "output_type": "execute_result"
    }
   ],
   "source": [
    "mu, sigma = 0, 0.1 # mean and standard deviation\n",
    "# norm = np.random.normal(mu, sigma)\n",
    "\n",
    "# Generate some data\n",
    "f = lambda x: 4 + 5 * x - 3 * x*x + 0.1 * x * x * x + np.random.normal(mu, sigma)\n",
    "data = generate_data(f, 0, 2, n=20)\n",
    "data"
   ]
  },
  {
   "cell_type": "code",
   "execution_count": 23,
   "metadata": {
    "collapsed": false
   },
   "outputs": [
    {
     "name": "stdout",
     "output_type": "stream",
     "text": [
      "                            OLS Regression Results                            \n",
      "==============================================================================\n",
      "Dep. Variable:                      y   R-squared:                       0.757\n",
      "Model:                            OLS   Adj. R-squared:                  0.744\n",
      "Method:                 Least Squares   F-statistic:                     59.11\n",
      "Date:                Wed, 12 Oct 2016   Prob (F-statistic):           3.01e-07\n",
      "Time:                        10:52:15   Log-Likelihood:                -48.373\n",
      "No. Observations:                  20   AIC:                             98.75\n",
      "Df Residuals:                      19   BIC:                             99.74\n",
      "Df Model:                           1                                         \n",
      "Covariance Type:            nonrobust                                         \n",
      "==============================================================================\n",
      "                 coef    std err          t      P>|t|      [95.0% Conf. Int.]\n",
      "------------------------------------------------------------------------------\n",
      "x1             4.2872      0.558      7.688      0.000         3.120     5.454\n",
      "==============================================================================\n",
      "Omnibus:                        4.987   Durbin-Watson:                   0.046\n",
      "Prob(Omnibus):                  0.083   Jarque-Bera (JB):                2.077\n",
      "Skew:                          -0.453   Prob(JB):                        0.354\n",
      "Kurtosis:                       1.707   Cond. No.                         1.00\n",
      "==============================================================================\n",
      "\n",
      "Warnings:\n",
      "[1] Standard Errors assume that the covariance matrix of the errors is correctly specified.\n",
      "Residual sum of squares: 1.69\n",
      "Bias: -2.59228363996\n",
      "Variance: 4.27156664656\n"
     ]
    },
    {
     "data": {
      "image/png": "[encoded data removed]",
      "text/plain": [
       "<matplotlib.figure.Figure at 0x7f0d904c6d90>"
      ]
     },
     "metadata": {},
     "output_type": "display_data"
    },
    {
     "name": "stdout",
     "output_type": "stream",
     "text": [
      "                            OLS Regression Results                            \n",
      "==============================================================================\n",
      "Dep. Variable:                      y   R-squared:                       0.532\n",
      "Model:                            OLS   Adj. R-squared:                  0.507\n",
      "Method:                 Least Squares   F-statistic:                     21.59\n",
      "Date:                Wed, 12 Oct 2016   Prob (F-statistic):           0.000176\n",
      "Time:                        10:52:15   Log-Likelihood:                -54.918\n",
      "No. Observations:                  20   AIC:                             111.8\n",
      "Df Residuals:                      19   BIC:                             112.8\n",
      "Df Model:                           1                                         \n",
      "Covariance Type:            nonrobust                                         \n",
      "==============================================================================\n",
      "                 coef    std err          t      P>|t|      [95.0% Conf. Int.]\n",
      "------------------------------------------------------------------------------\n",
      "x1             2.5164      0.542      4.647      0.000         1.383     3.650\n",
      "==============================================================================\n",
      "Omnibus:                        4.166   Durbin-Watson:                   0.039\n",
      "Prob(Omnibus):                  0.125   Jarque-Bera (JB):                2.522\n",
      "Skew:                          -0.665   Prob(JB):                        0.283\n",
      "Kurtosis:                       1.877   Cond. No.                         1.00\n",
      "==============================================================================\n",
      "\n",
      "Warnings:\n",
      "[1] Standard Errors assume that the covariance matrix of the errors is correctly specified.\n",
      "Residual sum of squares: 5.80\n",
      "Bias: -0.468301665586\n",
      "Variance: 6.25638380636\n"
     ]
    },
    {
     "data": {
      "image/png": "[encoded data removed]",
      "text/plain": [
       "<matplotlib.figure.Figure at 0x7f0d8fff2110>"
      ]
     },
     "metadata": {},
     "output_type": "display_data"
    },
    {
     "name": "stdout",
     "output_type": "stream",
     "text": [
      "                            OLS Regression Results                            \n",
      "==============================================================================\n",
      "Dep. Variable:                      y   R-squared:                       0.404\n",
      "Model:                            OLS   Adj. R-squared:                  0.373\n",
      "Method:                 Least Squares   F-statistic:                     12.88\n",
      "Date:                Wed, 12 Oct 2016   Prob (F-statistic):            0.00196\n",
      "Time:                        10:52:16   Log-Likelihood:                -57.333\n",
      "No. Observations:                  20   AIC:                             116.7\n",
      "Df Residuals:                      19   BIC:                             117.7\n",
      "Df Model:                           1                                         \n",
      "Covariance Type:            nonrobust                                         \n",
      "==============================================================================\n",
      "                 coef    std err          t      P>|t|      [95.0% Conf. Int.]\n",
      "------------------------------------------------------------------------------\n",
      "x1             1.4198      0.396      3.589      0.002         0.592     2.248\n",
      "==============================================================================\n",
      "Omnibus:                        3.774   Durbin-Watson:                   0.037\n",
      "Prob(Omnibus):                  0.152   Jarque-Bera (JB):                2.975\n",
      "Skew:                          -0.842   Prob(JB):                        0.226\n",
      "Kurtosis:                       2.142   Cond. No.                         1.00\n",
      "==============================================================================\n",
      "\n",
      "Warnings:\n",
      "[1] Standard Errors assume that the covariance matrix of the errors is correctly specified.\n",
      "Residual sum of squares: 9.48\n",
      "Bias: 3.23999398028\n",
      "Variance: 6.2257058219\n"
     ]
    },
    {
     "data": {
      "image/png": "[encoded data removed]",
      "text/plain": [
       "<matplotlib.figure.Figure at 0x7f0d901f6a10>"
      ]
     },
     "metadata": {},
     "output_type": "display_data"
    }
   ],
   "source": [
    "domain = np.array([x[0] for x in data])\n",
    "Y = np.array([x[1] for x in data])\n",
    "\n",
    "for i in range(1, 4):\n",
    "    X = monomials(domain, i)\n",
    "    # Create linear regression object\n",
    "    regr = sm.OLS(Y, X).fit()\n",
    "\n",
    "    yhat = regr.predict(X)\n",
    "    sse = np.mean((np.mean(yhat) - Y) ** 2)\n",
    "    var = np.var(yhat)\n",
    "    bias = sse - var - 0.01\n",
    "    \n",
    "    print(regr.summary())\n",
    "\n",
    "    # The mean square error\n",
    "    print(\"Residual sum of squares: %.2f\" % sse)\n",
    "\n",
    "    print(\"Bias: {bias}\".format(bias=bias))\n",
    "    print(\"Variance: {var}\".format(var=var))\n",
    "        \n",
    "    # Plot outputs\n",
    "    plt.scatter(domain, Y,  color='black')\n",
    "    plt.plot(domain, regr.predict(X), color='blue', linewidth=3)\n",
    "\n",
    "    plt.title(\"n = \" + str(i))\n",
    "\n",
    "    plt.show()"
   ]
  },
  {
   "cell_type": "code",
   "execution_count": null,
   "metadata": {
    "collapsed": true
   },
   "outputs": [],
   "source": []
  },
  {
   "cell_type": "code",
   "execution_count": 26,
   "metadata": {
    "collapsed": false
   },
   "outputs": [
    {
     "name": "stdout",
     "output_type": "stream",
     "text": [
      "                            OLS Regression Results                            \n",
      "==============================================================================\n",
      "Dep. Variable:                      y   R-squared:                       0.930\n",
      "Model:                            OLS   Adj. R-squared:                  0.926\n",
      "Method:                 Least Squares   F-statistic:                     252.4\n",
      "Date:                Wed, 12 Oct 2016   Prob (F-statistic):           1.99e-12\n",
      "Time:                        11:03:51   Log-Likelihood:                -16.634\n",
      "No. Observations:                  20   AIC:                             35.27\n",
      "Df Residuals:                      19   BIC:                             36.26\n",
      "Df Model:                           1                                         \n",
      "Covariance Type:            nonrobust                                         \n",
      "==============================================================================\n",
      "                 coef    std err          t      P>|t|      [95.0% Conf. Int.]\n",
      "------------------------------------------------------------------------------\n",
      "x1             1.7183      0.108     15.889      0.000         1.492     1.945\n",
      "==============================================================================\n",
      "Omnibus:                        5.503   Durbin-Watson:                   0.111\n",
      "Prob(Omnibus):                  0.064   Jarque-Bera (JB):                1.996\n",
      "Skew:                           0.383   Prob(JB):                        0.369\n",
      "Kurtosis:                       1.656   Cond. No.                         1.00\n",
      "==============================================================================\n",
      "\n",
      "Warnings:\n",
      "[1] Standard Errors assume that the covariance matrix of the errors is correctly specified.\n",
      "Residual sum of squares: 0.49\n",
      "Bias: -0.711832579552\n",
      "Variance: 1.18818467101\n"
     ]
    },
    {
     "data": {
      "image/png": "[encoded data removed]",
      "text/plain": [
       "<matplotlib.figure.Figure at 0x7f0d901f6dd0>"
      ]
     },
     "metadata": {},
     "output_type": "display_data"
    },
    {
     "name": "stdout",
     "output_type": "stream",
     "text": [
      "                            OLS Regression Results                            \n",
      "==============================================================================\n",
      "Dep. Variable:                      y   R-squared:                       0.962\n",
      "Model:                            OLS   Adj. R-squared:                  0.960\n",
      "Method:                 Least Squares   F-statistic:                     483.6\n",
      "Date:                Wed, 12 Oct 2016   Prob (F-statistic):           5.64e-15\n",
      "Time:                        11:03:52   Log-Likelihood:                -20.974\n",
      "No. Observations:                  20   AIC:                             43.95\n",
      "Df Residuals:                      19   BIC:                             44.94\n",
      "Df Model:                           1                                         \n",
      "Covariance Type:            nonrobust                                         \n",
      "==============================================================================\n",
      "                 coef    std err          t      P>|t|      [95.0% Conf. Int.]\n",
      "------------------------------------------------------------------------------\n",
      "x1             2.9353      0.133     21.991      0.000         2.656     3.215\n",
      "==============================================================================\n",
      "Omnibus:                        7.169   Durbin-Watson:                   0.183\n",
      "Prob(Omnibus):                  0.028   Jarque-Bera (JB):                4.767\n",
      "Skew:                           1.127   Prob(JB):                       0.0922\n",
      "Kurtosis:                       3.797   Cond. No.                         1.00\n",
      "==============================================================================\n",
      "\n",
      "Warnings:\n",
      "[1] Standard Errors assume that the covariance matrix of the errors is correctly specified.\n",
      "Residual sum of squares: 3.51\n",
      "Bias: 1.61498542062\n",
      "Variance: 1.88727618068\n"
     ]
    },
    {
     "data": {
      "image/png": "[encoded data removed]",
      "text/plain": [
       "<matplotlib.figure.Figure at 0x7f0d8ff40b50>"
      ]
     },
     "metadata": {},
     "output_type": "display_data"
    },
    {
     "name": "stdout",
     "output_type": "stream",
     "text": [
      "                            OLS Regression Results                            \n",
      "==============================================================================\n",
      "Dep. Variable:                      y   R-squared:                       0.823\n",
      "Model:                            OLS   Adj. R-squared:                  0.814\n",
      "Method:                 Least Squares   F-statistic:                     88.57\n",
      "Date:                Wed, 12 Oct 2016   Prob (F-statistic):           1.39e-08\n",
      "Time:                        11:03:52   Log-Likelihood:                -46.629\n",
      "No. Observations:                  20   AIC:                             95.26\n",
      "Df Residuals:                      19   BIC:                             96.25\n",
      "Df Model:                           1                                         \n",
      "Covariance Type:            nonrobust                                         \n",
      "==============================================================================\n",
      "                 coef    std err          t      P>|t|      [95.0% Conf. Int.]\n",
      "------------------------------------------------------------------------------\n",
      "x1             5.1619      0.548      9.411      0.000         4.014     6.310\n",
      "==============================================================================\n",
      "Omnibus:                       14.202   Durbin-Watson:                   0.177\n",
      "Prob(Omnibus):                  0.001   Jarque-Bera (JB):               12.362\n",
      "Skew:                           1.638   Prob(JB):                      0.00207\n",
      "Kurtosis:                       5.024   Cond. No.                         1.00\n",
      "==============================================================================\n",
      "\n",
      "Warnings:\n",
      "[1] Standard Errors assume that the covariance matrix of the errors is correctly specified.\n",
      "Residual sum of squares: 21.15\n",
      "Bias: 12.8511622246\n",
      "Variance: 8.29326862286\n"
     ]
    },
    {
     "data": {
      "image/png": "[encoded data removed]",
      "text/plain": [
       "<matplotlib.figure.Figure at 0x7f0d8fe6d690>"
      ]
     },
     "metadata": {},
     "output_type": "display_data"
    },
    {
     "name": "stdout",
     "output_type": "stream",
     "text": [
      "                            OLS Regression Results                            \n",
      "==============================================================================\n",
      "Dep. Variable:                      y   R-squared:                       0.812\n",
      "Model:                            OLS   Adj. R-squared:                  0.802\n",
      "Method:                 Least Squares   F-statistic:                     81.85\n",
      "Date:                Wed, 12 Oct 2016   Prob (F-statistic):           2.57e-08\n",
      "Time:                        11:03:52   Log-Likelihood:                -73.123\n",
      "No. Observations:                  20   AIC:                             148.2\n",
      "Df Residuals:                      19   BIC:                             149.2\n",
      "Df Model:                           1                                         \n",
      "Covariance Type:            nonrobust                                         \n",
      "==============================================================================\n",
      "                 coef    std err          t      P>|t|      [95.0% Conf. Int.]\n",
      "------------------------------------------------------------------------------\n",
      "x1            14.4181      1.594      9.047      0.000        11.083    17.754\n",
      "==============================================================================\n",
      "Omnibus:                        2.832   Durbin-Watson:                   0.087\n",
      "Prob(Omnibus):                  0.243   Jarque-Bera (JB):                2.302\n",
      "Skew:                           0.789   Prob(JB):                        0.316\n",
      "Kurtosis:                       2.477   Cond. No.                         1.00\n",
      "==============================================================================\n",
      "\n",
      "Warnings:\n",
      "[1] Standard Errors assume that the covariance matrix of the errors is correctly specified.\n",
      "Residual sum of squares: 257.46\n",
      "Bias: 168.373064994\n",
      "Variance: 89.0735225656\n"
     ]
    },
    {
     "data": {
      "image/png": "[encoded data removed]",
      "text/plain": [
       "<matplotlib.figure.Figure at 0x7f0d8fe03810>"
      ]
     },
     "metadata": {},
     "output_type": "display_data"
    },
    {
     "name": "stdout",
     "output_type": "stream",
     "text": [
      "                            OLS Regression Results                            \n",
      "==============================================================================\n",
      "Dep. Variable:                      y   R-squared:                       0.683\n",
      "Model:                            OLS   Adj. R-squared:                  0.666\n",
      "Method:                 Least Squares   F-statistic:                     40.88\n",
      "Date:                Wed, 12 Oct 2016   Prob (F-statistic):           3.93e-06\n",
      "Time:                        11:03:53   Log-Likelihood:                -86.300\n",
      "No. Observations:                  20   AIC:                             174.6\n",
      "Df Residuals:                      19   BIC:                             175.6\n",
      "Df Model:                           1                                         \n",
      "Covariance Type:            nonrobust                                         \n",
      "==============================================================================\n",
      "                 coef    std err          t      P>|t|      [95.0% Conf. Int.]\n",
      "------------------------------------------------------------------------------\n",
      "x1            21.1673      3.311      6.394      0.000        14.238    28.096\n",
      "==============================================================================\n",
      "Omnibus:                        5.762   Durbin-Watson:                   0.129\n",
      "Prob(Omnibus):                  0.056   Jarque-Bera (JB):                4.319\n",
      "Skew:                           1.138   Prob(JB):                        0.115\n",
      "Kurtosis:                       3.052   Cond. No.                         1.00\n",
      "==============================================================================\n",
      "\n",
      "Warnings:\n",
      "[1] Standard Errors assume that the covariance matrix of the errors is correctly specified.\n",
      "Residual sum of squares: 692.85\n",
      "Bias: 549.457029431\n",
      "Variance: 143.378759831\n"
     ]
    },
    {
     "data": {
      "image/png": "[encoded data removed]",
      "text/plain": [
       "<matplotlib.figure.Figure at 0x7f0d8fcdc050>"
      ]
     },
     "metadata": {},
     "output_type": "display_data"
    },
    {
     "name": "stdout",
     "output_type": "stream",
     "text": [
      "                            OLS Regression Results                            \n",
      "==============================================================================\n",
      "Dep. Variable:                      y   R-squared:                       0.640\n",
      "Model:                            OLS   Adj. R-squared:                  0.621\n",
      "Method:                 Least Squares   F-statistic:                     33.75\n",
      "Date:                Wed, 12 Oct 2016   Prob (F-statistic):           1.35e-05\n",
      "Time:                        11:03:53   Log-Likelihood:                -76.689\n",
      "No. Observations:                  20   AIC:                             155.4\n",
      "Df Residuals:                      19   BIC:                             156.4\n",
      "Df Model:                           1                                         \n",
      "Covariance Type:            nonrobust                                         \n",
      "==============================================================================\n",
      "                 coef    std err          t      P>|t|      [95.0% Conf. Int.]\n",
      "------------------------------------------------------------------------------\n",
      "x1            14.6931      2.529      5.810      0.000         9.400    19.986\n",
      "==============================================================================\n",
      "Omnibus:                        5.896   Durbin-Watson:                   0.120\n",
      "Prob(Omnibus):                  0.052   Jarque-Bera (JB):                4.440\n",
      "Skew:                           1.154   Prob(JB):                        0.109\n",
      "Kurtosis:                       3.059   Cond. No.                         1.00\n",
      "==============================================================================\n",
      "\n",
      "Warnings:\n",
      "[1] Standard Errors assume that the covariance matrix of the errors is correctly specified.\n",
      "Residual sum of squares: 251.17\n",
      "Bias: 201.877806778\n",
      "Variance: 49.2779031138\n"
     ]
    },
    {
     "data": {
      "image/png": "[encoded data removed]",
      "text/plain": [
       "<matplotlib.figure.Figure at 0x7f0d8fc0f950>"
      ]
     },
     "metadata": {},
     "output_type": "display_data"
    }
   ],
   "source": [
    "for degree in range(1, 7):\n",
    "    # Generate some data\n",
    "    f = lambda x: 1 - 2 * x + 3 * x ** degree + np.random.normal(mu, sigma)\n",
    "    data = generate_data(f, 0, 2, n=20)\n",
    "\n",
    "    domain = np.array([x[0] for x in data])\n",
    "    Y = np.array([x[1] for x in data])\n",
    "\n",
    "    X = np.array([domain]).transpose()\n",
    "    # Create linear regression object\n",
    "    regr = sm.OLS(Y, X).fit()\n",
    "    \n",
    "    # Compute the errors\n",
    "    yhat = regr.predict(X)\n",
    "    sse = np.mean((np.mean(yhat) - Y) ** 2)\n",
    "    var = np.var(yhat)\n",
    "    bias = sse - var - 0.01\n",
    "    # Plot outputs\n",
    "    # The coefficients\n",
    "    print(regr.summary())\n",
    "\n",
    "    # The mean square error\n",
    "    print(\"Residual sum of squares: %.2f\" % sse)\n",
    "\n",
    "    print(\"Bias: {bias}\".format(bias=bias))\n",
    "    print(\"Variance: {var}\".format(var=var))\n",
    "        \n",
    "    # Plot outputs\n",
    "    plt.scatter(domain, Y,  color='black')\n",
    "    plt.plot(domain, regr.predict(X), color='blue', linewidth=3)\n",
    "\n",
    "    plt.title(\"n = \" + str(i))\n",
    "\n",
    "    plt.show()"
   ]
  },
  {
   "cell_type": "code",
   "execution_count": null,
   "metadata": {
    "collapsed": true
   },
   "outputs": [],
   "source": []
  }
 ],
 "metadata": {
  "kernelspec": {
   "display_name": "Python [Root]",
   "language": "python",
   "name": "Python [Root]"
  },
  "language_info": {
   "codemirror_mode": {
    "name": "ipython",
    "version": 2
   },
   "file_extension": ".py",
   "mimetype": "text/x-python",
   "name": "python",
   "nbconvert_exporter": "python",
   "pygments_lexer": "ipython2",
   "version": "2.7.12"
  }
 },
 "nbformat": 4,
 "nbformat_minor": 0
}
