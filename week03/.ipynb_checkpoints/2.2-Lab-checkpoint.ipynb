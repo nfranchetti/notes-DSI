{
 "cells": [
  {
   "cell_type": "markdown",
   "metadata": {},
   "source": [
    "# Evaluating Model Fit\n",
    "\n",
    "So far we've used the sum of the squared errors as a measure of model fit, looking for models with smaller errors. In this lab we'll investigate a new mesure of model fit, the [coefficient of determination](https://en.wikipedia.org/wiki/Coefficient_of_determination) $r^2$, and see how it's influenced by outliers.\n",
    "\n",
    "R-squared is defined in terms of a ratio of the variance of the data, $SS_{tot}$ and the sum of squared error of the residuals of the model fit $SS_{res}$. Let's assume that our model has the form\n",
    "\n",
    "$$y_i = f(x_i) + e_i$$\n",
    "\n",
    "For some model function $f$. The mean of the data targets is $\\bar{y}$. We can write $r^2$ as:\n",
    "\n",
    "$$ r^2  = 1 - \\frac{SS_{res}}{SS_{tot}} = 1 - \\frac{\\sum_{i}{\\left(y_i - \\bar{y} \\right)^2}}{\\sum_{i}{\\left(y_i - f_i \\right)^2}}$$"
   ]
  },
  {
   "cell_type": "markdown",
   "metadata": {},
   "source": [
    "## Understanding $r^2$\n",
    "To help understand this measure, let's consider a few special cases.\n",
    "* If our model is a perfect fit then the predictions of the model always match the true values, i.e. $y_i = f(x_i) = f_i$. This means that the squared error of the residuals is 0, so r^2 is:\n",
    "\n",
    "$$ r^2  = 1 - \\frac{SS_{res}}{SS_{tot}} =  1 - \\frac{0}{SS_{tot}} = 1$$\n",
    "\n",
    "* If our model always predicted the mean value, $y_i = \\bar{y}$ for all data points, then the two sum of squares terms are equal:\n",
    "\n",
    "$$ r^2  = 1 - \\frac{SS_{res}}{SS_{tot}} =  1 - 1 = 0$$\n",
    "\n",
    "This is not a very good model -- it's simply a constant prediction, and does not vary over the data points.\n",
    "\n",
    "* Typically the better the model the larger the value of $r^2$, with $r^2=1$ being an exact fit.\n",
    "\n",
    "**Check**: It is possible for $r^2$ to be negative, despite the name. How could that happen?\n",
    "> Answer: We just need the numerator to be larger than the denominator. This could happen with a wildly bad predictor such as the line $y=10$ for the sine function.\n",
    "\n",
    "## Let's look at some data\n",
    "\n",
    "Scikit-learn can compute $r^2$ for us, so let's explore some actual data.\n"
   ]
  },
  {
   "cell_type": "code",
   "execution_count": 14,
   "metadata": {
    "collapsed": false
   },
   "outputs": [
    {
     "data": {
      "text/html": [
       "<div>\n",
       "<table border=\"1\" class=\"dataframe\">\n",
       "  <thead>\n",
       "    <tr style=\"text-align: right;\">\n",
       "      <th></th>\n",
       "      <th>CRIM</th>\n",
       "      <th>ZN</th>\n",
       "      <th>INDUS</th>\n",
       "      <th>CHAS</th>\n",
       "      <th>NOX</th>\n",
       "      <th>RM</th>\n",
       "      <th>AGE</th>\n",
       "      <th>DIS</th>\n",
       "      <th>RAD</th>\n",
       "      <th>TAX</th>\n",
       "      <th>PTRATIO</th>\n",
       "      <th>B</th>\n",
       "      <th>LSTAT</th>\n",
       "    </tr>\n",
       "  </thead>\n",
       "  <tbody>\n",
       "    <tr>\n",
       "      <th>0</th>\n",
       "      <td>0.00632</td>\n",
       "      <td>18.0</td>\n",
       "      <td>2.31</td>\n",
       "      <td>0.0</td>\n",
       "      <td>0.538</td>\n",
       "      <td>6.575</td>\n",
       "      <td>65.2</td>\n",
       "      <td>4.0900</td>\n",
       "      <td>1.0</td>\n",
       "      <td>296.0</td>\n",
       "      <td>15.3</td>\n",
       "      <td>396.90</td>\n",
       "      <td>4.98</td>\n",
       "    </tr>\n",
       "    <tr>\n",
       "      <th>1</th>\n",
       "      <td>0.02731</td>\n",
       "      <td>0.0</td>\n",
       "      <td>7.07</td>\n",
       "      <td>0.0</td>\n",
       "      <td>0.469</td>\n",
       "      <td>6.421</td>\n",
       "      <td>78.9</td>\n",
       "      <td>4.9671</td>\n",
       "      <td>2.0</td>\n",
       "      <td>242.0</td>\n",
       "      <td>17.8</td>\n",
       "      <td>396.90</td>\n",
       "      <td>9.14</td>\n",
       "    </tr>\n",
       "    <tr>\n",
       "      <th>2</th>\n",
       "      <td>0.02729</td>\n",
       "      <td>0.0</td>\n",
       "      <td>7.07</td>\n",
       "      <td>0.0</td>\n",
       "      <td>0.469</td>\n",
       "      <td>7.185</td>\n",
       "      <td>61.1</td>\n",
       "      <td>4.9671</td>\n",
       "      <td>2.0</td>\n",
       "      <td>242.0</td>\n",
       "      <td>17.8</td>\n",
       "      <td>392.83</td>\n",
       "      <td>4.03</td>\n",
       "    </tr>\n",
       "    <tr>\n",
       "      <th>3</th>\n",
       "      <td>0.03237</td>\n",
       "      <td>0.0</td>\n",
       "      <td>2.18</td>\n",
       "      <td>0.0</td>\n",
       "      <td>0.458</td>\n",
       "      <td>6.998</td>\n",
       "      <td>45.8</td>\n",
       "      <td>6.0622</td>\n",
       "      <td>3.0</td>\n",
       "      <td>222.0</td>\n",
       "      <td>18.7</td>\n",
       "      <td>394.63</td>\n",
       "      <td>2.94</td>\n",
       "    </tr>\n",
       "    <tr>\n",
       "      <th>4</th>\n",
       "      <td>0.06905</td>\n",
       "      <td>0.0</td>\n",
       "      <td>2.18</td>\n",
       "      <td>0.0</td>\n",
       "      <td>0.458</td>\n",
       "      <td>7.147</td>\n",
       "      <td>54.2</td>\n",
       "      <td>6.0622</td>\n",
       "      <td>3.0</td>\n",
       "      <td>222.0</td>\n",
       "      <td>18.7</td>\n",
       "      <td>396.90</td>\n",
       "      <td>5.33</td>\n",
       "    </tr>\n",
       "  </tbody>\n",
       "</table>\n",
       "</div>"
      ],
      "text/plain": [
       "      CRIM    ZN  INDUS  CHAS    NOX     RM   AGE     DIS  RAD    TAX  \\\n",
       "0  0.00632  18.0   2.31   0.0  0.538  6.575  65.2  4.0900  1.0  296.0   \n",
       "1  0.02731   0.0   7.07   0.0  0.469  6.421  78.9  4.9671  2.0  242.0   \n",
       "2  0.02729   0.0   7.07   0.0  0.469  7.185  61.1  4.9671  2.0  242.0   \n",
       "3  0.03237   0.0   2.18   0.0  0.458  6.998  45.8  6.0622  3.0  222.0   \n",
       "4  0.06905   0.0   2.18   0.0  0.458  7.147  54.2  6.0622  3.0  222.0   \n",
       "\n",
       "   PTRATIO       B  LSTAT  \n",
       "0     15.3  396.90   4.98  \n",
       "1     17.8  396.90   9.14  \n",
       "2     17.8  392.83   4.03  \n",
       "3     18.7  394.63   2.94  \n",
       "4     18.7  396.90   5.33  "
      ]
     },
     "execution_count": 14,
     "metadata": {},
     "output_type": "execute_result"
    }
   ],
   "source": [
    "# Let's load in some packages\n",
    "\n",
    "% matplotlib inline\n",
    "\n",
    "from matplotlib import pyplot as plt\n",
    "# Make the plots bigger\n",
    "# plt.rcParams['figure.figsize'] = 10, 10\n",
    "\n",
    "import numpy as np\n",
    "import pandas as pd\n",
    "from scipy import stats\n",
    "from sklearn import datasets\n",
    "import statsmodels.api as sm\n",
    "\n",
    "# Load the Boston Housing dataset\n",
    "boston = datasets.load_boston()\n",
    "df = pd.DataFrame(boston.data, columns=boston.feature_names)\n",
    "\n",
    "# Take a look at the data again\n",
    "df.head()"
   ]
  },
  {
   "cell_type": "code",
   "execution_count": 15,
   "metadata": {
    "collapsed": false
   },
   "outputs": [
    {
     "name": "stdout",
     "output_type": "stream",
     "text": [
      "Boston House Prices dataset\n",
      "\n",
      "Notes\n",
      "------\n",
      "Data Set Characteristics:  \n",
      "\n",
      "    :Number of Instances: 506 \n",
      "\n",
      "    :Number of Attributes: 13 numeric/categorical predictive\n",
      "    \n",
      "    :Median Value (attribute 14) is usually the target\n",
      "\n",
      "    :Attribute Information (in order):\n",
      "        - CRIM     per capita crime rate by town\n",
      "        - ZN       proportion of residential land zoned for lots over 25,000 sq.ft.\n",
      "        - INDUS    proportion of non-retail business acres per town\n",
      "        - CHAS     Charles River dummy variable (= 1 if tract bounds river; 0 otherwise)\n",
      "        - NOX      nitric oxides concentration (parts per 10 million)\n",
      "        - RM       average number of rooms per dwelling\n",
      "        - AGE      proportion of owner-occupied units built prior to 1940\n",
      "        - DIS      weighted distances to five Boston employment centres\n",
      "        - RAD      index of accessibility to radial highways\n",
      "        - TAX      full-value property-tax rate per $10,000\n",
      "        - PTRATIO  pupil-teacher ratio by town\n",
      "        - B        1000(Bk - 0.63)^2 where Bk is the proportion of blacks by town\n",
      "        - LSTAT    % lower status of the population\n",
      "        - MEDV     Median value of owner-occupied homes in $1000's\n",
      "\n",
      "    :Missing Attribute Values: None\n",
      "\n",
      "    :Creator: Harrison, D. and Rubinfeld, D.L.\n",
      "\n",
      "This is a copy of UCI ML housing dataset.\n",
      "http://archive.ics.uci.edu/ml/datasets/Housing\n",
      "\n",
      "\n",
      "This dataset was taken from the StatLib library which is maintained at Carnegie Mellon University.\n",
      "\n",
      "The Boston house-price data of Harrison, D. and Rubinfeld, D.L. 'Hedonic\n",
      "prices and the demand for clean air', J. Environ. Economics & Management,\n",
      "vol.5, 81-102, 1978.   Used in Belsley, Kuh & Welsch, 'Regression diagnostics\n",
      "...', Wiley, 1980.   N.B. Various transformations are used in the table on\n",
      "pages 244-261 of the latter.\n",
      "\n",
      "The Boston house-price data has been used in many machine learning papers that address regression\n",
      "problems.   \n",
      "     \n",
      "**References**\n",
      "\n",
      "   - Belsley, Kuh & Welsch, 'Regression diagnostics: Identifying Influential Data and Sources of Collinearity', Wiley, 1980. 244-261.\n",
      "   - Quinlan,R. (1993). Combining Instance-Based and Model-Based Learning. In Proceedings on the Tenth International Conference of Machine Learning, 236-243, University of Massachusetts, Amherst. Morgan Kaufmann.\n",
      "   - many more! (see http://archive.ics.uci.edu/ml/datasets/Housing)\n",
      "\n"
     ]
    }
   ],
   "source": [
    "print boston.DESCR"
   ]
  },
  {
   "cell_type": "markdown",
   "metadata": {},
   "source": [
    "## First example\n",
    "\n",
    "Let's pick two variables and plot them against each other with a best fit line. For example, let's see if the Pupil-Teacher ratio by town and the age of a property are related."
   ]
  },
  {
   "cell_type": "code",
   "execution_count": 17,
   "metadata": {
    "collapsed": false
   },
   "outputs": [
    {
     "data": {
      "text/plain": [
       "<matplotlib.text.Text at 0x7f4b09f1e790>"
      ]
     },
     "execution_count": 17,
     "metadata": {},
     "output_type": "execute_result"
    },
    {
     "data": {
      "image/png": "[encoded data removed]",
      "text/plain": [
       "<matplotlib.figure.Figure at 0x7f4b09902950>"
      ]
     },
     "metadata": {},
     "output_type": "display_data"
    }
   ],
   "source": [
    "# Fit a line\n",
    "\n",
    "X = df[[\"PTRATIO\"]]\n",
    "y = df[\"AGE\"]\n",
    "\n",
    "model = sm.OLS(y, X).fit()\n",
    "predictions = model.predict(X)\n",
    "\n",
    "# Plot the data and the best fit line\n",
    "## The data\n",
    "plt.scatter(X, y)\n",
    "## The line / model\n",
    "plt.plot(X, predictions)\n",
    "plt.ylabel(\"AGE\")\n",
    "plt.xlabel(\"PTRATIO\")"
   ]
  },
  {
   "cell_type": "markdown",
   "metadata": {},
   "source": [
    "The data doesn't appear to be all that linear so we should find that the model fit is poor. Let's calculate the $r^2$ value."
   ]
  },
  {
   "cell_type": "code",
   "execution_count": 4,
   "metadata": {
    "collapsed": false
   },
   "outputs": [
    {
     "name": "stdout",
     "output_type": "stream",
     "text": [
      "r^2: 0.865805992741\n"
     ]
    }
   ],
   "source": [
    "# Statsmodels makes it easy to get the score\n",
    "print \"r^2:\", model.rsquared"
   ]
  },
  {
   "cell_type": "markdown",
   "metadata": {},
   "source": [
    "### Exercise 1\n",
    "Repeat this for each pair of variables in the housing data set:\n",
    "* Fit a linear model\n",
    "* Compute the $r^2$ score\n",
    "\n",
    "Hint: use a pair of loops to cut down on the boilerplate code.\n",
    "\n",
    "For which two variables is the $r^2$ value the highest? The lowest? Plot the highest and lowest scores -- does the data seem to fit the $r^2$ score?\n",
    "\n",
    "> Answers:\n",
    "> Highest: TAX RAD 0.8285153552\n",
    "> Lowest:  RAD CHAS 5.42909737553e-05\n",
    "\n",
    "### Exercise 2\n",
    "\n",
    "Use seaborn's [linear plotting functions](https://stanford.edu/~mwaskom/software/seaborn/tutorial/regression.html) to take a closer look at your highest and lowest $r^2$ pairs.\n",
    "\n",
    "## Exercise 3\n",
    "\n",
    "Recall from our earlier exploration the best model you found that utilizes as many variables from the housing data as you'd like. What is the $r^2$ value for that model?"
   ]
  },
  {
   "cell_type": "code",
   "execution_count": 37,
   "metadata": {
    "collapsed": false
   },
   "outputs": [],
   "source": [
    "# Exercise 1 Code here\n",
    "\n",
    "header = list(boston.feature_names)\n",
    "pairs_list = []\n",
    "for i in range(len(header)):\n",
    "    for j in range(len(header)):\n",
    "        if i > j:\n",
    "            pairs_list.append((str(header[i]), str(header[j])))\n",
    "\n",
    "r2_list = []\n",
    "for i in range(len(pairs_list)):\n",
    "    # Fit a line\n",
    "    X = df[pairs_list[i][0]]\n",
    "    y = df[pairs_list[i][1]]\n",
    "\n",
    "    model = sm.OLS(y, X).fit()\n",
    "    predictions = model.predict(X)\n",
    "\n",
    "#     # Plot the data and the best fit line\n",
    "#     ## The data\n",
    "#     plt.scatter(X, y)\n",
    "#     ## The line / model\n",
    "#     plt.plot(X, predictions)\n",
    "#     plt.ylabel(str(pairs_list[i][0]))\n",
    "#     plt.xlabel(str(pairs_list[i][1]))\n",
    "#     plt.show()\n",
    "#     print \"r^2:\", model.rsquared\n",
    "    r2_list.append(model.rsquared)"
   ]
  },
  {
   "cell_type": "code",
   "execution_count": 26,
   "metadata": {
    "collapsed": false
   },
   "outputs": [
    {
     "name": "stdout",
     "output_type": "stream",
     "text": [
      "0.965252884162\n",
      "1.47312931812e-05\n"
     ]
    }
   ],
   "source": [
    "print max(r2_list)\n",
    "print min(r2_list)"
   ]
  },
  {
   "cell_type": "code",
   "execution_count": null,
   "metadata": {
    "collapsed": false
   },
   "outputs": [],
   "source": [
    "# Exercise 2\n",
    "import seaborn as sns\n"
   ]
  },
  {
   "cell_type": "code",
   "execution_count": 47,
   "metadata": {
    "collapsed": false
   },
   "outputs": [],
   "source": [
    "# Exercise 3 (answers will vary)\n",
    "import patsy\n",
    "\n",
    "header_no_CRIM = []\n",
    "for i in range(len(header)):\n",
    "    if header[i] != 'CRIM':\n",
    "        header_no_CRIM.append(header[i])\n",
    "        \n",
    "header_no_CRIM\n",
    "\n",
    "for i in range(len(header)):\n",
    "    for j in range(len(header)):\n",
    "        if i > j:\n",
    "            pairs_list.append((str(header[i]), str(header[j])))\n",
    "\n",
    "\n",
    "trips_list_no_CRIM = []\n",
    "\n",
    "for i in range(len(header)):\n",
    "    for j in range(len(header)):\n",
    "        for k in range(len(header)):\n",
    "            if ((i > j) and (i > k) and (j > k)):\n",
    "                trips_list_no_CRIM.append(str(header[i]) + ' + ' + str(header[j]) + ' + ' + str(header[k]))\n",
    "\n",
    "\n",
    "r2_trips_list = []\n",
    "\n",
    "for i in range(len(trips_list_no_CRIM)):\n",
    "    # Fit a line\n",
    "    y, x = patsy.dmatrices(\"CRIM ~ \"+trips_list_no_CRIM[i], data=df)\n",
    "    model = sm.OLS(y, x).fit()\n",
    "    predictions = model.predict(x)\n",
    "\n",
    "    model = sm.OLS(y, X).fit()\n",
    "    predictions = model.predict(X)\n",
    "\n",
    "#     # Plot the data and the best fit line\n",
    "#     ## The data\n",
    "#     plt.scatter(X, y)\n",
    "#     ## The line / model\n",
    "#     plt.plot(X, predictions)\n",
    "#     plt.ylabel('CRIM')\n",
    "#     plt.xlabel(trips_list_no_CRIM[i])\n",
    "#     plt.show()\n",
    "#     print \"r^2:\", model.rsquared\n",
    "    r2_trips_list.append(model.rsquared)"
   ]
  },
  {
   "cell_type": "code",
   "execution_count": 49,
   "metadata": {
    "collapsed": false
   },
   "outputs": [
    {
     "data": {
      "text/plain": [
       "0.29283057357842401"
      ]
     },
     "execution_count": 49,
     "metadata": {},
     "output_type": "execute_result"
    }
   ],
   "source": [
    "max(r2_trips_list)"
   ]
  },
  {
   "cell_type": "code",
   "execution_count": 50,
   "metadata": {
    "collapsed": false
   },
   "outputs": [
    {
     "data": {
      "text/plain": [
       "[0.29283057357842401,\n",
       " 0.29283057357842401,\n",
       " 0.29283057357842401,\n",
       " 0.29283057357842401,\n",
       " 0.29283057357842401,\n",
       " 0.29283057357842401,\n",
       " 0.29283057357842401,\n",
       " 0.29283057357842401,\n",
       " 0.29283057357842401,\n",
       " 0.29283057357842401,\n",
       " 0.29283057357842401,\n",
       " 0.29283057357842401,\n",
       " 0.29283057357842401,\n",
       " 0.29283057357842401,\n",
       " 0.29283057357842401,\n",
       " 0.29283057357842401,\n",
       " 0.29283057357842401,\n",
       " 0.29283057357842401,\n",
       " 0.29283057357842401,\n",
       " 0.29283057357842401,\n",
       " 0.29283057357842401,\n",
       " 0.29283057357842401,\n",
       " 0.29283057357842401,\n",
       " 0.29283057357842401,\n",
       " 0.29283057357842401,\n",
       " 0.29283057357842401,\n",
       " 0.29283057357842401,\n",
       " 0.29283057357842401,\n",
       " 0.29283057357842401,\n",
       " 0.29283057357842401,\n",
       " 0.29283057357842401,\n",
       " 0.29283057357842401,\n",
       " 0.29283057357842401,\n",
       " 0.29283057357842401,\n",
       " 0.29283057357842401,\n",
       " 0.29283057357842401,\n",
       " 0.29283057357842401,\n",
       " 0.29283057357842401,\n",
       " 0.29283057357842401,\n",
       " 0.29283057357842401,\n",
       " 0.29283057357842401,\n",
       " 0.29283057357842401,\n",
       " 0.29283057357842401,\n",
       " 0.29283057357842401,\n",
       " 0.29283057357842401,\n",
       " 0.29283057357842401,\n",
       " 0.29283057357842401,\n",
       " 0.29283057357842401,\n",
       " 0.29283057357842401,\n",
       " 0.29283057357842401,\n",
       " 0.29283057357842401,\n",
       " 0.29283057357842401,\n",
       " 0.29283057357842401,\n",
       " 0.29283057357842401,\n",
       " 0.29283057357842401,\n",
       " 0.29283057357842401,\n",
       " 0.29283057357842401,\n",
       " 0.29283057357842401,\n",
       " 0.29283057357842401,\n",
       " 0.29283057357842401,\n",
       " 0.29283057357842401,\n",
       " 0.29283057357842401,\n",
       " 0.29283057357842401,\n",
       " 0.29283057357842401,\n",
       " 0.29283057357842401,\n",
       " 0.29283057357842401,\n",
       " 0.29283057357842401,\n",
       " 0.29283057357842401,\n",
       " 0.29283057357842401,\n",
       " 0.29283057357842401,\n",
       " 0.29283057357842401,\n",
       " 0.29283057357842401,\n",
       " 0.29283057357842401,\n",
       " 0.29283057357842401,\n",
       " 0.29283057357842401,\n",
       " 0.29283057357842401,\n",
       " 0.29283057357842401,\n",
       " 0.29283057357842401,\n",
       " 0.29283057357842401,\n",
       " 0.29283057357842401,\n",
       " 0.29283057357842401,\n",
       " 0.29283057357842401,\n",
       " 0.29283057357842401,\n",
       " 0.29283057357842401,\n",
       " 0.29283057357842401,\n",
       " 0.29283057357842401,\n",
       " 0.29283057357842401,\n",
       " 0.29283057357842401,\n",
       " 0.29283057357842401,\n",
       " 0.29283057357842401,\n",
       " 0.29283057357842401,\n",
       " 0.29283057357842401,\n",
       " 0.29283057357842401,\n",
       " 0.29283057357842401,\n",
       " 0.29283057357842401,\n",
       " 0.29283057357842401,\n",
       " 0.29283057357842401,\n",
       " 0.29283057357842401,\n",
       " 0.29283057357842401,\n",
       " 0.29283057357842401,\n",
       " 0.29283057357842401,\n",
       " 0.29283057357842401,\n",
       " 0.29283057357842401,\n",
       " 0.29283057357842401,\n",
       " 0.29283057357842401,\n",
       " 0.29283057357842401,\n",
       " 0.29283057357842401,\n",
       " 0.29283057357842401,\n",
       " 0.29283057357842401,\n",
       " 0.29283057357842401,\n",
       " 0.29283057357842401,\n",
       " 0.29283057357842401,\n",
       " 0.29283057357842401,\n",
       " 0.29283057357842401,\n",
       " 0.29283057357842401,\n",
       " 0.29283057357842401,\n",
       " 0.29283057357842401,\n",
       " 0.29283057357842401,\n",
       " 0.29283057357842401,\n",
       " 0.29283057357842401,\n",
       " 0.29283057357842401,\n",
       " 0.29283057357842401,\n",
       " 0.29283057357842401,\n",
       " 0.29283057357842401,\n",
       " 0.29283057357842401,\n",
       " 0.29283057357842401,\n",
       " 0.29283057357842401,\n",
       " 0.29283057357842401,\n",
       " 0.29283057357842401,\n",
       " 0.29283057357842401,\n",
       " 0.29283057357842401,\n",
       " 0.29283057357842401,\n",
       " 0.29283057357842401,\n",
       " 0.29283057357842401,\n",
       " 0.29283057357842401,\n",
       " 0.29283057357842401,\n",
       " 0.29283057357842401,\n",
       " 0.29283057357842401,\n",
       " 0.29283057357842401,\n",
       " 0.29283057357842401,\n",
       " 0.29283057357842401,\n",
       " 0.29283057357842401,\n",
       " 0.29283057357842401,\n",
       " 0.29283057357842401,\n",
       " 0.29283057357842401,\n",
       " 0.29283057357842401,\n",
       " 0.29283057357842401,\n",
       " 0.29283057357842401,\n",
       " 0.29283057357842401,\n",
       " 0.29283057357842401,\n",
       " 0.29283057357842401,\n",
       " 0.29283057357842401,\n",
       " 0.29283057357842401,\n",
       " 0.29283057357842401,\n",
       " 0.29283057357842401,\n",
       " 0.29283057357842401,\n",
       " 0.29283057357842401,\n",
       " 0.29283057357842401,\n",
       " 0.29283057357842401,\n",
       " 0.29283057357842401,\n",
       " 0.29283057357842401,\n",
       " 0.29283057357842401,\n",
       " 0.29283057357842401,\n",
       " 0.29283057357842401,\n",
       " 0.29283057357842401,\n",
       " 0.29283057357842401,\n",
       " 0.29283057357842401,\n",
       " 0.29283057357842401,\n",
       " 0.29283057357842401,\n",
       " 0.29283057357842401,\n",
       " 0.29283057357842401,\n",
       " 0.29283057357842401,\n",
       " 0.29283057357842401,\n",
       " 0.29283057357842401,\n",
       " 0.29283057357842401,\n",
       " 0.29283057357842401,\n",
       " 0.29283057357842401,\n",
       " 0.29283057357842401,\n",
       " 0.29283057357842401,\n",
       " 0.29283057357842401,\n",
       " 0.29283057357842401,\n",
       " 0.29283057357842401,\n",
       " 0.29283057357842401,\n",
       " 0.29283057357842401,\n",
       " 0.29283057357842401,\n",
       " 0.29283057357842401,\n",
       " 0.29283057357842401,\n",
       " 0.29283057357842401,\n",
       " 0.29283057357842401,\n",
       " 0.29283057357842401,\n",
       " 0.29283057357842401,\n",
       " 0.29283057357842401,\n",
       " 0.29283057357842401,\n",
       " 0.29283057357842401,\n",
       " 0.29283057357842401,\n",
       " 0.29283057357842401,\n",
       " 0.29283057357842401,\n",
       " 0.29283057357842401,\n",
       " 0.29283057357842401,\n",
       " 0.29283057357842401,\n",
       " 0.29283057357842401,\n",
       " 0.29283057357842401,\n",
       " 0.29283057357842401,\n",
       " 0.29283057357842401,\n",
       " 0.29283057357842401,\n",
       " 0.29283057357842401,\n",
       " 0.29283057357842401,\n",
       " 0.29283057357842401,\n",
       " 0.29283057357842401,\n",
       " 0.29283057357842401,\n",
       " 0.29283057357842401,\n",
       " 0.29283057357842401,\n",
       " 0.29283057357842401,\n",
       " 0.29283057357842401,\n",
       " 0.29283057357842401,\n",
       " 0.29283057357842401,\n",
       " 0.29283057357842401,\n",
       " 0.29283057357842401,\n",
       " 0.29283057357842401,\n",
       " 0.29283057357842401,\n",
       " 0.29283057357842401,\n",
       " 0.29283057357842401,\n",
       " 0.29283057357842401,\n",
       " 0.29283057357842401,\n",
       " 0.29283057357842401,\n",
       " 0.29283057357842401,\n",
       " 0.29283057357842401,\n",
       " 0.29283057357842401,\n",
       " 0.29283057357842401,\n",
       " 0.29283057357842401,\n",
       " 0.29283057357842401,\n",
       " 0.29283057357842401,\n",
       " 0.29283057357842401,\n",
       " 0.29283057357842401,\n",
       " 0.29283057357842401,\n",
       " 0.29283057357842401,\n",
       " 0.29283057357842401,\n",
       " 0.29283057357842401,\n",
       " 0.29283057357842401,\n",
       " 0.29283057357842401,\n",
       " 0.29283057357842401,\n",
       " 0.29283057357842401,\n",
       " 0.29283057357842401,\n",
       " 0.29283057357842401,\n",
       " 0.29283057357842401,\n",
       " 0.29283057357842401,\n",
       " 0.29283057357842401,\n",
       " 0.29283057357842401,\n",
       " 0.29283057357842401,\n",
       " 0.29283057357842401,\n",
       " 0.29283057357842401,\n",
       " 0.29283057357842401,\n",
       " 0.29283057357842401,\n",
       " 0.29283057357842401,\n",
       " 0.29283057357842401,\n",
       " 0.29283057357842401,\n",
       " 0.29283057357842401,\n",
       " 0.29283057357842401,\n",
       " 0.29283057357842401,\n",
       " 0.29283057357842401,\n",
       " 0.29283057357842401,\n",
       " 0.29283057357842401,\n",
       " 0.29283057357842401,\n",
       " 0.29283057357842401,\n",
       " 0.29283057357842401,\n",
       " 0.29283057357842401,\n",
       " 0.29283057357842401,\n",
       " 0.29283057357842401,\n",
       " 0.29283057357842401,\n",
       " 0.29283057357842401,\n",
       " 0.29283057357842401,\n",
       " 0.29283057357842401,\n",
       " 0.29283057357842401,\n",
       " 0.29283057357842401,\n",
       " 0.29283057357842401,\n",
       " 0.29283057357842401,\n",
       " 0.29283057357842401,\n",
       " 0.29283057357842401,\n",
       " 0.29283057357842401,\n",
       " 0.29283057357842401,\n",
       " 0.29283057357842401,\n",
       " 0.29283057357842401,\n",
       " 0.29283057357842401,\n",
       " 0.29283057357842401,\n",
       " 0.29283057357842401,\n",
       " 0.29283057357842401]"
      ]
     },
     "execution_count": 50,
     "metadata": {},
     "output_type": "execute_result"
    }
   ],
   "source": [
    "r2_trips_list"
   ]
  },
  {
   "cell_type": "markdown",
   "metadata": {},
   "source": [
    "# Interpreting $r^2$\n",
    "\n",
    "While it's typically the case that higher $r^2$ values are better models, this is not always the case. We can have high $r^2$ for biased models and low $r^2$ for noisy data. Let's explore both cases. We've been making polynomial fits with scikit-learn so let's change it up and use numpy. We'll use numpy's [polyfit](http://docs.scipy.org/doc/numpy-1.10.0/reference/generated/numpy.polyfit.html) and [polyval](http://docs.scipy.org/doc/numpy-1.10.1/reference/generated/numpy.polyval.html) functions. I'll show you the quadratic fit first and you'll follow with the linear fit.\n",
    "\n",
    "## Exercise:\n",
    "Fit the same data with a linear fit using numpy."
   ]
  },
  {
   "cell_type": "code",
   "execution_count": null,
   "metadata": {
    "collapsed": false
   },
   "outputs": [],
   "source": [
    "# Here's some quadratic data with a bit of noise\n",
    "import scipy\n",
    "\n",
    "noise = scipy.stats.norm(0, 4)\n",
    "data = [(x, 3*x*x - 5*x + 3 + noise.rvs()) for x in np.arange(-6, 2, 0.5)]\n",
    "\n",
    "xs = [x for (x, y) in data]\n",
    "ys = [y for (x, y) in data]"
   ]
  },
  {
   "cell_type": "code",
   "execution_count": null,
   "metadata": {
    "collapsed": false
   },
   "outputs": [],
   "source": [
    "# Now let's fit a quadratic model with numpy\n",
    "# polyfit gives us the coefficients of the best fit polynomial\n",
    "coef = np.polyfit(xs, ys, deg=2)\n",
    "# polyvals gives us the polynomial function for these coefficients\n",
    "predictions = np.polyval(coef, xs)\n",
    "\n",
    "# Let's plot the model\n",
    "plt.scatter(xs, ys)\n",
    "plt.plot(xs, predictions)\n",
    "\n",
    "# Here's another way to get r^2 from scipy\n",
    "from sklearn import metrics\n",
    "metrics.r2_score(ys, predictions)"
   ]
  },
  {
   "cell_type": "code",
   "execution_count": null,
   "metadata": {
    "collapsed": false
   },
   "outputs": [],
   "source": [
    "# Exercise Code here\n"
   ]
  },
  {
   "cell_type": "markdown",
   "metadata": {},
   "source": [
    "You should have seen that the $r^2$ was quite good in both cases, however the quadratic model is much better. So don't get complacement when you get a pretty good $r^2$ score -- you could still have a biased model!\n",
    "\n",
    "# Exercise\n",
    "\n",
    "Now let's look at the effect of outliers. Just one outlier can really skew your models. Let's add outlier to our data and redo both the quadratic and the linear fits. Which model type drops the most in $r^2$?"
   ]
  },
  {
   "cell_type": "code",
   "execution_count": null,
   "metadata": {
    "collapsed": true
   },
   "outputs": [],
   "source": [
    "xs.append(2)\n",
    "ys.append(120)"
   ]
  },
  {
   "cell_type": "code",
   "execution_count": null,
   "metadata": {
    "collapsed": false
   },
   "outputs": [],
   "source": [
    "# Repeat the Quadratic fit"
   ]
  },
  {
   "cell_type": "code",
   "execution_count": null,
   "metadata": {
    "collapsed": false
   },
   "outputs": [],
   "source": [
    "# And the linear fit\n"
   ]
  },
  {
   "cell_type": "markdown",
   "metadata": {},
   "source": [
    "You should have seen that the $r^2$ for both models decreased dramatically! Just as in the case of higher $r^2$ values, you should be suspicious of smaller values as well. There could be outliers in the dataset from exceptional cases, bad data points, or poor measuring instruments that are obscuring the relationships in your data.\n",
    "\n",
    "**Check**: How closely did you look at the housing data? Are there any cases in which outliers are obviously a problem?\n",
    "> Answer: The plot for \"TAX\" and \"RAD\" has a pretty obvious outlier.\n",
    "\n",
    "You might be thinking: how can we detect and exclude outliers? It turns out that this is a [hard question to answer](https://en.wikipedia.org/wiki/Outlier#Identifying_outliers) and is often subjective. There are some methods, such as [Dixon's Q test](https://en.wikipedia.org/wiki/Dixon's_Q_test) and many others. Always make visualizations of your data when possible and remove outliers as appropriate, making sure that you can justify your selections!"
   ]
  },
  {
   "cell_type": "markdown",
   "metadata": {},
   "source": [
    "## Confounding Variables\n",
    "\n",
    "Another important topic when it comes to goodness of fit is [confounding variables](https://en.wikipedia.org/wiki/Confounding). It's tempting to think of models as causal but as you have likely heard before, [correlation is not causation](https://en.wikipedia.org/wiki/Correlation_does_not_imply_causation). Similarly, a high $r^2$ doesn't necessarily mean that two quantities are related in a predictive or causal manner. There are a number of examples [here](http://blog.searchmetrics.com/us/2015/09/11/ranking-factors-infographic-correlation-vs-causality/), including a nice plot of a seemingly strong relationship between per capita cheese consumption and the number of people who died by becoming tangled in their bedsheets! There is a very nice [case study](http://ocw.jhsph.edu/courses/fundepiii/pdfs/lecture18.pdf) of bias and confounding in disease studies. It's worth your time to read through the slides. \n",
    "\n",
    "The takeaway message is that you always need to check that your conclusions make sense rather than blindly interpretting statistical values. As a data scientist you will often present analyses to stakeholders and they will ask questions about the causes of the relationships you find and the logical basis of the models you fit."
   ]
  },
  {
   "cell_type": "markdown",
   "metadata": {},
   "source": [
    "# Exercises\n",
    "\n",
    "If you've gotten this far then you're doing great! Let's look at a case where a series of models have increasing better $r^2$ values as the models become more complex. Consider the function $y = sin(x)$ on the interval $[0, 6\\pi]$ (data below). If you fit polynomials of higher and higher degree to this function, you should find that the $r^2$ value increases as the degreee increases. Your task is to make a plot of $r^2$ versus polynomial degree as follows:\n",
    "* Write a loop to fit polynomials of degrees from 0 to 10 to the sine function\n",
    "* Plot the fits together on the same graph with the data\n",
    "* Compute the $r^2$ values for each model\n",
    "* Make a plot of degree versus $r^2$.\n",
    "\n",
    "Compare and contrast with earlier lessons. In some cases increasing the degree of a polynomial model can alter the tradeoff between bias and variance. Try to explain your results in that context."
   ]
  },
  {
   "cell_type": "code",
   "execution_count": null,
   "metadata": {
    "collapsed": false
   },
   "outputs": [],
   "source": [
    "import math\n",
    "noise = scipy.stats.norm(0, 0.1)\n",
    "data = [(x, math.sin(x) + noise.rvs() ) for x in np.arange(0, 6 * 3.14, 0.1)]\n",
    "xs = [x for (x, y) in data]\n",
    "ys = [y for (x, y) in data]"
   ]
  },
  {
   "cell_type": "code",
   "execution_count": null,
   "metadata": {
    "collapsed": false
   },
   "outputs": [],
   "source": [
    "from sklearn import metrics\n",
    "rs = []\n",
    "\n",
    "# Let's plot the model\n",
    "plt.scatter(xs, ys)\n",
    "\n",
    "for degree in range(1, 11):\n",
    "    # Fill in the modeling steps here\n",
    "    pass\n",
    "\n",
    "# Make the plots\n"
   ]
  },
  {
   "cell_type": "code",
   "execution_count": null,
   "metadata": {
    "collapsed": true
   },
   "outputs": [],
   "source": []
  }
 ],
 "metadata": {
  "anaconda-cloud": {},
  "kernelspec": {
   "display_name": "Python [conda root]",
   "language": "python",
   "name": "conda-root-py"
  },
  "language_info": {
   "codemirror_mode": {
    "name": "ipython",
    "version": 2
   },
   "file_extension": ".py",
   "mimetype": "text/x-python",
   "name": "python",
   "nbconvert_exporter": "python",
   "pygments_lexer": "ipython2",
   "version": "2.7.12"
  }
 },
 "nbformat": 4,
 "nbformat_minor": 0
}
